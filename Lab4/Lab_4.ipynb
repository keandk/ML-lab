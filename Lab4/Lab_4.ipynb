{
 "cells": [
  {
   "cell_type": "markdown",
   "metadata": {
    "id": "PHBb0V3-zfvy"
   },
   "source": [
    "**LAB 4.1**\n",
    "\n",
    "# **A. Phát hiện trang web lừa đảo bằng kỹ thuật học máy**\n",
    "***(Phishing Website Detection by Machine Learning Techniques)***"
   ]
  },
  {
   "cell_type": "markdown",
   "metadata": {
    "id": "t9DeVCT_zuRQ"
   },
   "source": [
    "# **1. Mục tiêu:**\n",
    "Website lừa đảo (phishing website) là một tấn công phi kỹ thuật (social engineering) bằng cách bắt trước các URL tin cậy. Mục tiêu bài thực hành sẽ đào tạo mô hình học máy và học sâu trên tập dữ liệu để dự đoán website lừa đảo. Cả 2 URL lừa đảo và lành tính (benign) được trích xuất thuộc tình từ thành phần cơ bản của website thành tập dữ liệu.\n",
    "Dataset sử dụng trong Lab: https://drive.google.com/drive/folders/1QRMe4rVPRhsplAPssH1pa7Msf7sOMNv2?usp=sharing"
   ]
  },
  {
   "cell_type": "markdown",
   "metadata": {
    "id": "qZQJleKe0p7u"
   },
   "source": [
    "# **2. Tải dữ liệu**\n",
    "Các tính năng được trích xuất và lưu trữ trong tập tin csv.\n"
   ]
  },
  {
   "cell_type": "code",
   "execution_count": 11,
   "metadata": {
    "colab": {
     "base_uri": "https://localhost:8080/"
    },
    "id": "iXwUUy6G53_O",
    "outputId": "b6eb72d1-314d-42e9-c16f-4e77d1fd912c"
   },
   "outputs": [],
   "source": [
    "data_dir = \"Dataset-Lab 4/\""
   ]
  },
  {
   "cell_type": "code",
   "execution_count": 12,
   "metadata": {
    "id": "j2R_S9hE-f_H"
   },
   "outputs": [],
   "source": [
    "#import ackages\n",
    "import pandas as pd\n",
    "import numpy as np\n",
    "import seaborn as sns\n",
    "import matplotlib.pyplot as plt"
   ]
  },
  {
   "cell_type": "code",
   "execution_count": 13,
   "metadata": {
    "colab": {
     "base_uri": "https://localhost:8080/",
     "height": 204
    },
    "id": "RRXHJ3ID-dcK",
    "outputId": "55252f25-1fcb-4b2a-c4e4-de58dcfd036e"
   },
   "outputs": [
    {
     "data": {
      "application/vnd.microsoft.datawrangler.viewer.v0+json": {
       "columns": [
        {
         "name": "index",
         "rawType": "int64",
         "type": "integer"
        },
        {
         "name": "Domain",
         "rawType": "object",
         "type": "string"
        },
        {
         "name": "Have_IP",
         "rawType": "int64",
         "type": "integer"
        },
        {
         "name": "Have_At",
         "rawType": "int64",
         "type": "integer"
        },
        {
         "name": "URL_Length",
         "rawType": "int64",
         "type": "integer"
        },
        {
         "name": "URL_Depth",
         "rawType": "int64",
         "type": "integer"
        },
        {
         "name": "Redirection",
         "rawType": "int64",
         "type": "integer"
        },
        {
         "name": "https_Domain",
         "rawType": "int64",
         "type": "integer"
        },
        {
         "name": "TinyURL",
         "rawType": "int64",
         "type": "integer"
        },
        {
         "name": "Prefix/Suffix",
         "rawType": "int64",
         "type": "integer"
        },
        {
         "name": "DNS_Record",
         "rawType": "int64",
         "type": "integer"
        },
        {
         "name": "Web_Traffic",
         "rawType": "int64",
         "type": "integer"
        },
        {
         "name": "Domain_Age",
         "rawType": "int64",
         "type": "integer"
        },
        {
         "name": "Domain_End",
         "rawType": "int64",
         "type": "integer"
        },
        {
         "name": "iFrame",
         "rawType": "int64",
         "type": "integer"
        },
        {
         "name": "Mouse_Over",
         "rawType": "int64",
         "type": "integer"
        },
        {
         "name": "Right_Click",
         "rawType": "int64",
         "type": "integer"
        },
        {
         "name": "Web_Forwards",
         "rawType": "int64",
         "type": "integer"
        },
        {
         "name": "Label",
         "rawType": "int64",
         "type": "integer"
        }
       ],
       "conversionMethod": "pd.DataFrame",
       "ref": "fd9013c9-8c6a-4816-8078-af02ed76437e",
       "rows": [
        [
         "0",
         "graphicriver.net",
         "0",
         "0",
         "1",
         "1",
         "0",
         "0",
         "0",
         "0",
         "0",
         "1",
         "1",
         "1",
         "0",
         "0",
         "1",
         "0",
         "0"
        ],
        [
         "1",
         "ecnavi.jp",
         "0",
         "0",
         "1",
         "1",
         "1",
         "0",
         "0",
         "0",
         "0",
         "1",
         "1",
         "1",
         "0",
         "0",
         "1",
         "0",
         "0"
        ],
        [
         "2",
         "hubpages.com",
         "0",
         "0",
         "1",
         "1",
         "0",
         "0",
         "0",
         "0",
         "0",
         "1",
         "0",
         "1",
         "0",
         "0",
         "1",
         "0",
         "0"
        ],
        [
         "3",
         "extratorrent.cc",
         "0",
         "0",
         "1",
         "3",
         "0",
         "0",
         "0",
         "0",
         "0",
         "1",
         "0",
         "1",
         "0",
         "0",
         "1",
         "0",
         "0"
        ],
        [
         "4",
         "icicibank.com",
         "0",
         "0",
         "1",
         "3",
         "0",
         "0",
         "0",
         "0",
         "0",
         "1",
         "0",
         "1",
         "0",
         "0",
         "1",
         "0",
         "0"
        ]
       ],
       "shape": {
        "columns": 18,
        "rows": 5
       }
      },
      "text/html": [
       "<div>\n",
       "<style scoped>\n",
       "    .dataframe tbody tr th:only-of-type {\n",
       "        vertical-align: middle;\n",
       "    }\n",
       "\n",
       "    .dataframe tbody tr th {\n",
       "        vertical-align: top;\n",
       "    }\n",
       "\n",
       "    .dataframe thead th {\n",
       "        text-align: right;\n",
       "    }\n",
       "</style>\n",
       "<table border=\"1\" class=\"dataframe\">\n",
       "  <thead>\n",
       "    <tr style=\"text-align: right;\">\n",
       "      <th></th>\n",
       "      <th>Domain</th>\n",
       "      <th>Have_IP</th>\n",
       "      <th>Have_At</th>\n",
       "      <th>URL_Length</th>\n",
       "      <th>URL_Depth</th>\n",
       "      <th>Redirection</th>\n",
       "      <th>https_Domain</th>\n",
       "      <th>TinyURL</th>\n",
       "      <th>Prefix/Suffix</th>\n",
       "      <th>DNS_Record</th>\n",
       "      <th>Web_Traffic</th>\n",
       "      <th>Domain_Age</th>\n",
       "      <th>Domain_End</th>\n",
       "      <th>iFrame</th>\n",
       "      <th>Mouse_Over</th>\n",
       "      <th>Right_Click</th>\n",
       "      <th>Web_Forwards</th>\n",
       "      <th>Label</th>\n",
       "    </tr>\n",
       "  </thead>\n",
       "  <tbody>\n",
       "    <tr>\n",
       "      <th>0</th>\n",
       "      <td>graphicriver.net</td>\n",
       "      <td>0</td>\n",
       "      <td>0</td>\n",
       "      <td>1</td>\n",
       "      <td>1</td>\n",
       "      <td>0</td>\n",
       "      <td>0</td>\n",
       "      <td>0</td>\n",
       "      <td>0</td>\n",
       "      <td>0</td>\n",
       "      <td>1</td>\n",
       "      <td>1</td>\n",
       "      <td>1</td>\n",
       "      <td>0</td>\n",
       "      <td>0</td>\n",
       "      <td>1</td>\n",
       "      <td>0</td>\n",
       "      <td>0</td>\n",
       "    </tr>\n",
       "    <tr>\n",
       "      <th>1</th>\n",
       "      <td>ecnavi.jp</td>\n",
       "      <td>0</td>\n",
       "      <td>0</td>\n",
       "      <td>1</td>\n",
       "      <td>1</td>\n",
       "      <td>1</td>\n",
       "      <td>0</td>\n",
       "      <td>0</td>\n",
       "      <td>0</td>\n",
       "      <td>0</td>\n",
       "      <td>1</td>\n",
       "      <td>1</td>\n",
       "      <td>1</td>\n",
       "      <td>0</td>\n",
       "      <td>0</td>\n",
       "      <td>1</td>\n",
       "      <td>0</td>\n",
       "      <td>0</td>\n",
       "    </tr>\n",
       "    <tr>\n",
       "      <th>2</th>\n",
       "      <td>hubpages.com</td>\n",
       "      <td>0</td>\n",
       "      <td>0</td>\n",
       "      <td>1</td>\n",
       "      <td>1</td>\n",
       "      <td>0</td>\n",
       "      <td>0</td>\n",
       "      <td>0</td>\n",
       "      <td>0</td>\n",
       "      <td>0</td>\n",
       "      <td>1</td>\n",
       "      <td>0</td>\n",
       "      <td>1</td>\n",
       "      <td>0</td>\n",
       "      <td>0</td>\n",
       "      <td>1</td>\n",
       "      <td>0</td>\n",
       "      <td>0</td>\n",
       "    </tr>\n",
       "    <tr>\n",
       "      <th>3</th>\n",
       "      <td>extratorrent.cc</td>\n",
       "      <td>0</td>\n",
       "      <td>0</td>\n",
       "      <td>1</td>\n",
       "      <td>3</td>\n",
       "      <td>0</td>\n",
       "      <td>0</td>\n",
       "      <td>0</td>\n",
       "      <td>0</td>\n",
       "      <td>0</td>\n",
       "      <td>1</td>\n",
       "      <td>0</td>\n",
       "      <td>1</td>\n",
       "      <td>0</td>\n",
       "      <td>0</td>\n",
       "      <td>1</td>\n",
       "      <td>0</td>\n",
       "      <td>0</td>\n",
       "    </tr>\n",
       "    <tr>\n",
       "      <th>4</th>\n",
       "      <td>icicibank.com</td>\n",
       "      <td>0</td>\n",
       "      <td>0</td>\n",
       "      <td>1</td>\n",
       "      <td>3</td>\n",
       "      <td>0</td>\n",
       "      <td>0</td>\n",
       "      <td>0</td>\n",
       "      <td>0</td>\n",
       "      <td>0</td>\n",
       "      <td>1</td>\n",
       "      <td>0</td>\n",
       "      <td>1</td>\n",
       "      <td>0</td>\n",
       "      <td>0</td>\n",
       "      <td>1</td>\n",
       "      <td>0</td>\n",
       "      <td>0</td>\n",
       "    </tr>\n",
       "  </tbody>\n",
       "</table>\n",
       "</div>"
      ],
      "text/plain": [
       "             Domain  Have_IP  Have_At  URL_Length  URL_Depth  Redirection  \\\n",
       "0  graphicriver.net        0        0           1          1            0   \n",
       "1         ecnavi.jp        0        0           1          1            1   \n",
       "2      hubpages.com        0        0           1          1            0   \n",
       "3   extratorrent.cc        0        0           1          3            0   \n",
       "4     icicibank.com        0        0           1          3            0   \n",
       "\n",
       "   https_Domain  TinyURL  Prefix/Suffix  DNS_Record  Web_Traffic  Domain_Age  \\\n",
       "0             0        0              0           0            1           1   \n",
       "1             0        0              0           0            1           1   \n",
       "2             0        0              0           0            1           0   \n",
       "3             0        0              0           0            1           0   \n",
       "4             0        0              0           0            1           0   \n",
       "\n",
       "   Domain_End  iFrame  Mouse_Over  Right_Click  Web_Forwards  Label  \n",
       "0           1       0           0            1             0      0  \n",
       "1           1       0           0            1             0      0  \n",
       "2           1       0           0            1             0      0  \n",
       "3           1       0           0            1             0      0  \n",
       "4           1       0           0            1             0      0  "
      ]
     },
     "execution_count": 13,
     "metadata": {},
     "output_type": "execute_result"
    }
   ],
   "source": [
    "#Loading the data\n",
    "data0 = pd.read_csv(data_dir + 'data.csv')\n",
    "data0.head()"
   ]
  },
  {
   "cell_type": "markdown",
   "metadata": {
    "id": "Wglpi49N-xrX"
   },
   "source": [
    "# **3. Làm quen với dữ liệu**\n",
    "Dùng Dataframe để xem qua dữ liệu."
   ]
  },
  {
   "cell_type": "code",
   "execution_count": 14,
   "metadata": {
    "colab": {
     "base_uri": "https://localhost:8080/"
    },
    "id": "t2afYJC6-__O",
    "outputId": "f1b3883f-f169-41a5-eb0d-a2ca3524f629"
   },
   "outputs": [
    {
     "data": {
      "text/plain": [
       "(10000, 18)"
      ]
     },
     "execution_count": 14,
     "metadata": {},
     "output_type": "execute_result"
    }
   ],
   "source": [
    "#Check shape\n",
    "data0.shape"
   ]
  },
  {
   "cell_type": "code",
   "execution_count": 15,
   "metadata": {
    "colab": {
     "base_uri": "https://localhost:8080/"
    },
    "id": "lCBagKMrB6TO",
    "outputId": "60751d33-ad2c-4cce-f01f-23e54d7010c7"
   },
   "outputs": [
    {
     "data": {
      "text/plain": [
       "Index(['Domain', 'Have_IP', 'Have_At', 'URL_Length', 'URL_Depth',\n",
       "       'Redirection', 'https_Domain', 'TinyURL', 'Prefix/Suffix', 'DNS_Record',\n",
       "       'Web_Traffic', 'Domain_Age', 'Domain_End', 'iFrame', 'Mouse_Over',\n",
       "       'Right_Click', 'Web_Forwards', 'Label'],\n",
       "      dtype='object')"
      ]
     },
     "execution_count": 15,
     "metadata": {},
     "output_type": "execute_result"
    }
   ],
   "source": [
    "#List features\n",
    "data0.columns"
   ]
  },
  {
   "cell_type": "code",
   "execution_count": 16,
   "metadata": {
    "colab": {
     "base_uri": "https://localhost:8080/"
    },
    "id": "m_uxSyN8CCNd",
    "outputId": "81a9221c-871e-4c59-b0c3-4ea5170e585e"
   },
   "outputs": [
    {
     "name": "stdout",
     "output_type": "stream",
     "text": [
      "<class 'pandas.core.frame.DataFrame'>\n",
      "RangeIndex: 10000 entries, 0 to 9999\n",
      "Data columns (total 18 columns):\n",
      " #   Column         Non-Null Count  Dtype \n",
      "---  ------         --------------  ----- \n",
      " 0   Domain         10000 non-null  object\n",
      " 1   Have_IP        10000 non-null  int64 \n",
      " 2   Have_At        10000 non-null  int64 \n",
      " 3   URL_Length     10000 non-null  int64 \n",
      " 4   URL_Depth      10000 non-null  int64 \n",
      " 5   Redirection    10000 non-null  int64 \n",
      " 6   https_Domain   10000 non-null  int64 \n",
      " 7   TinyURL        10000 non-null  int64 \n",
      " 8   Prefix/Suffix  10000 non-null  int64 \n",
      " 9   DNS_Record     10000 non-null  int64 \n",
      " 10  Web_Traffic    10000 non-null  int64 \n",
      " 11  Domain_Age     10000 non-null  int64 \n",
      " 12  Domain_End     10000 non-null  int64 \n",
      " 13  iFrame         10000 non-null  int64 \n",
      " 14  Mouse_Over     10000 non-null  int64 \n",
      " 15  Right_Click    10000 non-null  int64 \n",
      " 16  Web_Forwards   10000 non-null  int64 \n",
      " 17  Label          10000 non-null  int64 \n",
      "dtypes: int64(17), object(1)\n",
      "memory usage: 1.4+ MB\n"
     ]
    }
   ],
   "source": [
    "#Information\n",
    "data0.info()"
   ]
  },
  {
   "cell_type": "markdown",
   "metadata": {
    "id": "akgh4KUtDN3t"
   },
   "source": [
    "# **4. Trực quan hóa dữ liệu**\n",
    "Một số biểu đồ hiển thị để tìm các phân phối dữ liệu và cách mỗi liên quan với nhau giữa các đối tượng."
   ]
  },
  {
   "cell_type": "code",
   "execution_count": 17,
   "metadata": {
    "colab": {
     "base_uri": "https://localhost:8080/",
     "height": 879
    },
    "id": "qFI_un9mDzJU",
    "outputId": "f08fb451-9c5b-4e7a-b3eb-2d79206dce41"
   },
   "outputs": [
    {
     "data": {
      "image/png": "[encoded data removed]",
      "text/plain": [
       "<Figure size 1500x1500 with 20 Axes>"
      ]
     },
     "metadata": {},
     "output_type": "display_data"
    }
   ],
   "source": [
    "#Plotting the data distribution\n",
    "data0.hist(bins = 50,figsize = (15,15))\n",
    "plt.show()"
   ]
  },
  {
   "cell_type": "code",
   "execution_count": 18,
   "metadata": {
    "colab": {
     "base_uri": "https://localhost:8080/",
     "height": 821
    },
    "id": "HcsMPvBBEENX",
    "outputId": "12a04dda-2f1a-47fd-cdc5-fc451eaf52a7"
   },
   "outputs": [
    {
     "data": {
      "image/png": "[encoded data removed]",
      "text/plain": [
       "<Figure size 1500x1300 with 2 Axes>"
      ]
     },
     "metadata": {},
     "output_type": "display_data"
    }
   ],
   "source": [
    "#Correlation heatmap\n",
    "plt.figure(figsize=(15,13))\n",
    "sns.heatmap(data0.drop('Domain', axis=1).corr())\n",
    "plt.show()"
   ]
  },
  {
   "cell_type": "markdown",
   "metadata": {
    "id": "gD-KzGg2EQJq"
   },
   "source": [
    "# **5. Tiền xử lý dữ liệu & EDA**\n",
    "Làm sạch dữ liệu bằng cách áp dụng các kỹ thuật tiền xử lý dữ liệu và chuyển đổi dữ liệu để sử dụng nó trong các mô hình."
   ]
  },
  {
   "cell_type": "code",
   "execution_count": 19,
   "metadata": {
    "colab": {
     "base_uri": "https://localhost:8080/",
     "height": 297
    },
    "id": "oUkN1DYtFNef",
    "outputId": "05b22060-6b76-4397-9daf-3eb9971266eb"
   },
   "outputs": [
    {
     "data": {
      "application/vnd.microsoft.datawrangler.viewer.v0+json": {
       "columns": [
        {
         "name": "index",
         "rawType": "object",
         "type": "string"
        },
        {
         "name": "Have_IP",
         "rawType": "float64",
         "type": "float"
        },
        {
         "name": "Have_At",
         "rawType": "float64",
         "type": "float"
        },
        {
         "name": "URL_Length",
         "rawType": "float64",
         "type": "float"
        },
        {
         "name": "URL_Depth",
         "rawType": "float64",
         "type": "float"
        },
        {
         "name": "Redirection",
         "rawType": "float64",
         "type": "float"
        },
        {
         "name": "https_Domain",
         "rawType": "float64",
         "type": "float"
        },
        {
         "name": "TinyURL",
         "rawType": "float64",
         "type": "float"
        },
        {
         "name": "Prefix/Suffix",
         "rawType": "float64",
         "type": "float"
        },
        {
         "name": "DNS_Record",
         "rawType": "float64",
         "type": "float"
        },
        {
         "name": "Web_Traffic",
         "rawType": "float64",
         "type": "float"
        },
        {
         "name": "Domain_Age",
         "rawType": "float64",
         "type": "float"
        },
        {
         "name": "Domain_End",
         "rawType": "float64",
         "type": "float"
        },
        {
         "name": "iFrame",
         "rawType": "float64",
         "type": "float"
        },
        {
         "name": "Mouse_Over",
         "rawType": "float64",
         "type": "float"
        },
        {
         "name": "Right_Click",
         "rawType": "float64",
         "type": "float"
        },
        {
         "name": "Web_Forwards",
         "rawType": "float64",
         "type": "float"
        },
        {
         "name": "Label",
         "rawType": "float64",
         "type": "float"
        }
       ],
       "conversionMethod": "pd.DataFrame",
       "ref": "2a583458-e5c8-440d-8c6f-c16e0ce4b5d0",
       "rows": [
        [
         "count",
         "10000.0",
         "10000.0",
         "10000.0",
         "10000.0",
         "10000.0",
         "10000.0",
         "10000.0",
         "10000.0",
         "10000.0",
         "10000.0",
         "10000.0",
         "10000.0",
         "10000.0",
         "10000.0",
         "10000.0",
         "10000.0",
         "10000.0"
        ],
        [
         "mean",
         "0.0055",
         "0.0226",
         "0.7734",
         "3.072",
         "0.0135",
         "0.0002",
         "0.0903",
         "0.0932",
         "0.1008",
         "0.8457",
         "0.4137",
         "0.8099",
         "0.0909",
         "0.0666",
         "0.9993",
         "0.1053",
         "0.5"
        ],
        [
         "std",
         "0.0739614563790017",
         "0.1486319250528449",
         "0.4186525611968708",
         "2.128630805684887",
         "0.1154083268581207",
         "0.014141428428549922",
         "0.2866254095723916",
         "0.2907270407465087",
         "0.3010787685016735",
         "0.36125414939630185",
         "0.49252062663076934",
         "0.3923995256607402",
         "0.28748122468337745",
         "0.24934044410345177",
         "0.02644957387172428",
         "0.3069549350201318",
         "0.5000250018751562"
        ],
        [
         "min",
         "0.0",
         "0.0",
         "0.0",
         "0.0",
         "0.0",
         "0.0",
         "0.0",
         "0.0",
         "0.0",
         "0.0",
         "0.0",
         "0.0",
         "0.0",
         "0.0",
         "0.0",
         "0.0",
         "0.0"
        ],
        [
         "25%",
         "0.0",
         "0.0",
         "1.0",
         "2.0",
         "0.0",
         "0.0",
         "0.0",
         "0.0",
         "0.0",
         "1.0",
         "0.0",
         "1.0",
         "0.0",
         "0.0",
         "1.0",
         "0.0",
         "0.0"
        ],
        [
         "50%",
         "0.0",
         "0.0",
         "1.0",
         "3.0",
         "0.0",
         "0.0",
         "0.0",
         "0.0",
         "0.0",
         "1.0",
         "0.0",
         "1.0",
         "0.0",
         "0.0",
         "1.0",
         "0.0",
         "0.5"
        ],
        [
         "75%",
         "0.0",
         "0.0",
         "1.0",
         "4.0",
         "0.0",
         "0.0",
         "0.0",
         "0.0",
         "0.0",
         "1.0",
         "1.0",
         "1.0",
         "0.0",
         "0.0",
         "1.0",
         "0.0",
         "1.0"
        ],
        [
         "max",
         "1.0",
         "1.0",
         "1.0",
         "20.0",
         "1.0",
         "1.0",
         "1.0",
         "1.0",
         "1.0",
         "1.0",
         "1.0",
         "1.0",
         "1.0",
         "1.0",
         "1.0",
         "1.0",
         "1.0"
        ]
       ],
       "shape": {
        "columns": 17,
        "rows": 8
       }
      },
      "text/html": [
       "<div>\n",
       "<style scoped>\n",
       "    .dataframe tbody tr th:only-of-type {\n",
       "        vertical-align: middle;\n",
       "    }\n",
       "\n",
       "    .dataframe tbody tr th {\n",
       "        vertical-align: top;\n",
       "    }\n",
       "\n",
       "    .dataframe thead th {\n",
       "        text-align: right;\n",
       "    }\n",
       "</style>\n",
       "<table border=\"1\" class=\"dataframe\">\n",
       "  <thead>\n",
       "    <tr style=\"text-align: right;\">\n",
       "      <th></th>\n",
       "      <th>Have_IP</th>\n",
       "      <th>Have_At</th>\n",
       "      <th>URL_Length</th>\n",
       "      <th>URL_Depth</th>\n",
       "      <th>Redirection</th>\n",
       "      <th>https_Domain</th>\n",
       "      <th>TinyURL</th>\n",
       "      <th>Prefix/Suffix</th>\n",
       "      <th>DNS_Record</th>\n",
       "      <th>Web_Traffic</th>\n",
       "      <th>Domain_Age</th>\n",
       "      <th>Domain_End</th>\n",
       "      <th>iFrame</th>\n",
       "      <th>Mouse_Over</th>\n",
       "      <th>Right_Click</th>\n",
       "      <th>Web_Forwards</th>\n",
       "      <th>Label</th>\n",
       "    </tr>\n",
       "  </thead>\n",
       "  <tbody>\n",
       "    <tr>\n",
       "      <th>count</th>\n",
       "      <td>10000.000000</td>\n",
       "      <td>10000.000000</td>\n",
       "      <td>10000.000000</td>\n",
       "      <td>10000.000000</td>\n",
       "      <td>10000.000000</td>\n",
       "      <td>10000.000000</td>\n",
       "      <td>10000.000000</td>\n",
       "      <td>10000.000000</td>\n",
       "      <td>10000.000000</td>\n",
       "      <td>10000.000000</td>\n",
       "      <td>10000.000000</td>\n",
       "      <td>10000.0000</td>\n",
       "      <td>10000.000000</td>\n",
       "      <td>10000.00000</td>\n",
       "      <td>10000.00000</td>\n",
       "      <td>10000.000000</td>\n",
       "      <td>10000.000000</td>\n",
       "    </tr>\n",
       "    <tr>\n",
       "      <th>mean</th>\n",
       "      <td>0.005500</td>\n",
       "      <td>0.022600</td>\n",
       "      <td>0.773400</td>\n",
       "      <td>3.072000</td>\n",
       "      <td>0.013500</td>\n",
       "      <td>0.000200</td>\n",
       "      <td>0.090300</td>\n",
       "      <td>0.093200</td>\n",
       "      <td>0.100800</td>\n",
       "      <td>0.845700</td>\n",
       "      <td>0.413700</td>\n",
       "      <td>0.8099</td>\n",
       "      <td>0.090900</td>\n",
       "      <td>0.06660</td>\n",
       "      <td>0.99930</td>\n",
       "      <td>0.105300</td>\n",
       "      <td>0.500000</td>\n",
       "    </tr>\n",
       "    <tr>\n",
       "      <th>std</th>\n",
       "      <td>0.073961</td>\n",
       "      <td>0.148632</td>\n",
       "      <td>0.418653</td>\n",
       "      <td>2.128631</td>\n",
       "      <td>0.115408</td>\n",
       "      <td>0.014141</td>\n",
       "      <td>0.286625</td>\n",
       "      <td>0.290727</td>\n",
       "      <td>0.301079</td>\n",
       "      <td>0.361254</td>\n",
       "      <td>0.492521</td>\n",
       "      <td>0.3924</td>\n",
       "      <td>0.287481</td>\n",
       "      <td>0.24934</td>\n",
       "      <td>0.02645</td>\n",
       "      <td>0.306955</td>\n",
       "      <td>0.500025</td>\n",
       "    </tr>\n",
       "    <tr>\n",
       "      <th>min</th>\n",
       "      <td>0.000000</td>\n",
       "      <td>0.000000</td>\n",
       "      <td>0.000000</td>\n",
       "      <td>0.000000</td>\n",
       "      <td>0.000000</td>\n",
       "      <td>0.000000</td>\n",
       "      <td>0.000000</td>\n",
       "      <td>0.000000</td>\n",
       "      <td>0.000000</td>\n",
       "      <td>0.000000</td>\n",
       "      <td>0.000000</td>\n",
       "      <td>0.0000</td>\n",
       "      <td>0.000000</td>\n",
       "      <td>0.00000</td>\n",
       "      <td>0.00000</td>\n",
       "      <td>0.000000</td>\n",
       "      <td>0.000000</td>\n",
       "    </tr>\n",
       "    <tr>\n",
       "      <th>25%</th>\n",
       "      <td>0.000000</td>\n",
       "      <td>0.000000</td>\n",
       "      <td>1.000000</td>\n",
       "      <td>2.000000</td>\n",
       "      <td>0.000000</td>\n",
       "      <td>0.000000</td>\n",
       "      <td>0.000000</td>\n",
       "      <td>0.000000</td>\n",
       "      <td>0.000000</td>\n",
       "      <td>1.000000</td>\n",
       "      <td>0.000000</td>\n",
       "      <td>1.0000</td>\n",
       "      <td>0.000000</td>\n",
       "      <td>0.00000</td>\n",
       "      <td>1.00000</td>\n",
       "      <td>0.000000</td>\n",
       "      <td>0.000000</td>\n",
       "    </tr>\n",
       "    <tr>\n",
       "      <th>50%</th>\n",
       "      <td>0.000000</td>\n",
       "      <td>0.000000</td>\n",
       "      <td>1.000000</td>\n",
       "      <td>3.000000</td>\n",
       "      <td>0.000000</td>\n",
       "      <td>0.000000</td>\n",
       "      <td>0.000000</td>\n",
       "      <td>0.000000</td>\n",
       "      <td>0.000000</td>\n",
       "      <td>1.000000</td>\n",
       "      <td>0.000000</td>\n",
       "      <td>1.0000</td>\n",
       "      <td>0.000000</td>\n",
       "      <td>0.00000</td>\n",
       "      <td>1.00000</td>\n",
       "      <td>0.000000</td>\n",
       "      <td>0.500000</td>\n",
       "    </tr>\n",
       "    <tr>\n",
       "      <th>75%</th>\n",
       "      <td>0.000000</td>\n",
       "      <td>0.000000</td>\n",
       "      <td>1.000000</td>\n",
       "      <td>4.000000</td>\n",
       "      <td>0.000000</td>\n",
       "      <td>0.000000</td>\n",
       "      <td>0.000000</td>\n",
       "      <td>0.000000</td>\n",
       "      <td>0.000000</td>\n",
       "      <td>1.000000</td>\n",
       "      <td>1.000000</td>\n",
       "      <td>1.0000</td>\n",
       "      <td>0.000000</td>\n",
       "      <td>0.00000</td>\n",
       "      <td>1.00000</td>\n",
       "      <td>0.000000</td>\n",
       "      <td>1.000000</td>\n",
       "    </tr>\n",
       "    <tr>\n",
       "      <th>max</th>\n",
       "      <td>1.000000</td>\n",
       "      <td>1.000000</td>\n",
       "      <td>1.000000</td>\n",
       "      <td>20.000000</td>\n",
       "      <td>1.000000</td>\n",
       "      <td>1.000000</td>\n",
       "      <td>1.000000</td>\n",
       "      <td>1.000000</td>\n",
       "      <td>1.000000</td>\n",
       "      <td>1.000000</td>\n",
       "      <td>1.000000</td>\n",
       "      <td>1.0000</td>\n",
       "      <td>1.000000</td>\n",
       "      <td>1.00000</td>\n",
       "      <td>1.00000</td>\n",
       "      <td>1.000000</td>\n",
       "      <td>1.000000</td>\n",
       "    </tr>\n",
       "  </tbody>\n",
       "</table>\n",
       "</div>"
      ],
      "text/plain": [
       "            Have_IP       Have_At    URL_Length     URL_Depth   Redirection  \\\n",
       "count  10000.000000  10000.000000  10000.000000  10000.000000  10000.000000   \n",
       "mean       0.005500      0.022600      0.773400      3.072000      0.013500   \n",
       "std        0.073961      0.148632      0.418653      2.128631      0.115408   \n",
       "min        0.000000      0.000000      0.000000      0.000000      0.000000   \n",
       "25%        0.000000      0.000000      1.000000      2.000000      0.000000   \n",
       "50%        0.000000      0.000000      1.000000      3.000000      0.000000   \n",
       "75%        0.000000      0.000000      1.000000      4.000000      0.000000   \n",
       "max        1.000000      1.000000      1.000000     20.000000      1.000000   \n",
       "\n",
       "       https_Domain       TinyURL  Prefix/Suffix    DNS_Record   Web_Traffic  \\\n",
       "count  10000.000000  10000.000000   10000.000000  10000.000000  10000.000000   \n",
       "mean       0.000200      0.090300       0.093200      0.100800      0.845700   \n",
       "std        0.014141      0.286625       0.290727      0.301079      0.361254   \n",
       "min        0.000000      0.000000       0.000000      0.000000      0.000000   \n",
       "25%        0.000000      0.000000       0.000000      0.000000      1.000000   \n",
       "50%        0.000000      0.000000       0.000000      0.000000      1.000000   \n",
       "75%        0.000000      0.000000       0.000000      0.000000      1.000000   \n",
       "max        1.000000      1.000000       1.000000      1.000000      1.000000   \n",
       "\n",
       "         Domain_Age  Domain_End        iFrame   Mouse_Over  Right_Click  \\\n",
       "count  10000.000000  10000.0000  10000.000000  10000.00000  10000.00000   \n",
       "mean       0.413700      0.8099      0.090900      0.06660      0.99930   \n",
       "std        0.492521      0.3924      0.287481      0.24934      0.02645   \n",
       "min        0.000000      0.0000      0.000000      0.00000      0.00000   \n",
       "25%        0.000000      1.0000      0.000000      0.00000      1.00000   \n",
       "50%        0.000000      1.0000      0.000000      0.00000      1.00000   \n",
       "75%        1.000000      1.0000      0.000000      0.00000      1.00000   \n",
       "max        1.000000      1.0000      1.000000      1.00000      1.00000   \n",
       "\n",
       "       Web_Forwards         Label  \n",
       "count  10000.000000  10000.000000  \n",
       "mean       0.105300      0.500000  \n",
       "std        0.306955      0.500025  \n",
       "min        0.000000      0.000000  \n",
       "25%        0.000000      0.000000  \n",
       "50%        0.000000      0.500000  \n",
       "75%        0.000000      1.000000  \n",
       "max        1.000000      1.000000  "
      ]
     },
     "execution_count": 19,
     "metadata": {},
     "output_type": "execute_result"
    }
   ],
   "source": [
    "data0.describe()"
   ]
  },
  {
   "cell_type": "markdown",
   "metadata": {
    "id": "3Jxem5jbFn56"
   },
   "source": [
    "Kết quả thu được ở trên cho thấy rằng hầu hết dữ liệu được tạo từ 0 và 1 ngời trừ cột  'Domain' & 'URL_Depth'. cột Domain hoàn toàn không có ý nghĩa gì để đào tạo mô hình nên loại nó."
   ]
  },
  {
   "cell_type": "code",
   "execution_count": 20,
   "metadata": {
    "id": "IeH0UwxBHAS8"
   },
   "outputs": [],
   "source": [
    "#Drop Domain column\n",
    "data = data0.drop(['Domain'], axis = 1).copy()"
   ]
  },
  {
   "cell_type": "markdown",
   "metadata": {
    "id": "HteH1rb6HInK"
   },
   "source": [
    "Ta còn lại 16 thuộc tính và 1 cột phân loại. Giá trị tối đa của 'URL_Depth'  là 20. Ta cần chuẩn hoá cột này."
   ]
  },
  {
   "cell_type": "code",
   "execution_count": 21,
   "metadata": {
    "colab": {
     "base_uri": "https://localhost:8080/"
    },
    "id": "P136_dVjHdPh",
    "outputId": "697bb451-9c1b-48e0-9955-89d043932419"
   },
   "outputs": [
    {
     "data": {
      "text/plain": [
       "Have_IP          0\n",
       "Have_At          0\n",
       "URL_Length       0\n",
       "URL_Depth        0\n",
       "Redirection      0\n",
       "https_Domain     0\n",
       "TinyURL          0\n",
       "Prefix/Suffix    0\n",
       "DNS_Record       0\n",
       "Web_Traffic      0\n",
       "Domain_Age       0\n",
       "Domain_End       0\n",
       "iFrame           0\n",
       "Mouse_Over       0\n",
       "Right_Click      0\n",
       "Web_Forwards     0\n",
       "Label            0\n",
       "dtype: int64"
      ]
     },
     "execution_count": 21,
     "metadata": {},
     "output_type": "execute_result"
    }
   ],
   "source": [
    "#check data null\n",
    "data.isnull().sum()"
   ]
  },
  {
   "cell_type": "code",
   "execution_count": 22,
   "metadata": {},
   "outputs": [],
   "source": [
    "# Normalize URL_Depth\n",
    "data['URL_Depth'] = (data['URL_Depth'] - data['URL_Depth'].min()) / (data['URL_Depth'].max() - data['URL_Depth'].min())"
   ]
  },
  {
   "cell_type": "markdown",
   "metadata": {
    "id": "PJGivGCsH3gg"
   },
   "source": [
    "Trong tập tin thuộc tính được trích xuất, các thuộc tính được trích xuất của tập url lừa đảo và lành tính không có bất kỳ xáo trộn nào."
   ]
  },
  {
   "cell_type": "code",
   "execution_count": 23,
   "metadata": {
    "colab": {
     "base_uri": "https://localhost:8080/",
     "height": 204
    },
    "id": "5GBQkwm4JYz6",
    "outputId": "cb06af31-9da9-49bf-fc99-4baeabddd6e6"
   },
   "outputs": [
    {
     "data": {
      "application/vnd.microsoft.datawrangler.viewer.v0+json": {
       "columns": [
        {
         "name": "index",
         "rawType": "int64",
         "type": "integer"
        },
        {
         "name": "Have_IP",
         "rawType": "int64",
         "type": "integer"
        },
        {
         "name": "Have_At",
         "rawType": "int64",
         "type": "integer"
        },
        {
         "name": "URL_Length",
         "rawType": "int64",
         "type": "integer"
        },
        {
         "name": "URL_Depth",
         "rawType": "float64",
         "type": "float"
        },
        {
         "name": "Redirection",
         "rawType": "int64",
         "type": "integer"
        },
        {
         "name": "https_Domain",
         "rawType": "int64",
         "type": "integer"
        },
        {
         "name": "TinyURL",
         "rawType": "int64",
         "type": "integer"
        },
        {
         "name": "Prefix/Suffix",
         "rawType": "int64",
         "type": "integer"
        },
        {
         "name": "DNS_Record",
         "rawType": "int64",
         "type": "integer"
        },
        {
         "name": "Web_Traffic",
         "rawType": "int64",
         "type": "integer"
        },
        {
         "name": "Domain_Age",
         "rawType": "int64",
         "type": "integer"
        },
        {
         "name": "Domain_End",
         "rawType": "int64",
         "type": "integer"
        },
        {
         "name": "iFrame",
         "rawType": "int64",
         "type": "integer"
        },
        {
         "name": "Mouse_Over",
         "rawType": "int64",
         "type": "integer"
        },
        {
         "name": "Right_Click",
         "rawType": "int64",
         "type": "integer"
        },
        {
         "name": "Web_Forwards",
         "rawType": "int64",
         "type": "integer"
        },
        {
         "name": "Label",
         "rawType": "int64",
         "type": "integer"
        }
       ],
       "conversionMethod": "pd.DataFrame",
       "ref": "d0bc8e83-ffac-4d61-ab19-0f363aa1d1bb",
       "rows": [
        [
         "0",
         "0",
         "0",
         "0",
         "0.15",
         "0",
         "0",
         "0",
         "0",
         "0",
         "0",
         "0",
         "1",
         "0",
         "0",
         "1",
         "0",
         "1"
        ],
        [
         "1",
         "0",
         "0",
         "1",
         "0.15",
         "0",
         "0",
         "0",
         "0",
         "0",
         "1",
         "1",
         "1",
         "0",
         "0",
         "1",
         "0",
         "1"
        ],
        [
         "2",
         "0",
         "0",
         "0",
         "0.1",
         "0",
         "0",
         "0",
         "0",
         "0",
         "1",
         "1",
         "1",
         "0",
         "0",
         "1",
         "0",
         "1"
        ],
        [
         "3",
         "0",
         "0",
         "1",
         "0.2",
         "0",
         "0",
         "0",
         "0",
         "0",
         "0",
         "0",
         "1",
         "0",
         "0",
         "1",
         "0",
         "0"
        ],
        [
         "4",
         "0",
         "0",
         "1",
         "0.15",
         "0",
         "0",
         "0",
         "0",
         "0",
         "1",
         "1",
         "1",
         "0",
         "0",
         "1",
         "0",
         "1"
        ]
       ],
       "shape": {
        "columns": 17,
        "rows": 5
       }
      },
      "text/html": [
       "<div>\n",
       "<style scoped>\n",
       "    .dataframe tbody tr th:only-of-type {\n",
       "        vertical-align: middle;\n",
       "    }\n",
       "\n",
       "    .dataframe tbody tr th {\n",
       "        vertical-align: top;\n",
       "    }\n",
       "\n",
       "    .dataframe thead th {\n",
       "        text-align: right;\n",
       "    }\n",
       "</style>\n",
       "<table border=\"1\" class=\"dataframe\">\n",
       "  <thead>\n",
       "    <tr style=\"text-align: right;\">\n",
       "      <th></th>\n",
       "      <th>Have_IP</th>\n",
       "      <th>Have_At</th>\n",
       "      <th>URL_Length</th>\n",
       "      <th>URL_Depth</th>\n",
       "      <th>Redirection</th>\n",
       "      <th>https_Domain</th>\n",
       "      <th>TinyURL</th>\n",
       "      <th>Prefix/Suffix</th>\n",
       "      <th>DNS_Record</th>\n",
       "      <th>Web_Traffic</th>\n",
       "      <th>Domain_Age</th>\n",
       "      <th>Domain_End</th>\n",
       "      <th>iFrame</th>\n",
       "      <th>Mouse_Over</th>\n",
       "      <th>Right_Click</th>\n",
       "      <th>Web_Forwards</th>\n",
       "      <th>Label</th>\n",
       "    </tr>\n",
       "  </thead>\n",
       "  <tbody>\n",
       "    <tr>\n",
       "      <th>0</th>\n",
       "      <td>0</td>\n",
       "      <td>0</td>\n",
       "      <td>0</td>\n",
       "      <td>0.15</td>\n",
       "      <td>0</td>\n",
       "      <td>0</td>\n",
       "      <td>0</td>\n",
       "      <td>0</td>\n",
       "      <td>0</td>\n",
       "      <td>0</td>\n",
       "      <td>0</td>\n",
       "      <td>1</td>\n",
       "      <td>0</td>\n",
       "      <td>0</td>\n",
       "      <td>1</td>\n",
       "      <td>0</td>\n",
       "      <td>1</td>\n",
       "    </tr>\n",
       "    <tr>\n",
       "      <th>1</th>\n",
       "      <td>0</td>\n",
       "      <td>0</td>\n",
       "      <td>1</td>\n",
       "      <td>0.15</td>\n",
       "      <td>0</td>\n",
       "      <td>0</td>\n",
       "      <td>0</td>\n",
       "      <td>0</td>\n",
       "      <td>0</td>\n",
       "      <td>1</td>\n",
       "      <td>1</td>\n",
       "      <td>1</td>\n",
       "      <td>0</td>\n",
       "      <td>0</td>\n",
       "      <td>1</td>\n",
       "      <td>0</td>\n",
       "      <td>1</td>\n",
       "    </tr>\n",
       "    <tr>\n",
       "      <th>2</th>\n",
       "      <td>0</td>\n",
       "      <td>0</td>\n",
       "      <td>0</td>\n",
       "      <td>0.10</td>\n",
       "      <td>0</td>\n",
       "      <td>0</td>\n",
       "      <td>0</td>\n",
       "      <td>0</td>\n",
       "      <td>0</td>\n",
       "      <td>1</td>\n",
       "      <td>1</td>\n",
       "      <td>1</td>\n",
       "      <td>0</td>\n",
       "      <td>0</td>\n",
       "      <td>1</td>\n",
       "      <td>0</td>\n",
       "      <td>1</td>\n",
       "    </tr>\n",
       "    <tr>\n",
       "      <th>3</th>\n",
       "      <td>0</td>\n",
       "      <td>0</td>\n",
       "      <td>1</td>\n",
       "      <td>0.20</td>\n",
       "      <td>0</td>\n",
       "      <td>0</td>\n",
       "      <td>0</td>\n",
       "      <td>0</td>\n",
       "      <td>0</td>\n",
       "      <td>0</td>\n",
       "      <td>0</td>\n",
       "      <td>1</td>\n",
       "      <td>0</td>\n",
       "      <td>0</td>\n",
       "      <td>1</td>\n",
       "      <td>0</td>\n",
       "      <td>0</td>\n",
       "    </tr>\n",
       "    <tr>\n",
       "      <th>4</th>\n",
       "      <td>0</td>\n",
       "      <td>0</td>\n",
       "      <td>1</td>\n",
       "      <td>0.15</td>\n",
       "      <td>0</td>\n",
       "      <td>0</td>\n",
       "      <td>0</td>\n",
       "      <td>0</td>\n",
       "      <td>0</td>\n",
       "      <td>1</td>\n",
       "      <td>1</td>\n",
       "      <td>1</td>\n",
       "      <td>0</td>\n",
       "      <td>0</td>\n",
       "      <td>1</td>\n",
       "      <td>0</td>\n",
       "      <td>1</td>\n",
       "    </tr>\n",
       "  </tbody>\n",
       "</table>\n",
       "</div>"
      ],
      "text/plain": [
       "   Have_IP  Have_At  URL_Length  URL_Depth  Redirection  https_Domain  \\\n",
       "0        0        0           0       0.15            0             0   \n",
       "1        0        0           1       0.15            0             0   \n",
       "2        0        0           0       0.10            0             0   \n",
       "3        0        0           1       0.20            0             0   \n",
       "4        0        0           1       0.15            0             0   \n",
       "\n",
       "   TinyURL  Prefix/Suffix  DNS_Record  Web_Traffic  Domain_Age  Domain_End  \\\n",
       "0        0              0           0            0           0           1   \n",
       "1        0              0           0            1           1           1   \n",
       "2        0              0           0            1           1           1   \n",
       "3        0              0           0            0           0           1   \n",
       "4        0              0           0            1           1           1   \n",
       "\n",
       "   iFrame  Mouse_Over  Right_Click  Web_Forwards  Label  \n",
       "0       0           0            1             0      1  \n",
       "1       0           0            1             0      1  \n",
       "2       0           0            1             0      1  \n",
       "3       0           0            1             0      0  \n",
       "4       0           0            1             0      1  "
      ]
     },
     "execution_count": 23,
     "metadata": {},
     "output_type": "execute_result"
    }
   ],
   "source": [
    "# shuffling the rows\n",
    "data = data.sample(frac=1).reset_index(drop=True)\n",
    "data.head()"
   ]
  },
  {
   "cell_type": "markdown",
   "metadata": {
    "id": "ULpWf7j_Jiid"
   },
   "source": [
    "# **6. Chia dữ liệu**"
   ]
  },
  {
   "cell_type": "code",
   "execution_count": 24,
   "metadata": {
    "colab": {
     "base_uri": "https://localhost:8080/"
    },
    "id": "jjWuzJWQJmef",
    "outputId": "c5b434d1-123b-4e6b-dbb0-fe93a2154a9d"
   },
   "outputs": [
    {
     "data": {
      "text/plain": [
       "((10000, 16), (10000,))"
      ]
     },
     "execution_count": 24,
     "metadata": {},
     "output_type": "execute_result"
    }
   ],
   "source": [
    "#features and target columns to X & y\n",
    "y = data['Label']\n",
    "X = data.drop('Label',axis=1)\n",
    "X.shape, y.shape"
   ]
  },
  {
   "cell_type": "code",
   "execution_count": 25,
   "metadata": {
    "colab": {
     "base_uri": "https://localhost:8080/"
    },
    "id": "aimvLwIqLMzF",
    "outputId": "17bd2418-43e0-4957-96af-2658f40fcca3"
   },
   "outputs": [
    {
     "data": {
      "text/plain": [
       "((8000, 16), (2000, 16))"
      ]
     },
     "execution_count": 25,
     "metadata": {},
     "output_type": "execute_result"
    }
   ],
   "source": [
    "# train and test sets: 80-20 split\n",
    "from sklearn.model_selection import train_test_split\n",
    "\n",
    "X_train, X_test, y_train, y_test = train_test_split(X, y,\n",
    "                                                    test_size = 0.2, random_state = 12)\n",
    "X_train.shape, X_test.shape"
   ]
  },
  {
   "cell_type": "markdown",
   "metadata": {
    "id": "1xjDwwlyLbz7"
   },
   "source": [
    "# **7. Đào tạo mô hình học máy/học sâu**\n",
    "Ta sẽ có 2 nhãn  phishing (1) và legitimate (0), với các mô hình sau:\n",
    "*  Decision Tree\n",
    "*  Random Forest\n",
    "*  Multilayer Perceptrons\n",
    "* XGBoost\n",
    "* Long Short-Term Memory (LSTM) network\n",
    "* Support Vector Machines"
   ]
  },
  {
   "cell_type": "code",
   "execution_count": 26,
   "metadata": {
    "id": "8EXAe0GtMa_v"
   },
   "outputs": [],
   "source": [
    "from sklearn.metrics import accuracy_score"
   ]
  },
  {
   "cell_type": "code",
   "execution_count": 27,
   "metadata": {
    "id": "Rt9j-a5KMd-m"
   },
   "outputs": [],
   "source": [
    "# Creating model results\n",
    "Model = []\n",
    "acc_train = []\n",
    "acc_test = []\n",
    "\n",
    "#storing the results\n",
    "def storeResults(model, a,b):\n",
    "  Model.append(model)\n",
    "  acc_train.append(round(a, 3))\n",
    "  acc_test.append(round(b, 3))"
   ]
  },
  {
   "cell_type": "markdown",
   "metadata": {
    "id": "2VzDewbsMsHw"
   },
   "source": [
    "## **7.1 Decision Tree Classifier**"
   ]
  },
  {
   "cell_type": "code",
   "execution_count": 28,
   "metadata": {
    "colab": {
     "base_uri": "https://localhost:8080/"
    },
    "id": "O-fMx-MOM2tY",
    "outputId": "68182ff4-25cf-4440-c3d5-36ed9f915c83"
   },
   "outputs": [
    {
     "data": {
      "text/html": [
       "<style>#sk-container-id-1 {\n",
       "  /* Definition of color scheme common for light and dark mode */\n",
       "  --sklearn-color-text: #000;\n",
       "  --sklearn-color-text-muted: #666;\n",
       "  --sklearn-color-line: gray;\n",
       "  /* Definition of color scheme for unfitted estimators */\n",
       "  --sklearn-color-unfitted-level-0: #fff5e6;\n",
       "  --sklearn-color-unfitted-level-1: #f6e4d2;\n",
       "  --sklearn-color-unfitted-level-2: #ffe0b3;\n",
       "  --sklearn-color-unfitted-level-3: chocolate;\n",
       "  /* Definition of color scheme for fitted estimators */\n",
       "  --sklearn-color-fitted-level-0: #f0f8ff;\n",
       "  --sklearn-color-fitted-level-1: #d4ebff;\n",
       "  --sklearn-color-fitted-level-2: #b3dbfd;\n",
       "  --sklearn-color-fitted-level-3: cornflowerblue;\n",
       "\n",
       "  /* Specific color for light theme */\n",
       "  --sklearn-color-text-on-default-background: var(--sg-text-color, var(--theme-code-foreground, var(--jp-content-font-color1, black)));\n",
       "  --sklearn-color-background: var(--sg-background-color, var(--theme-background, var(--jp-layout-color0, white)));\n",
       "  --sklearn-color-border-box: var(--sg-text-color, var(--theme-code-foreground, var(--jp-content-font-color1, black)));\n",
       "  --sklearn-color-icon: #696969;\n",
       "\n",
       "  @media (prefers-color-scheme: dark) {\n",
       "    /* Redefinition of color scheme for dark theme */\n",
       "    --sklearn-color-text-on-default-background: var(--sg-text-color, var(--theme-code-foreground, var(--jp-content-font-color1, white)));\n",
       "    --sklearn-color-background: var(--sg-background-color, var(--theme-background, var(--jp-layout-color0, #111)));\n",
       "    --sklearn-color-border-box: var(--sg-text-color, var(--theme-code-foreground, var(--jp-content-font-color1, white)));\n",
       "    --sklearn-color-icon: #878787;\n",
       "  }\n",
       "}\n",
       "\n",
       "#sk-container-id-1 {\n",
       "  color: var(--sklearn-color-text);\n",
       "}\n",
       "\n",
       "#sk-container-id-1 pre {\n",
       "  padding: 0;\n",
       "}\n",
       "\n",
       "#sk-container-id-1 input.sk-hidden--visually {\n",
       "  border: 0;\n",
       "  clip: rect(1px 1px 1px 1px);\n",
       "  clip: rect(1px, 1px, 1px, 1px);\n",
       "  height: 1px;\n",
       "  margin: -1px;\n",
       "  overflow: hidden;\n",
       "  padding: 0;\n",
       "  position: absolute;\n",
       "  width: 1px;\n",
       "}\n",
       "\n",
       "#sk-container-id-1 div.sk-dashed-wrapped {\n",
       "  border: 1px dashed var(--sklearn-color-line);\n",
       "  margin: 0 0.4em 0.5em 0.4em;\n",
       "  box-sizing: border-box;\n",
       "  padding-bottom: 0.4em;\n",
       "  background-color: var(--sklearn-color-background);\n",
       "}\n",
       "\n",
       "#sk-container-id-1 div.sk-container {\n",
       "  /* jupyter's `normalize.less` sets `[hidden] { display: none; }`\n",
       "     but bootstrap.min.css set `[hidden] { display: none !important; }`\n",
       "     so we also need the `!important` here to be able to override the\n",
       "     default hidden behavior on the sphinx rendered scikit-learn.org.\n",
       "     See: https://github.com/scikit-learn/scikit-learn/issues/21755 */\n",
       "  display: inline-block !important;\n",
       "  position: relative;\n",
       "}\n",
       "\n",
       "#sk-container-id-1 div.sk-text-repr-fallback {\n",
       "  display: none;\n",
       "}\n",
       "\n",
       "div.sk-parallel-item,\n",
       "div.sk-serial,\n",
       "div.sk-item {\n",
       "  /* draw centered vertical line to link estimators */\n",
       "  background-image: linear-gradient(var(--sklearn-color-text-on-default-background), var(--sklearn-color-text-on-default-background));\n",
       "  background-size: 2px 100%;\n",
       "  background-repeat: no-repeat;\n",
       "  background-position: center center;\n",
       "}\n",
       "\n",
       "/* Parallel-specific style estimator block */\n",
       "\n",
       "#sk-container-id-1 div.sk-parallel-item::after {\n",
       "  content: \"\";\n",
       "  width: 100%;\n",
       "  border-bottom: 2px solid var(--sklearn-color-text-on-default-background);\n",
       "  flex-grow: 1;\n",
       "}\n",
       "\n",
       "#sk-container-id-1 div.sk-parallel {\n",
       "  display: flex;\n",
       "  align-items: stretch;\n",
       "  justify-content: center;\n",
       "  background-color: var(--sklearn-color-background);\n",
       "  position: relative;\n",
       "}\n",
       "\n",
       "#sk-container-id-1 div.sk-parallel-item {\n",
       "  display: flex;\n",
       "  flex-direction: column;\n",
       "}\n",
       "\n",
       "#sk-container-id-1 div.sk-parallel-item:first-child::after {\n",
       "  align-self: flex-end;\n",
       "  width: 50%;\n",
       "}\n",
       "\n",
       "#sk-container-id-1 div.sk-parallel-item:last-child::after {\n",
       "  align-self: flex-start;\n",
       "  width: 50%;\n",
       "}\n",
       "\n",
       "#sk-container-id-1 div.sk-parallel-item:only-child::after {\n",
       "  width: 0;\n",
       "}\n",
       "\n",
       "/* Serial-specific style estimator block */\n",
       "\n",
       "#sk-container-id-1 div.sk-serial {\n",
       "  display: flex;\n",
       "  flex-direction: column;\n",
       "  align-items: center;\n",
       "  background-color: var(--sklearn-color-background);\n",
       "  padding-right: 1em;\n",
       "  padding-left: 1em;\n",
       "}\n",
       "\n",
       "\n",
       "/* Toggleable style: style used for estimator/Pipeline/ColumnTransformer box that is\n",
       "clickable and can be expanded/collapsed.\n",
       "- Pipeline and ColumnTransformer use this feature and define the default style\n",
       "- Estimators will overwrite some part of the style using the `sk-estimator` class\n",
       "*/\n",
       "\n",
       "/* Pipeline and ColumnTransformer style (default) */\n",
       "\n",
       "#sk-container-id-1 div.sk-toggleable {\n",
       "  /* Default theme specific background. It is overwritten whether we have a\n",
       "  specific estimator or a Pipeline/ColumnTransformer */\n",
       "  background-color: var(--sklearn-color-background);\n",
       "}\n",
       "\n",
       "/* Toggleable label */\n",
       "#sk-container-id-1 label.sk-toggleable__label {\n",
       "  cursor: pointer;\n",
       "  display: flex;\n",
       "  width: 100%;\n",
       "  margin-bottom: 0;\n",
       "  padding: 0.5em;\n",
       "  box-sizing: border-box;\n",
       "  text-align: center;\n",
       "  align-items: start;\n",
       "  justify-content: space-between;\n",
       "  gap: 0.5em;\n",
       "}\n",
       "\n",
       "#sk-container-id-1 label.sk-toggleable__label .caption {\n",
       "  font-size: 0.6rem;\n",
       "  font-weight: lighter;\n",
       "  color: var(--sklearn-color-text-muted);\n",
       "}\n",
       "\n",
       "#sk-container-id-1 label.sk-toggleable__label-arrow:before {\n",
       "  /* Arrow on the left of the label */\n",
       "  content: \"▸\";\n",
       "  float: left;\n",
       "  margin-right: 0.25em;\n",
       "  color: var(--sklearn-color-icon);\n",
       "}\n",
       "\n",
       "#sk-container-id-1 label.sk-toggleable__label-arrow:hover:before {\n",
       "  color: var(--sklearn-color-text);\n",
       "}\n",
       "\n",
       "/* Toggleable content - dropdown */\n",
       "\n",
       "#sk-container-id-1 div.sk-toggleable__content {\n",
       "  max-height: 0;\n",
       "  max-width: 0;\n",
       "  overflow: hidden;\n",
       "  text-align: left;\n",
       "  /* unfitted */\n",
       "  background-color: var(--sklearn-color-unfitted-level-0);\n",
       "}\n",
       "\n",
       "#sk-container-id-1 div.sk-toggleable__content.fitted {\n",
       "  /* fitted */\n",
       "  background-color: var(--sklearn-color-fitted-level-0);\n",
       "}\n",
       "\n",
       "#sk-container-id-1 div.sk-toggleable__content pre {\n",
       "  margin: 0.2em;\n",
       "  border-radius: 0.25em;\n",
       "  color: var(--sklearn-color-text);\n",
       "  /* unfitted */\n",
       "  background-color: var(--sklearn-color-unfitted-level-0);\n",
       "}\n",
       "\n",
       "#sk-container-id-1 div.sk-toggleable__content.fitted pre {\n",
       "  /* unfitted */\n",
       "  background-color: var(--sklearn-color-fitted-level-0);\n",
       "}\n",
       "\n",
       "#sk-container-id-1 input.sk-toggleable__control:checked~div.sk-toggleable__content {\n",
       "  /* Expand drop-down */\n",
       "  max-height: 200px;\n",
       "  max-width: 100%;\n",
       "  overflow: auto;\n",
       "}\n",
       "\n",
       "#sk-container-id-1 input.sk-toggleable__control:checked~label.sk-toggleable__label-arrow:before {\n",
       "  content: \"▾\";\n",
       "}\n",
       "\n",
       "/* Pipeline/ColumnTransformer-specific style */\n",
       "\n",
       "#sk-container-id-1 div.sk-label input.sk-toggleable__control:checked~label.sk-toggleable__label {\n",
       "  color: var(--sklearn-color-text);\n",
       "  background-color: var(--sklearn-color-unfitted-level-2);\n",
       "}\n",
       "\n",
       "#sk-container-id-1 div.sk-label.fitted input.sk-toggleable__control:checked~label.sk-toggleable__label {\n",
       "  background-color: var(--sklearn-color-fitted-level-2);\n",
       "}\n",
       "\n",
       "/* Estimator-specific style */\n",
       "\n",
       "/* Colorize estimator box */\n",
       "#sk-container-id-1 div.sk-estimator input.sk-toggleable__control:checked~label.sk-toggleable__label {\n",
       "  /* unfitted */\n",
       "  background-color: var(--sklearn-color-unfitted-level-2);\n",
       "}\n",
       "\n",
       "#sk-container-id-1 div.sk-estimator.fitted input.sk-toggleable__control:checked~label.sk-toggleable__label {\n",
       "  /* fitted */\n",
       "  background-color: var(--sklearn-color-fitted-level-2);\n",
       "}\n",
       "\n",
       "#sk-container-id-1 div.sk-label label.sk-toggleable__label,\n",
       "#sk-container-id-1 div.sk-label label {\n",
       "  /* The background is the default theme color */\n",
       "  color: var(--sklearn-color-text-on-default-background);\n",
       "}\n",
       "\n",
       "/* On hover, darken the color of the background */\n",
       "#sk-container-id-1 div.sk-label:hover label.sk-toggleable__label {\n",
       "  color: var(--sklearn-color-text);\n",
       "  background-color: var(--sklearn-color-unfitted-level-2);\n",
       "}\n",
       "\n",
       "/* Label box, darken color on hover, fitted */\n",
       "#sk-container-id-1 div.sk-label.fitted:hover label.sk-toggleable__label.fitted {\n",
       "  color: var(--sklearn-color-text);\n",
       "  background-color: var(--sklearn-color-fitted-level-2);\n",
       "}\n",
       "\n",
       "/* Estimator label */\n",
       "\n",
       "#sk-container-id-1 div.sk-label label {\n",
       "  font-family: monospace;\n",
       "  font-weight: bold;\n",
       "  display: inline-block;\n",
       "  line-height: 1.2em;\n",
       "}\n",
       "\n",
       "#sk-container-id-1 div.sk-label-container {\n",
       "  text-align: center;\n",
       "}\n",
       "\n",
       "/* Estimator-specific */\n",
       "#sk-container-id-1 div.sk-estimator {\n",
       "  font-family: monospace;\n",
       "  border: 1px dotted var(--sklearn-color-border-box);\n",
       "  border-radius: 0.25em;\n",
       "  box-sizing: border-box;\n",
       "  margin-bottom: 0.5em;\n",
       "  /* unfitted */\n",
       "  background-color: var(--sklearn-color-unfitted-level-0);\n",
       "}\n",
       "\n",
       "#sk-container-id-1 div.sk-estimator.fitted {\n",
       "  /* fitted */\n",
       "  background-color: var(--sklearn-color-fitted-level-0);\n",
       "}\n",
       "\n",
       "/* on hover */\n",
       "#sk-container-id-1 div.sk-estimator:hover {\n",
       "  /* unfitted */\n",
       "  background-color: var(--sklearn-color-unfitted-level-2);\n",
       "}\n",
       "\n",
       "#sk-container-id-1 div.sk-estimator.fitted:hover {\n",
       "  /* fitted */\n",
       "  background-color: var(--sklearn-color-fitted-level-2);\n",
       "}\n",
       "\n",
       "/* Specification for estimator info (e.g. \"i\" and \"?\") */\n",
       "\n",
       "/* Common style for \"i\" and \"?\" */\n",
       "\n",
       ".sk-estimator-doc-link,\n",
       "a:link.sk-estimator-doc-link,\n",
       "a:visited.sk-estimator-doc-link {\n",
       "  float: right;\n",
       "  font-size: smaller;\n",
       "  line-height: 1em;\n",
       "  font-family: monospace;\n",
       "  background-color: var(--sklearn-color-background);\n",
       "  border-radius: 1em;\n",
       "  height: 1em;\n",
       "  width: 1em;\n",
       "  text-decoration: none !important;\n",
       "  margin-left: 0.5em;\n",
       "  text-align: center;\n",
       "  /* unfitted */\n",
       "  border: var(--sklearn-color-unfitted-level-1) 1pt solid;\n",
       "  color: var(--sklearn-color-unfitted-level-1);\n",
       "}\n",
       "\n",
       ".sk-estimator-doc-link.fitted,\n",
       "a:link.sk-estimator-doc-link.fitted,\n",
       "a:visited.sk-estimator-doc-link.fitted {\n",
       "  /* fitted */\n",
       "  border: var(--sklearn-color-fitted-level-1) 1pt solid;\n",
       "  color: var(--sklearn-color-fitted-level-1);\n",
       "}\n",
       "\n",
       "/* On hover */\n",
       "div.sk-estimator:hover .sk-estimator-doc-link:hover,\n",
       ".sk-estimator-doc-link:hover,\n",
       "div.sk-label-container:hover .sk-estimator-doc-link:hover,\n",
       ".sk-estimator-doc-link:hover {\n",
       "  /* unfitted */\n",
       "  background-color: var(--sklearn-color-unfitted-level-3);\n",
       "  color: var(--sklearn-color-background);\n",
       "  text-decoration: none;\n",
       "}\n",
       "\n",
       "div.sk-estimator.fitted:hover .sk-estimator-doc-link.fitted:hover,\n",
       ".sk-estimator-doc-link.fitted:hover,\n",
       "div.sk-label-container:hover .sk-estimator-doc-link.fitted:hover,\n",
       ".sk-estimator-doc-link.fitted:hover {\n",
       "  /* fitted */\n",
       "  background-color: var(--sklearn-color-fitted-level-3);\n",
       "  color: var(--sklearn-color-background);\n",
       "  text-decoration: none;\n",
       "}\n",
       "\n",
       "/* Span, style for the box shown on hovering the info icon */\n",
       ".sk-estimator-doc-link span {\n",
       "  display: none;\n",
       "  z-index: 9999;\n",
       "  position: relative;\n",
       "  font-weight: normal;\n",
       "  right: .2ex;\n",
       "  padding: .5ex;\n",
       "  margin: .5ex;\n",
       "  width: min-content;\n",
       "  min-width: 20ex;\n",
       "  max-width: 50ex;\n",
       "  color: var(--sklearn-color-text);\n",
       "  box-shadow: 2pt 2pt 4pt #999;\n",
       "  /* unfitted */\n",
       "  background: var(--sklearn-color-unfitted-level-0);\n",
       "  border: .5pt solid var(--sklearn-color-unfitted-level-3);\n",
       "}\n",
       "\n",
       ".sk-estimator-doc-link.fitted span {\n",
       "  /* fitted */\n",
       "  background: var(--sklearn-color-fitted-level-0);\n",
       "  border: var(--sklearn-color-fitted-level-3);\n",
       "}\n",
       "\n",
       ".sk-estimator-doc-link:hover span {\n",
       "  display: block;\n",
       "}\n",
       "\n",
       "/* \"?\"-specific style due to the `<a>` HTML tag */\n",
       "\n",
       "#sk-container-id-1 a.estimator_doc_link {\n",
       "  float: right;\n",
       "  font-size: 1rem;\n",
       "  line-height: 1em;\n",
       "  font-family: monospace;\n",
       "  background-color: var(--sklearn-color-background);\n",
       "  border-radius: 1rem;\n",
       "  height: 1rem;\n",
       "  width: 1rem;\n",
       "  text-decoration: none;\n",
       "  /* unfitted */\n",
       "  color: var(--sklearn-color-unfitted-level-1);\n",
       "  border: var(--sklearn-color-unfitted-level-1) 1pt solid;\n",
       "}\n",
       "\n",
       "#sk-container-id-1 a.estimator_doc_link.fitted {\n",
       "  /* fitted */\n",
       "  border: var(--sklearn-color-fitted-level-1) 1pt solid;\n",
       "  color: var(--sklearn-color-fitted-level-1);\n",
       "}\n",
       "\n",
       "/* On hover */\n",
       "#sk-container-id-1 a.estimator_doc_link:hover {\n",
       "  /* unfitted */\n",
       "  background-color: var(--sklearn-color-unfitted-level-3);\n",
       "  color: var(--sklearn-color-background);\n",
       "  text-decoration: none;\n",
       "}\n",
       "\n",
       "#sk-container-id-1 a.estimator_doc_link.fitted:hover {\n",
       "  /* fitted */\n",
       "  background-color: var(--sklearn-color-fitted-level-3);\n",
       "}\n",
       "</style><div id=\"sk-container-id-1\" class=\"sk-top-container\"><div class=\"sk-text-repr-fallback\"><pre>DecisionTreeClassifier(max_depth=5)</pre><b>In a Jupyter environment, please rerun this cell to show the HTML representation or trust the notebook. <br />On GitHub, the HTML representation is unable to render, please try loading this page with nbviewer.org.</b></div><div class=\"sk-container\" hidden><div class=\"sk-item\"><div class=\"sk-estimator fitted sk-toggleable\"><input class=\"sk-toggleable__control sk-hidden--visually\" id=\"sk-estimator-id-1\" type=\"checkbox\" checked><label for=\"sk-estimator-id-1\" class=\"sk-toggleable__label fitted sk-toggleable__label-arrow\"><div><div>DecisionTreeClassifier</div></div><div><a class=\"sk-estimator-doc-link fitted\" rel=\"noreferrer\" target=\"_blank\" href=\"https://scikit-learn.org/1.6/modules/generated/sklearn.tree.DecisionTreeClassifier.html\">?<span>Documentation for DecisionTreeClassifier</span></a><span class=\"sk-estimator-doc-link fitted\">i<span>Fitted</span></span></div></label><div class=\"sk-toggleable__content fitted\"><pre>DecisionTreeClassifier(max_depth=5)</pre></div> </div></div></div></div>"
      ],
      "text/plain": [
       "DecisionTreeClassifier(max_depth=5)"
      ]
     },
     "execution_count": 28,
     "metadata": {},
     "output_type": "execute_result"
    }
   ],
   "source": [
    "# Decision Tree model\n",
    "from sklearn.tree import DecisionTreeClassifier\n",
    "\n",
    "# instantiate\n",
    "tree = DecisionTreeClassifier(max_depth = 5)\n",
    "# fit\n",
    "tree.fit(X_train, y_train)"
   ]
  },
  {
   "cell_type": "code",
   "execution_count": 29,
   "metadata": {
    "id": "YB1ZBIgQM8g5"
   },
   "outputs": [],
   "source": [
    "#predicting\n",
    "y_test_tree = tree.predict(X_test)\n",
    "y_train_tree = tree.predict(X_train)"
   ]
  },
  {
   "cell_type": "markdown",
   "metadata": {
    "id": "51jY-Mi9NCKl"
   },
   "source": [
    "***Đánh giá hiệu suất***"
   ]
  },
  {
   "cell_type": "code",
   "execution_count": 30,
   "metadata": {
    "colab": {
     "base_uri": "https://localhost:8080/"
    },
    "id": "MDXBhzc4NE3T",
    "outputId": "0e799a14-d88a-4a20-b81e-44ad53490008"
   },
   "outputs": [
    {
     "name": "stdout",
     "output_type": "stream",
     "text": [
      "Decision Tree: Accuracy on training Data: 0.813\n",
      "Decision Tree: Accuracy on test Data: 0.816\n"
     ]
    }
   ],
   "source": [
    "#computing the accuracy\n",
    "acc_train_tree = accuracy_score(y_train,y_train_tree)\n",
    "acc_test_tree = accuracy_score(y_test,y_test_tree)\n",
    "\n",
    "print(\"Decision Tree: Accuracy on training Data: {:.3f}\".format(acc_train_tree))\n",
    "print(\"Decision Tree: Accuracy on test Data: {:.3f}\".format(acc_test_tree))"
   ]
  },
  {
   "cell_type": "code",
   "execution_count": 31,
   "metadata": {
    "colab": {
     "base_uri": "https://localhost:8080/",
     "height": 442
    },
    "id": "cKL-SxyYNPVS",
    "outputId": "54152e39-aa22-4584-d4e2-1a4992336e22"
   },
   "outputs": [
    {
     "data": {
      "image/png": "[encoded data removed]",
      "text/plain": [
       "<Figure size 900x700 with 1 Axes>"
      ]
     },
     "metadata": {},
     "output_type": "display_data"
    }
   ],
   "source": [
    "#checking the feature improtance in the model\n",
    "plt.figure(figsize=(9,7))\n",
    "n_features = X_train.shape[1]\n",
    "plt.barh(range(n_features), tree.feature_importances_, align='center')\n",
    "plt.yticks(np.arange(n_features), X_train.columns)\n",
    "plt.xlabel(\"Feature importance\")\n",
    "plt.ylabel(\"Feature\")\n",
    "plt.show()"
   ]
  },
  {
   "cell_type": "markdown",
   "metadata": {
    "id": "mf9DcHcjNVP5"
   },
   "source": [
    "**Lưu trữ kết quả**"
   ]
  },
  {
   "cell_type": "code",
   "execution_count": 32,
   "metadata": {
    "id": "K1tfnfcqNZGl"
   },
   "outputs": [],
   "source": [
    "storeResults('Decision Tree', acc_train_tree, acc_test_tree)"
   ]
  },
  {
   "cell_type": "markdown",
   "metadata": {
    "id": "140lDfWSN1xJ"
   },
   "source": [
    "## **7.2 Random Forest Classifier**"
   ]
  },
  {
   "cell_type": "code",
   "execution_count": 33,
   "metadata": {
    "colab": {
     "base_uri": "https://localhost:8080/"
    },
    "id": "WDb9p4qYN30z",
    "outputId": "97a53cb9-9ba3-4155-a2b6-711a03eb4d87"
   },
   "outputs": [
    {
     "data": {
      "text/html": [
       "<style>#sk-container-id-2 {\n",
       "  /* Definition of color scheme common for light and dark mode */\n",
       "  --sklearn-color-text: #000;\n",
       "  --sklearn-color-text-muted: #666;\n",
       "  --sklearn-color-line: gray;\n",
       "  /* Definition of color scheme for unfitted estimators */\n",
       "  --sklearn-color-unfitted-level-0: #fff5e6;\n",
       "  --sklearn-color-unfitted-level-1: #f6e4d2;\n",
       "  --sklearn-color-unfitted-level-2: #ffe0b3;\n",
       "  --sklearn-color-unfitted-level-3: chocolate;\n",
       "  /* Definition of color scheme for fitted estimators */\n",
       "  --sklearn-color-fitted-level-0: #f0f8ff;\n",
       "  --sklearn-color-fitted-level-1: #d4ebff;\n",
       "  --sklearn-color-fitted-level-2: #b3dbfd;\n",
       "  --sklearn-color-fitted-level-3: cornflowerblue;\n",
       "\n",
       "  /* Specific color for light theme */\n",
       "  --sklearn-color-text-on-default-background: var(--sg-text-color, var(--theme-code-foreground, var(--jp-content-font-color1, black)));\n",
       "  --sklearn-color-background: var(--sg-background-color, var(--theme-background, var(--jp-layout-color0, white)));\n",
       "  --sklearn-color-border-box: var(--sg-text-color, var(--theme-code-foreground, var(--jp-content-font-color1, black)));\n",
       "  --sklearn-color-icon: #696969;\n",
       "\n",
       "  @media (prefers-color-scheme: dark) {\n",
       "    /* Redefinition of color scheme for dark theme */\n",
       "    --sklearn-color-text-on-default-background: var(--sg-text-color, var(--theme-code-foreground, var(--jp-content-font-color1, white)));\n",
       "    --sklearn-color-background: var(--sg-background-color, var(--theme-background, var(--jp-layout-color0, #111)));\n",
       "    --sklearn-color-border-box: var(--sg-text-color, var(--theme-code-foreground, var(--jp-content-font-color1, white)));\n",
       "    --sklearn-color-icon: #878787;\n",
       "  }\n",
       "}\n",
       "\n",
       "#sk-container-id-2 {\n",
       "  color: var(--sklearn-color-text);\n",
       "}\n",
       "\n",
       "#sk-container-id-2 pre {\n",
       "  padding: 0;\n",
       "}\n",
       "\n",
       "#sk-container-id-2 input.sk-hidden--visually {\n",
       "  border: 0;\n",
       "  clip: rect(1px 1px 1px 1px);\n",
       "  clip: rect(1px, 1px, 1px, 1px);\n",
       "  height: 1px;\n",
       "  margin: -1px;\n",
       "  overflow: hidden;\n",
       "  padding: 0;\n",
       "  position: absolute;\n",
       "  width: 1px;\n",
       "}\n",
       "\n",
       "#sk-container-id-2 div.sk-dashed-wrapped {\n",
       "  border: 1px dashed var(--sklearn-color-line);\n",
       "  margin: 0 0.4em 0.5em 0.4em;\n",
       "  box-sizing: border-box;\n",
       "  padding-bottom: 0.4em;\n",
       "  background-color: var(--sklearn-color-background);\n",
       "}\n",
       "\n",
       "#sk-container-id-2 div.sk-container {\n",
       "  /* jupyter's `normalize.less` sets `[hidden] { display: none; }`\n",
       "     but bootstrap.min.css set `[hidden] { display: none !important; }`\n",
       "     so we also need the `!important` here to be able to override the\n",
       "     default hidden behavior on the sphinx rendered scikit-learn.org.\n",
       "     See: https://github.com/scikit-learn/scikit-learn/issues/21755 */\n",
       "  display: inline-block !important;\n",
       "  position: relative;\n",
       "}\n",
       "\n",
       "#sk-container-id-2 div.sk-text-repr-fallback {\n",
       "  display: none;\n",
       "}\n",
       "\n",
       "div.sk-parallel-item,\n",
       "div.sk-serial,\n",
       "div.sk-item {\n",
       "  /* draw centered vertical line to link estimators */\n",
       "  background-image: linear-gradient(var(--sklearn-color-text-on-default-background), var(--sklearn-color-text-on-default-background));\n",
       "  background-size: 2px 100%;\n",
       "  background-repeat: no-repeat;\n",
       "  background-position: center center;\n",
       "}\n",
       "\n",
       "/* Parallel-specific style estimator block */\n",
       "\n",
       "#sk-container-id-2 div.sk-parallel-item::after {\n",
       "  content: \"\";\n",
       "  width: 100%;\n",
       "  border-bottom: 2px solid var(--sklearn-color-text-on-default-background);\n",
       "  flex-grow: 1;\n",
       "}\n",
       "\n",
       "#sk-container-id-2 div.sk-parallel {\n",
       "  display: flex;\n",
       "  align-items: stretch;\n",
       "  justify-content: center;\n",
       "  background-color: var(--sklearn-color-background);\n",
       "  position: relative;\n",
       "}\n",
       "\n",
       "#sk-container-id-2 div.sk-parallel-item {\n",
       "  display: flex;\n",
       "  flex-direction: column;\n",
       "}\n",
       "\n",
       "#sk-container-id-2 div.sk-parallel-item:first-child::after {\n",
       "  align-self: flex-end;\n",
       "  width: 50%;\n",
       "}\n",
       "\n",
       "#sk-container-id-2 div.sk-parallel-item:last-child::after {\n",
       "  align-self: flex-start;\n",
       "  width: 50%;\n",
       "}\n",
       "\n",
       "#sk-container-id-2 div.sk-parallel-item:only-child::after {\n",
       "  width: 0;\n",
       "}\n",
       "\n",
       "/* Serial-specific style estimator block */\n",
       "\n",
       "#sk-container-id-2 div.sk-serial {\n",
       "  display: flex;\n",
       "  flex-direction: column;\n",
       "  align-items: center;\n",
       "  background-color: var(--sklearn-color-background);\n",
       "  padding-right: 1em;\n",
       "  padding-left: 1em;\n",
       "}\n",
       "\n",
       "\n",
       "/* Toggleable style: style used for estimator/Pipeline/ColumnTransformer box that is\n",
       "clickable and can be expanded/collapsed.\n",
       "- Pipeline and ColumnTransformer use this feature and define the default style\n",
       "- Estimators will overwrite some part of the style using the `sk-estimator` class\n",
       "*/\n",
       "\n",
       "/* Pipeline and ColumnTransformer style (default) */\n",
       "\n",
       "#sk-container-id-2 div.sk-toggleable {\n",
       "  /* Default theme specific background. It is overwritten whether we have a\n",
       "  specific estimator or a Pipeline/ColumnTransformer */\n",
       "  background-color: var(--sklearn-color-background);\n",
       "}\n",
       "\n",
       "/* Toggleable label */\n",
       "#sk-container-id-2 label.sk-toggleable__label {\n",
       "  cursor: pointer;\n",
       "  display: flex;\n",
       "  width: 100%;\n",
       "  margin-bottom: 0;\n",
       "  padding: 0.5em;\n",
       "  box-sizing: border-box;\n",
       "  text-align: center;\n",
       "  align-items: start;\n",
       "  justify-content: space-between;\n",
       "  gap: 0.5em;\n",
       "}\n",
       "\n",
       "#sk-container-id-2 label.sk-toggleable__label .caption {\n",
       "  font-size: 0.6rem;\n",
       "  font-weight: lighter;\n",
       "  color: var(--sklearn-color-text-muted);\n",
       "}\n",
       "\n",
       "#sk-container-id-2 label.sk-toggleable__label-arrow:before {\n",
       "  /* Arrow on the left of the label */\n",
       "  content: \"▸\";\n",
       "  float: left;\n",
       "  margin-right: 0.25em;\n",
       "  color: var(--sklearn-color-icon);\n",
       "}\n",
       "\n",
       "#sk-container-id-2 label.sk-toggleable__label-arrow:hover:before {\n",
       "  color: var(--sklearn-color-text);\n",
       "}\n",
       "\n",
       "/* Toggleable content - dropdown */\n",
       "\n",
       "#sk-container-id-2 div.sk-toggleable__content {\n",
       "  max-height: 0;\n",
       "  max-width: 0;\n",
       "  overflow: hidden;\n",
       "  text-align: left;\n",
       "  /* unfitted */\n",
       "  background-color: var(--sklearn-color-unfitted-level-0);\n",
       "}\n",
       "\n",
       "#sk-container-id-2 div.sk-toggleable__content.fitted {\n",
       "  /* fitted */\n",
       "  background-color: var(--sklearn-color-fitted-level-0);\n",
       "}\n",
       "\n",
       "#sk-container-id-2 div.sk-toggleable__content pre {\n",
       "  margin: 0.2em;\n",
       "  border-radius: 0.25em;\n",
       "  color: var(--sklearn-color-text);\n",
       "  /* unfitted */\n",
       "  background-color: var(--sklearn-color-unfitted-level-0);\n",
       "}\n",
       "\n",
       "#sk-container-id-2 div.sk-toggleable__content.fitted pre {\n",
       "  /* unfitted */\n",
       "  background-color: var(--sklearn-color-fitted-level-0);\n",
       "}\n",
       "\n",
       "#sk-container-id-2 input.sk-toggleable__control:checked~div.sk-toggleable__content {\n",
       "  /* Expand drop-down */\n",
       "  max-height: 200px;\n",
       "  max-width: 100%;\n",
       "  overflow: auto;\n",
       "}\n",
       "\n",
       "#sk-container-id-2 input.sk-toggleable__control:checked~label.sk-toggleable__label-arrow:before {\n",
       "  content: \"▾\";\n",
       "}\n",
       "\n",
       "/* Pipeline/ColumnTransformer-specific style */\n",
       "\n",
       "#sk-container-id-2 div.sk-label input.sk-toggleable__control:checked~label.sk-toggleable__label {\n",
       "  color: var(--sklearn-color-text);\n",
       "  background-color: var(--sklearn-color-unfitted-level-2);\n",
       "}\n",
       "\n",
       "#sk-container-id-2 div.sk-label.fitted input.sk-toggleable__control:checked~label.sk-toggleable__label {\n",
       "  background-color: var(--sklearn-color-fitted-level-2);\n",
       "}\n",
       "\n",
       "/* Estimator-specific style */\n",
       "\n",
       "/* Colorize estimator box */\n",
       "#sk-container-id-2 div.sk-estimator input.sk-toggleable__control:checked~label.sk-toggleable__label {\n",
       "  /* unfitted */\n",
       "  background-color: var(--sklearn-color-unfitted-level-2);\n",
       "}\n",
       "\n",
       "#sk-container-id-2 div.sk-estimator.fitted input.sk-toggleable__control:checked~label.sk-toggleable__label {\n",
       "  /* fitted */\n",
       "  background-color: var(--sklearn-color-fitted-level-2);\n",
       "}\n",
       "\n",
       "#sk-container-id-2 div.sk-label label.sk-toggleable__label,\n",
       "#sk-container-id-2 div.sk-label label {\n",
       "  /* The background is the default theme color */\n",
       "  color: var(--sklearn-color-text-on-default-background);\n",
       "}\n",
       "\n",
       "/* On hover, darken the color of the background */\n",
       "#sk-container-id-2 div.sk-label:hover label.sk-toggleable__label {\n",
       "  color: var(--sklearn-color-text);\n",
       "  background-color: var(--sklearn-color-unfitted-level-2);\n",
       "}\n",
       "\n",
       "/* Label box, darken color on hover, fitted */\n",
       "#sk-container-id-2 div.sk-label.fitted:hover label.sk-toggleable__label.fitted {\n",
       "  color: var(--sklearn-color-text);\n",
       "  background-color: var(--sklearn-color-fitted-level-2);\n",
       "}\n",
       "\n",
       "/* Estimator label */\n",
       "\n",
       "#sk-container-id-2 div.sk-label label {\n",
       "  font-family: monospace;\n",
       "  font-weight: bold;\n",
       "  display: inline-block;\n",
       "  line-height: 1.2em;\n",
       "}\n",
       "\n",
       "#sk-container-id-2 div.sk-label-container {\n",
       "  text-align: center;\n",
       "}\n",
       "\n",
       "/* Estimator-specific */\n",
       "#sk-container-id-2 div.sk-estimator {\n",
       "  font-family: monospace;\n",
       "  border: 1px dotted var(--sklearn-color-border-box);\n",
       "  border-radius: 0.25em;\n",
       "  box-sizing: border-box;\n",
       "  margin-bottom: 0.5em;\n",
       "  /* unfitted */\n",
       "  background-color: var(--sklearn-color-unfitted-level-0);\n",
       "}\n",
       "\n",
       "#sk-container-id-2 div.sk-estimator.fitted {\n",
       "  /* fitted */\n",
       "  background-color: var(--sklearn-color-fitted-level-0);\n",
       "}\n",
       "\n",
       "/* on hover */\n",
       "#sk-container-id-2 div.sk-estimator:hover {\n",
       "  /* unfitted */\n",
       "  background-color: var(--sklearn-color-unfitted-level-2);\n",
       "}\n",
       "\n",
       "#sk-container-id-2 div.sk-estimator.fitted:hover {\n",
       "  /* fitted */\n",
       "  background-color: var(--sklearn-color-fitted-level-2);\n",
       "}\n",
       "\n",
       "/* Specification for estimator info (e.g. \"i\" and \"?\") */\n",
       "\n",
       "/* Common style for \"i\" and \"?\" */\n",
       "\n",
       ".sk-estimator-doc-link,\n",
       "a:link.sk-estimator-doc-link,\n",
       "a:visited.sk-estimator-doc-link {\n",
       "  float: right;\n",
       "  font-size: smaller;\n",
       "  line-height: 1em;\n",
       "  font-family: monospace;\n",
       "  background-color: var(--sklearn-color-background);\n",
       "  border-radius: 1em;\n",
       "  height: 1em;\n",
       "  width: 1em;\n",
       "  text-decoration: none !important;\n",
       "  margin-left: 0.5em;\n",
       "  text-align: center;\n",
       "  /* unfitted */\n",
       "  border: var(--sklearn-color-unfitted-level-1) 1pt solid;\n",
       "  color: var(--sklearn-color-unfitted-level-1);\n",
       "}\n",
       "\n",
       ".sk-estimator-doc-link.fitted,\n",
       "a:link.sk-estimator-doc-link.fitted,\n",
       "a:visited.sk-estimator-doc-link.fitted {\n",
       "  /* fitted */\n",
       "  border: var(--sklearn-color-fitted-level-1) 1pt solid;\n",
       "  color: var(--sklearn-color-fitted-level-1);\n",
       "}\n",
       "\n",
       "/* On hover */\n",
       "div.sk-estimator:hover .sk-estimator-doc-link:hover,\n",
       ".sk-estimator-doc-link:hover,\n",
       "div.sk-label-container:hover .sk-estimator-doc-link:hover,\n",
       ".sk-estimator-doc-link:hover {\n",
       "  /* unfitted */\n",
       "  background-color: var(--sklearn-color-unfitted-level-3);\n",
       "  color: var(--sklearn-color-background);\n",
       "  text-decoration: none;\n",
       "}\n",
       "\n",
       "div.sk-estimator.fitted:hover .sk-estimator-doc-link.fitted:hover,\n",
       ".sk-estimator-doc-link.fitted:hover,\n",
       "div.sk-label-container:hover .sk-estimator-doc-link.fitted:hover,\n",
       ".sk-estimator-doc-link.fitted:hover {\n",
       "  /* fitted */\n",
       "  background-color: var(--sklearn-color-fitted-level-3);\n",
       "  color: var(--sklearn-color-background);\n",
       "  text-decoration: none;\n",
       "}\n",
       "\n",
       "/* Span, style for the box shown on hovering the info icon */\n",
       ".sk-estimator-doc-link span {\n",
       "  display: none;\n",
       "  z-index: 9999;\n",
       "  position: relative;\n",
       "  font-weight: normal;\n",
       "  right: .2ex;\n",
       "  padding: .5ex;\n",
       "  margin: .5ex;\n",
       "  width: min-content;\n",
       "  min-width: 20ex;\n",
       "  max-width: 50ex;\n",
       "  color: var(--sklearn-color-text);\n",
       "  box-shadow: 2pt 2pt 4pt #999;\n",
       "  /* unfitted */\n",
       "  background: var(--sklearn-color-unfitted-level-0);\n",
       "  border: .5pt solid var(--sklearn-color-unfitted-level-3);\n",
       "}\n",
       "\n",
       ".sk-estimator-doc-link.fitted span {\n",
       "  /* fitted */\n",
       "  background: var(--sklearn-color-fitted-level-0);\n",
       "  border: var(--sklearn-color-fitted-level-3);\n",
       "}\n",
       "\n",
       ".sk-estimator-doc-link:hover span {\n",
       "  display: block;\n",
       "}\n",
       "\n",
       "/* \"?\"-specific style due to the `<a>` HTML tag */\n",
       "\n",
       "#sk-container-id-2 a.estimator_doc_link {\n",
       "  float: right;\n",
       "  font-size: 1rem;\n",
       "  line-height: 1em;\n",
       "  font-family: monospace;\n",
       "  background-color: var(--sklearn-color-background);\n",
       "  border-radius: 1rem;\n",
       "  height: 1rem;\n",
       "  width: 1rem;\n",
       "  text-decoration: none;\n",
       "  /* unfitted */\n",
       "  color: var(--sklearn-color-unfitted-level-1);\n",
       "  border: var(--sklearn-color-unfitted-level-1) 1pt solid;\n",
       "}\n",
       "\n",
       "#sk-container-id-2 a.estimator_doc_link.fitted {\n",
       "  /* fitted */\n",
       "  border: var(--sklearn-color-fitted-level-1) 1pt solid;\n",
       "  color: var(--sklearn-color-fitted-level-1);\n",
       "}\n",
       "\n",
       "/* On hover */\n",
       "#sk-container-id-2 a.estimator_doc_link:hover {\n",
       "  /* unfitted */\n",
       "  background-color: var(--sklearn-color-unfitted-level-3);\n",
       "  color: var(--sklearn-color-background);\n",
       "  text-decoration: none;\n",
       "}\n",
       "\n",
       "#sk-container-id-2 a.estimator_doc_link.fitted:hover {\n",
       "  /* fitted */\n",
       "  background-color: var(--sklearn-color-fitted-level-3);\n",
       "}\n",
       "</style><div id=\"sk-container-id-2\" class=\"sk-top-container\"><div class=\"sk-text-repr-fallback\"><pre>RandomForestClassifier(max_depth=5)</pre><b>In a Jupyter environment, please rerun this cell to show the HTML representation or trust the notebook. <br />On GitHub, the HTML representation is unable to render, please try loading this page with nbviewer.org.</b></div><div class=\"sk-container\" hidden><div class=\"sk-item\"><div class=\"sk-estimator fitted sk-toggleable\"><input class=\"sk-toggleable__control sk-hidden--visually\" id=\"sk-estimator-id-2\" type=\"checkbox\" checked><label for=\"sk-estimator-id-2\" class=\"sk-toggleable__label fitted sk-toggleable__label-arrow\"><div><div>RandomForestClassifier</div></div><div><a class=\"sk-estimator-doc-link fitted\" rel=\"noreferrer\" target=\"_blank\" href=\"https://scikit-learn.org/1.6/modules/generated/sklearn.ensemble.RandomForestClassifier.html\">?<span>Documentation for RandomForestClassifier</span></a><span class=\"sk-estimator-doc-link fitted\">i<span>Fitted</span></span></div></label><div class=\"sk-toggleable__content fitted\"><pre>RandomForestClassifier(max_depth=5)</pre></div> </div></div></div></div>"
      ],
      "text/plain": [
       "RandomForestClassifier(max_depth=5)"
      ]
     },
     "execution_count": 33,
     "metadata": {},
     "output_type": "execute_result"
    }
   ],
   "source": [
    "# Random Forest model\n",
    "from sklearn.ensemble import RandomForestClassifier\n",
    "\n",
    "# instantiate\n",
    "forest = RandomForestClassifier(max_depth=5)\n",
    "\n",
    "# fit\n",
    "forest.fit(X_train, y_train)"
   ]
  },
  {
   "cell_type": "code",
   "execution_count": 34,
   "metadata": {
    "id": "dnTZnkNON68f"
   },
   "outputs": [],
   "source": [
    "#predicting\n",
    "y_test_forest = forest.predict(X_test)\n",
    "y_train_forest = forest.predict(X_train)"
   ]
  },
  {
   "cell_type": "markdown",
   "metadata": {
    "id": "1-07CrheOBOH"
   },
   "source": [
    "**Đánh giá hiệu suất**"
   ]
  },
  {
   "cell_type": "code",
   "execution_count": 35,
   "metadata": {
    "colab": {
     "base_uri": "https://localhost:8080/"
    },
    "id": "U-E22FFLOF0W",
    "outputId": "9513a914-c7f3-4c35-99af-03682658d534"
   },
   "outputs": [
    {
     "name": "stdout",
     "output_type": "stream",
     "text": [
      "Random forest: Accuracy on training Data: 0.812\n",
      "Random forest: Accuracy on test Data: 0.806\n"
     ]
    }
   ],
   "source": [
    "#computing the accuracy\n",
    "acc_train_forest = accuracy_score(y_train,y_train_forest)\n",
    "acc_test_forest = accuracy_score(y_test,y_test_forest)\n",
    "\n",
    "print(\"Random forest: Accuracy on training Data: {:.3f}\".format(acc_train_forest))\n",
    "print(\"Random forest: Accuracy on test Data: {:.3f}\".format(acc_test_forest))"
   ]
  },
  {
   "cell_type": "code",
   "execution_count": 36,
   "metadata": {
    "colab": {
     "base_uri": "https://localhost:8080/",
     "height": 442
    },
    "id": "r2A5R3tXOJQc",
    "outputId": "c754a155-e994-4d7e-e841-093131656486"
   },
   "outputs": [
    {
     "data": {
      "image/png": "[encoded data removed]",
      "text/plain": [
       "<Figure size 900x700 with 1 Axes>"
      ]
     },
     "metadata": {},
     "output_type": "display_data"
    }
   ],
   "source": [
    "#checking the feature improtance in the model\n",
    "plt.figure(figsize=(9,7))\n",
    "n_features = X_train.shape[1]\n",
    "plt.barh(range(n_features), forest.feature_importances_, align='center')\n",
    "plt.yticks(np.arange(n_features), X_train.columns)\n",
    "plt.xlabel(\"Feature importance\")\n",
    "plt.ylabel(\"Feature\")\n",
    "plt.show()"
   ]
  },
  {
   "cell_type": "markdown",
   "metadata": {
    "id": "-X1hZcB3ONIP"
   },
   "source": [
    "**Lưu trữ kết quả**"
   ]
  },
  {
   "cell_type": "code",
   "execution_count": 37,
   "metadata": {
    "id": "ZWNOm0lsOOfj"
   },
   "outputs": [],
   "source": [
    "storeResults('Random Forest', acc_train_forest, acc_test_forest)"
   ]
  },
  {
   "cell_type": "markdown",
   "metadata": {
    "id": "BkmZK_LjOQ9q"
   },
   "source": [
    "## 7.3. Multilayer Perceptrons (MLPs) - Học sâu"
   ]
  },
  {
   "cell_type": "code",
   "execution_count": 38,
   "metadata": {
    "colab": {
     "base_uri": "https://localhost:8080/"
    },
    "id": "Z6SbM0hIOfXR",
    "outputId": "6aecb40f-7673-47e0-b125-ce61344a53f5"
   },
   "outputs": [
    {
     "data": {
      "text/html": [
       "<style>#sk-container-id-3 {\n",
       "  /* Definition of color scheme common for light and dark mode */\n",
       "  --sklearn-color-text: #000;\n",
       "  --sklearn-color-text-muted: #666;\n",
       "  --sklearn-color-line: gray;\n",
       "  /* Definition of color scheme for unfitted estimators */\n",
       "  --sklearn-color-unfitted-level-0: #fff5e6;\n",
       "  --sklearn-color-unfitted-level-1: #f6e4d2;\n",
       "  --sklearn-color-unfitted-level-2: #ffe0b3;\n",
       "  --sklearn-color-unfitted-level-3: chocolate;\n",
       "  /* Definition of color scheme for fitted estimators */\n",
       "  --sklearn-color-fitted-level-0: #f0f8ff;\n",
       "  --sklearn-color-fitted-level-1: #d4ebff;\n",
       "  --sklearn-color-fitted-level-2: #b3dbfd;\n",
       "  --sklearn-color-fitted-level-3: cornflowerblue;\n",
       "\n",
       "  /* Specific color for light theme */\n",
       "  --sklearn-color-text-on-default-background: var(--sg-text-color, var(--theme-code-foreground, var(--jp-content-font-color1, black)));\n",
       "  --sklearn-color-background: var(--sg-background-color, var(--theme-background, var(--jp-layout-color0, white)));\n",
       "  --sklearn-color-border-box: var(--sg-text-color, var(--theme-code-foreground, var(--jp-content-font-color1, black)));\n",
       "  --sklearn-color-icon: #696969;\n",
       "\n",
       "  @media (prefers-color-scheme: dark) {\n",
       "    /* Redefinition of color scheme for dark theme */\n",
       "    --sklearn-color-text-on-default-background: var(--sg-text-color, var(--theme-code-foreground, var(--jp-content-font-color1, white)));\n",
       "    --sklearn-color-background: var(--sg-background-color, var(--theme-background, var(--jp-layout-color0, #111)));\n",
       "    --sklearn-color-border-box: var(--sg-text-color, var(--theme-code-foreground, var(--jp-content-font-color1, white)));\n",
       "    --sklearn-color-icon: #878787;\n",
       "  }\n",
       "}\n",
       "\n",
       "#sk-container-id-3 {\n",
       "  color: var(--sklearn-color-text);\n",
       "}\n",
       "\n",
       "#sk-container-id-3 pre {\n",
       "  padding: 0;\n",
       "}\n",
       "\n",
       "#sk-container-id-3 input.sk-hidden--visually {\n",
       "  border: 0;\n",
       "  clip: rect(1px 1px 1px 1px);\n",
       "  clip: rect(1px, 1px, 1px, 1px);\n",
       "  height: 1px;\n",
       "  margin: -1px;\n",
       "  overflow: hidden;\n",
       "  padding: 0;\n",
       "  position: absolute;\n",
       "  width: 1px;\n",
       "}\n",
       "\n",
       "#sk-container-id-3 div.sk-dashed-wrapped {\n",
       "  border: 1px dashed var(--sklearn-color-line);\n",
       "  margin: 0 0.4em 0.5em 0.4em;\n",
       "  box-sizing: border-box;\n",
       "  padding-bottom: 0.4em;\n",
       "  background-color: var(--sklearn-color-background);\n",
       "}\n",
       "\n",
       "#sk-container-id-3 div.sk-container {\n",
       "  /* jupyter's `normalize.less` sets `[hidden] { display: none; }`\n",
       "     but bootstrap.min.css set `[hidden] { display: none !important; }`\n",
       "     so we also need the `!important` here to be able to override the\n",
       "     default hidden behavior on the sphinx rendered scikit-learn.org.\n",
       "     See: https://github.com/scikit-learn/scikit-learn/issues/21755 */\n",
       "  display: inline-block !important;\n",
       "  position: relative;\n",
       "}\n",
       "\n",
       "#sk-container-id-3 div.sk-text-repr-fallback {\n",
       "  display: none;\n",
       "}\n",
       "\n",
       "div.sk-parallel-item,\n",
       "div.sk-serial,\n",
       "div.sk-item {\n",
       "  /* draw centered vertical line to link estimators */\n",
       "  background-image: linear-gradient(var(--sklearn-color-text-on-default-background), var(--sklearn-color-text-on-default-background));\n",
       "  background-size: 2px 100%;\n",
       "  background-repeat: no-repeat;\n",
       "  background-position: center center;\n",
       "}\n",
       "\n",
       "/* Parallel-specific style estimator block */\n",
       "\n",
       "#sk-container-id-3 div.sk-parallel-item::after {\n",
       "  content: \"\";\n",
       "  width: 100%;\n",
       "  border-bottom: 2px solid var(--sklearn-color-text-on-default-background);\n",
       "  flex-grow: 1;\n",
       "}\n",
       "\n",
       "#sk-container-id-3 div.sk-parallel {\n",
       "  display: flex;\n",
       "  align-items: stretch;\n",
       "  justify-content: center;\n",
       "  background-color: var(--sklearn-color-background);\n",
       "  position: relative;\n",
       "}\n",
       "\n",
       "#sk-container-id-3 div.sk-parallel-item {\n",
       "  display: flex;\n",
       "  flex-direction: column;\n",
       "}\n",
       "\n",
       "#sk-container-id-3 div.sk-parallel-item:first-child::after {\n",
       "  align-self: flex-end;\n",
       "  width: 50%;\n",
       "}\n",
       "\n",
       "#sk-container-id-3 div.sk-parallel-item:last-child::after {\n",
       "  align-self: flex-start;\n",
       "  width: 50%;\n",
       "}\n",
       "\n",
       "#sk-container-id-3 div.sk-parallel-item:only-child::after {\n",
       "  width: 0;\n",
       "}\n",
       "\n",
       "/* Serial-specific style estimator block */\n",
       "\n",
       "#sk-container-id-3 div.sk-serial {\n",
       "  display: flex;\n",
       "  flex-direction: column;\n",
       "  align-items: center;\n",
       "  background-color: var(--sklearn-color-background);\n",
       "  padding-right: 1em;\n",
       "  padding-left: 1em;\n",
       "}\n",
       "\n",
       "\n",
       "/* Toggleable style: style used for estimator/Pipeline/ColumnTransformer box that is\n",
       "clickable and can be expanded/collapsed.\n",
       "- Pipeline and ColumnTransformer use this feature and define the default style\n",
       "- Estimators will overwrite some part of the style using the `sk-estimator` class\n",
       "*/\n",
       "\n",
       "/* Pipeline and ColumnTransformer style (default) */\n",
       "\n",
       "#sk-container-id-3 div.sk-toggleable {\n",
       "  /* Default theme specific background. It is overwritten whether we have a\n",
       "  specific estimator or a Pipeline/ColumnTransformer */\n",
       "  background-color: var(--sklearn-color-background);\n",
       "}\n",
       "\n",
       "/* Toggleable label */\n",
       "#sk-container-id-3 label.sk-toggleable__label {\n",
       "  cursor: pointer;\n",
       "  display: flex;\n",
       "  width: 100%;\n",
       "  margin-bottom: 0;\n",
       "  padding: 0.5em;\n",
       "  box-sizing: border-box;\n",
       "  text-align: center;\n",
       "  align-items: start;\n",
       "  justify-content: space-between;\n",
       "  gap: 0.5em;\n",
       "}\n",
       "\n",
       "#sk-container-id-3 label.sk-toggleable__label .caption {\n",
       "  font-size: 0.6rem;\n",
       "  font-weight: lighter;\n",
       "  color: var(--sklearn-color-text-muted);\n",
       "}\n",
       "\n",
       "#sk-container-id-3 label.sk-toggleable__label-arrow:before {\n",
       "  /* Arrow on the left of the label */\n",
       "  content: \"▸\";\n",
       "  float: left;\n",
       "  margin-right: 0.25em;\n",
       "  color: var(--sklearn-color-icon);\n",
       "}\n",
       "\n",
       "#sk-container-id-3 label.sk-toggleable__label-arrow:hover:before {\n",
       "  color: var(--sklearn-color-text);\n",
       "}\n",
       "\n",
       "/* Toggleable content - dropdown */\n",
       "\n",
       "#sk-container-id-3 div.sk-toggleable__content {\n",
       "  max-height: 0;\n",
       "  max-width: 0;\n",
       "  overflow: hidden;\n",
       "  text-align: left;\n",
       "  /* unfitted */\n",
       "  background-color: var(--sklearn-color-unfitted-level-0);\n",
       "}\n",
       "\n",
       "#sk-container-id-3 div.sk-toggleable__content.fitted {\n",
       "  /* fitted */\n",
       "  background-color: var(--sklearn-color-fitted-level-0);\n",
       "}\n",
       "\n",
       "#sk-container-id-3 div.sk-toggleable__content pre {\n",
       "  margin: 0.2em;\n",
       "  border-radius: 0.25em;\n",
       "  color: var(--sklearn-color-text);\n",
       "  /* unfitted */\n",
       "  background-color: var(--sklearn-color-unfitted-level-0);\n",
       "}\n",
       "\n",
       "#sk-container-id-3 div.sk-toggleable__content.fitted pre {\n",
       "  /* unfitted */\n",
       "  background-color: var(--sklearn-color-fitted-level-0);\n",
       "}\n",
       "\n",
       "#sk-container-id-3 input.sk-toggleable__control:checked~div.sk-toggleable__content {\n",
       "  /* Expand drop-down */\n",
       "  max-height: 200px;\n",
       "  max-width: 100%;\n",
       "  overflow: auto;\n",
       "}\n",
       "\n",
       "#sk-container-id-3 input.sk-toggleable__control:checked~label.sk-toggleable__label-arrow:before {\n",
       "  content: \"▾\";\n",
       "}\n",
       "\n",
       "/* Pipeline/ColumnTransformer-specific style */\n",
       "\n",
       "#sk-container-id-3 div.sk-label input.sk-toggleable__control:checked~label.sk-toggleable__label {\n",
       "  color: var(--sklearn-color-text);\n",
       "  background-color: var(--sklearn-color-unfitted-level-2);\n",
       "}\n",
       "\n",
       "#sk-container-id-3 div.sk-label.fitted input.sk-toggleable__control:checked~label.sk-toggleable__label {\n",
       "  background-color: var(--sklearn-color-fitted-level-2);\n",
       "}\n",
       "\n",
       "/* Estimator-specific style */\n",
       "\n",
       "/* Colorize estimator box */\n",
       "#sk-container-id-3 div.sk-estimator input.sk-toggleable__control:checked~label.sk-toggleable__label {\n",
       "  /* unfitted */\n",
       "  background-color: var(--sklearn-color-unfitted-level-2);\n",
       "}\n",
       "\n",
       "#sk-container-id-3 div.sk-estimator.fitted input.sk-toggleable__control:checked~label.sk-toggleable__label {\n",
       "  /* fitted */\n",
       "  background-color: var(--sklearn-color-fitted-level-2);\n",
       "}\n",
       "\n",
       "#sk-container-id-3 div.sk-label label.sk-toggleable__label,\n",
       "#sk-container-id-3 div.sk-label label {\n",
       "  /* The background is the default theme color */\n",
       "  color: var(--sklearn-color-text-on-default-background);\n",
       "}\n",
       "\n",
       "/* On hover, darken the color of the background */\n",
       "#sk-container-id-3 div.sk-label:hover label.sk-toggleable__label {\n",
       "  color: var(--sklearn-color-text);\n",
       "  background-color: var(--sklearn-color-unfitted-level-2);\n",
       "}\n",
       "\n",
       "/* Label box, darken color on hover, fitted */\n",
       "#sk-container-id-3 div.sk-label.fitted:hover label.sk-toggleable__label.fitted {\n",
       "  color: var(--sklearn-color-text);\n",
       "  background-color: var(--sklearn-color-fitted-level-2);\n",
       "}\n",
       "\n",
       "/* Estimator label */\n",
       "\n",
       "#sk-container-id-3 div.sk-label label {\n",
       "  font-family: monospace;\n",
       "  font-weight: bold;\n",
       "  display: inline-block;\n",
       "  line-height: 1.2em;\n",
       "}\n",
       "\n",
       "#sk-container-id-3 div.sk-label-container {\n",
       "  text-align: center;\n",
       "}\n",
       "\n",
       "/* Estimator-specific */\n",
       "#sk-container-id-3 div.sk-estimator {\n",
       "  font-family: monospace;\n",
       "  border: 1px dotted var(--sklearn-color-border-box);\n",
       "  border-radius: 0.25em;\n",
       "  box-sizing: border-box;\n",
       "  margin-bottom: 0.5em;\n",
       "  /* unfitted */\n",
       "  background-color: var(--sklearn-color-unfitted-level-0);\n",
       "}\n",
       "\n",
       "#sk-container-id-3 div.sk-estimator.fitted {\n",
       "  /* fitted */\n",
       "  background-color: var(--sklearn-color-fitted-level-0);\n",
       "}\n",
       "\n",
       "/* on hover */\n",
       "#sk-container-id-3 div.sk-estimator:hover {\n",
       "  /* unfitted */\n",
       "  background-color: var(--sklearn-color-unfitted-level-2);\n",
       "}\n",
       "\n",
       "#sk-container-id-3 div.sk-estimator.fitted:hover {\n",
       "  /* fitted */\n",
       "  background-color: var(--sklearn-color-fitted-level-2);\n",
       "}\n",
       "\n",
       "/* Specification for estimator info (e.g. \"i\" and \"?\") */\n",
       "\n",
       "/* Common style for \"i\" and \"?\" */\n",
       "\n",
       ".sk-estimator-doc-link,\n",
       "a:link.sk-estimator-doc-link,\n",
       "a:visited.sk-estimator-doc-link {\n",
       "  float: right;\n",
       "  font-size: smaller;\n",
       "  line-height: 1em;\n",
       "  font-family: monospace;\n",
       "  background-color: var(--sklearn-color-background);\n",
       "  border-radius: 1em;\n",
       "  height: 1em;\n",
       "  width: 1em;\n",
       "  text-decoration: none !important;\n",
       "  margin-left: 0.5em;\n",
       "  text-align: center;\n",
       "  /* unfitted */\n",
       "  border: var(--sklearn-color-unfitted-level-1) 1pt solid;\n",
       "  color: var(--sklearn-color-unfitted-level-1);\n",
       "}\n",
       "\n",
       ".sk-estimator-doc-link.fitted,\n",
       "a:link.sk-estimator-doc-link.fitted,\n",
       "a:visited.sk-estimator-doc-link.fitted {\n",
       "  /* fitted */\n",
       "  border: var(--sklearn-color-fitted-level-1) 1pt solid;\n",
       "  color: var(--sklearn-color-fitted-level-1);\n",
       "}\n",
       "\n",
       "/* On hover */\n",
       "div.sk-estimator:hover .sk-estimator-doc-link:hover,\n",
       ".sk-estimator-doc-link:hover,\n",
       "div.sk-label-container:hover .sk-estimator-doc-link:hover,\n",
       ".sk-estimator-doc-link:hover {\n",
       "  /* unfitted */\n",
       "  background-color: var(--sklearn-color-unfitted-level-3);\n",
       "  color: var(--sklearn-color-background);\n",
       "  text-decoration: none;\n",
       "}\n",
       "\n",
       "div.sk-estimator.fitted:hover .sk-estimator-doc-link.fitted:hover,\n",
       ".sk-estimator-doc-link.fitted:hover,\n",
       "div.sk-label-container:hover .sk-estimator-doc-link.fitted:hover,\n",
       ".sk-estimator-doc-link.fitted:hover {\n",
       "  /* fitted */\n",
       "  background-color: var(--sklearn-color-fitted-level-3);\n",
       "  color: var(--sklearn-color-background);\n",
       "  text-decoration: none;\n",
       "}\n",
       "\n",
       "/* Span, style for the box shown on hovering the info icon */\n",
       ".sk-estimator-doc-link span {\n",
       "  display: none;\n",
       "  z-index: 9999;\n",
       "  position: relative;\n",
       "  font-weight: normal;\n",
       "  right: .2ex;\n",
       "  padding: .5ex;\n",
       "  margin: .5ex;\n",
       "  width: min-content;\n",
       "  min-width: 20ex;\n",
       "  max-width: 50ex;\n",
       "  color: var(--sklearn-color-text);\n",
       "  box-shadow: 2pt 2pt 4pt #999;\n",
       "  /* unfitted */\n",
       "  background: var(--sklearn-color-unfitted-level-0);\n",
       "  border: .5pt solid var(--sklearn-color-unfitted-level-3);\n",
       "}\n",
       "\n",
       ".sk-estimator-doc-link.fitted span {\n",
       "  /* fitted */\n",
       "  background: var(--sklearn-color-fitted-level-0);\n",
       "  border: var(--sklearn-color-fitted-level-3);\n",
       "}\n",
       "\n",
       ".sk-estimator-doc-link:hover span {\n",
       "  display: block;\n",
       "}\n",
       "\n",
       "/* \"?\"-specific style due to the `<a>` HTML tag */\n",
       "\n",
       "#sk-container-id-3 a.estimator_doc_link {\n",
       "  float: right;\n",
       "  font-size: 1rem;\n",
       "  line-height: 1em;\n",
       "  font-family: monospace;\n",
       "  background-color: var(--sklearn-color-background);\n",
       "  border-radius: 1rem;\n",
       "  height: 1rem;\n",
       "  width: 1rem;\n",
       "  text-decoration: none;\n",
       "  /* unfitted */\n",
       "  color: var(--sklearn-color-unfitted-level-1);\n",
       "  border: var(--sklearn-color-unfitted-level-1) 1pt solid;\n",
       "}\n",
       "\n",
       "#sk-container-id-3 a.estimator_doc_link.fitted {\n",
       "  /* fitted */\n",
       "  border: var(--sklearn-color-fitted-level-1) 1pt solid;\n",
       "  color: var(--sklearn-color-fitted-level-1);\n",
       "}\n",
       "\n",
       "/* On hover */\n",
       "#sk-container-id-3 a.estimator_doc_link:hover {\n",
       "  /* unfitted */\n",
       "  background-color: var(--sklearn-color-unfitted-level-3);\n",
       "  color: var(--sklearn-color-background);\n",
       "  text-decoration: none;\n",
       "}\n",
       "\n",
       "#sk-container-id-3 a.estimator_doc_link.fitted:hover {\n",
       "  /* fitted */\n",
       "  background-color: var(--sklearn-color-fitted-level-3);\n",
       "}\n",
       "</style><div id=\"sk-container-id-3\" class=\"sk-top-container\"><div class=\"sk-text-repr-fallback\"><pre>MLPClassifier(alpha=0.001, hidden_layer_sizes=[100, 100, 100])</pre><b>In a Jupyter environment, please rerun this cell to show the HTML representation or trust the notebook. <br />On GitHub, the HTML representation is unable to render, please try loading this page with nbviewer.org.</b></div><div class=\"sk-container\" hidden><div class=\"sk-item\"><div class=\"sk-estimator fitted sk-toggleable\"><input class=\"sk-toggleable__control sk-hidden--visually\" id=\"sk-estimator-id-3\" type=\"checkbox\" checked><label for=\"sk-estimator-id-3\" class=\"sk-toggleable__label fitted sk-toggleable__label-arrow\"><div><div>MLPClassifier</div></div><div><a class=\"sk-estimator-doc-link fitted\" rel=\"noreferrer\" target=\"_blank\" href=\"https://scikit-learn.org/1.6/modules/generated/sklearn.neural_network.MLPClassifier.html\">?<span>Documentation for MLPClassifier</span></a><span class=\"sk-estimator-doc-link fitted\">i<span>Fitted</span></span></div></label><div class=\"sk-toggleable__content fitted\"><pre>MLPClassifier(alpha=0.001, hidden_layer_sizes=[100, 100, 100])</pre></div> </div></div></div></div>"
      ],
      "text/plain": [
       "MLPClassifier(alpha=0.001, hidden_layer_sizes=[100, 100, 100])"
      ]
     },
     "execution_count": 38,
     "metadata": {},
     "output_type": "execute_result"
    }
   ],
   "source": [
    "# Multilayer Perceptrons model\n",
    "from sklearn.neural_network import MLPClassifier\n",
    "\n",
    "# instantiate\n",
    "mlp = MLPClassifier(alpha=0.001, hidden_layer_sizes=([100,100,100]))\n",
    "\n",
    "# fit\n",
    "mlp.fit(X_train, y_train)"
   ]
  },
  {
   "cell_type": "code",
   "execution_count": 39,
   "metadata": {
    "id": "V5PHTtQsOhbk"
   },
   "outputs": [],
   "source": [
    "#predicting\n",
    "y_test_mlp = mlp.predict(X_test)\n",
    "y_train_mlp = mlp.predict(X_train)"
   ]
  },
  {
   "cell_type": "markdown",
   "metadata": {
    "id": "zAbA_enlOpXF"
   },
   "source": [
    "**Đánh giá hiệu suất**"
   ]
  },
  {
   "cell_type": "code",
   "execution_count": 40,
   "metadata": {
    "colab": {
     "base_uri": "https://localhost:8080/"
    },
    "id": "BCpvGhO1OmTq",
    "outputId": "94c7f55b-ff8c-4810-b608-0b2253034118"
   },
   "outputs": [
    {
     "name": "stdout",
     "output_type": "stream",
     "text": [
      "Multilayer Perceptrons: Accuracy on training Data: 0.858\n",
      "Multilayer Perceptrons: Accuracy on test Data: 0.852\n"
     ]
    }
   ],
   "source": [
    "#computing the accuracy\n",
    "acc_train_mlp = accuracy_score(y_train,y_train_mlp)\n",
    "acc_test_mlp = accuracy_score(y_test,y_test_mlp)\n",
    "\n",
    "print(\"Multilayer Perceptrons: Accuracy on training Data: {:.3f}\".format(acc_train_mlp))\n",
    "print(\"Multilayer Perceptrons: Accuracy on test Data: {:.3f}\".format(acc_test_mlp))"
   ]
  },
  {
   "cell_type": "markdown",
   "metadata": {
    "id": "w9Em2zu7Ovp-"
   },
   "source": [
    "**Lưu trữ kết quả**"
   ]
  },
  {
   "cell_type": "code",
   "execution_count": 41,
   "metadata": {
    "id": "yY4WbLNMOyiA"
   },
   "outputs": [],
   "source": [
    "storeResults('Multilayer Perceptrons', acc_train_mlp, acc_test_mlp)"
   ]
  },
  {
   "cell_type": "markdown",
   "metadata": {
    "id": "mQcWx-AjO1R3"
   },
   "source": [
    "## **7.4. XGBoost Classifier**"
   ]
  },
  {
   "cell_type": "code",
   "execution_count": 42,
   "metadata": {
    "colab": {
     "base_uri": "https://localhost:8080/"
    },
    "id": "lc18IiIRO5Ql",
    "outputId": "0c9919f7-49b9-45f9-e370-a4c11619af96"
   },
   "outputs": [
    {
     "data": {
      "text/html": [
       "<style>#sk-container-id-4 {\n",
       "  /* Definition of color scheme common for light and dark mode */\n",
       "  --sklearn-color-text: #000;\n",
       "  --sklearn-color-text-muted: #666;\n",
       "  --sklearn-color-line: gray;\n",
       "  /* Definition of color scheme for unfitted estimators */\n",
       "  --sklearn-color-unfitted-level-0: #fff5e6;\n",
       "  --sklearn-color-unfitted-level-1: #f6e4d2;\n",
       "  --sklearn-color-unfitted-level-2: #ffe0b3;\n",
       "  --sklearn-color-unfitted-level-3: chocolate;\n",
       "  /* Definition of color scheme for fitted estimators */\n",
       "  --sklearn-color-fitted-level-0: #f0f8ff;\n",
       "  --sklearn-color-fitted-level-1: #d4ebff;\n",
       "  --sklearn-color-fitted-level-2: #b3dbfd;\n",
       "  --sklearn-color-fitted-level-3: cornflowerblue;\n",
       "\n",
       "  /* Specific color for light theme */\n",
       "  --sklearn-color-text-on-default-background: var(--sg-text-color, var(--theme-code-foreground, var(--jp-content-font-color1, black)));\n",
       "  --sklearn-color-background: var(--sg-background-color, var(--theme-background, var(--jp-layout-color0, white)));\n",
       "  --sklearn-color-border-box: var(--sg-text-color, var(--theme-code-foreground, var(--jp-content-font-color1, black)));\n",
       "  --sklearn-color-icon: #696969;\n",
       "\n",
       "  @media (prefers-color-scheme: dark) {\n",
       "    /* Redefinition of color scheme for dark theme */\n",
       "    --sklearn-color-text-on-default-background: var(--sg-text-color, var(--theme-code-foreground, var(--jp-content-font-color1, white)));\n",
       "    --sklearn-color-background: var(--sg-background-color, var(--theme-background, var(--jp-layout-color0, #111)));\n",
       "    --sklearn-color-border-box: var(--sg-text-color, var(--theme-code-foreground, var(--jp-content-font-color1, white)));\n",
       "    --sklearn-color-icon: #878787;\n",
       "  }\n",
       "}\n",
       "\n",
       "#sk-container-id-4 {\n",
       "  color: var(--sklearn-color-text);\n",
       "}\n",
       "\n",
       "#sk-container-id-4 pre {\n",
       "  padding: 0;\n",
       "}\n",
       "\n",
       "#sk-container-id-4 input.sk-hidden--visually {\n",
       "  border: 0;\n",
       "  clip: rect(1px 1px 1px 1px);\n",
       "  clip: rect(1px, 1px, 1px, 1px);\n",
       "  height: 1px;\n",
       "  margin: -1px;\n",
       "  overflow: hidden;\n",
       "  padding: 0;\n",
       "  position: absolute;\n",
       "  width: 1px;\n",
       "}\n",
       "\n",
       "#sk-container-id-4 div.sk-dashed-wrapped {\n",
       "  border: 1px dashed var(--sklearn-color-line);\n",
       "  margin: 0 0.4em 0.5em 0.4em;\n",
       "  box-sizing: border-box;\n",
       "  padding-bottom: 0.4em;\n",
       "  background-color: var(--sklearn-color-background);\n",
       "}\n",
       "\n",
       "#sk-container-id-4 div.sk-container {\n",
       "  /* jupyter's `normalize.less` sets `[hidden] { display: none; }`\n",
       "     but bootstrap.min.css set `[hidden] { display: none !important; }`\n",
       "     so we also need the `!important` here to be able to override the\n",
       "     default hidden behavior on the sphinx rendered scikit-learn.org.\n",
       "     See: https://github.com/scikit-learn/scikit-learn/issues/21755 */\n",
       "  display: inline-block !important;\n",
       "  position: relative;\n",
       "}\n",
       "\n",
       "#sk-container-id-4 div.sk-text-repr-fallback {\n",
       "  display: none;\n",
       "}\n",
       "\n",
       "div.sk-parallel-item,\n",
       "div.sk-serial,\n",
       "div.sk-item {\n",
       "  /* draw centered vertical line to link estimators */\n",
       "  background-image: linear-gradient(var(--sklearn-color-text-on-default-background), var(--sklearn-color-text-on-default-background));\n",
       "  background-size: 2px 100%;\n",
       "  background-repeat: no-repeat;\n",
       "  background-position: center center;\n",
       "}\n",
       "\n",
       "/* Parallel-specific style estimator block */\n",
       "\n",
       "#sk-container-id-4 div.sk-parallel-item::after {\n",
       "  content: \"\";\n",
       "  width: 100%;\n",
       "  border-bottom: 2px solid var(--sklearn-color-text-on-default-background);\n",
       "  flex-grow: 1;\n",
       "}\n",
       "\n",
       "#sk-container-id-4 div.sk-parallel {\n",
       "  display: flex;\n",
       "  align-items: stretch;\n",
       "  justify-content: center;\n",
       "  background-color: var(--sklearn-color-background);\n",
       "  position: relative;\n",
       "}\n",
       "\n",
       "#sk-container-id-4 div.sk-parallel-item {\n",
       "  display: flex;\n",
       "  flex-direction: column;\n",
       "}\n",
       "\n",
       "#sk-container-id-4 div.sk-parallel-item:first-child::after {\n",
       "  align-self: flex-end;\n",
       "  width: 50%;\n",
       "}\n",
       "\n",
       "#sk-container-id-4 div.sk-parallel-item:last-child::after {\n",
       "  align-self: flex-start;\n",
       "  width: 50%;\n",
       "}\n",
       "\n",
       "#sk-container-id-4 div.sk-parallel-item:only-child::after {\n",
       "  width: 0;\n",
       "}\n",
       "\n",
       "/* Serial-specific style estimator block */\n",
       "\n",
       "#sk-container-id-4 div.sk-serial {\n",
       "  display: flex;\n",
       "  flex-direction: column;\n",
       "  align-items: center;\n",
       "  background-color: var(--sklearn-color-background);\n",
       "  padding-right: 1em;\n",
       "  padding-left: 1em;\n",
       "}\n",
       "\n",
       "\n",
       "/* Toggleable style: style used for estimator/Pipeline/ColumnTransformer box that is\n",
       "clickable and can be expanded/collapsed.\n",
       "- Pipeline and ColumnTransformer use this feature and define the default style\n",
       "- Estimators will overwrite some part of the style using the `sk-estimator` class\n",
       "*/\n",
       "\n",
       "/* Pipeline and ColumnTransformer style (default) */\n",
       "\n",
       "#sk-container-id-4 div.sk-toggleable {\n",
       "  /* Default theme specific background. It is overwritten whether we have a\n",
       "  specific estimator or a Pipeline/ColumnTransformer */\n",
       "  background-color: var(--sklearn-color-background);\n",
       "}\n",
       "\n",
       "/* Toggleable label */\n",
       "#sk-container-id-4 label.sk-toggleable__label {\n",
       "  cursor: pointer;\n",
       "  display: flex;\n",
       "  width: 100%;\n",
       "  margin-bottom: 0;\n",
       "  padding: 0.5em;\n",
       "  box-sizing: border-box;\n",
       "  text-align: center;\n",
       "  align-items: start;\n",
       "  justify-content: space-between;\n",
       "  gap: 0.5em;\n",
       "}\n",
       "\n",
       "#sk-container-id-4 label.sk-toggleable__label .caption {\n",
       "  font-size: 0.6rem;\n",
       "  font-weight: lighter;\n",
       "  color: var(--sklearn-color-text-muted);\n",
       "}\n",
       "\n",
       "#sk-container-id-4 label.sk-toggleable__label-arrow:before {\n",
       "  /* Arrow on the left of the label */\n",
       "  content: \"▸\";\n",
       "  float: left;\n",
       "  margin-right: 0.25em;\n",
       "  color: var(--sklearn-color-icon);\n",
       "}\n",
       "\n",
       "#sk-container-id-4 label.sk-toggleable__label-arrow:hover:before {\n",
       "  color: var(--sklearn-color-text);\n",
       "}\n",
       "\n",
       "/* Toggleable content - dropdown */\n",
       "\n",
       "#sk-container-id-4 div.sk-toggleable__content {\n",
       "  max-height: 0;\n",
       "  max-width: 0;\n",
       "  overflow: hidden;\n",
       "  text-align: left;\n",
       "  /* unfitted */\n",
       "  background-color: var(--sklearn-color-unfitted-level-0);\n",
       "}\n",
       "\n",
       "#sk-container-id-4 div.sk-toggleable__content.fitted {\n",
       "  /* fitted */\n",
       "  background-color: var(--sklearn-color-fitted-level-0);\n",
       "}\n",
       "\n",
       "#sk-container-id-4 div.sk-toggleable__content pre {\n",
       "  margin: 0.2em;\n",
       "  border-radius: 0.25em;\n",
       "  color: var(--sklearn-color-text);\n",
       "  /* unfitted */\n",
       "  background-color: var(--sklearn-color-unfitted-level-0);\n",
       "}\n",
       "\n",
       "#sk-container-id-4 div.sk-toggleable__content.fitted pre {\n",
       "  /* unfitted */\n",
       "  background-color: var(--sklearn-color-fitted-level-0);\n",
       "}\n",
       "\n",
       "#sk-container-id-4 input.sk-toggleable__control:checked~div.sk-toggleable__content {\n",
       "  /* Expand drop-down */\n",
       "  max-height: 200px;\n",
       "  max-width: 100%;\n",
       "  overflow: auto;\n",
       "}\n",
       "\n",
       "#sk-container-id-4 input.sk-toggleable__control:checked~label.sk-toggleable__label-arrow:before {\n",
       "  content: \"▾\";\n",
       "}\n",
       "\n",
       "/* Pipeline/ColumnTransformer-specific style */\n",
       "\n",
       "#sk-container-id-4 div.sk-label input.sk-toggleable__control:checked~label.sk-toggleable__label {\n",
       "  color: var(--sklearn-color-text);\n",
       "  background-color: var(--sklearn-color-unfitted-level-2);\n",
       "}\n",
       "\n",
       "#sk-container-id-4 div.sk-label.fitted input.sk-toggleable__control:checked~label.sk-toggleable__label {\n",
       "  background-color: var(--sklearn-color-fitted-level-2);\n",
       "}\n",
       "\n",
       "/* Estimator-specific style */\n",
       "\n",
       "/* Colorize estimator box */\n",
       "#sk-container-id-4 div.sk-estimator input.sk-toggleable__control:checked~label.sk-toggleable__label {\n",
       "  /* unfitted */\n",
       "  background-color: var(--sklearn-color-unfitted-level-2);\n",
       "}\n",
       "\n",
       "#sk-container-id-4 div.sk-estimator.fitted input.sk-toggleable__control:checked~label.sk-toggleable__label {\n",
       "  /* fitted */\n",
       "  background-color: var(--sklearn-color-fitted-level-2);\n",
       "}\n",
       "\n",
       "#sk-container-id-4 div.sk-label label.sk-toggleable__label,\n",
       "#sk-container-id-4 div.sk-label label {\n",
       "  /* The background is the default theme color */\n",
       "  color: var(--sklearn-color-text-on-default-background);\n",
       "}\n",
       "\n",
       "/* On hover, darken the color of the background */\n",
       "#sk-container-id-4 div.sk-label:hover label.sk-toggleable__label {\n",
       "  color: var(--sklearn-color-text);\n",
       "  background-color: var(--sklearn-color-unfitted-level-2);\n",
       "}\n",
       "\n",
       "/* Label box, darken color on hover, fitted */\n",
       "#sk-container-id-4 div.sk-label.fitted:hover label.sk-toggleable__label.fitted {\n",
       "  color: var(--sklearn-color-text);\n",
       "  background-color: var(--sklearn-color-fitted-level-2);\n",
       "}\n",
       "\n",
       "/* Estimator label */\n",
       "\n",
       "#sk-container-id-4 div.sk-label label {\n",
       "  font-family: monospace;\n",
       "  font-weight: bold;\n",
       "  display: inline-block;\n",
       "  line-height: 1.2em;\n",
       "}\n",
       "\n",
       "#sk-container-id-4 div.sk-label-container {\n",
       "  text-align: center;\n",
       "}\n",
       "\n",
       "/* Estimator-specific */\n",
       "#sk-container-id-4 div.sk-estimator {\n",
       "  font-family: monospace;\n",
       "  border: 1px dotted var(--sklearn-color-border-box);\n",
       "  border-radius: 0.25em;\n",
       "  box-sizing: border-box;\n",
       "  margin-bottom: 0.5em;\n",
       "  /* unfitted */\n",
       "  background-color: var(--sklearn-color-unfitted-level-0);\n",
       "}\n",
       "\n",
       "#sk-container-id-4 div.sk-estimator.fitted {\n",
       "  /* fitted */\n",
       "  background-color: var(--sklearn-color-fitted-level-0);\n",
       "}\n",
       "\n",
       "/* on hover */\n",
       "#sk-container-id-4 div.sk-estimator:hover {\n",
       "  /* unfitted */\n",
       "  background-color: var(--sklearn-color-unfitted-level-2);\n",
       "}\n",
       "\n",
       "#sk-container-id-4 div.sk-estimator.fitted:hover {\n",
       "  /* fitted */\n",
       "  background-color: var(--sklearn-color-fitted-level-2);\n",
       "}\n",
       "\n",
       "/* Specification for estimator info (e.g. \"i\" and \"?\") */\n",
       "\n",
       "/* Common style for \"i\" and \"?\" */\n",
       "\n",
       ".sk-estimator-doc-link,\n",
       "a:link.sk-estimator-doc-link,\n",
       "a:visited.sk-estimator-doc-link {\n",
       "  float: right;\n",
       "  font-size: smaller;\n",
       "  line-height: 1em;\n",
       "  font-family: monospace;\n",
       "  background-color: var(--sklearn-color-background);\n",
       "  border-radius: 1em;\n",
       "  height: 1em;\n",
       "  width: 1em;\n",
       "  text-decoration: none !important;\n",
       "  margin-left: 0.5em;\n",
       "  text-align: center;\n",
       "  /* unfitted */\n",
       "  border: var(--sklearn-color-unfitted-level-1) 1pt solid;\n",
       "  color: var(--sklearn-color-unfitted-level-1);\n",
       "}\n",
       "\n",
       ".sk-estimator-doc-link.fitted,\n",
       "a:link.sk-estimator-doc-link.fitted,\n",
       "a:visited.sk-estimator-doc-link.fitted {\n",
       "  /* fitted */\n",
       "  border: var(--sklearn-color-fitted-level-1) 1pt solid;\n",
       "  color: var(--sklearn-color-fitted-level-1);\n",
       "}\n",
       "\n",
       "/* On hover */\n",
       "div.sk-estimator:hover .sk-estimator-doc-link:hover,\n",
       ".sk-estimator-doc-link:hover,\n",
       "div.sk-label-container:hover .sk-estimator-doc-link:hover,\n",
       ".sk-estimator-doc-link:hover {\n",
       "  /* unfitted */\n",
       "  background-color: var(--sklearn-color-unfitted-level-3);\n",
       "  color: var(--sklearn-color-background);\n",
       "  text-decoration: none;\n",
       "}\n",
       "\n",
       "div.sk-estimator.fitted:hover .sk-estimator-doc-link.fitted:hover,\n",
       ".sk-estimator-doc-link.fitted:hover,\n",
       "div.sk-label-container:hover .sk-estimator-doc-link.fitted:hover,\n",
       ".sk-estimator-doc-link.fitted:hover {\n",
       "  /* fitted */\n",
       "  background-color: var(--sklearn-color-fitted-level-3);\n",
       "  color: var(--sklearn-color-background);\n",
       "  text-decoration: none;\n",
       "}\n",
       "\n",
       "/* Span, style for the box shown on hovering the info icon */\n",
       ".sk-estimator-doc-link span {\n",
       "  display: none;\n",
       "  z-index: 9999;\n",
       "  position: relative;\n",
       "  font-weight: normal;\n",
       "  right: .2ex;\n",
       "  padding: .5ex;\n",
       "  margin: .5ex;\n",
       "  width: min-content;\n",
       "  min-width: 20ex;\n",
       "  max-width: 50ex;\n",
       "  color: var(--sklearn-color-text);\n",
       "  box-shadow: 2pt 2pt 4pt #999;\n",
       "  /* unfitted */\n",
       "  background: var(--sklearn-color-unfitted-level-0);\n",
       "  border: .5pt solid var(--sklearn-color-unfitted-level-3);\n",
       "}\n",
       "\n",
       ".sk-estimator-doc-link.fitted span {\n",
       "  /* fitted */\n",
       "  background: var(--sklearn-color-fitted-level-0);\n",
       "  border: var(--sklearn-color-fitted-level-3);\n",
       "}\n",
       "\n",
       ".sk-estimator-doc-link:hover span {\n",
       "  display: block;\n",
       "}\n",
       "\n",
       "/* \"?\"-specific style due to the `<a>` HTML tag */\n",
       "\n",
       "#sk-container-id-4 a.estimator_doc_link {\n",
       "  float: right;\n",
       "  font-size: 1rem;\n",
       "  line-height: 1em;\n",
       "  font-family: monospace;\n",
       "  background-color: var(--sklearn-color-background);\n",
       "  border-radius: 1rem;\n",
       "  height: 1rem;\n",
       "  width: 1rem;\n",
       "  text-decoration: none;\n",
       "  /* unfitted */\n",
       "  color: var(--sklearn-color-unfitted-level-1);\n",
       "  border: var(--sklearn-color-unfitted-level-1) 1pt solid;\n",
       "}\n",
       "\n",
       "#sk-container-id-4 a.estimator_doc_link.fitted {\n",
       "  /* fitted */\n",
       "  border: var(--sklearn-color-fitted-level-1) 1pt solid;\n",
       "  color: var(--sklearn-color-fitted-level-1);\n",
       "}\n",
       "\n",
       "/* On hover */\n",
       "#sk-container-id-4 a.estimator_doc_link:hover {\n",
       "  /* unfitted */\n",
       "  background-color: var(--sklearn-color-unfitted-level-3);\n",
       "  color: var(--sklearn-color-background);\n",
       "  text-decoration: none;\n",
       "}\n",
       "\n",
       "#sk-container-id-4 a.estimator_doc_link.fitted:hover {\n",
       "  /* fitted */\n",
       "  background-color: var(--sklearn-color-fitted-level-3);\n",
       "}\n",
       "</style><div id=\"sk-container-id-4\" class=\"sk-top-container\"><div class=\"sk-text-repr-fallback\"><pre>XGBClassifier(base_score=None, booster=None, callbacks=None,\n",
       "              colsample_bylevel=None, colsample_bynode=None,\n",
       "              colsample_bytree=None, device=None, early_stopping_rounds=None,\n",
       "              enable_categorical=False, eval_metric=None, feature_types=None,\n",
       "              feature_weights=None, gamma=None, grow_policy=None,\n",
       "              importance_type=None, interaction_constraints=None,\n",
       "              learning_rate=0.4, max_bin=None, max_cat_threshold=None,\n",
       "              max_cat_to_onehot=None, max_delta_step=None, max_depth=7,\n",
       "              max_leaves=None, min_child_weight=None, missing=nan,\n",
       "              monotone_constraints=None, multi_strategy=None, n_estimators=None,\n",
       "              n_jobs=None, num_parallel_tree=None, ...)</pre><b>In a Jupyter environment, please rerun this cell to show the HTML representation or trust the notebook. <br />On GitHub, the HTML representation is unable to render, please try loading this page with nbviewer.org.</b></div><div class=\"sk-container\" hidden><div class=\"sk-item\"><div class=\"sk-estimator fitted sk-toggleable\"><input class=\"sk-toggleable__control sk-hidden--visually\" id=\"sk-estimator-id-4\" type=\"checkbox\" checked><label for=\"sk-estimator-id-4\" class=\"sk-toggleable__label fitted sk-toggleable__label-arrow\"><div><div>XGBClassifier</div></div><div><a class=\"sk-estimator-doc-link fitted\" rel=\"noreferrer\" target=\"_blank\" href=\"https://xgboost.readthedocs.io/en/release_3.0.0/python/python_api.html#xgboost.XGBClassifier\">?<span>Documentation for XGBClassifier</span></a><span class=\"sk-estimator-doc-link fitted\">i<span>Fitted</span></span></div></label><div class=\"sk-toggleable__content fitted\"><pre>XGBClassifier(base_score=None, booster=None, callbacks=None,\n",
       "              colsample_bylevel=None, colsample_bynode=None,\n",
       "              colsample_bytree=None, device=None, early_stopping_rounds=None,\n",
       "              enable_categorical=False, eval_metric=None, feature_types=None,\n",
       "              feature_weights=None, gamma=None, grow_policy=None,\n",
       "              importance_type=None, interaction_constraints=None,\n",
       "              learning_rate=0.4, max_bin=None, max_cat_threshold=None,\n",
       "              max_cat_to_onehot=None, max_delta_step=None, max_depth=7,\n",
       "              max_leaves=None, min_child_weight=None, missing=nan,\n",
       "              monotone_constraints=None, multi_strategy=None, n_estimators=None,\n",
       "              n_jobs=None, num_parallel_tree=None, ...)</pre></div> </div></div></div></div>"
      ],
      "text/plain": [
       "XGBClassifier(base_score=None, booster=None, callbacks=None,\n",
       "              colsample_bylevel=None, colsample_bynode=None,\n",
       "              colsample_bytree=None, device=None, early_stopping_rounds=None,\n",
       "              enable_categorical=False, eval_metric=None, feature_types=None,\n",
       "              feature_weights=None, gamma=None, grow_policy=None,\n",
       "              importance_type=None, interaction_constraints=None,\n",
       "              learning_rate=0.4, max_bin=None, max_cat_threshold=None,\n",
       "              max_cat_to_onehot=None, max_delta_step=None, max_depth=7,\n",
       "              max_leaves=None, min_child_weight=None, missing=nan,\n",
       "              monotone_constraints=None, multi_strategy=None, n_estimators=None,\n",
       "              n_jobs=None, num_parallel_tree=None, ...)"
      ]
     },
     "execution_count": 42,
     "metadata": {},
     "output_type": "execute_result"
    }
   ],
   "source": [
    "#XGBoost Classification model\n",
    "from xgboost import XGBClassifier\n",
    "\n",
    "# instantiate\n",
    "xgb = XGBClassifier(learning_rate=0.4,max_depth=7)\n",
    "#fit\n",
    "xgb.fit(X_train, y_train)"
   ]
  },
  {
   "cell_type": "code",
   "execution_count": 43,
   "metadata": {
    "id": "zsYyQSVeO_MS"
   },
   "outputs": [],
   "source": [
    "#predicting\n",
    "y_test_xgb = xgb.predict(X_test)\n",
    "y_train_xgb = xgb.predict(X_train)"
   ]
  },
  {
   "cell_type": "markdown",
   "metadata": {
    "id": "m9evkwbLPC9Y"
   },
   "source": [
    "**Đánh giá hiệu suất**"
   ]
  },
  {
   "cell_type": "code",
   "execution_count": 44,
   "metadata": {
    "colab": {
     "base_uri": "https://localhost:8080/"
    },
    "id": "U894_KF1PGPo",
    "outputId": "fe112adb-294b-405d-86bc-a2a789e53d25"
   },
   "outputs": [
    {
     "name": "stdout",
     "output_type": "stream",
     "text": [
      "XGBoost: Accuracy on training Data: 0.866\n",
      "XGBoost : Accuracy on test Data: 0.866\n"
     ]
    }
   ],
   "source": [
    "#computing the accuracy\n",
    "acc_train_xgb = accuracy_score(y_train,y_train_xgb)\n",
    "acc_test_xgb = accuracy_score(y_test,y_test_xgb)\n",
    "\n",
    "print(\"XGBoost: Accuracy on training Data: {:.3f}\".format(acc_train_xgb))\n",
    "print(\"XGBoost : Accuracy on test Data: {:.3f}\".format(acc_test_xgb))"
   ]
  },
  {
   "cell_type": "markdown",
   "metadata": {
    "id": "rhx-2CmKPJp3"
   },
   "source": [
    "**Lưu trữ kết quả**"
   ]
  },
  {
   "cell_type": "code",
   "execution_count": 45,
   "metadata": {
    "id": "GQYEnKqSPLCq"
   },
   "outputs": [],
   "source": [
    "storeResults('XGBoost', acc_train_xgb, acc_test_xgb)"
   ]
  },
  {
   "cell_type": "markdown",
   "metadata": {
    "id": "jS_0btviXw_-"
   },
   "source": [
    "## **7.5. Long Short-Term Memory (LSTM) network**\n",
    "***Bài tập số 1: Hoàn thành huấn luyện mô hình LSTM.***"
   ]
  },
  {
   "cell_type": "code",
   "execution_count": 46,
   "metadata": {},
   "outputs": [
    {
     "name": "stderr",
     "output_type": "stream",
     "text": [
      "2025-04-22 15:42:57.839923: I external/local_xla/xla/tsl/cuda/cudart_stub.cc:32] Could not find cuda drivers on your machine, GPU will not be used.\n",
      "2025-04-22 15:42:57.843851: I external/local_xla/xla/tsl/cuda/cudart_stub.cc:32] Could not find cuda drivers on your machine, GPU will not be used.\n",
      "2025-04-22 15:42:57.855132: E external/local_xla/xla/stream_executor/cuda/cuda_fft.cc:467] Unable to register cuFFT factory: Attempting to register factory for plugin cuFFT when one has already been registered\n",
      "WARNING: All log messages before absl::InitializeLog() is called are written to STDERR\n",
      "E0000 00:00:1745336577.873900    2050 cuda_dnn.cc:8579] Unable to register cuDNN factory: Attempting to register factory for plugin cuDNN when one has already been registered\n",
      "E0000 00:00:1745336577.880160    2050 cuda_blas.cc:1407] Unable to register cuBLAS factory: Attempting to register factory for plugin cuBLAS when one has already been registered\n",
      "W0000 00:00:1745336577.900773    2050 computation_placer.cc:177] computation placer already registered. Please check linkage and avoid linking the same target more than once.\n",
      "W0000 00:00:1745336577.900800    2050 computation_placer.cc:177] computation placer already registered. Please check linkage and avoid linking the same target more than once.\n",
      "W0000 00:00:1745336577.900802    2050 computation_placer.cc:177] computation placer already registered. Please check linkage and avoid linking the same target more than once.\n",
      "W0000 00:00:1745336577.900804    2050 computation_placer.cc:177] computation placer already registered. Please check linkage and avoid linking the same target more than once.\n",
      "2025-04-22 15:42:57.905958: I tensorflow/core/platform/cpu_feature_guard.cc:210] This TensorFlow binary is optimized to use available CPU instructions in performance-critical operations.\n",
      "To enable the following instructions: AVX2 FMA, in other operations, rebuild TensorFlow with the appropriate compiler flags.\n"
     ]
    }
   ],
   "source": [
    "# Import necessary libraries for LSTM\n",
    "from tensorflow.keras.models import Sequential\n",
    "from tensorflow.keras.layers import Dense, LSTM\n",
    "import numpy as np"
   ]
  },
  {
   "cell_type": "code",
   "execution_count": 47,
   "metadata": {},
   "outputs": [
    {
     "name": "stdout",
     "output_type": "stream",
     "text": [
      "(8000, 1, 16)\n",
      "(2000, 1, 16)\n"
     ]
    }
   ],
   "source": [
    "# Reshape data for LSTM [samples, time steps, features]\n",
    "# We treat each sample as one time step with n_features\n",
    "X_train_lstm = np.reshape(X_train.values, (X_train.shape[0], 1, X_train.shape[1]))\n",
    "X_test_lstm = np.reshape(X_test.values, (X_test.shape[0], 1, X_test.shape[1]))\n",
    "\n",
    "print(X_train_lstm.shape)\n",
    "print(X_test_lstm.shape)"
   ]
  },
  {
   "cell_type": "code",
   "execution_count": 48,
   "metadata": {},
   "outputs": [
    {
     "name": "stderr",
     "output_type": "stream",
     "text": [
      "2025-04-22 15:42:59.674201: E external/local_xla/xla/stream_executor/cuda/cuda_platform.cc:51] failed call to cuInit: INTERNAL: CUDA error: Failed call to cuInit: UNKNOWN ERROR (303)\n",
      "/workspaces/ML-lab/venv/lib/python3.12/site-packages/keras/src/layers/rnn/rnn.py:200: UserWarning: Do not pass an `input_shape`/`input_dim` argument to a layer. When using Sequential models, prefer using an `Input(shape)` object as the first layer in the model instead.\n",
      "  super().__init__(**kwargs)\n"
     ]
    },
    {
     "data": {
      "text/html": [
       "<pre style=\"white-space:pre;overflow-x:auto;line-height:normal;font-family:Menlo,'DejaVu Sans Mono',consolas,'Courier New',monospace\"><span style=\"font-weight: bold\">Model: \"sequential\"</span>\n",
       "</pre>\n"
      ],
      "text/plain": [
       "\u001b[1mModel: \"sequential\"\u001b[0m\n"
      ]
     },
     "metadata": {},
     "output_type": "display_data"
    },
    {
     "data": {
      "text/html": [
       "<pre style=\"white-space:pre;overflow-x:auto;line-height:normal;font-family:Menlo,'DejaVu Sans Mono',consolas,'Courier New',monospace\">┏━━━━━━━━━━━━━━━━━━━━━━━━━━━━━━━━━┳━━━━━━━━━━━━━━━━━━━━━━━━┳━━━━━━━━━━━━━━━┓\n",
       "┃<span style=\"font-weight: bold\"> Layer (type)                    </span>┃<span style=\"font-weight: bold\"> Output Shape           </span>┃<span style=\"font-weight: bold\">       Param # </span>┃\n",
       "┡━━━━━━━━━━━━━━━━━━━━━━━━━━━━━━━━━╇━━━━━━━━━━━━━━━━━━━━━━━━╇━━━━━━━━━━━━━━━┩\n",
       "│ lstm (<span style=\"color: #0087ff; text-decoration-color: #0087ff\">LSTM</span>)                     │ (<span style=\"color: #00d7ff; text-decoration-color: #00d7ff\">None</span>, <span style=\"color: #00af00; text-decoration-color: #00af00\">64</span>)             │        <span style=\"color: #00af00; text-decoration-color: #00af00\">20,736</span> │\n",
       "├─────────────────────────────────┼────────────────────────┼───────────────┤\n",
       "│ dense (<span style=\"color: #0087ff; text-decoration-color: #0087ff\">Dense</span>)                   │ (<span style=\"color: #00d7ff; text-decoration-color: #00d7ff\">None</span>, <span style=\"color: #00af00; text-decoration-color: #00af00\">1</span>)              │            <span style=\"color: #00af00; text-decoration-color: #00af00\">65</span> │\n",
       "└─────────────────────────────────┴────────────────────────┴───────────────┘\n",
       "</pre>\n"
      ],
      "text/plain": [
       "┏━━━━━━━━━━━━━━━━━━━━━━━━━━━━━━━━━┳━━━━━━━━━━━━━━━━━━━━━━━━┳━━━━━━━━━━━━━━━┓\n",
       "┃\u001b[1m \u001b[0m\u001b[1mLayer (type)                   \u001b[0m\u001b[1m \u001b[0m┃\u001b[1m \u001b[0m\u001b[1mOutput Shape          \u001b[0m\u001b[1m \u001b[0m┃\u001b[1m \u001b[0m\u001b[1m      Param #\u001b[0m\u001b[1m \u001b[0m┃\n",
       "┡━━━━━━━━━━━━━━━━━━━━━━━━━━━━━━━━━╇━━━━━━━━━━━━━━━━━━━━━━━━╇━━━━━━━━━━━━━━━┩\n",
       "│ lstm (\u001b[38;5;33mLSTM\u001b[0m)                     │ (\u001b[38;5;45mNone\u001b[0m, \u001b[38;5;34m64\u001b[0m)             │        \u001b[38;5;34m20,736\u001b[0m │\n",
       "├─────────────────────────────────┼────────────────────────┼───────────────┤\n",
       "│ dense (\u001b[38;5;33mDense\u001b[0m)                   │ (\u001b[38;5;45mNone\u001b[0m, \u001b[38;5;34m1\u001b[0m)              │            \u001b[38;5;34m65\u001b[0m │\n",
       "└─────────────────────────────────┴────────────────────────┴───────────────┘\n"
      ]
     },
     "metadata": {},
     "output_type": "display_data"
    },
    {
     "data": {
      "text/html": [
       "<pre style=\"white-space:pre;overflow-x:auto;line-height:normal;font-family:Menlo,'DejaVu Sans Mono',consolas,'Courier New',monospace\"><span style=\"font-weight: bold\"> Total params: </span><span style=\"color: #00af00; text-decoration-color: #00af00\">20,801</span> (81.25 KB)\n",
       "</pre>\n"
      ],
      "text/plain": [
       "\u001b[1m Total params: \u001b[0m\u001b[38;5;34m20,801\u001b[0m (81.25 KB)\n"
      ]
     },
     "metadata": {},
     "output_type": "display_data"
    },
    {
     "data": {
      "text/html": [
       "<pre style=\"white-space:pre;overflow-x:auto;line-height:normal;font-family:Menlo,'DejaVu Sans Mono',consolas,'Courier New',monospace\"><span style=\"font-weight: bold\"> Trainable params: </span><span style=\"color: #00af00; text-decoration-color: #00af00\">20,801</span> (81.25 KB)\n",
       "</pre>\n"
      ],
      "text/plain": [
       "\u001b[1m Trainable params: \u001b[0m\u001b[38;5;34m20,801\u001b[0m (81.25 KB)\n"
      ]
     },
     "metadata": {},
     "output_type": "display_data"
    },
    {
     "data": {
      "text/html": [
       "<pre style=\"white-space:pre;overflow-x:auto;line-height:normal;font-family:Menlo,'DejaVu Sans Mono',consolas,'Courier New',monospace\"><span style=\"font-weight: bold\"> Non-trainable params: </span><span style=\"color: #00af00; text-decoration-color: #00af00\">0</span> (0.00 B)\n",
       "</pre>\n"
      ],
      "text/plain": [
       "\u001b[1m Non-trainable params: \u001b[0m\u001b[38;5;34m0\u001b[0m (0.00 B)\n"
      ]
     },
     "metadata": {},
     "output_type": "display_data"
    }
   ],
   "source": [
    "lstm_model = Sequential()\n",
    "lstm_model.add(LSTM(units=64, input_shape=(1, X_train.shape[1]), activation='relu'))\n",
    "lstm_model.add(Dense(units=1, activation='sigmoid'))\n",
    "\n",
    "# Compile the model\n",
    "lstm_model.compile(optimizer='adam', loss='binary_crossentropy', metrics=['accuracy'])\n",
    "\n",
    "lstm_model.summary()"
   ]
  },
  {
   "cell_type": "code",
   "execution_count": 49,
   "metadata": {},
   "outputs": [
    {
     "name": "stdout",
     "output_type": "stream",
     "text": [
      "Epoch 1/10\n"
     ]
    },
    {
     "name": "stdout",
     "output_type": "stream",
     "text": [
      "\u001b[1m100/100\u001b[0m \u001b[32m━━━━━━━━━━━━━━━━━━━━\u001b[0m\u001b[37m\u001b[0m \u001b[1m1s\u001b[0m 4ms/step - accuracy: 0.5907 - loss: 0.6785 - val_accuracy: 0.7756 - val_loss: 0.6119\n",
      "Epoch 2/10\n",
      "\u001b[1m100/100\u001b[0m \u001b[32m━━━━━━━━━━━━━━━━━━━━\u001b[0m\u001b[37m\u001b[0m \u001b[1m0s\u001b[0m 2ms/step - accuracy: 0.7774 - loss: 0.5735 - val_accuracy: 0.7969 - val_loss: 0.4861\n",
      "Epoch 3/10\n",
      "\u001b[1m100/100\u001b[0m \u001b[32m━━━━━━━━━━━━━━━━━━━━\u001b[0m\u001b[37m\u001b[0m \u001b[1m0s\u001b[0m 2ms/step - accuracy: 0.7979 - loss: 0.4669 - val_accuracy: 0.8025 - val_loss: 0.4454\n",
      "Epoch 4/10\n",
      "\u001b[1m100/100\u001b[0m \u001b[32m━━━━━━━━━━━━━━━━━━━━\u001b[0m\u001b[37m\u001b[0m \u001b[1m0s\u001b[0m 2ms/step - accuracy: 0.8012 - loss: 0.4333 - val_accuracy: 0.8006 - val_loss: 0.4303\n",
      "Epoch 5/10\n",
      "\u001b[1m100/100\u001b[0m \u001b[32m━━━━━━━━━━━━━━━━━━━━\u001b[0m\u001b[37m\u001b[0m \u001b[1m0s\u001b[0m 2ms/step - accuracy: 0.8023 - loss: 0.4201 - val_accuracy: 0.8006 - val_loss: 0.4262\n",
      "Epoch 6/10\n",
      "\u001b[1m100/100\u001b[0m \u001b[32m━━━━━━━━━━━━━━━━━━━━\u001b[0m\u001b[37m\u001b[0m \u001b[1m0s\u001b[0m 2ms/step - accuracy: 0.8082 - loss: 0.4080 - val_accuracy: 0.7944 - val_loss: 0.4220\n",
      "Epoch 7/10\n",
      "\u001b[1m100/100\u001b[0m \u001b[32m━━━━━━━━━━━━━━━━━━━━\u001b[0m\u001b[37m\u001b[0m \u001b[1m0s\u001b[0m 2ms/step - accuracy: 0.8103 - loss: 0.4094 - val_accuracy: 0.7950 - val_loss: 0.4169\n",
      "Epoch 8/10\n",
      "\u001b[1m100/100\u001b[0m \u001b[32m━━━━━━━━━━━━━━━━━━━━\u001b[0m\u001b[37m\u001b[0m \u001b[1m0s\u001b[0m 3ms/step - accuracy: 0.8060 - loss: 0.4066 - val_accuracy: 0.8100 - val_loss: 0.4134\n",
      "Epoch 9/10\n",
      "\u001b[1m100/100\u001b[0m \u001b[32m━━━━━━━━━━━━━━━━━━━━\u001b[0m\u001b[37m\u001b[0m \u001b[1m0s\u001b[0m 2ms/step - accuracy: 0.8045 - loss: 0.4060 - val_accuracy: 0.8000 - val_loss: 0.4119\n",
      "Epoch 10/10\n",
      "\u001b[1m100/100\u001b[0m \u001b[32m━━━━━━━━━━━━━━━━━━━━\u001b[0m\u001b[37m\u001b[0m \u001b[1m0s\u001b[0m 2ms/step - accuracy: 0.8063 - loss: 0.4035 - val_accuracy: 0.8131 - val_loss: 0.4103\n"
     ]
    }
   ],
   "source": [
    "# Train the model\n",
    "# Using a small number of epochs for demonstration\n",
    "history = lstm_model.fit(X_train_lstm, y_train, epochs=10, batch_size=64, validation_split=0.2, verbose=1)"
   ]
  },
  {
   "cell_type": "code",
   "execution_count": 50,
   "metadata": {},
   "outputs": [
    {
     "name": "stdout",
     "output_type": "stream",
     "text": [
      "\u001b[1m145/250\u001b[0m \u001b[32m━━━━━━━━━━━\u001b[0m\u001b[37m━━━━━━━━━\u001b[0m \u001b[1m0s\u001b[0m 699us/step"
     ]
    },
    {
     "name": "stdout",
     "output_type": "stream",
     "text": [
      "\u001b[1m250/250\u001b[0m \u001b[32m━━━━━━━━━━━━━━━━━━━━\u001b[0m\u001b[37m\u001b[0m \u001b[1m0s\u001b[0m 765us/step\n",
      "\u001b[1m63/63\u001b[0m \u001b[32m━━━━━━━━━━━━━━━━━━━━\u001b[0m\u001b[37m\u001b[0m \u001b[1m0s\u001b[0m 3ms/step\n"
     ]
    }
   ],
   "source": [
    "# Predicting\n",
    "# Predict probabilities\n",
    "y_train_prob_lstm = lstm_model.predict(X_train_lstm)\n",
    "y_test_prob_lstm = lstm_model.predict(X_test_lstm)\n",
    "\n",
    "# Convert probabilities to binary predictions (0 or 1)\n",
    "y_train_lstm = (y_train_prob_lstm > 0.5).astype(int)\n",
    "y_test_lstm = (y_test_prob_lstm > 0.5).astype(int)"
   ]
  },
  {
   "cell_type": "markdown",
   "metadata": {},
   "source": [
    "**Đánh giá hiệu suất**"
   ]
  },
  {
   "cell_type": "code",
   "execution_count": 51,
   "metadata": {},
   "outputs": [
    {
     "name": "stdout",
     "output_type": "stream",
     "text": [
      "LSTM: Accuracy on training Data: 0.816\n",
      "LSTM: Accuracy on test Data: 0.811\n"
     ]
    }
   ],
   "source": [
    "# Computing the accuracy\n",
    "acc_train_lstm = accuracy_score(y_train, y_train_lstm)\n",
    "acc_test_lstm = accuracy_score(y_test, y_test_lstm)\n",
    "\n",
    "print(\"LSTM: Accuracy on training Data: {:.3f}\".format(acc_train_lstm))\n",
    "print(\"LSTM: Accuracy on test Data: {:.3f}\".format(acc_test_lstm))"
   ]
  },
  {
   "cell_type": "markdown",
   "metadata": {},
   "source": [
    "**Lưu trữ kết quả**"
   ]
  },
  {
   "cell_type": "code",
   "execution_count": 52,
   "metadata": {},
   "outputs": [],
   "source": [
    "storeResults('LSTM', acc_train_lstm, acc_test_lstm)"
   ]
  },
  {
   "cell_type": "markdown",
   "metadata": {
    "id": "BDBZI46PYRHD"
   },
   "source": [
    "## **7.6. Support Vector Machines**\n",
    "***Bài tập số 2: Hoàn thành huấn luyện mô hình SVM.***"
   ]
  },
  {
   "cell_type": "code",
   "execution_count": 53,
   "metadata": {},
   "outputs": [
    {
     "name": "stdout",
     "output_type": "stream",
     "text": [
      "Support Vector Machines: Accuracy on training Data: 0.802\n",
      "Support Vector Machines: Accuracy on test Data: 0.803\n"
     ]
    }
   ],
   "source": [
    "from sklearn.svm import SVC\n",
    "\n",
    "# Support Vector Machines model\n",
    "\n",
    "# instantiate\n",
    "svm = SVC(kernel='linear', C=1)\n",
    "\n",
    "# fit\n",
    "svm.fit(X_train, y_train)\n",
    "\n",
    "# predicting\n",
    "y_test_svm = svm.predict(X_test)\n",
    "y_train_svm = svm.predict(X_train)\n",
    "\n",
    "# computing the accuracy\n",
    "acc_train_svm = accuracy_score(y_train, y_train_svm)\n",
    "acc_test_svm = accuracy_score(y_test, y_test_svm)\n",
    "\n",
    "print(\"Support Vector Machines: Accuracy on training Data: {:.3f}\".format(acc_train_svm))\n",
    "print(\"Support Vector Machines: Accuracy on test Data: {:.3f}\".format(acc_test_svm))\n",
    "\n",
    "# store results\n",
    "storeResults('Support Vector Machines', acc_train_svm, acc_test_svm)"
   ]
  },
  {
   "cell_type": "markdown",
   "metadata": {
    "id": "AHI8pnJfYkr7"
   },
   "source": [
    "# **8. So sánh các mô hình**"
   ]
  },
  {
   "cell_type": "code",
   "execution_count": 54,
   "metadata": {
    "id": "YR2hCekiYwz7"
   },
   "outputs": [
    {
     "data": {
      "application/vnd.microsoft.datawrangler.viewer.v0+json": {
       "columns": [
        {
         "name": "index",
         "rawType": "int64",
         "type": "integer"
        },
        {
         "name": "Model",
         "rawType": "object",
         "type": "string"
        },
        {
         "name": "Train Accuracy",
         "rawType": "float64",
         "type": "float"
        },
        {
         "name": "Test Accuracy",
         "rawType": "float64",
         "type": "float"
        }
       ],
       "conversionMethod": "pd.DataFrame",
       "ref": "4bb62a4f-a7e1-4ae3-9cce-e6cee6108b8f",
       "rows": [
        [
         "0",
         "Decision Tree",
         "0.813",
         "0.816"
        ],
        [
         "1",
         "Random Forest",
         "0.812",
         "0.806"
        ],
        [
         "2",
         "Multilayer Perceptrons",
         "0.858",
         "0.852"
        ],
        [
         "3",
         "XGBoost",
         "0.866",
         "0.866"
        ],
        [
         "4",
         "LSTM",
         "0.816",
         "0.811"
        ],
        [
         "5",
         "Support Vector Machines",
         "0.802",
         "0.803"
        ]
       ],
       "shape": {
        "columns": 3,
        "rows": 6
       }
      },
      "text/html": [
       "<div>\n",
       "<style scoped>\n",
       "    .dataframe tbody tr th:only-of-type {\n",
       "        vertical-align: middle;\n",
       "    }\n",
       "\n",
       "    .dataframe tbody tr th {\n",
       "        vertical-align: top;\n",
       "    }\n",
       "\n",
       "    .dataframe thead th {\n",
       "        text-align: right;\n",
       "    }\n",
       "</style>\n",
       "<table border=\"1\" class=\"dataframe\">\n",
       "  <thead>\n",
       "    <tr style=\"text-align: right;\">\n",
       "      <th></th>\n",
       "      <th>Model</th>\n",
       "      <th>Train Accuracy</th>\n",
       "      <th>Test Accuracy</th>\n",
       "    </tr>\n",
       "  </thead>\n",
       "  <tbody>\n",
       "    <tr>\n",
       "      <th>0</th>\n",
       "      <td>Decision Tree</td>\n",
       "      <td>0.813</td>\n",
       "      <td>0.816</td>\n",
       "    </tr>\n",
       "    <tr>\n",
       "      <th>1</th>\n",
       "      <td>Random Forest</td>\n",
       "      <td>0.812</td>\n",
       "      <td>0.806</td>\n",
       "    </tr>\n",
       "    <tr>\n",
       "      <th>2</th>\n",
       "      <td>Multilayer Perceptrons</td>\n",
       "      <td>0.858</td>\n",
       "      <td>0.852</td>\n",
       "    </tr>\n",
       "    <tr>\n",
       "      <th>3</th>\n",
       "      <td>XGBoost</td>\n",
       "      <td>0.866</td>\n",
       "      <td>0.866</td>\n",
       "    </tr>\n",
       "    <tr>\n",
       "      <th>4</th>\n",
       "      <td>LSTM</td>\n",
       "      <td>0.816</td>\n",
       "      <td>0.811</td>\n",
       "    </tr>\n",
       "    <tr>\n",
       "      <th>5</th>\n",
       "      <td>Support Vector Machines</td>\n",
       "      <td>0.802</td>\n",
       "      <td>0.803</td>\n",
       "    </tr>\n",
       "  </tbody>\n",
       "</table>\n",
       "</div>"
      ],
      "text/plain": [
       "                     Model  Train Accuracy  Test Accuracy\n",
       "0            Decision Tree           0.813          0.816\n",
       "1            Random Forest           0.812          0.806\n",
       "2   Multilayer Perceptrons           0.858          0.852\n",
       "3                  XGBoost           0.866          0.866\n",
       "4                     LSTM           0.816          0.811\n",
       "5  Support Vector Machines           0.802          0.803"
      ]
     },
     "execution_count": 54,
     "metadata": {},
     "output_type": "execute_result"
    }
   ],
   "source": [
    "results = pd.DataFrame({ 'Model': Model,\n",
    "    'Train Accuracy': acc_train,\n",
    "    'Test Accuracy': acc_test})\n",
    "results"
   ]
  },
  {
   "cell_type": "code",
   "execution_count": 55,
   "metadata": {
    "id": "xaNM8_r4Y0zR"
   },
   "outputs": [
    {
     "data": {
      "application/vnd.microsoft.datawrangler.viewer.v0+json": {
       "columns": [
        {
         "name": "index",
         "rawType": "int64",
         "type": "integer"
        },
        {
         "name": "Model",
         "rawType": "object",
         "type": "string"
        },
        {
         "name": "Train Accuracy",
         "rawType": "float64",
         "type": "float"
        },
        {
         "name": "Test Accuracy",
         "rawType": "float64",
         "type": "float"
        }
       ],
       "conversionMethod": "pd.DataFrame",
       "ref": "2d087158-876f-42f2-a374-c67b26e3505b",
       "rows": [
        [
         "3",
         "XGBoost",
         "0.866",
         "0.866"
        ],
        [
         "2",
         "Multilayer Perceptrons",
         "0.858",
         "0.852"
        ],
        [
         "0",
         "Decision Tree",
         "0.813",
         "0.816"
        ],
        [
         "4",
         "LSTM",
         "0.816",
         "0.811"
        ],
        [
         "1",
         "Random Forest",
         "0.812",
         "0.806"
        ],
        [
         "5",
         "Support Vector Machines",
         "0.802",
         "0.803"
        ]
       ],
       "shape": {
        "columns": 3,
        "rows": 6
       }
      },
      "text/html": [
       "<div>\n",
       "<style scoped>\n",
       "    .dataframe tbody tr th:only-of-type {\n",
       "        vertical-align: middle;\n",
       "    }\n",
       "\n",
       "    .dataframe tbody tr th {\n",
       "        vertical-align: top;\n",
       "    }\n",
       "\n",
       "    .dataframe thead th {\n",
       "        text-align: right;\n",
       "    }\n",
       "</style>\n",
       "<table border=\"1\" class=\"dataframe\">\n",
       "  <thead>\n",
       "    <tr style=\"text-align: right;\">\n",
       "      <th></th>\n",
       "      <th>Model</th>\n",
       "      <th>Train Accuracy</th>\n",
       "      <th>Test Accuracy</th>\n",
       "    </tr>\n",
       "  </thead>\n",
       "  <tbody>\n",
       "    <tr>\n",
       "      <th>3</th>\n",
       "      <td>XGBoost</td>\n",
       "      <td>0.866</td>\n",
       "      <td>0.866</td>\n",
       "    </tr>\n",
       "    <tr>\n",
       "      <th>2</th>\n",
       "      <td>Multilayer Perceptrons</td>\n",
       "      <td>0.858</td>\n",
       "      <td>0.852</td>\n",
       "    </tr>\n",
       "    <tr>\n",
       "      <th>0</th>\n",
       "      <td>Decision Tree</td>\n",
       "      <td>0.813</td>\n",
       "      <td>0.816</td>\n",
       "    </tr>\n",
       "    <tr>\n",
       "      <th>4</th>\n",
       "      <td>LSTM</td>\n",
       "      <td>0.816</td>\n",
       "      <td>0.811</td>\n",
       "    </tr>\n",
       "    <tr>\n",
       "      <th>1</th>\n",
       "      <td>Random Forest</td>\n",
       "      <td>0.812</td>\n",
       "      <td>0.806</td>\n",
       "    </tr>\n",
       "    <tr>\n",
       "      <th>5</th>\n",
       "      <td>Support Vector Machines</td>\n",
       "      <td>0.802</td>\n",
       "      <td>0.803</td>\n",
       "    </tr>\n",
       "  </tbody>\n",
       "</table>\n",
       "</div>"
      ],
      "text/plain": [
       "                     Model  Train Accuracy  Test Accuracy\n",
       "3                  XGBoost           0.866          0.866\n",
       "2   Multilayer Perceptrons           0.858          0.852\n",
       "0            Decision Tree           0.813          0.816\n",
       "4                     LSTM           0.816          0.811\n",
       "1            Random Forest           0.812          0.806\n",
       "5  Support Vector Machines           0.802          0.803"
      ]
     },
     "execution_count": 55,
     "metadata": {},
     "output_type": "execute_result"
    }
   ],
   "source": [
    "#Sort accuracy\n",
    "results.sort_values(by=['Test Accuracy', 'Train Accuracy'], ascending=False)"
   ]
  },
  {
   "cell_type": "markdown",
   "metadata": {
    "id": "KxoOdM_8ZSb0"
   },
   "source": [
    "***Bài tập số 3: Cho biết kết quả so sánh mô hình, sau đó viết code lưu trữ mô hình.***"
   ]
  },
  {
   "cell_type": "code",
   "execution_count": 56,
   "metadata": {},
   "outputs": [
    {
     "data": {
      "application/vnd.microsoft.datawrangler.viewer.v0+json": {
       "columns": [
        {
         "name": "index",
         "rawType": "int64",
         "type": "integer"
        },
        {
         "name": "Model",
         "rawType": "object",
         "type": "string"
        },
        {
         "name": "Train Accuracy",
         "rawType": "float64",
         "type": "float"
        },
        {
         "name": "Test Accuracy",
         "rawType": "float64",
         "type": "float"
        }
       ],
       "conversionMethod": "pd.DataFrame",
       "ref": "87132806-3a8a-4a38-aba6-70203883e973",
       "rows": [
        [
         "0",
         "Decision Tree",
         "0.813",
         "0.816"
        ],
        [
         "1",
         "Random Forest",
         "0.812",
         "0.806"
        ],
        [
         "2",
         "Multilayer Perceptrons",
         "0.858",
         "0.852"
        ],
        [
         "3",
         "XGBoost",
         "0.866",
         "0.866"
        ],
        [
         "4",
         "LSTM",
         "0.816",
         "0.811"
        ],
        [
         "5",
         "Support Vector Machines",
         "0.802",
         "0.803"
        ]
       ],
       "shape": {
        "columns": 3,
        "rows": 6
       }
      },
      "text/html": [
       "<div>\n",
       "<style scoped>\n",
       "    .dataframe tbody tr th:only-of-type {\n",
       "        vertical-align: middle;\n",
       "    }\n",
       "\n",
       "    .dataframe tbody tr th {\n",
       "        vertical-align: top;\n",
       "    }\n",
       "\n",
       "    .dataframe thead th {\n",
       "        text-align: right;\n",
       "    }\n",
       "</style>\n",
       "<table border=\"1\" class=\"dataframe\">\n",
       "  <thead>\n",
       "    <tr style=\"text-align: right;\">\n",
       "      <th></th>\n",
       "      <th>Model</th>\n",
       "      <th>Train Accuracy</th>\n",
       "      <th>Test Accuracy</th>\n",
       "    </tr>\n",
       "  </thead>\n",
       "  <tbody>\n",
       "    <tr>\n",
       "      <th>0</th>\n",
       "      <td>Decision Tree</td>\n",
       "      <td>0.813</td>\n",
       "      <td>0.816</td>\n",
       "    </tr>\n",
       "    <tr>\n",
       "      <th>1</th>\n",
       "      <td>Random Forest</td>\n",
       "      <td>0.812</td>\n",
       "      <td>0.806</td>\n",
       "    </tr>\n",
       "    <tr>\n",
       "      <th>2</th>\n",
       "      <td>Multilayer Perceptrons</td>\n",
       "      <td>0.858</td>\n",
       "      <td>0.852</td>\n",
       "    </tr>\n",
       "    <tr>\n",
       "      <th>3</th>\n",
       "      <td>XGBoost</td>\n",
       "      <td>0.866</td>\n",
       "      <td>0.866</td>\n",
       "    </tr>\n",
       "    <tr>\n",
       "      <th>4</th>\n",
       "      <td>LSTM</td>\n",
       "      <td>0.816</td>\n",
       "      <td>0.811</td>\n",
       "    </tr>\n",
       "    <tr>\n",
       "      <th>5</th>\n",
       "      <td>Support Vector Machines</td>\n",
       "      <td>0.802</td>\n",
       "      <td>0.803</td>\n",
       "    </tr>\n",
       "  </tbody>\n",
       "</table>\n",
       "</div>"
      ],
      "text/plain": [
       "                     Model  Train Accuracy  Test Accuracy\n",
       "0            Decision Tree           0.813          0.816\n",
       "1            Random Forest           0.812          0.806\n",
       "2   Multilayer Perceptrons           0.858          0.852\n",
       "3                  XGBoost           0.866          0.866\n",
       "4                     LSTM           0.816          0.811\n",
       "5  Support Vector Machines           0.802          0.803"
      ]
     },
     "execution_count": 56,
     "metadata": {},
     "output_type": "execute_result"
    }
   ],
   "source": [
    "results = pd.DataFrame({ 'Model': Model,\n",
    "    'Train Accuracy': acc_train,\n",
    "    'Test Accuracy': acc_test})\n",
    "results"
   ]
  },
  {
   "cell_type": "code",
   "execution_count": 57,
   "metadata": {},
   "outputs": [
    {
     "name": "stdout",
     "output_type": "stream",
     "text": [
      "Kết quả so sánh các mô hình:\n",
      "                     Model  Train Accuracy  Test Accuracy\n",
      "3                  XGBoost           0.866          0.866\n",
      "2   Multilayer Perceptrons           0.858          0.852\n",
      "0            Decision Tree           0.813          0.816\n",
      "4                     LSTM           0.816          0.811\n",
      "1            Random Forest           0.812          0.806\n",
      "5  Support Vector Machines           0.802          0.803\n",
      "\n",
      "Mô hình có độ chính xác cao nhất: XGBoost\n",
      "Mô hình XGBoost đã được lưu trữ thành công.\n"
     ]
    }
   ],
   "source": [
    "import joblib\n",
    "\n",
    "# Tạo từ điển ánh xạ tên mô hình với đối tượng mô hình\n",
    "model_mapping = {\n",
    "    'Decision Tree': tree,\n",
    "    'Random Forest': forest,\n",
    "    'Multilayer Perceptrons': mlp,\n",
    "    'XGBoost': xgb,\n",
    "    'Support Vector Machines': svm\n",
    "}\n",
    "\n",
    "# Sắp xếp kết quả theo độ chính xác\n",
    "sorted_results = results.sort_values(by=['Test Accuracy', 'Train Accuracy'], ascending=False)\n",
    "print(\"Kết quả so sánh các mô hình:\")\n",
    "print(sorted_results)\n",
    "\n",
    "# Lấy tên mô hình có độ chính xác cao nhất\n",
    "best_model_name = sorted_results.iloc[0]['Model']\n",
    "print(f\"\\nMô hình có độ chính xác cao nhất: {best_model_name}\")\n",
    "\n",
    "# Lưu trữ mô hình tốt nhất\n",
    "for model_name, model_object in model_mapping.items():\n",
    "    if model_name == best_model_name:\n",
    "        joblib.dump(model_object, f'best_model_{model_name.lower().replace(\" \", \"_\")}.pkl')\n",
    "        print(f\"Mô hình {model_name} đã được lưu trữ thành công.\")\n",
    "        break"
   ]
  },
  {
   "cell_type": "markdown",
   "metadata": {
    "id": "m8ZvOsAwZefV"
   },
   "source": [
    "# **9. Trích dẫn**\n",
    "https://blog.keras.io/building-autoencoders-in-keras.html\n",
    "https://en.wikipedia.org/wiki/Autoencoder\n",
    "https://mc.ai/a-beginners-guide-to-build-stacked-autoencoder-and-tying-weights-with-it/\n",
    "https://github.com/shreyagopal/t81_558_deep_learning/blob/master/t81_558_class_14_03_anomaly.ipynb\n",
    "https://machinelearningmastery.com/save-gradient-boosting-models-xgboost-python/"
   ]
  },
  {
   "cell_type": "markdown",
   "metadata": {
    "id": "V9atv6vAa21N"
   },
   "source": [
    "**LAB 4.2**\n",
    "\n",
    "# *B. Trích xuất thuộc tính trang web lừa đảo*\n",
    "***(Phishing Website Detection Feature Extraction)***"
   ]
  },
  {
   "cell_type": "markdown",
   "metadata": {
    "id": "EEfQVR9ia4BZ"
   },
   "source": [
    "# **1. Thu thập dữ liệu**\n",
    "Ta cần 2 nhãn hớp pháp - legitimate (0) và lừa đảo - phishing (1).\n",
    "Việc thu thập các url lừa đảo khá dễ dàng do nguồn mở có tên PhishTank. Dịch vụ này cung cấp một tập hợp các URL lừa đảo ở nhiều định dạng như csv, json, v.v. được cập nhật hàng giờ. Để tải xuống dữ liệu: https://www.phishtank.com/developer_info.php\n",
    "Đối với các url hợp pháp, nguồn từ trường ĐH New Brunswick có sẵn các dạng benign, spam, phishing, malware & defacement URL  https://www.unb.ca/cic/datasets/url-2016.html. Số lượng URL hợp pháp là 35,300 'Benign_list.csv'"
   ]
  },
  {
   "cell_type": "markdown",
   "metadata": {
    "id": "hg-t_q5EgKsR"
   },
   "source": [
    "## **1.1. Phishing URLs:**"
   ]
  },
  {
   "cell_type": "code",
   "execution_count": 15,
   "metadata": {
    "id": "GiULGRa-gQbZ"
   },
   "outputs": [],
   "source": [
    "import pandas as pd"
   ]
  },
  {
   "cell_type": "code",
   "execution_count": 16,
   "metadata": {
    "id": "RGZrK24EgXSG"
   },
   "outputs": [
    {
     "data": {
      "application/vnd.microsoft.datawrangler.viewer.v0+json": {
       "columns": [
        {
         "name": "index",
         "rawType": "int64",
         "type": "integer"
        },
        {
         "name": "phish_id",
         "rawType": "int64",
         "type": "integer"
        },
        {
         "name": "url",
         "rawType": "object",
         "type": "string"
        },
        {
         "name": "phish_detail_url",
         "rawType": "object",
         "type": "string"
        },
        {
         "name": "submission_time",
         "rawType": "object",
         "type": "string"
        },
        {
         "name": "verified",
         "rawType": "object",
         "type": "string"
        },
        {
         "name": "verification_time",
         "rawType": "object",
         "type": "string"
        },
        {
         "name": "online",
         "rawType": "object",
         "type": "string"
        },
        {
         "name": "target",
         "rawType": "object",
         "type": "string"
        }
       ],
       "conversionMethod": "pd.DataFrame",
       "ref": "c8209e38-e281-4a20-b740-067ce7c550a3",
       "rows": [
        [
         "0",
         "9066671",
         "https://safe-geode-reminder.glitch.me/public/nit.htm",
         "http://www.phishtank.com/phish_detail.php?phish_id=9066671",
         "2025-04-18T08:07:24+00:00",
         "yes",
         "2025-04-18T08:11:45+00:00",
         "yes",
         "Other"
        ],
        [
         "1",
         "9066670",
         "https://rounded-efficient-ringer.glitch.me/public/new.html",
         "http://www.phishtank.com/phish_detail.php?phish_id=9066670",
         "2025-04-18T08:07:06+00:00",
         "yes",
         "2025-04-18T08:11:45+00:00",
         "yes",
         "Other"
        ],
        [
         "2",
         "9066669",
         "https://guttural-sudden-peanut.glitch.me/public/gg5GbVVBlllR0Lj.htm",
         "http://www.phishtank.com/phish_detail.php?phish_id=9066669",
         "2025-04-18T08:06:48+00:00",
         "yes",
         "2025-04-18T08:11:45+00:00",
         "yes",
         "Other"
        ],
        [
         "3",
         "9066668",
         "https://elegant-descriptive-receipt.glitch.me/public/NFCUNnACCESS0.html",
         "http://www.phishtank.com/phish_detail.php?phish_id=9066668",
         "2025-04-18T08:06:29+00:00",
         "yes",
         "2025-04-18T08:11:45+00:00",
         "yes",
         "Other"
        ],
        [
         "4",
         "9066667",
         "https://eggplant-right-gruyere.glitch.me/public/nit.htm",
         "http://www.phishtank.com/phish_detail.php?phish_id=9066667",
         "2025-04-18T08:06:06+00:00",
         "yes",
         "2025-04-18T08:11:45+00:00",
         "yes",
         "Other"
        ]
       ],
       "shape": {
        "columns": 8,
        "rows": 5
       }
      },
      "text/html": [
       "<div>\n",
       "<style scoped>\n",
       "    .dataframe tbody tr th:only-of-type {\n",
       "        vertical-align: middle;\n",
       "    }\n",
       "\n",
       "    .dataframe tbody tr th {\n",
       "        vertical-align: top;\n",
       "    }\n",
       "\n",
       "    .dataframe thead th {\n",
       "        text-align: right;\n",
       "    }\n",
       "</style>\n",
       "<table border=\"1\" class=\"dataframe\">\n",
       "  <thead>\n",
       "    <tr style=\"text-align: right;\">\n",
       "      <th></th>\n",
       "      <th>phish_id</th>\n",
       "      <th>url</th>\n",
       "      <th>phish_detail_url</th>\n",
       "      <th>submission_time</th>\n",
       "      <th>verified</th>\n",
       "      <th>verification_time</th>\n",
       "      <th>online</th>\n",
       "      <th>target</th>\n",
       "    </tr>\n",
       "  </thead>\n",
       "  <tbody>\n",
       "    <tr>\n",
       "      <th>0</th>\n",
       "      <td>9066671</td>\n",
       "      <td>https://safe-geode-reminder.glitch.me/public/n...</td>\n",
       "      <td>http://www.phishtank.com/phish_detail.php?phis...</td>\n",
       "      <td>2025-04-18T08:07:24+00:00</td>\n",
       "      <td>yes</td>\n",
       "      <td>2025-04-18T08:11:45+00:00</td>\n",
       "      <td>yes</td>\n",
       "      <td>Other</td>\n",
       "    </tr>\n",
       "    <tr>\n",
       "      <th>1</th>\n",
       "      <td>9066670</td>\n",
       "      <td>https://rounded-efficient-ringer.glitch.me/pub...</td>\n",
       "      <td>http://www.phishtank.com/phish_detail.php?phis...</td>\n",
       "      <td>2025-04-18T08:07:06+00:00</td>\n",
       "      <td>yes</td>\n",
       "      <td>2025-04-18T08:11:45+00:00</td>\n",
       "      <td>yes</td>\n",
       "      <td>Other</td>\n",
       "    </tr>\n",
       "    <tr>\n",
       "      <th>2</th>\n",
       "      <td>9066669</td>\n",
       "      <td>https://guttural-sudden-peanut.glitch.me/publi...</td>\n",
       "      <td>http://www.phishtank.com/phish_detail.php?phis...</td>\n",
       "      <td>2025-04-18T08:06:48+00:00</td>\n",
       "      <td>yes</td>\n",
       "      <td>2025-04-18T08:11:45+00:00</td>\n",
       "      <td>yes</td>\n",
       "      <td>Other</td>\n",
       "    </tr>\n",
       "    <tr>\n",
       "      <th>3</th>\n",
       "      <td>9066668</td>\n",
       "      <td>https://elegant-descriptive-receipt.glitch.me/...</td>\n",
       "      <td>http://www.phishtank.com/phish_detail.php?phis...</td>\n",
       "      <td>2025-04-18T08:06:29+00:00</td>\n",
       "      <td>yes</td>\n",
       "      <td>2025-04-18T08:11:45+00:00</td>\n",
       "      <td>yes</td>\n",
       "      <td>Other</td>\n",
       "    </tr>\n",
       "    <tr>\n",
       "      <th>4</th>\n",
       "      <td>9066667</td>\n",
       "      <td>https://eggplant-right-gruyere.glitch.me/publi...</td>\n",
       "      <td>http://www.phishtank.com/phish_detail.php?phis...</td>\n",
       "      <td>2025-04-18T08:06:06+00:00</td>\n",
       "      <td>yes</td>\n",
       "      <td>2025-04-18T08:11:45+00:00</td>\n",
       "      <td>yes</td>\n",
       "      <td>Other</td>\n",
       "    </tr>\n",
       "  </tbody>\n",
       "</table>\n",
       "</div>"
      ],
      "text/plain": [
       "   phish_id                                                url  \\\n",
       "0   9066671  https://safe-geode-reminder.glitch.me/public/n...   \n",
       "1   9066670  https://rounded-efficient-ringer.glitch.me/pub...   \n",
       "2   9066669  https://guttural-sudden-peanut.glitch.me/publi...   \n",
       "3   9066668  https://elegant-descriptive-receipt.glitch.me/...   \n",
       "4   9066667  https://eggplant-right-gruyere.glitch.me/publi...   \n",
       "\n",
       "                                    phish_detail_url  \\\n",
       "0  http://www.phishtank.com/phish_detail.php?phis...   \n",
       "1  http://www.phishtank.com/phish_detail.php?phis...   \n",
       "2  http://www.phishtank.com/phish_detail.php?phis...   \n",
       "3  http://www.phishtank.com/phish_detail.php?phis...   \n",
       "4  http://www.phishtank.com/phish_detail.php?phis...   \n",
       "\n",
       "             submission_time verified          verification_time online target  \n",
       "0  2025-04-18T08:07:24+00:00      yes  2025-04-18T08:11:45+00:00    yes  Other  \n",
       "1  2025-04-18T08:07:06+00:00      yes  2025-04-18T08:11:45+00:00    yes  Other  \n",
       "2  2025-04-18T08:06:48+00:00      yes  2025-04-18T08:11:45+00:00    yes  Other  \n",
       "3  2025-04-18T08:06:29+00:00      yes  2025-04-18T08:11:45+00:00    yes  Other  \n",
       "4  2025-04-18T08:06:06+00:00      yes  2025-04-18T08:11:45+00:00    yes  Other  "
      ]
     },
     "execution_count": 16,
     "metadata": {},
     "output_type": "execute_result"
    }
   ],
   "source": [
    "#Load CSV\n",
    "data0 = pd.read_csv(data_dir + \"verified_online.csv\")\n",
    "data0.head()"
   ]
  },
  {
   "cell_type": "code",
   "execution_count": 17,
   "metadata": {
    "id": "X4WLaeIogdHx"
   },
   "outputs": [
    {
     "data": {
      "text/plain": [
       "(63648, 8)"
      ]
     },
     "execution_count": 17,
     "metadata": {},
     "output_type": "execute_result"
    }
   ],
   "source": [
    "data0.shape"
   ]
  },
  {
   "cell_type": "markdown",
   "metadata": {
    "id": "C4ikQaYbgskH"
   },
   "source": [
    "\n",
    "\n",
    "Chọn ngẫu nhiên 10000 mẫu."
   ]
  },
  {
   "cell_type": "code",
   "execution_count": 18,
   "metadata": {
    "id": "Sx69n4bmgwow"
   },
   "outputs": [
    {
     "data": {
      "application/vnd.microsoft.datawrangler.viewer.v0+json": {
       "columns": [
        {
         "name": "index",
         "rawType": "int64",
         "type": "integer"
        },
        {
         "name": "phish_id",
         "rawType": "int64",
         "type": "integer"
        },
        {
         "name": "url",
         "rawType": "object",
         "type": "string"
        },
        {
         "name": "phish_detail_url",
         "rawType": "object",
         "type": "string"
        },
        {
         "name": "submission_time",
         "rawType": "object",
         "type": "string"
        },
        {
         "name": "verified",
         "rawType": "object",
         "type": "string"
        },
        {
         "name": "verification_time",
         "rawType": "object",
         "type": "string"
        },
        {
         "name": "online",
         "rawType": "object",
         "type": "string"
        },
        {
         "name": "target",
         "rawType": "object",
         "type": "string"
        }
       ],
       "conversionMethod": "pd.DataFrame",
       "ref": "007780c9-63b8-4043-a756-8ed38ed2b5c7",
       "rows": [
        [
         "0",
         "8790063",
         "https://qrco.de/bfRN0D",
         "http://www.phishtank.com/phish_detail.php?phish_id=8790063",
         "2024-10-01T15:47:07+00:00",
         "yes",
         "2024-10-01T16:09:52+00:00",
         "yes",
         "Other"
        ],
        [
         "1",
         "8547971",
         "https://webmail.sfr.quo.temporary.site/",
         "http://www.phishtank.com/phish_detail.php?phish_id=8547971",
         "2024-04-23T13:52:13+00:00",
         "yes",
         "2024-04-23T14:04:05+00:00",
         "yes",
         "Other"
        ],
        [
         "2",
         "8667187",
         "https://odunlar.weebly.com/",
         "http://www.phishtank.com/phish_detail.php?phish_id=8667187",
         "2024-07-20T19:10:41+00:00",
         "yes",
         "2024-07-20T19:13:24+00:00",
         "yes",
         "Other"
        ],
        [
         "3",
         "8793581",
         "https://q-r.to/bfS9Vr",
         "http://www.phishtank.com/phish_detail.php?phish_id=8793581",
         "2024-10-04T18:06:09+00:00",
         "yes",
         "2024-10-04T18:13:15+00:00",
         "yes",
         "Other"
        ],
        [
         "4",
         "8673449",
         "https://bit.ly/4bWzj7e",
         "http://www.phishtank.com/phish_detail.php?phish_id=8673449",
         "2024-07-23T23:08:53+00:00",
         "yes",
         "2024-07-23T23:13:13+00:00",
         "yes",
         "Other"
        ]
       ],
       "shape": {
        "columns": 8,
        "rows": 5
       }
      },
      "text/html": [
       "<div>\n",
       "<style scoped>\n",
       "    .dataframe tbody tr th:only-of-type {\n",
       "        vertical-align: middle;\n",
       "    }\n",
       "\n",
       "    .dataframe tbody tr th {\n",
       "        vertical-align: top;\n",
       "    }\n",
       "\n",
       "    .dataframe thead th {\n",
       "        text-align: right;\n",
       "    }\n",
       "</style>\n",
       "<table border=\"1\" class=\"dataframe\">\n",
       "  <thead>\n",
       "    <tr style=\"text-align: right;\">\n",
       "      <th></th>\n",
       "      <th>phish_id</th>\n",
       "      <th>url</th>\n",
       "      <th>phish_detail_url</th>\n",
       "      <th>submission_time</th>\n",
       "      <th>verified</th>\n",
       "      <th>verification_time</th>\n",
       "      <th>online</th>\n",
       "      <th>target</th>\n",
       "    </tr>\n",
       "  </thead>\n",
       "  <tbody>\n",
       "    <tr>\n",
       "      <th>0</th>\n",
       "      <td>8790063</td>\n",
       "      <td>https://qrco.de/bfRN0D</td>\n",
       "      <td>http://www.phishtank.com/phish_detail.php?phis...</td>\n",
       "      <td>2024-10-01T15:47:07+00:00</td>\n",
       "      <td>yes</td>\n",
       "      <td>2024-10-01T16:09:52+00:00</td>\n",
       "      <td>yes</td>\n",
       "      <td>Other</td>\n",
       "    </tr>\n",
       "    <tr>\n",
       "      <th>1</th>\n",
       "      <td>8547971</td>\n",
       "      <td>https://webmail.sfr.quo.temporary.site/</td>\n",
       "      <td>http://www.phishtank.com/phish_detail.php?phis...</td>\n",
       "      <td>2024-04-23T13:52:13+00:00</td>\n",
       "      <td>yes</td>\n",
       "      <td>2024-04-23T14:04:05+00:00</td>\n",
       "      <td>yes</td>\n",
       "      <td>Other</td>\n",
       "    </tr>\n",
       "    <tr>\n",
       "      <th>2</th>\n",
       "      <td>8667187</td>\n",
       "      <td>https://odunlar.weebly.com/</td>\n",
       "      <td>http://www.phishtank.com/phish_detail.php?phis...</td>\n",
       "      <td>2024-07-20T19:10:41+00:00</td>\n",
       "      <td>yes</td>\n",
       "      <td>2024-07-20T19:13:24+00:00</td>\n",
       "      <td>yes</td>\n",
       "      <td>Other</td>\n",
       "    </tr>\n",
       "    <tr>\n",
       "      <th>3</th>\n",
       "      <td>8793581</td>\n",
       "      <td>https://q-r.to/bfS9Vr</td>\n",
       "      <td>http://www.phishtank.com/phish_detail.php?phis...</td>\n",
       "      <td>2024-10-04T18:06:09+00:00</td>\n",
       "      <td>yes</td>\n",
       "      <td>2024-10-04T18:13:15+00:00</td>\n",
       "      <td>yes</td>\n",
       "      <td>Other</td>\n",
       "    </tr>\n",
       "    <tr>\n",
       "      <th>4</th>\n",
       "      <td>8673449</td>\n",
       "      <td>https://bit.ly/4bWzj7e</td>\n",
       "      <td>http://www.phishtank.com/phish_detail.php?phis...</td>\n",
       "      <td>2024-07-23T23:08:53+00:00</td>\n",
       "      <td>yes</td>\n",
       "      <td>2024-07-23T23:13:13+00:00</td>\n",
       "      <td>yes</td>\n",
       "      <td>Other</td>\n",
       "    </tr>\n",
       "  </tbody>\n",
       "</table>\n",
       "</div>"
      ],
      "text/plain": [
       "   phish_id                                      url  \\\n",
       "0   8790063                   https://qrco.de/bfRN0D   \n",
       "1   8547971  https://webmail.sfr.quo.temporary.site/   \n",
       "2   8667187              https://odunlar.weebly.com/   \n",
       "3   8793581                    https://q-r.to/bfS9Vr   \n",
       "4   8673449                   https://bit.ly/4bWzj7e   \n",
       "\n",
       "                                    phish_detail_url  \\\n",
       "0  http://www.phishtank.com/phish_detail.php?phis...   \n",
       "1  http://www.phishtank.com/phish_detail.php?phis...   \n",
       "2  http://www.phishtank.com/phish_detail.php?phis...   \n",
       "3  http://www.phishtank.com/phish_detail.php?phis...   \n",
       "4  http://www.phishtank.com/phish_detail.php?phis...   \n",
       "\n",
       "             submission_time verified          verification_time online target  \n",
       "0  2024-10-01T15:47:07+00:00      yes  2024-10-01T16:09:52+00:00    yes  Other  \n",
       "1  2024-04-23T13:52:13+00:00      yes  2024-04-23T14:04:05+00:00    yes  Other  \n",
       "2  2024-07-20T19:10:41+00:00      yes  2024-07-20T19:13:24+00:00    yes  Other  \n",
       "3  2024-10-04T18:06:09+00:00      yes  2024-10-04T18:13:15+00:00    yes  Other  \n",
       "4  2024-07-23T23:08:53+00:00      yes  2024-07-23T23:13:13+00:00    yes  Other  "
      ]
     },
     "execution_count": 18,
     "metadata": {},
     "output_type": "execute_result"
    }
   ],
   "source": [
    "phishurl = data0.sample(n = 10000, random_state = 12).copy()\n",
    "phishurl = phishurl.reset_index(drop=True)\n",
    "phishurl.head()"
   ]
  },
  {
   "cell_type": "code",
   "execution_count": 19,
   "metadata": {
    "id": "nK7-g8_AgzAn"
   },
   "outputs": [
    {
     "data": {
      "text/plain": [
       "(10000, 8)"
      ]
     },
     "execution_count": 19,
     "metadata": {},
     "output_type": "execute_result"
    }
   ],
   "source": [
    "phishurl.shape"
   ]
  },
  {
   "cell_type": "markdown",
   "metadata": {
    "id": "zig-Q72gg3eS"
   },
   "source": [
    "## **1.2. Legitimate URLs:**"
   ]
  },
  {
   "cell_type": "code",
   "execution_count": 20,
   "metadata": {
    "id": "8nkZd9iIg8Vt"
   },
   "outputs": [
    {
     "data": {
      "application/vnd.microsoft.datawrangler.viewer.v0+json": {
       "columns": [
        {
         "name": "index",
         "rawType": "int64",
         "type": "integer"
        },
        {
         "name": "URLs",
         "rawType": "object",
         "type": "string"
        }
       ],
       "conversionMethod": "pd.DataFrame",
       "ref": "0e0aaa66-a72e-490f-bd53-77f9cc010c5f",
       "rows": [
        [
         "0",
         "http://1337x.to/torrent/1110018/Blackhat-2015-RUSSIAN-720p-WEB-DL-DD5-1-H264-RUFGT/"
        ],
        [
         "1",
         "http://1337x.to/torrent/1122940/Blackhat-2015-x264-1080p-WEB-DL-eng-nl-subs-sharky/"
        ],
        [
         "2",
         "http://1337x.to/torrent/1124395/Fast-and-Furious-7-2015-HD-TS-XVID-AC3-HQ-Hive-CM8/"
        ],
        [
         "3",
         "http://1337x.to/torrent/1145504/Avengers-Age-of-Ultron-2015-CAM-New-Audio-x264-CPG/"
        ],
        [
         "4",
         "http://1337x.to/torrent/1160078/Avengers-age-of-Ultron-2015-HQ-CAM-H264-AC3-MURD3R/"
        ]
       ],
       "shape": {
        "columns": 1,
        "rows": 5
       }
      },
      "text/html": [
       "<div>\n",
       "<style scoped>\n",
       "    .dataframe tbody tr th:only-of-type {\n",
       "        vertical-align: middle;\n",
       "    }\n",
       "\n",
       "    .dataframe tbody tr th {\n",
       "        vertical-align: top;\n",
       "    }\n",
       "\n",
       "    .dataframe thead th {\n",
       "        text-align: right;\n",
       "    }\n",
       "</style>\n",
       "<table border=\"1\" class=\"dataframe\">\n",
       "  <thead>\n",
       "    <tr style=\"text-align: right;\">\n",
       "      <th></th>\n",
       "      <th>URLs</th>\n",
       "    </tr>\n",
       "  </thead>\n",
       "  <tbody>\n",
       "    <tr>\n",
       "      <th>0</th>\n",
       "      <td>http://1337x.to/torrent/1110018/Blackhat-2015-...</td>\n",
       "    </tr>\n",
       "    <tr>\n",
       "      <th>1</th>\n",
       "      <td>http://1337x.to/torrent/1122940/Blackhat-2015-...</td>\n",
       "    </tr>\n",
       "    <tr>\n",
       "      <th>2</th>\n",
       "      <td>http://1337x.to/torrent/1124395/Fast-and-Furio...</td>\n",
       "    </tr>\n",
       "    <tr>\n",
       "      <th>3</th>\n",
       "      <td>http://1337x.to/torrent/1145504/Avengers-Age-o...</td>\n",
       "    </tr>\n",
       "    <tr>\n",
       "      <th>4</th>\n",
       "      <td>http://1337x.to/torrent/1160078/Avengers-age-o...</td>\n",
       "    </tr>\n",
       "  </tbody>\n",
       "</table>\n",
       "</div>"
      ],
      "text/plain": [
       "                                                URLs\n",
       "0  http://1337x.to/torrent/1110018/Blackhat-2015-...\n",
       "1  http://1337x.to/torrent/1122940/Blackhat-2015-...\n",
       "2  http://1337x.to/torrent/1124395/Fast-and-Furio...\n",
       "3  http://1337x.to/torrent/1145504/Avengers-Age-o...\n",
       "4  http://1337x.to/torrent/1160078/Avengers-age-o..."
      ]
     },
     "execution_count": 20,
     "metadata": {},
     "output_type": "execute_result"
    }
   ],
   "source": [
    "#Load legitimate files\n",
    "data1 = pd.read_csv(data_dir + \"List_Benign_URL.csv\")\n",
    "data1.columns = ['URLs']\n",
    "data1.head()"
   ]
  },
  {
   "cell_type": "code",
   "execution_count": 21,
   "metadata": {
    "id": "_bUYzGXAhC7r"
   },
   "outputs": [
    {
     "data": {
      "application/vnd.microsoft.datawrangler.viewer.v0+json": {
       "columns": [
        {
         "name": "index",
         "rawType": "int64",
         "type": "integer"
        },
        {
         "name": "URLs",
         "rawType": "object",
         "type": "string"
        }
       ],
       "conversionMethod": "pd.DataFrame",
       "ref": "99806541-0771-4176-9245-4fbe85b6066a",
       "rows": [
        [
         "0",
         "http://graphicriver.net/search?date=this-month&length_max=&length_min=&price_max=&price_min=&rating_min=&sales=&sort=sales&term=&view=list"
        ],
        [
         "1",
         "http://ecnavi.jp/redirect/?url=http://www.cross-a.net/x.php?id=1845_3212_22061_26563&m=1004&pid=%user_id%"
        ],
        [
         "2",
         "https://hubpages.com/signin?explain=follow+Hubs&url=%2Fhub%2FComfort-Theories-of-Religion"
        ],
        [
         "3",
         "http://extratorrent.cc/torrent/4190536/AOMEI+Backupper+Technician+%2B+Server+Edition+2.8.0+%2B+Patch+%2B+Key+%2B+100%25+Working.html"
        ],
        [
         "4",
         "http://icicibank.com/Personal-Banking/offers/offer-detail.page?id=offer-ezeego-domestic-airtravel-20141407112611060"
        ]
       ],
       "shape": {
        "columns": 1,
        "rows": 5
       }
      },
      "text/html": [
       "<div>\n",
       "<style scoped>\n",
       "    .dataframe tbody tr th:only-of-type {\n",
       "        vertical-align: middle;\n",
       "    }\n",
       "\n",
       "    .dataframe tbody tr th {\n",
       "        vertical-align: top;\n",
       "    }\n",
       "\n",
       "    .dataframe thead th {\n",
       "        text-align: right;\n",
       "    }\n",
       "</style>\n",
       "<table border=\"1\" class=\"dataframe\">\n",
       "  <thead>\n",
       "    <tr style=\"text-align: right;\">\n",
       "      <th></th>\n",
       "      <th>URLs</th>\n",
       "    </tr>\n",
       "  </thead>\n",
       "  <tbody>\n",
       "    <tr>\n",
       "      <th>0</th>\n",
       "      <td>http://graphicriver.net/search?date=this-month...</td>\n",
       "    </tr>\n",
       "    <tr>\n",
       "      <th>1</th>\n",
       "      <td>http://ecnavi.jp/redirect/?url=http://www.cros...</td>\n",
       "    </tr>\n",
       "    <tr>\n",
       "      <th>2</th>\n",
       "      <td>https://hubpages.com/signin?explain=follow+Hub...</td>\n",
       "    </tr>\n",
       "    <tr>\n",
       "      <th>3</th>\n",
       "      <td>http://extratorrent.cc/torrent/4190536/AOMEI+B...</td>\n",
       "    </tr>\n",
       "    <tr>\n",
       "      <th>4</th>\n",
       "      <td>http://icicibank.com/Personal-Banking/offers/o...</td>\n",
       "    </tr>\n",
       "  </tbody>\n",
       "</table>\n",
       "</div>"
      ],
      "text/plain": [
       "                                                URLs\n",
       "0  http://graphicriver.net/search?date=this-month...\n",
       "1  http://ecnavi.jp/redirect/?url=http://www.cros...\n",
       "2  https://hubpages.com/signin?explain=follow+Hub...\n",
       "3  http://extratorrent.cc/torrent/4190536/AOMEI+B...\n",
       "4  http://icicibank.com/Personal-Banking/offers/o..."
      ]
     },
     "execution_count": 21,
     "metadata": {},
     "output_type": "execute_result"
    }
   ],
   "source": [
    "#Collec 5,000 Legitimate URLs randomly\n",
    "legiurl = data1.sample(n = 10000, random_state = 12).copy()\n",
    "legiurl = legiurl.reset_index(drop=True)\n",
    "legiurl.head()"
   ]
  },
  {
   "cell_type": "code",
   "execution_count": 22,
   "metadata": {
    "id": "PS0c5E-hhHLC"
   },
   "outputs": [
    {
     "data": {
      "text/plain": [
       "(10000, 1)"
      ]
     },
     "execution_count": 22,
     "metadata": {},
     "output_type": "execute_result"
    }
   ],
   "source": [
    "legiurl.shape"
   ]
  },
  {
   "cell_type": "markdown",
   "metadata": {
    "id": "d4qkPwIYiDw9"
   },
   "source": [
    "# **2. Trích xuất thuộc tính**\n",
    "Các thuộc tính sẽ được trích xuất phân loại thành:\n",
    "* Address Bar\n",
    "* Domain\n",
    "* HTML & Javascript"
   ]
  },
  {
   "cell_type": "markdown",
   "metadata": {
    "id": "v6nY9qtiilUF"
   },
   "source": [
    "## **2.1 Thuộc tính Address Bar**\n",
    "Ta chỉ chọn một số thuộc tính cơ bản sau:\n",
    "* Domain of URL\n",
    "* IP Address in URL\n",
    "* \"@\" Symbol in URL\n",
    "* Length of URL\n",
    "* Depth of URL\n",
    "* Redirection \"//\" in URL\n",
    "* \"http/https\" in Domain name\n",
    "* Using URL Shortening Services “TinyURL”\n",
    "* Prefix or Suffix \"-\" in Domain"
   ]
  },
  {
   "cell_type": "code",
   "execution_count": 17,
   "metadata": {
    "id": "jOC_m-JGi9NY"
   },
   "outputs": [],
   "source": [
    "from urllib.parse import urlparse,urlencode\n",
    "import ipaddress\n",
    "import re"
   ]
  },
  {
   "cell_type": "code",
   "execution_count": 18,
   "metadata": {
    "id": "9BTu5auHjA48"
   },
   "outputs": [],
   "source": [
    "# 1.Domain\n",
    "def getDomain(url):\n",
    "\tdomain = urlparse(url).netloc\n",
    "\tif re.match(r\"^www.\",domain):\n",
    "\t\tdomain = domain.replace(\"www.\",\"\")\n",
    "\treturn domain"
   ]
  },
  {
   "cell_type": "code",
   "execution_count": 19,
   "metadata": {
    "id": "qrNKXE4AjDWh"
   },
   "outputs": [],
   "source": [
    "# 2.Have_IP\n",
    "def havingIP(url):\n",
    "  try:\n",
    "    ipaddress.ip_address(url)\n",
    "    ip = 1\n",
    "  except:\n",
    "    ip = 0\n",
    "  return ip"
   ]
  },
  {
   "cell_type": "code",
   "execution_count": 20,
   "metadata": {
    "id": "6FcxEs-jj5Ms"
   },
   "outputs": [],
   "source": [
    "# 3.Have_At (@)\n",
    "def haveAtSign(url):\n",
    "  if \"@\" in url:\n",
    "    at = 1\n",
    "  else:\n",
    "    at = 0\n",
    "  return at"
   ]
  },
  {
   "cell_type": "code",
   "execution_count": 21,
   "metadata": {
    "id": "E-qTnvroj86_"
   },
   "outputs": [],
   "source": [
    "# 4.URL_Length\n",
    "def getLength(url):\n",
    "  if len(url) < 54:\n",
    "    length = 0\n",
    "  else:\n",
    "    length = 1\n",
    "  return length"
   ]
  },
  {
   "cell_type": "code",
   "execution_count": 22,
   "metadata": {
    "id": "b93onpZvkAmQ"
   },
   "outputs": [],
   "source": [
    "# 5.URL_Depth '/'\n",
    "def getDepth(url):\n",
    "  s = urlparse(url).path.split('/')\n",
    "  depth = 0\n",
    "  for j in range(len(s)):\n",
    "    if len(s[j]) != 0:\n",
    "      depth = depth+1\n",
    "  return depth"
   ]
  },
  {
   "cell_type": "code",
   "execution_count": 23,
   "metadata": {
    "id": "b6Sd7YdlkOQG"
   },
   "outputs": [],
   "source": [
    "# 6.Redirection '//'\n",
    "def redirection(url):\n",
    "  pos = url.rfind('//')\n",
    "  if pos > 6:\n",
    "    if pos > 7:\n",
    "      return 1\n",
    "    else:\n",
    "      return 0\n",
    "  else:\n",
    "    return 0"
   ]
  },
  {
   "cell_type": "code",
   "execution_count": 24,
   "metadata": {
    "id": "KBDrNAdSkUCe"
   },
   "outputs": [],
   "source": [
    "# 7. https_Domain\n",
    "def httpDomain(url):\n",
    "  domain = urlparse(url).netloc\n",
    "  if 'https' in domain:\n",
    "    return 1\n",
    "  else:\n",
    "    return 0"
   ]
  },
  {
   "cell_type": "code",
   "execution_count": 25,
   "metadata": {
    "id": "akh4nT02ksTu"
   },
   "outputs": [],
   "source": [
    "# 8. Checking Tiny_URL\n",
    "shortening_services = r\"bit\\.ly|goo\\.gl|shorte\\.st|go2l\\.ink|x\\.co|ow\\.ly|t\\.co|tinyurl|tr\\.im|is\\.gd|cli\\.gs|\" \\\n",
    "                      r\"yfrog\\.com|migre\\.me|ff\\.im|tiny\\.cc|url4\\.eu|twit\\.ac|su\\.pr|twurl\\.nl|snipurl\\.com|\" \\\n",
    "                      r\"short\\.to|BudURL\\.com|ping\\.fm|post\\.ly|Just\\.as|bkite\\.com|snipr\\.com|fic\\.kr|loopt\\.us|\" \\\n",
    "                      r\"doiop\\.com|short\\.ie|kl\\.am|wp\\.me|rubyurl\\.com|om\\.ly|to\\.ly|bit\\.do|t\\.co|lnkd\\.in|db\\.tt|\" \\\n",
    "                      r\"qr\\.ae|adf\\.ly|goo\\.gl|bitly\\.com|cur\\.lv|tinyurl\\.com|ow\\.ly|bit\\.ly|ity\\.im|q\\.gs|is\\.gd|\" \\\n",
    "                      r\"po\\.st|bc\\.vc|twitthis\\.com|u\\.to|j\\.mp|buzurl\\.com|cutt\\.us|u\\.bb|yourls\\.org|x\\.co|\" \\\n",
    "                      r\"prettylinkpro\\.com|scrnch\\.me|filoops\\.info|vzturl\\.com|qr\\.net|1url\\.com|tweez\\.me|v\\.gd|\" \\\n",
    "                      r\"tr\\.im|link\\.zip\\.net\"\n",
    "\n",
    "def tinyURL(url):\n",
    "    match=re.search(shortening_services,url)\n",
    "    if match:\n",
    "        return 1\n",
    "    else:\n",
    "        return 0"
   ]
  },
  {
   "cell_type": "code",
   "execution_count": 26,
   "metadata": {
    "id": "y6SNSnNHmOJQ"
   },
   "outputs": [],
   "source": [
    "# 9.Check Prefix or Suffix \"-\" in Domain\n",
    "def prefixSuffix(url):\n",
    "    if '-' in urlparse(url).netloc:\n",
    "        return 1            # phishing\n",
    "    else:\n",
    "        return 0            # legitimate"
   ]
  },
  {
   "cell_type": "markdown",
   "metadata": {
    "id": "BXmYbf6CnEig"
   },
   "source": [
    "## **2.2 Thuộc tính Domain**\n",
    "Các thể loại thuộc tính được trích xuất:\n",
    "* DNS Record\n",
    "* Website Traffic\n",
    "* Age of Domain\n",
    "* End Period of Domain"
   ]
  },
  {
   "cell_type": "code",
   "execution_count": 27,
   "metadata": {
    "id": "CfL6wK_NnZAE"
   },
   "outputs": [],
   "source": [
    "import re\n",
    "from bs4 import BeautifulSoup\n",
    "import whois\n",
    "import urllib\n",
    "import urllib.request\n",
    "from datetime import datetime\n",
    "from urllib.error import URLError\n",
    "from socket import gaierror, timeout as SocketTimeoutError"
   ]
  },
  {
   "cell_type": "code",
   "execution_count": 28,
   "metadata": {
    "id": "j83TKgwuxUOA"
   },
   "outputs": [],
   "source": [
    "#Nếu thứ hạng của doamin <100000, giá trị của tính năng này là 1 (lừa đảo) khác 0 (hợp pháp).\n",
    "# 12.Web traffic\n",
    "def web_traffic(url):\n",
    "  rank = 1 # Default to 1 (phishing/unknown)\n",
    "  try:\n",
    "    #Fill whitespaces URL if any\n",
    "    url = urllib.parse.quote(url)\n",
    "    # The data.alexa.com service is retired. This request will likely fail.\n",
    "    # Added timeout=5 seconds\n",
    "    response = urllib.request.urlopen(\"http://data.alexa.com/data?cli=10&dat=s&url=\" + url, timeout=5).read()\n",
    "    soup = BeautifulSoup(response, \"xml\")\n",
    "    reach_tag = soup.find(\"REACH\")\n",
    "    # Check if tag and RANK attribute exist\n",
    "    if reach_tag and 'RANK' in reach_tag.attrs:\n",
    "        rank_str = reach_tag['RANK']\n",
    "        rank_val = int(rank_str)\n",
    "        # Assign 0 only if rank is >= 100000\n",
    "        if rank_val >= 100000:\n",
    "            rank = 0\n",
    "    # Otherwise, rank remains 1 (default)\n",
    "  except (URLError, gaierror, SocketTimeoutError, ConnectionResetError, TypeError, ValueError):\n",
    "    # Catch specific network/DNS/timeout errors, parsing errors, or type errors\n",
    "    # Return 1 (indicating potential phishing or unknown traffic) if data unavailable or error occurs\n",
    "    rank = 1\n",
    "  except Exception as e:\n",
    "    # Catch any other unexpected error during parsing, default to 1\n",
    "    # print(f\"Unexpected error in web_traffic for {url}: {e}\") # Optional: log other errors\n",
    "    rank = 1\n",
    "  return rank"
   ]
  },
  {
   "cell_type": "code",
   "execution_count": 29,
   "metadata": {
    "id": "mM7H1s44yx-0"
   },
   "outputs": [],
   "source": [
    "#Nếu age of domain > 12 tháng, giá trị của tính năng này là 1 (lừa đảo) khác 0 (hợp pháp)\n",
    "# 13.Survival time of domain (Domain_Age)\n",
    "def domainAge(domain_name):\n",
    "  creation_date = domain_name.creation_date\n",
    "  expiration_date = domain_name.expiration_date\n",
    "  if (isinstance(creation_date,str) or isinstance(expiration_date,str)):\n",
    "    try:\n",
    "      creation_date = datetime.strptime(creation_date,'%Y-%m-%d')\n",
    "      expiration_date = datetime.strptime(expiration_date,\"%Y-%m-%d\")\n",
    "    except:\n",
    "      return 1\n",
    "  if ((expiration_date is None) or (creation_date is None)):\n",
    "      return 1\n",
    "  elif ((type(expiration_date) is list) or (type(creation_date) is list)):\n",
    "      return 1\n",
    "  else:\n",
    "    ageofdomain = abs((expiration_date - creation_date).days)\n",
    "    if ((ageofdomain/30) < 6):\n",
    "      age = 1\n",
    "    else:\n",
    "      age = 0\n",
    "  return age"
   ]
  },
  {
   "cell_type": "code",
   "execution_count": 30,
   "metadata": {
    "id": "AEccgtpnzzzz"
   },
   "outputs": [],
   "source": [
    "# Nếu period of domain > 6 tháng, giá trị của tính năng này là 1 (lừa đảo) khác 0 (hợp pháp)\n",
    "# 14.End time of domain (Domain_End)\n",
    "def domainEnd(domain_name):\n",
    "  expiration_date = domain_name.expiration_date\n",
    "  if isinstance(expiration_date,str):\n",
    "    try:\n",
    "      expiration_date = datetime.strptime(expiration_date,\"%Y-%m-%d\")\n",
    "    except:\n",
    "      return 1\n",
    "  if (expiration_date is None):\n",
    "      return 1\n",
    "  elif (type(expiration_date) is list):\n",
    "      return 1\n",
    "  else:\n",
    "    # Make sure both dates are timezone-naive\n",
    "    if hasattr(expiration_date, 'tzinfo') and expiration_date.tzinfo is not None:\n",
    "        # Convert to timezone-naive by replacing tzinfo with None\n",
    "        expiration_date = expiration_date.replace(tzinfo=None)\n",
    "    today = datetime.now()\n",
    "    end = abs((expiration_date - today).days)\n",
    "    if ((end/30) < 6):\n",
    "      end = 0\n",
    "    else:\n",
    "      end = 1\n",
    "  return end"
   ]
  },
  {
   "cell_type": "markdown",
   "metadata": {
    "id": "OHhuivfQ0lC1"
   },
   "source": [
    "## **2.3 Thuộc tính HTML and JavaScript**\n",
    "Các tập thuộc tính được trích xuất sau:\n",
    "* IFrame Redirection\n",
    "* Status Bar Customization\n",
    "* Disabling Right Click\n",
    "* Website Forwarding"
   ]
  },
  {
   "cell_type": "code",
   "execution_count": 31,
   "metadata": {
    "id": "lYTuNafPryhx"
   },
   "outputs": [],
   "source": [
    "import requests"
   ]
  },
  {
   "cell_type": "code",
   "execution_count": 32,
   "metadata": {
    "id": "s6JXVOk4r3Mv"
   },
   "outputs": [],
   "source": [
    "# 15. IFrame\n",
    "def iframe(response):\n",
    "  if response == \"\":\n",
    "      return 1\n",
    "  else:\n",
    "      if re.findall(r\"[<iframe>|<frameBorder>]\", response.text):\n",
    "          return 0\n",
    "      else:\n",
    "          return 1"
   ]
  },
  {
   "cell_type": "code",
   "execution_count": 33,
   "metadata": {
    "id": "GHHKtmV9s6yv"
   },
   "outputs": [],
   "source": [
    "# 16.Check Mouse_Over\n",
    "def mouseOver(response):\n",
    "  if response == \"\" :\n",
    "    return 1\n",
    "  else:\n",
    "    if re.findall(\"<script>.+onmouseover.+</script>\", response.text):\n",
    "      return 1\n",
    "    else:\n",
    "      return 0"
   ]
  },
  {
   "cell_type": "code",
   "execution_count": 34,
   "metadata": {
    "id": "tFq7h5uCs9jN"
   },
   "outputs": [],
   "source": [
    "# 17.Check Right_Click\n",
    "def rightClick(response):\n",
    "  if response == \"\":\n",
    "    return 1\n",
    "  else:\n",
    "    if re.findall(r\"event.button ?== ?2\", response.text):\n",
    "      return 0\n",
    "    else:\n",
    "      return 1"
   ]
  },
  {
   "cell_type": "code",
   "execution_count": 35,
   "metadata": {
    "id": "VEblaDoetB-P"
   },
   "outputs": [],
   "source": [
    "# 18.Check Web_Forwards\n",
    "def forwarding(response):\n",
    "  if response == \"\":\n",
    "    return 1\n",
    "  else:\n",
    "    if len(response.history) <= 2:\n",
    "      return 0\n",
    "    else:\n",
    "      return 1"
   ]
  },
  {
   "cell_type": "markdown",
   "metadata": {
    "id": "8U_zpFS8uI3w"
   },
   "source": [
    "# **3. Tính toán thuộc tính URLs**\n",
    "Tạo danh sách và một hàm gọi các hàm khác và lưu trữ tất cả các thuộc tính của URL vào list."
   ]
  },
  {
   "cell_type": "code",
   "execution_count": 36,
   "metadata": {
    "id": "9hXNS5PEucJA"
   },
   "outputs": [],
   "source": [
    "def featureExtraction(url,label):\n",
    "\n",
    "  features = []\n",
    "  #Address bar features (10)\n",
    "  features.append(getDomain(url))\n",
    "  features.append(havingIP(url))\n",
    "  features.append(haveAtSign(url))\n",
    "  features.append(getLength(url))\n",
    "  features.append(getDepth(url))\n",
    "  features.append(redirection(url))\n",
    "  features.append(httpDomain(url))\n",
    "  features.append(tinyURL(url))\n",
    "  features.append(prefixSuffix(url))\n",
    "\n",
    "  #Domain features (4)\n",
    "  dns = 0\n",
    "  domain_name = None # Initialize domain_name\n",
    "  try:\n",
    "    parsed_url = urlparse(url)\n",
    "    netloc = parsed_url.netloc\n",
    "    # Ensure there's a network location before calling whois\n",
    "    if netloc:\n",
    "        # Basic check to avoid calling whois on things that are clearly not domains\n",
    "        if '.' in netloc and not netloc.replace('.', '').isdigit(): # Avoid IP addresses\n",
    "             # Note: The whois library might log its own network errors (timeouts, DNS issues)\n",
    "             # even if we catch the exceptions here.\n",
    "             domain_name = whois.whois(netloc)\n",
    "        else:\n",
    "             dns = 1 # Treat IPs or invalid netlocs as having no valid DNS/whois\n",
    "    else:\n",
    "        # Handle cases where urlparse fails to find a domain (e.g., relative paths, malformed URLs)\n",
    "        dns = 1\n",
    "    # Check if whois returned None or an empty result (common for some TLDs or if lookup failed silently)\n",
    "    if domain_name is None or not getattr(domain_name, 'creation_date', None):\n",
    "        dns = 1\n",
    "\n",
    "  except (whois.parser.PywhoisError, # Library specific parsing errors\n",
    "          gaierror,                 # DNS lookup errors (e.g., getaddrinfo failed)\n",
    "          SocketTimeoutError,       # Socket level timeouts\n",
    "          TimeoutError,             # General timeout errors\n",
    "          ConnectionRefusedError,   # Connection refused by server\n",
    "          ConnectionResetError,     # Connection reset by peer\n",
    "          UnicodeDecodeError,       # Errors decoding WHOIS response\n",
    "          TypeError,                # Unexpected data types from whois\n",
    "          AttributeError) as e:     # Missing attributes in whois response\n",
    "    # Catch specific errors related to whois lookup, DNS, timeouts, connection issues, parsing, or unexpected data types/attributes\n",
    "    # print(f\"WHOIS lookup error for {netloc}: {type(e).__name__} - {e}\") # Optional: log the caught error\n",
    "    dns = 1\n",
    "  except Exception as e:\n",
    "    # Catch any other unexpected error during WHOIS\n",
    "    # print(f\"Unexpected error during WHOIS lookup for {url}: {e}\") # Optional: log other errors\n",
    "    dns = 1\n",
    "\n",
    "\n",
    "  features.append(dns)\n",
    "  features.append(web_traffic(url)) # Call the refined web_traffic\n",
    "  # Ensure domain_name is valid before passing to domainAge/domainEnd\n",
    "  features.append(1 if dns == 1 or domain_name is None else domainAge(domain_name))\n",
    "  features.append(1 if dns == 1 or domain_name is None else domainEnd(domain_name))\n",
    "\n",
    "  # HTML & Javascript features (4)\n",
    "  response = \"\" # Initialize response\n",
    "  try:\n",
    "    # Added timeout and headers to mimic a browser slightly more\n",
    "    headers = {'User-Agent': 'Mozilla/5.0 (Windows NT 10.0; Win64; x64) AppleWebKit/537.36 (KHTML, like Gecko) Chrome/58.0.3029.110 Safari/537.3'}\n",
    "    # Allow redirects, but maybe add max redirects later if needed\n",
    "    response = requests.get(url, timeout=5, headers=headers, allow_redirects=True)\n",
    "    response.raise_for_status() # Raise HTTPError for bad responses (4xx or 5xx)\n",
    "  except (requests.exceptions.RequestException, requests.exceptions.Timeout, requests.exceptions.ConnectionError, requests.exceptions.HTTPError, requests.exceptions.TooManyRedirects) as e:\n",
    "    # Catch common requests errors including too many redirects\n",
    "    # print(f\"Error fetching HTML for {url}: {e}\") # Optional logging\n",
    "    response = \"\" # Ensure response is empty on error\n",
    "  except Exception as e:\n",
    "    # Catch any other unexpected error\n",
    "    # print(f\"Unexpected error fetching HTML for {url}: {e}\") # Optional logging\n",
    "    response = \"\"\n",
    "\n",
    "  features.append(iframe(response))\n",
    "  features.append(mouseOver(response))\n",
    "  features.append(rightClick(response))\n",
    "  features.append(forwarding(response))\n",
    "  features.append(label)\n",
    "\n",
    "  return features"
   ]
  },
  {
   "cell_type": "code",
   "execution_count": 37,
   "metadata": {},
   "outputs": [],
   "source": [
    "from tqdm.notebook import tqdm\n",
    "import multiprocessing as mp\n",
    "from functools import partial"
   ]
  },
  {
   "cell_type": "code",
   "execution_count": 38,
   "metadata": {},
   "outputs": [],
   "source": [
    "# Function to extract features for a batch of URLs\n",
    "def extract_batch_features(urls, label, start_idx, end_idx):\n",
    "    batch_features = []\n",
    "    # Create a tqdm progress bar for each batch\n",
    "    for i in tqdm(range(start_idx, end_idx), desc=f'Processing batch {start_idx}-{end_idx}'):\n",
    "        if i < len(urls):\n",
    "            url = urls[i]\n",
    "            batch_features.append(featureExtraction(url, label))\n",
    "    return batch_features\n",
    "\n",
    "# Function to parallelize feature extraction across cores\n",
    "def parallel_feature_extraction(urls, label, n_cores=4):\n",
    "    num_urls = len(urls)\n",
    "    pool = mp.Pool(processes=n_cores)\n",
    "    \n",
    "    # Divide work among cores\n",
    "    batch_size = num_urls // n_cores\n",
    "    remainder = num_urls % n_cores\n",
    "    \n",
    "    print(f\"Extracting features from {num_urls} URLs using {n_cores} cores...\")\n",
    "    print(f\"Batch size: {batch_size} URLs per core\")\n",
    "    \n",
    "    # Create batches for each core\n",
    "    batch_args = []\n",
    "    start_idx = 0\n",
    "    \n",
    "    for i in range(n_cores):\n",
    "        # Add one extra item to some batches if there's a remainder\n",
    "        extra = 1 if i < remainder else 0\n",
    "        end_idx = start_idx + batch_size + extra\n",
    "        \n",
    "        batch_args.append((urls, label, start_idx, end_idx))\n",
    "        start_idx = end_idx\n",
    "    \n",
    "    # Execute in parallel and collect results with overall progress bar\n",
    "    with tqdm(total=n_cores, desc='Overall progress') as pbar:\n",
    "        results = []\n",
    "        for batch in pool.starmap(extract_batch_features, batch_args):\n",
    "            results.append(batch)\n",
    "            pbar.update(1)\n",
    "    \n",
    "    pool.close()\n",
    "    pool.join()\n",
    "    \n",
    "    # Flatten the results\n",
    "    all_features = []\n",
    "    for batch in results:\n",
    "        all_features.extend(batch)\n",
    "    \n",
    "    return all_features"
   ]
  },
  {
   "cell_type": "markdown",
   "metadata": {
    "id": "ffe4oHjRuxwQ"
   },
   "source": [
    "## **3.1 URL hợp pháp**"
   ]
  },
  {
   "cell_type": "code",
   "execution_count": 76,
   "metadata": {
    "id": "yb2gbP2ovDgv"
   },
   "outputs": [
    {
     "data": {
      "text/plain": [
       "(10000, 1)"
      ]
     },
     "execution_count": 76,
     "metadata": {},
     "output_type": "execute_result"
    }
   ],
   "source": [
    "legiurl.shape"
   ]
  },
  {
   "cell_type": "code",
   "execution_count": null,
   "metadata": {
    "id": "tEISffqFvFOW"
   },
   "outputs": [],
   "source": [
    "# Using multiprocessing for legitimate URLs feature extraction\n",
    "print(f\"Extracting features for legitimate URLs using {mp.cpu_count()} cores...\")\n",
    "label = 0\n",
    "legi_features = parallel_feature_extraction(legiurl['URLs'], label, n_cores=4)"
   ]
  },
  {
   "cell_type": "code",
   "execution_count": 79,
   "metadata": {
    "id": "6RcNmvlnvG6i"
   },
   "outputs": [
    {
     "data": {
      "application/vnd.microsoft.datawrangler.viewer.v0+json": {
       "columns": [
        {
         "name": "index",
         "rawType": "int64",
         "type": "integer"
        },
        {
         "name": "Domain",
         "rawType": "object",
         "type": "string"
        },
        {
         "name": "Have_IP",
         "rawType": "int64",
         "type": "integer"
        },
        {
         "name": "Have_At",
         "rawType": "int64",
         "type": "integer"
        },
        {
         "name": "URL_Length",
         "rawType": "int64",
         "type": "integer"
        },
        {
         "name": "URL_Depth",
         "rawType": "int64",
         "type": "integer"
        },
        {
         "name": "Redirection",
         "rawType": "int64",
         "type": "integer"
        },
        {
         "name": "https_Domain",
         "rawType": "int64",
         "type": "integer"
        },
        {
         "name": "TinyURL",
         "rawType": "int64",
         "type": "integer"
        },
        {
         "name": "Prefix/Suffix",
         "rawType": "int64",
         "type": "integer"
        },
        {
         "name": "DNS_Record",
         "rawType": "int64",
         "type": "integer"
        },
        {
         "name": "Web_Traffic",
         "rawType": "int64",
         "type": "integer"
        },
        {
         "name": "Domain_Age",
         "rawType": "int64",
         "type": "integer"
        },
        {
         "name": "Domain_End",
         "rawType": "int64",
         "type": "integer"
        },
        {
         "name": "iFrame",
         "rawType": "int64",
         "type": "integer"
        },
        {
         "name": "Mouse_Over",
         "rawType": "int64",
         "type": "integer"
        },
        {
         "name": "Right_Click",
         "rawType": "int64",
         "type": "integer"
        },
        {
         "name": "Web_Forwards",
         "rawType": "int64",
         "type": "integer"
        },
        {
         "name": "Label",
         "rawType": "int64",
         "type": "integer"
        }
       ],
       "conversionMethod": "pd.DataFrame",
       "ref": "011a83a9-9463-40f9-b230-89b9fb3fa59f",
       "rows": [
        [
         "0",
         "graphicriver.net",
         "0",
         "0",
         "1",
         "1",
         "0",
         "0",
         "0",
         "0",
         "0",
         "1",
         "1",
         "1",
         "0",
         "0",
         "1",
         "0",
         "0"
        ],
        [
         "1",
         "ecnavi.jp",
         "0",
         "0",
         "1",
         "1",
         "1",
         "0",
         "0",
         "0",
         "0",
         "1",
         "0",
         "1",
         "0",
         "0",
         "1",
         "0",
         "0"
        ],
        [
         "2",
         "hubpages.com",
         "0",
         "0",
         "1",
         "1",
         "0",
         "0",
         "0",
         "0",
         "0",
         "1",
         "0",
         "1",
         "0",
         "0",
         "1",
         "0",
         "0"
        ],
        [
         "3",
         "extratorrent.cc",
         "0",
         "0",
         "1",
         "3",
         "0",
         "0",
         "0",
         "0",
         "0",
         "1",
         "0",
         "1",
         "1",
         "1",
         "1",
         "1",
         "0"
        ],
        [
         "4",
         "icicibank.com",
         "0",
         "0",
         "1",
         "3",
         "0",
         "0",
         "0",
         "0",
         "0",
         "1",
         "0",
         "1",
         "0",
         "0",
         "1",
         "1",
         "0"
        ]
       ],
       "shape": {
        "columns": 18,
        "rows": 5
       }
      },
      "text/html": [
       "<div>\n",
       "<style scoped>\n",
       "    .dataframe tbody tr th:only-of-type {\n",
       "        vertical-align: middle;\n",
       "    }\n",
       "\n",
       "    .dataframe tbody tr th {\n",
       "        vertical-align: top;\n",
       "    }\n",
       "\n",
       "    .dataframe thead th {\n",
       "        text-align: right;\n",
       "    }\n",
       "</style>\n",
       "<table border=\"1\" class=\"dataframe\">\n",
       "  <thead>\n",
       "    <tr style=\"text-align: right;\">\n",
       "      <th></th>\n",
       "      <th>Domain</th>\n",
       "      <th>Have_IP</th>\n",
       "      <th>Have_At</th>\n",
       "      <th>URL_Length</th>\n",
       "      <th>URL_Depth</th>\n",
       "      <th>Redirection</th>\n",
       "      <th>https_Domain</th>\n",
       "      <th>TinyURL</th>\n",
       "      <th>Prefix/Suffix</th>\n",
       "      <th>DNS_Record</th>\n",
       "      <th>Web_Traffic</th>\n",
       "      <th>Domain_Age</th>\n",
       "      <th>Domain_End</th>\n",
       "      <th>iFrame</th>\n",
       "      <th>Mouse_Over</th>\n",
       "      <th>Right_Click</th>\n",
       "      <th>Web_Forwards</th>\n",
       "      <th>Label</th>\n",
       "    </tr>\n",
       "  </thead>\n",
       "  <tbody>\n",
       "    <tr>\n",
       "      <th>0</th>\n",
       "      <td>graphicriver.net</td>\n",
       "      <td>0</td>\n",
       "      <td>0</td>\n",
       "      <td>1</td>\n",
       "      <td>1</td>\n",
       "      <td>0</td>\n",
       "      <td>0</td>\n",
       "      <td>0</td>\n",
       "      <td>0</td>\n",
       "      <td>0</td>\n",
       "      <td>1</td>\n",
       "      <td>1</td>\n",
       "      <td>1</td>\n",
       "      <td>0</td>\n",
       "      <td>0</td>\n",
       "      <td>1</td>\n",
       "      <td>0</td>\n",
       "      <td>0</td>\n",
       "    </tr>\n",
       "    <tr>\n",
       "      <th>1</th>\n",
       "      <td>ecnavi.jp</td>\n",
       "      <td>0</td>\n",
       "      <td>0</td>\n",
       "      <td>1</td>\n",
       "      <td>1</td>\n",
       "      <td>1</td>\n",
       "      <td>0</td>\n",
       "      <td>0</td>\n",
       "      <td>0</td>\n",
       "      <td>0</td>\n",
       "      <td>1</td>\n",
       "      <td>0</td>\n",
       "      <td>1</td>\n",
       "      <td>0</td>\n",
       "      <td>0</td>\n",
       "      <td>1</td>\n",
       "      <td>0</td>\n",
       "      <td>0</td>\n",
       "    </tr>\n",
       "    <tr>\n",
       "      <th>2</th>\n",
       "      <td>hubpages.com</td>\n",
       "      <td>0</td>\n",
       "      <td>0</td>\n",
       "      <td>1</td>\n",
       "      <td>1</td>\n",
       "      <td>0</td>\n",
       "      <td>0</td>\n",
       "      <td>0</td>\n",
       "      <td>0</td>\n",
       "      <td>0</td>\n",
       "      <td>1</td>\n",
       "      <td>0</td>\n",
       "      <td>1</td>\n",
       "      <td>0</td>\n",
       "      <td>0</td>\n",
       "      <td>1</td>\n",
       "      <td>0</td>\n",
       "      <td>0</td>\n",
       "    </tr>\n",
       "    <tr>\n",
       "      <th>3</th>\n",
       "      <td>extratorrent.cc</td>\n",
       "      <td>0</td>\n",
       "      <td>0</td>\n",
       "      <td>1</td>\n",
       "      <td>3</td>\n",
       "      <td>0</td>\n",
       "      <td>0</td>\n",
       "      <td>0</td>\n",
       "      <td>0</td>\n",
       "      <td>0</td>\n",
       "      <td>1</td>\n",
       "      <td>0</td>\n",
       "      <td>1</td>\n",
       "      <td>1</td>\n",
       "      <td>1</td>\n",
       "      <td>1</td>\n",
       "      <td>1</td>\n",
       "      <td>0</td>\n",
       "    </tr>\n",
       "    <tr>\n",
       "      <th>4</th>\n",
       "      <td>icicibank.com</td>\n",
       "      <td>0</td>\n",
       "      <td>0</td>\n",
       "      <td>1</td>\n",
       "      <td>3</td>\n",
       "      <td>0</td>\n",
       "      <td>0</td>\n",
       "      <td>0</td>\n",
       "      <td>0</td>\n",
       "      <td>0</td>\n",
       "      <td>1</td>\n",
       "      <td>0</td>\n",
       "      <td>1</td>\n",
       "      <td>0</td>\n",
       "      <td>0</td>\n",
       "      <td>1</td>\n",
       "      <td>1</td>\n",
       "      <td>0</td>\n",
       "    </tr>\n",
       "  </tbody>\n",
       "</table>\n",
       "</div>"
      ],
      "text/plain": [
       "             Domain  Have_IP  Have_At  URL_Length  URL_Depth  Redirection  \\\n",
       "0  graphicriver.net        0        0           1          1            0   \n",
       "1         ecnavi.jp        0        0           1          1            1   \n",
       "2      hubpages.com        0        0           1          1            0   \n",
       "3   extratorrent.cc        0        0           1          3            0   \n",
       "4     icicibank.com        0        0           1          3            0   \n",
       "\n",
       "   https_Domain  TinyURL  Prefix/Suffix  DNS_Record  Web_Traffic  Domain_Age  \\\n",
       "0             0        0              0           0            1           1   \n",
       "1             0        0              0           0            1           0   \n",
       "2             0        0              0           0            1           0   \n",
       "3             0        0              0           0            1           0   \n",
       "4             0        0              0           0            1           0   \n",
       "\n",
       "   Domain_End  iFrame  Mouse_Over  Right_Click  Web_Forwards  Label  \n",
       "0           1       0           0            1             0      0  \n",
       "1           1       0           0            1             0      0  \n",
       "2           1       0           0            1             0      0  \n",
       "3           1       1           1            1             1      0  \n",
       "4           1       0           0            1             1      0  "
      ]
     },
     "execution_count": 79,
     "metadata": {},
     "output_type": "execute_result"
    }
   ],
   "source": [
    "feature_names = ['Domain', 'Have_IP', 'Have_At', 'URL_Length', 'URL_Depth','Redirection',\n",
    "                      'https_Domain', 'TinyURL', 'Prefix/Suffix', 'DNS_Record', 'Web_Traffic',\n",
    "                      'Domain_Age', 'Domain_End', 'iFrame', 'Mouse_Over','Right_Click', 'Web_Forwards', 'Label']\n",
    "\n",
    "legitimate = pd.DataFrame(legi_features, columns= feature_names)\n",
    "legitimate.head()"
   ]
  },
  {
   "cell_type": "code",
   "execution_count": 80,
   "metadata": {
    "id": "YdXq-vo9vfGc"
   },
   "outputs": [],
   "source": [
    "legitimate.to_csv('legitimate.csv', index= False)"
   ]
  },
  {
   "cell_type": "markdown",
   "metadata": {
    "id": "0N9XTsYQvRn_"
   },
   "source": [
    "## **3.2 URL lừa đảo**"
   ]
  },
  {
   "cell_type": "code",
   "execution_count": 81,
   "metadata": {
    "id": "gjL-lt8NvWdJ"
   },
   "outputs": [
    {
     "data": {
      "text/plain": [
       "(10000, 8)"
      ]
     },
     "execution_count": 81,
     "metadata": {},
     "output_type": "execute_result"
    }
   ],
   "source": [
    "phishurl.shape"
   ]
  },
  {
   "cell_type": "code",
   "execution_count": 39,
   "metadata": {},
   "outputs": [
    {
     "data": {
      "application/vnd.microsoft.datawrangler.viewer.v0+json": {
       "columns": [
        {
         "name": "index",
         "rawType": "int64",
         "type": "integer"
        },
        {
         "name": "url",
         "rawType": "object",
         "type": "string"
        }
       ],
       "conversionMethod": "pd.DataFrame",
       "ref": "ff1e4d31-e43c-4453-a0a0-cafa0cf9ed26",
       "rows": [
        [
         "0",
         "http://www.dghjdgf.com/paypal.co.uk/cycgi-bin/webscrcmd=_home-customer&nav=1/loading.php"
        ],
        [
         "1",
         "http://serviciosbys.com/paypal.cgi.bin.get-into.herf.secure.dispatch35463256rzr321654641dsf654321874/href/href/href/secure/center/update/limit/seccure/4d7a1ff5c55825a2e632a679c2fd5353/"
        ],
        [
         "2",
         "http://mail.printakid.com/www.online.americanexpress.com/index.html"
        ],
        [
         "3",
         "http://thewhiskeydregs.com/wp-content/themes/widescreen/includes/temp/promocoessmiles/?84784787824HDJNDJDSJSHD//2724782784/"
        ],
        [
         "4",
         "http://smilesvoegol.servebbs.org/voegol.php"
        ]
       ],
       "shape": {
        "columns": 1,
        "rows": 5
       }
      },
      "text/html": [
       "<div>\n",
       "<style scoped>\n",
       "    .dataframe tbody tr th:only-of-type {\n",
       "        vertical-align: middle;\n",
       "    }\n",
       "\n",
       "    .dataframe tbody tr th {\n",
       "        vertical-align: top;\n",
       "    }\n",
       "\n",
       "    .dataframe thead th {\n",
       "        text-align: right;\n",
       "    }\n",
       "</style>\n",
       "<table border=\"1\" class=\"dataframe\">\n",
       "  <thead>\n",
       "    <tr style=\"text-align: right;\">\n",
       "      <th></th>\n",
       "      <th>url</th>\n",
       "    </tr>\n",
       "  </thead>\n",
       "  <tbody>\n",
       "    <tr>\n",
       "      <th>0</th>\n",
       "      <td>http://www.dghjdgf.com/paypal.co.uk/cycgi-bin/...</td>\n",
       "    </tr>\n",
       "    <tr>\n",
       "      <th>1</th>\n",
       "      <td>http://serviciosbys.com/paypal.cgi.bin.get-int...</td>\n",
       "    </tr>\n",
       "    <tr>\n",
       "      <th>2</th>\n",
       "      <td>http://mail.printakid.com/www.online.americane...</td>\n",
       "    </tr>\n",
       "    <tr>\n",
       "      <th>3</th>\n",
       "      <td>http://thewhiskeydregs.com/wp-content/themes/w...</td>\n",
       "    </tr>\n",
       "    <tr>\n",
       "      <th>4</th>\n",
       "      <td>http://smilesvoegol.servebbs.org/voegol.php</td>\n",
       "    </tr>\n",
       "  </tbody>\n",
       "</table>\n",
       "</div>"
      ],
      "text/plain": [
       "                                                 url\n",
       "0  http://www.dghjdgf.com/paypal.co.uk/cycgi-bin/...\n",
       "1  http://serviciosbys.com/paypal.cgi.bin.get-int...\n",
       "2  http://mail.printakid.com/www.online.americane...\n",
       "3  http://thewhiskeydregs.com/wp-content/themes/w...\n",
       "4        http://smilesvoegol.servebbs.org/voegol.php"
      ]
     },
     "execution_count": 39,
     "metadata": {},
     "output_type": "execute_result"
    }
   ],
   "source": [
    "temp = pd.read_csv(data_dir + \"List_Phishing_URL.csv\")\n",
    "temp.head()"
   ]
  },
  {
   "cell_type": "code",
   "execution_count": 40,
   "metadata": {},
   "outputs": [
    {
     "data": {
      "application/vnd.microsoft.datawrangler.viewer.v0+json": {
       "columns": [
        {
         "name": "index",
         "rawType": "int64",
         "type": "integer"
        },
        {
         "name": "url",
         "rawType": "object",
         "type": "string"
        }
       ],
       "conversionMethod": "pd.DataFrame",
       "ref": "b49e2efa-2928-48ce-94e6-c57031529202",
       "rows": [
        [
         "0",
         "http://masyaget.com/wed.php"
        ],
        [
         "1",
         "http://mslogistic.eu/agreement.php"
        ],
        [
         "2",
         "http://caribbeachresort.com/7fg3g"
        ],
        [
         "3",
         "http://barbarahallsonoma.com/newlisting/remax/"
        ],
        [
         "4",
         "http://wumt.westernunion.com.cuc.edu.mx/Step0.php"
        ]
       ],
       "shape": {
        "columns": 1,
        "rows": 5
       }
      },
      "text/html": [
       "<div>\n",
       "<style scoped>\n",
       "    .dataframe tbody tr th:only-of-type {\n",
       "        vertical-align: middle;\n",
       "    }\n",
       "\n",
       "    .dataframe tbody tr th {\n",
       "        vertical-align: top;\n",
       "    }\n",
       "\n",
       "    .dataframe thead th {\n",
       "        text-align: right;\n",
       "    }\n",
       "</style>\n",
       "<table border=\"1\" class=\"dataframe\">\n",
       "  <thead>\n",
       "    <tr style=\"text-align: right;\">\n",
       "      <th></th>\n",
       "      <th>url</th>\n",
       "    </tr>\n",
       "  </thead>\n",
       "  <tbody>\n",
       "    <tr>\n",
       "      <th>0</th>\n",
       "      <td>http://masyaget.com/wed.php</td>\n",
       "    </tr>\n",
       "    <tr>\n",
       "      <th>1</th>\n",
       "      <td>http://mslogistic.eu/agreement.php</td>\n",
       "    </tr>\n",
       "    <tr>\n",
       "      <th>2</th>\n",
       "      <td>http://caribbeachresort.com/7fg3g</td>\n",
       "    </tr>\n",
       "    <tr>\n",
       "      <th>3</th>\n",
       "      <td>http://barbarahallsonoma.com/newlisting/remax/</td>\n",
       "    </tr>\n",
       "    <tr>\n",
       "      <th>4</th>\n",
       "      <td>http://wumt.westernunion.com.cuc.edu.mx/Step0.php</td>\n",
       "    </tr>\n",
       "  </tbody>\n",
       "</table>\n",
       "</div>"
      ],
      "text/plain": [
       "                                                 url\n",
       "0                        http://masyaget.com/wed.php\n",
       "1                 http://mslogistic.eu/agreement.php\n",
       "2                  http://caribbeachresort.com/7fg3g\n",
       "3     http://barbarahallsonoma.com/newlisting/remax/\n",
       "4  http://wumt.westernunion.com.cuc.edu.mx/Step0.php"
      ]
     },
     "execution_count": 40,
     "metadata": {},
     "output_type": "execute_result"
    }
   ],
   "source": [
    "phishy_urls = temp.sample(n = 10000, random_state = 12).copy()\n",
    "phishy_urls = phishy_urls.reset_index(drop=True)\n",
    "phishy_urls.head()"
   ]
  },
  {
   "cell_type": "code",
   "execution_count": 41,
   "metadata": {
    "id": "Ka2AKbrKvX4K"
   },
   "outputs": [
    {
     "name": "stdout",
     "output_type": "stream",
     "text": [
      "Extracting features for phishing URLs using 4 cores...\n",
      "Extracting features from 10000 URLs using 4 cores...\n",
      "Batch size: 2500 URLs per core\n",
      "Extracting features from 10000 URLs using 4 cores...\n",
      "Batch size: 2500 URLs per core\n"
     ]
    },
    {
     "data": {
      "application/vnd.jupyter.widget-view+json": {
       "model_id": "481d4890dda44c5da53883787fddece3",
       "version_major": 2,
       "version_minor": 0
      },
      "text/plain": [
       "Overall progress:   0%|          | 0/4 [00:00<?, ?it/s]"
      ]
     },
     "metadata": {},
     "output_type": "display_data"
    },
    {
     "name": "stderr",
     "output_type": "stream",
     "text": [
      "2025-04-22 03:36:52,303 - whois.whois - ERROR - Error trying to connect to socket: closing socket - [Errno -2] Name or service not known\n",
      "2025-04-22 03:37:25,810 - whois.whois - ERROR - Error trying to connect to socket: closing socket - [Errno 104] Connection reset by peer\n",
      "2025-04-22 03:37:25,810 - whois.whois - ERROR - Error trying to connect to socket: closing socket - [Errno 104] Connection reset by peer\n",
      "2025-04-22 03:38:24,124 - whois.whois - ERROR - Error trying to connect to socket: closing socket - [Errno -2] Name or service not known\n",
      "2025-04-22 03:38:24,124 - whois.whois - ERROR - Error trying to connect to socket: closing socket - [Errno -2] Name or service not known\n",
      "2025-04-22 03:38:37,711 - whois.whois - ERROR - Error trying to connect to socket: closing socket - [Errno 104] Connection reset by peer\n",
      "2025-04-22 03:38:37,711 - whois.whois - ERROR - Error trying to connect to socket: closing socket - [Errno 104] Connection reset by peer\n",
      "2025-04-22 03:38:41,022 - whois.whois - ERROR - Error trying to connect to socket: closing socket - [Errno -2] Name or service not known\n",
      "2025-04-22 03:38:41,022 - whois.whois - ERROR - Error trying to connect to socket: closing socket - [Errno -2] Name or service not known\n",
      "2025-04-22 03:39:09,137 - whois.whois - ERROR - Error trying to connect to socket: closing socket - timed out\n",
      "2025-04-22 03:39:09,137 - whois.whois - ERROR - Error trying to connect to socket: closing socket - timed out\n",
      "2025-04-22 03:39:10,992 - whois.whois - ERROR - Error trying to connect to socket: closing socket - timed out\n",
      "2025-04-22 03:39:10,992 - whois.whois - ERROR - Error trying to connect to socket: closing socket - timed out\n",
      "2025-04-22 03:39:16,106 - whois.whois - ERROR - Error trying to connect to socket: closing socket - [Errno -2] Name or service not known\n",
      "2025-04-22 03:39:16,106 - whois.whois - ERROR - Error trying to connect to socket: closing socket - [Errno -2] Name or service not known\n",
      "2025-04-22 03:39:37,629 - whois.whois - ERROR - Error trying to connect to socket: closing socket - [Errno 111] Connection refused\n",
      "2025-04-22 03:39:37,629 - whois.whois - ERROR - Error trying to connect to socket: closing socket - [Errno 111] Connection refused\n",
      "2025-04-22 03:39:58,350 - whois.whois - ERROR - Error trying to connect to socket: closing socket - [Errno 111] Connection refused\n",
      "2025-04-22 03:39:58,350 - whois.whois - ERROR - Error trying to connect to socket: closing socket - [Errno 111] Connection refused\n",
      "2025-04-22 03:40:04,480 - whois.whois - ERROR - Error trying to connect to socket: closing socket - [Errno -2] Name or service not known\n",
      "2025-04-22 03:40:04,480 - whois.whois - ERROR - Error trying to connect to socket: closing socket - [Errno -2] Name or service not known\n",
      "2025-04-22 03:40:17,278 - whois.whois - ERROR - Error trying to connect to socket: closing socket - [Errno 111] Connection refused\n",
      "2025-04-22 03:40:17,278 - whois.whois - ERROR - Error trying to connect to socket: closing socket - [Errno 111] Connection refused\n",
      "2025-04-22 03:40:19,883 - whois.whois - ERROR - Error trying to connect to socket: closing socket - [Errno -2] Name or service not known\n",
      "2025-04-22 03:40:19,883 - whois.whois - ERROR - Error trying to connect to socket: closing socket - [Errno -2] Name or service not known\n",
      "2025-04-22 03:40:27,855 - whois.whois - ERROR - Error trying to connect to socket: closing socket - [Errno -2] Name or service not known\n",
      "2025-04-22 03:40:27,855 - whois.whois - ERROR - Error trying to connect to socket: closing socket - [Errno -2] Name or service not known\n",
      "2025-04-22 03:40:34,957 - whois.whois - ERROR - Error trying to connect to socket: closing socket - timed out\n",
      "2025-04-22 03:40:34,957 - whois.whois - ERROR - Error trying to connect to socket: closing socket - timed out\n",
      "2025-04-22 03:40:42,304 - whois.whois - ERROR - Error trying to connect to socket: closing socket - [Errno 111] Connection refused\n",
      "2025-04-22 03:40:42,304 - whois.whois - ERROR - Error trying to connect to socket: closing socket - [Errno 111] Connection refused\n",
      "2025-04-22 03:41:06,646 - whois.whois - ERROR - Error trying to connect to socket: closing socket - [Errno 111] Connection refused\n",
      "2025-04-22 03:41:06,646 - whois.whois - ERROR - Error trying to connect to socket: closing socket - [Errno 111] Connection refused\n",
      "2025-04-22 03:42:09,446 - whois.whois - ERROR - Error trying to connect to socket: closing socket - [Errno -2] Name or service not known\n",
      "2025-04-22 03:42:09,446 - whois.whois - ERROR - Error trying to connect to socket: closing socket - [Errno -2] Name or service not known\n",
      "2025-04-22 03:42:18,419 - whois.whois - ERROR - Error trying to connect to socket: closing socket - timed out\n",
      "2025-04-22 03:42:18,419 - whois.whois - ERROR - Error trying to connect to socket: closing socket - timed out\n",
      "2025-04-22 03:42:20,319 - whois.whois - ERROR - Error trying to connect to socket: closing socket - [Errno -2] Name or service not known\n",
      "2025-04-22 03:42:20,319 - whois.whois - ERROR - Error trying to connect to socket: closing socket - [Errno -2] Name or service not known\n",
      "2025-04-22 03:42:43,263 - whois.whois - ERROR - Error trying to connect to socket: closing socket - timed out\n",
      "2025-04-22 03:42:43,263 - whois.whois - ERROR - Error trying to connect to socket: closing socket - timed out\n",
      "2025-04-22 03:42:51,140 - whois.whois - ERROR - Error trying to connect to socket: closing socket - timed out\n",
      "2025-04-22 03:42:51,140 - whois.whois - ERROR - Error trying to connect to socket: closing socket - timed out\n",
      "2025-04-22 03:42:59,921 - whois.whois - ERROR - Error trying to connect to socket: closing socket - [Errno -2] Name or service not known\n",
      "2025-04-22 03:42:59,921 - whois.whois - ERROR - Error trying to connect to socket: closing socket - [Errno -2] Name or service not known\n",
      "2025-04-22 03:43:14,007 - whois.whois - ERROR - Error trying to connect to socket: closing socket - [Errno -2] Name or service not known\n",
      "2025-04-22 03:43:14,007 - whois.whois - ERROR - Error trying to connect to socket: closing socket - [Errno -2] Name or service not known\n",
      "2025-04-22 03:43:22,080 - whois.whois - ERROR - Error trying to connect to socket: closing socket - timed out\n",
      "2025-04-22 03:43:22,080 - whois.whois - ERROR - Error trying to connect to socket: closing socket - timed out\n",
      "2025-04-22 03:43:27,596 - whois.whois - ERROR - Error trying to connect to socket: closing socket - timed out\n",
      "2025-04-22 03:43:27,596 - whois.whois - ERROR - Error trying to connect to socket: closing socket - timed out\n",
      "2025-04-22 03:43:39,760 - whois.whois - ERROR - Error trying to connect to socket: closing socket - [Errno -2] Name or service not known\n",
      "2025-04-22 03:43:39,760 - whois.whois - ERROR - Error trying to connect to socket: closing socket - [Errno -2] Name or service not known\n",
      "2025-04-22 03:44:13,383 - whois.whois - ERROR - Error trying to connect to socket: closing socket - [Errno 104] Connection reset by peer\n",
      "2025-04-22 03:44:13,383 - whois.whois - ERROR - Error trying to connect to socket: closing socket - [Errno 104] Connection reset by peer\n",
      "2025-04-22 03:45:03,103 - whois.whois - ERROR - Error trying to connect to socket: closing socket - [Errno -2] Name or service not known\n",
      "2025-04-22 03:45:03,103 - whois.whois - ERROR - Error trying to connect to socket: closing socket - [Errno -2] Name or service not known\n",
      "2025-04-22 03:45:20,128 - whois.whois - ERROR - Error trying to connect to socket: closing socket - [Errno -2] Name or service not known\n",
      "2025-04-22 03:45:20,128 - whois.whois - ERROR - Error trying to connect to socket: closing socket - [Errno -2] Name or service not known\n",
      "2025-04-22 03:45:54,505 - whois.whois - ERROR - Error trying to connect to socket: closing socket - [Errno -2] Name or service not known\n",
      "2025-04-22 03:45:54,505 - whois.whois - ERROR - Error trying to connect to socket: closing socket - [Errno -2] Name or service not known\n",
      "2025-04-22 03:46:02,317 - whois.whois - ERROR - Error trying to connect to socket: closing socket - timed out\n",
      "2025-04-22 03:46:02,317 - whois.whois - ERROR - Error trying to connect to socket: closing socket - timed out\n",
      "2025-04-22 03:46:05,827 - whois.whois - ERROR - Error trying to connect to socket: closing socket - [Errno 104] Connection reset by peer\n",
      "2025-04-22 03:46:05,827 - whois.whois - ERROR - Error trying to connect to socket: closing socket - [Errno 104] Connection reset by peer\n",
      "2025-04-22 03:46:13,487 - whois.whois - ERROR - Error trying to connect to socket: closing socket - timed out\n",
      "2025-04-22 03:46:13,487 - whois.whois - ERROR - Error trying to connect to socket: closing socket - timed out\n",
      "2025-04-22 03:46:14,923 - whois.whois - ERROR - Error trying to connect to socket: closing socket - [Errno 111] Connection refused\n",
      "2025-04-22 03:46:14,923 - whois.whois - ERROR - Error trying to connect to socket: closing socket - [Errno 111] Connection refused\n",
      "2025-04-22 03:46:21,857 - whois.whois - ERROR - Error trying to connect to socket: closing socket - [Errno 111] Connection refused\n",
      "2025-04-22 03:46:21,857 - whois.whois - ERROR - Error trying to connect to socket: closing socket - [Errno 111] Connection refused\n",
      "2025-04-22 03:46:54,460 - whois.whois - ERROR - Error trying to connect to socket: closing socket - timed out\n",
      "2025-04-22 03:46:54,460 - whois.whois - ERROR - Error trying to connect to socket: closing socket - timed out\n",
      "2025-04-22 03:47:27,019 - whois.whois - ERROR - Error trying to connect to socket: closing socket - [Errno -2] Name or service not known\n",
      "2025-04-22 03:47:27,019 - whois.whois - ERROR - Error trying to connect to socket: closing socket - [Errno -2] Name or service not known\n",
      "2025-04-22 03:47:38,204 - whois.whois - ERROR - Error trying to connect to socket: closing socket - timed out\n",
      "2025-04-22 03:47:38,204 - whois.whois - ERROR - Error trying to connect to socket: closing socket - timed out\n",
      "2025-04-22 03:48:04,365 - whois.whois - ERROR - Error trying to connect to socket: closing socket - timed out\n",
      "2025-04-22 03:48:04,365 - whois.whois - ERROR - Error trying to connect to socket: closing socket - timed out\n",
      "2025-04-22 03:48:09,205 - whois.whois - ERROR - Error trying to connect to socket: closing socket - timed out\n",
      "2025-04-22 03:48:09,205 - whois.whois - ERROR - Error trying to connect to socket: closing socket - timed out\n",
      "2025-04-22 03:48:13,669 - whois.whois - ERROR - Error trying to connect to socket: closing socket - [Errno 111] Connection refused\n",
      "2025-04-22 03:48:13,669 - whois.whois - ERROR - Error trying to connect to socket: closing socket - [Errno 111] Connection refused\n",
      "2025-04-22 03:48:19,645 - whois.whois - ERROR - Error trying to connect to socket: closing socket - [Errno -2] Name or service not known\n",
      "2025-04-22 03:48:19,645 - whois.whois - ERROR - Error trying to connect to socket: closing socket - [Errno -2] Name or service not known\n",
      "2025-04-22 03:48:53,141 - whois.whois - ERROR - Error trying to connect to socket: closing socket - [Errno -2] Name or service not known\n",
      "2025-04-22 03:48:53,141 - whois.whois - ERROR - Error trying to connect to socket: closing socket - [Errno -2] Name or service not known\n",
      "2025-04-22 03:48:55,001 - whois.whois - ERROR - Error trying to connect to socket: closing socket - [Errno 104] Connection reset by peer\n",
      "2025-04-22 03:48:55,001 - whois.whois - ERROR - Error trying to connect to socket: closing socket - [Errno 104] Connection reset by peer\n",
      "2025-04-22 03:49:04,478 - whois.whois - ERROR - Error trying to connect to socket: closing socket - timed out\n",
      "2025-04-22 03:49:04,478 - whois.whois - ERROR - Error trying to connect to socket: closing socket - timed out\n",
      "2025-04-22 03:49:06,227 - whois.whois - ERROR - Error trying to connect to socket: closing socket - [Errno 104] Connection reset by peer\n",
      "2025-04-22 03:49:06,227 - whois.whois - ERROR - Error trying to connect to socket: closing socket - [Errno 104] Connection reset by peer\n",
      "2025-04-22 03:49:20,407 - whois.whois - ERROR - Error trying to connect to socket: closing socket - timed out\n",
      "2025-04-22 03:49:20,407 - whois.whois - ERROR - Error trying to connect to socket: closing socket - timed out\n",
      "2025-04-22 03:49:21,873 - whois.whois - ERROR - Error trying to connect to socket: closing socket - timed out\n",
      "2025-04-22 03:49:21,873 - whois.whois - ERROR - Error trying to connect to socket: closing socket - timed out\n",
      "2025-04-22 03:49:31,642 - whois.whois - ERROR - Error trying to connect to socket: closing socket - [Errno -2] Name or service not known\n",
      "2025-04-22 03:49:31,642 - whois.whois - ERROR - Error trying to connect to socket: closing socket - [Errno -2] Name or service not known\n",
      "2025-04-22 03:49:31,804 - whois.whois - ERROR - Error trying to connect to socket: closing socket - timed out\n",
      "2025-04-22 03:49:31,804 - whois.whois - ERROR - Error trying to connect to socket: closing socket - timed out\n",
      "2025-04-22 03:49:34,353 - whois.whois - ERROR - Error trying to connect to socket: closing socket - [Errno -2] Name or service not known\n",
      "2025-04-22 03:49:34,353 - whois.whois - ERROR - Error trying to connect to socket: closing socket - [Errno -2] Name or service not known\n",
      "2025-04-22 03:49:42,539 - whois.whois - ERROR - Error trying to connect to socket: closing socket - [Errno -2] Name or service not known\n",
      "2025-04-22 03:49:42,539 - whois.whois - ERROR - Error trying to connect to socket: closing socket - [Errno -2] Name or service not known\n",
      "2025-04-22 03:50:04,594 - whois.whois - ERROR - Error trying to connect to socket: closing socket - timed out\n",
      "2025-04-22 03:50:04,594 - whois.whois - ERROR - Error trying to connect to socket: closing socket - timed out\n",
      "2025-04-22 03:50:10,187 - whois.whois - ERROR - Error trying to connect to socket: closing socket - timed out\n",
      "2025-04-22 03:50:10,187 - whois.whois - ERROR - Error trying to connect to socket: closing socket - timed out\n",
      "2025-04-22 03:50:23,372 - whois.whois - ERROR - Error trying to connect to socket: closing socket - timed out\n",
      "2025-04-22 03:50:23,372 - whois.whois - ERROR - Error trying to connect to socket: closing socket - timed out\n",
      "2025-04-22 03:50:28,150 - whois.whois - ERROR - Error trying to connect to socket: closing socket - [Errno 104] Connection reset by peer\n",
      "2025-04-22 03:50:28,150 - whois.whois - ERROR - Error trying to connect to socket: closing socket - [Errno 104] Connection reset by peer\n",
      "2025-04-22 03:50:32,394 - whois.whois - ERROR - Error trying to connect to socket: closing socket - [Errno 111] Connection refused\n",
      "2025-04-22 03:50:32,394 - whois.whois - ERROR - Error trying to connect to socket: closing socket - [Errno 111] Connection refused\n",
      "2025-04-22 03:50:34,372 - whois.whois - ERROR - Error trying to connect to socket: closing socket - timed out\n",
      "2025-04-22 03:50:34,372 - whois.whois - ERROR - Error trying to connect to socket: closing socket - timed out\n",
      "2025-04-22 03:50:49,634 - whois.whois - ERROR - Error trying to connect to socket: closing socket - timed out\n",
      "2025-04-22 03:50:49,634 - whois.whois - ERROR - Error trying to connect to socket: closing socket - timed out\n",
      "2025-04-22 03:51:10,409 - whois.whois - ERROR - Error trying to connect to socket: closing socket - timed out\n",
      "2025-04-22 03:51:10,409 - whois.whois - ERROR - Error trying to connect to socket: closing socket - timed out\n",
      "2025-04-22 03:51:11,145 - whois.whois - ERROR - Error trying to connect to socket: closing socket - timed out\n",
      "2025-04-22 03:51:11,145 - whois.whois - ERROR - Error trying to connect to socket: closing socket - timed out\n",
      "2025-04-22 03:51:11,198 - whois.whois - ERROR - Error trying to connect to socket: closing socket - [Errno -2] Name or service not known\n",
      "2025-04-22 03:51:11,198 - whois.whois - ERROR - Error trying to connect to socket: closing socket - [Errno -2] Name or service not known\n",
      "2025-04-22 03:51:35,823 - whois.whois - ERROR - Error trying to connect to socket: closing socket - [Errno 111] Connection refused\n",
      "2025-04-22 03:51:35,823 - whois.whois - ERROR - Error trying to connect to socket: closing socket - [Errno 111] Connection refused\n",
      "2025-04-22 03:51:37,990 - whois.whois - ERROR - Error trying to connect to socket: closing socket - [Errno -2] Name or service not known\n",
      "2025-04-22 03:51:37,990 - whois.whois - ERROR - Error trying to connect to socket: closing socket - [Errno -2] Name or service not known\n",
      "2025-04-22 03:51:48,533 - whois.whois - ERROR - Error trying to connect to socket: closing socket - timed out\n",
      "2025-04-22 03:51:48,533 - whois.whois - ERROR - Error trying to connect to socket: closing socket - timed out\n",
      "2025-04-22 03:51:51,105 - whois.whois - ERROR - Error trying to connect to socket: closing socket - timed out\n",
      "2025-04-22 03:51:51,105 - whois.whois - ERROR - Error trying to connect to socket: closing socket - timed out\n",
      "2025-04-22 03:52:01,999 - whois.whois - ERROR - Error trying to connect to socket: closing socket - timed out\n",
      "2025-04-22 03:52:01,999 - whois.whois - ERROR - Error trying to connect to socket: closing socket - timed out\n",
      "2025-04-22 03:52:33,413 - whois.whois - ERROR - Error trying to connect to socket: closing socket - timed out\n",
      "2025-04-22 03:52:33,413 - whois.whois - ERROR - Error trying to connect to socket: closing socket - timed out\n",
      "2025-04-22 03:52:47,796 - whois.whois - ERROR - Error trying to connect to socket: closing socket - [Errno -2] Name or service not known\n",
      "2025-04-22 03:52:47,796 - whois.whois - ERROR - Error trying to connect to socket: closing socket - [Errno -2] Name or service not known\n",
      "2025-04-22 03:53:37,187 - whois.whois - ERROR - Error trying to connect to socket: closing socket - [Errno -2] Name or service not known\n",
      "2025-04-22 03:53:37,187 - whois.whois - ERROR - Error trying to connect to socket: closing socket - [Errno -2] Name or service not known\n",
      "2025-04-22 03:53:39,073 - whois.whois - ERROR - Error trying to connect to socket: closing socket - [Errno 104] Connection reset by peer\n",
      "2025-04-22 03:53:39,073 - whois.whois - ERROR - Error trying to connect to socket: closing socket - [Errno 104] Connection reset by peer\n",
      "2025-04-22 03:53:39,905 - whois.whois - ERROR - Error trying to connect to socket: closing socket - [Errno 104] Connection reset by peer\n",
      "2025-04-22 03:53:39,905 - whois.whois - ERROR - Error trying to connect to socket: closing socket - [Errno 104] Connection reset by peer\n",
      "2025-04-22 03:53:40,889 - whois.whois - ERROR - Error trying to connect to socket: closing socket - [Errno -2] Name or service not known\n",
      "2025-04-22 03:53:40,889 - whois.whois - ERROR - Error trying to connect to socket: closing socket - [Errno -2] Name or service not known\n",
      "2025-04-22 03:53:57,266 - whois.whois - ERROR - Error trying to connect to socket: closing socket - [Errno 111] Connection refused\n",
      "2025-04-22 03:53:57,266 - whois.whois - ERROR - Error trying to connect to socket: closing socket - [Errno 111] Connection refused\n",
      "2025-04-22 03:54:03,325 - whois.whois - ERROR - Error trying to connect to socket: closing socket - [Errno -2] Name or service not known\n",
      "2025-04-22 03:54:03,325 - whois.whois - ERROR - Error trying to connect to socket: closing socket - [Errno -2] Name or service not known\n",
      "2025-04-22 03:54:36,990 - whois.whois - ERROR - Error trying to connect to socket: closing socket - timed out\n",
      "2025-04-22 03:54:36,990 - whois.whois - ERROR - Error trying to connect to socket: closing socket - timed out\n",
      "2025-04-22 03:54:42,526 - whois.whois - ERROR - Error trying to connect to socket: closing socket - [Errno 104] Connection reset by peer\n",
      "2025-04-22 03:54:42,526 - whois.whois - ERROR - Error trying to connect to socket: closing socket - [Errno 104] Connection reset by peer\n",
      "2025-04-22 03:54:43,798 - whois.whois - ERROR - Error trying to connect to socket: closing socket - [Errno 111] Connection refused\n",
      "2025-04-22 03:54:43,798 - whois.whois - ERROR - Error trying to connect to socket: closing socket - [Errno 111] Connection refused\n",
      "2025-04-22 03:54:43,976 - whois.whois - ERROR - Error trying to connect to socket: closing socket - [Errno 111] Connection refused\n",
      "2025-04-22 03:54:43,976 - whois.whois - ERROR - Error trying to connect to socket: closing socket - [Errno 111] Connection refused\n",
      "2025-04-22 03:55:30,904 - whois.whois - ERROR - Error trying to connect to socket: closing socket - timed out\n",
      "2025-04-22 03:55:30,904 - whois.whois - ERROR - Error trying to connect to socket: closing socket - timed out\n",
      "2025-04-22 03:55:42,204 - whois.whois - ERROR - Error trying to connect to socket: closing socket - [Errno -2] Name or service not known\n",
      "2025-04-22 03:55:42,204 - whois.whois - ERROR - Error trying to connect to socket: closing socket - [Errno -2] Name or service not known\n",
      "2025-04-22 03:55:48,008 - whois.whois - ERROR - Error trying to connect to socket: closing socket - [Errno -2] Name or service not known\n",
      "2025-04-22 03:55:48,008 - whois.whois - ERROR - Error trying to connect to socket: closing socket - [Errno -2] Name or service not known\n",
      "2025-04-22 03:55:49,512 - whois.whois - ERROR - Error trying to connect to socket: closing socket - [Errno -2] Name or service not known\n",
      "2025-04-22 03:55:49,512 - whois.whois - ERROR - Error trying to connect to socket: closing socket - [Errno -2] Name or service not known\n",
      "2025-04-22 03:55:51,705 - whois.whois - ERROR - Error trying to connect to socket: closing socket - [Errno -2] Name or service not known\n",
      "2025-04-22 03:55:51,705 - whois.whois - ERROR - Error trying to connect to socket: closing socket - [Errno -2] Name or service not known\n",
      "2025-04-22 03:56:04,245 - whois.whois - ERROR - Error trying to connect to socket: closing socket - [Errno -2] Name or service not known\n",
      "2025-04-22 03:56:04,245 - whois.whois - ERROR - Error trying to connect to socket: closing socket - [Errno -2] Name or service not known\n",
      "2025-04-22 03:56:09,169 - whois.whois - ERROR - Error trying to connect to socket: closing socket - [Errno -2] Name or service not known\n",
      "2025-04-22 03:56:09,169 - whois.whois - ERROR - Error trying to connect to socket: closing socket - [Errno -2] Name or service not known\n",
      "2025-04-22 03:56:45,688 - whois.whois - ERROR - Error trying to connect to socket: closing socket - [Errno 111] Connection refused\n",
      "2025-04-22 03:56:45,688 - whois.whois - ERROR - Error trying to connect to socket: closing socket - [Errno 111] Connection refused\n",
      "2025-04-22 03:57:01,222 - whois.whois - ERROR - Error trying to connect to socket: closing socket - [Errno 111] Connection refused\n",
      "2025-04-22 03:57:01,222 - whois.whois - ERROR - Error trying to connect to socket: closing socket - [Errno 111] Connection refused\n",
      "2025-04-22 03:58:22,236 - whois.whois - ERROR - Error trying to connect to socket: closing socket - [Errno -2] Name or service not known\n",
      "2025-04-22 03:58:22,236 - whois.whois - ERROR - Error trying to connect to socket: closing socket - [Errno -2] Name or service not known\n",
      "2025-04-22 03:58:39,197 - whois.whois - ERROR - Error trying to connect to socket: closing socket - [Errno 104] Connection reset by peer\n",
      "2025-04-22 03:58:39,197 - whois.whois - ERROR - Error trying to connect to socket: closing socket - [Errno 104] Connection reset by peer\n",
      "2025-04-22 03:59:07,379 - whois.whois - ERROR - Error trying to connect to socket: closing socket - [Errno 111] Connection refused\n",
      "2025-04-22 03:59:07,379 - whois.whois - ERROR - Error trying to connect to socket: closing socket - [Errno 111] Connection refused\n",
      "2025-04-22 03:59:19,845 - whois.whois - ERROR - Error trying to connect to socket: closing socket - [Errno -2] Name or service not known\n",
      "2025-04-22 03:59:19,845 - whois.whois - ERROR - Error trying to connect to socket: closing socket - [Errno -2] Name or service not known\n",
      "2025-04-22 04:00:02,960 - whois.whois - ERROR - Error trying to connect to socket: closing socket - [Errno -2] Name or service not known\n",
      "2025-04-22 04:00:02,960 - whois.whois - ERROR - Error trying to connect to socket: closing socket - [Errno -2] Name or service not known\n",
      "2025-04-22 04:01:50,268 - whois.whois - ERROR - Error trying to connect to socket: closing socket - [Errno 111] Connection refused\n",
      "2025-04-22 04:01:50,268 - whois.whois - ERROR - Error trying to connect to socket: closing socket - [Errno 111] Connection refused\n",
      "2025-04-22 04:01:57,513 - whois.whois - ERROR - Error trying to connect to socket: closing socket - timed out\n",
      "2025-04-22 04:01:57,513 - whois.whois - ERROR - Error trying to connect to socket: closing socket - timed out\n",
      "2025-04-22 04:02:00,656 - whois.whois - ERROR - Error trying to connect to socket: closing socket - [Errno -2] Name or service not known\n",
      "2025-04-22 04:02:00,656 - whois.whois - ERROR - Error trying to connect to socket: closing socket - [Errno -2] Name or service not known\n",
      "2025-04-22 04:02:18,457 - whois.whois - ERROR - Error trying to connect to socket: closing socket - [Errno -2] Name or service not known\n",
      "2025-04-22 04:02:18,457 - whois.whois - ERROR - Error trying to connect to socket: closing socket - [Errno -2] Name or service not known\n",
      "2025-04-22 04:02:28,832 - whois.whois - ERROR - Error trying to connect to socket: closing socket - [Errno 104] Connection reset by peer\n",
      "2025-04-22 04:02:28,832 - whois.whois - ERROR - Error trying to connect to socket: closing socket - [Errno 104] Connection reset by peer\n",
      "2025-04-22 04:03:04,293 - whois.whois - ERROR - Error trying to connect to socket: closing socket - timed out\n",
      "2025-04-22 04:03:04,293 - whois.whois - ERROR - Error trying to connect to socket: closing socket - timed out\n",
      "2025-04-22 04:03:23,533 - whois.whois - ERROR - Error trying to connect to socket: closing socket - timed out\n",
      "2025-04-22 04:03:23,533 - whois.whois - ERROR - Error trying to connect to socket: closing socket - timed out\n",
      "2025-04-22 04:03:24,702 - whois.whois - ERROR - Error trying to connect to socket: closing socket - [Errno -2] Name or service not known\n",
      "2025-04-22 04:03:24,702 - whois.whois - ERROR - Error trying to connect to socket: closing socket - [Errno -2] Name or service not known\n",
      "2025-04-22 04:03:26,569 - whois.whois - ERROR - Error trying to connect to socket: closing socket - [Errno -2] Name or service not known\n",
      "2025-04-22 04:03:26,569 - whois.whois - ERROR - Error trying to connect to socket: closing socket - [Errno -2] Name or service not known\n",
      "2025-04-22 04:04:00,987 - whois.whois - ERROR - Error trying to connect to socket: closing socket - timed out\n",
      "2025-04-22 04:04:00,987 - whois.whois - ERROR - Error trying to connect to socket: closing socket - timed out\n",
      "2025-04-22 04:04:07,608 - whois.whois - ERROR - Error trying to connect to socket: closing socket - [Errno 104] Connection reset by peer\n",
      "2025-04-22 04:04:07,608 - whois.whois - ERROR - Error trying to connect to socket: closing socket - [Errno 104] Connection reset by peer\n",
      "2025-04-22 04:04:19,432 - whois.whois - ERROR - Error trying to connect to socket: closing socket - timed out\n",
      "2025-04-22 04:04:19,432 - whois.whois - ERROR - Error trying to connect to socket: closing socket - timed out\n",
      "2025-04-22 04:04:35,570 - whois.whois - ERROR - Error trying to connect to socket: closing socket - timed out\n",
      "2025-04-22 04:04:35,570 - whois.whois - ERROR - Error trying to connect to socket: closing socket - timed out\n",
      "2025-04-22 04:04:48,695 - whois.whois - ERROR - Error trying to connect to socket: closing socket - [Errno -2] Name or service not known\n",
      "2025-04-22 04:04:48,695 - whois.whois - ERROR - Error trying to connect to socket: closing socket - [Errno -2] Name or service not known\n",
      "2025-04-22 04:05:16,351 - whois.whois - ERROR - Error trying to connect to socket: closing socket - [Errno 111] Connection refused\n",
      "2025-04-22 04:05:16,351 - whois.whois - ERROR - Error trying to connect to socket: closing socket - [Errno 111] Connection refused\n",
      "2025-04-22 04:05:42,963 - whois.whois - ERROR - Error trying to connect to socket: closing socket - [Errno -2] Name or service not known\n",
      "2025-04-22 04:05:42,963 - whois.whois - ERROR - Error trying to connect to socket: closing socket - [Errno -2] Name or service not known\n",
      "2025-04-22 04:05:53,662 - whois.whois - ERROR - Error trying to connect to socket: closing socket - timed out\n",
      "2025-04-22 04:05:53,662 - whois.whois - ERROR - Error trying to connect to socket: closing socket - timed out\n",
      "2025-04-22 04:05:58,360 - whois.whois - ERROR - Error trying to connect to socket: closing socket - [Errno 104] Connection reset by peer\n",
      "2025-04-22 04:05:58,360 - whois.whois - ERROR - Error trying to connect to socket: closing socket - [Errno 104] Connection reset by peer\n",
      "2025-04-22 04:06:21,323 - whois.whois - ERROR - Error trying to connect to socket: closing socket - timed out\n",
      "2025-04-22 04:06:21,323 - whois.whois - ERROR - Error trying to connect to socket: closing socket - timed out\n",
      "2025-04-22 04:06:30,082 - whois.whois - ERROR - Error trying to connect to socket: closing socket - timed out\n",
      "2025-04-22 04:06:30,082 - whois.whois - ERROR - Error trying to connect to socket: closing socket - timed out\n",
      "2025-04-22 04:07:22,598 - whois.whois - ERROR - Error trying to connect to socket: closing socket - [Errno 111] Connection refused\n",
      "2025-04-22 04:07:22,598 - whois.whois - ERROR - Error trying to connect to socket: closing socket - [Errno 111] Connection refused\n",
      "2025-04-22 04:07:30,457 - whois.whois - ERROR - Error trying to connect to socket: closing socket - [Errno -2] Name or service not known\n",
      "2025-04-22 04:07:30,457 - whois.whois - ERROR - Error trying to connect to socket: closing socket - [Errno -2] Name or service not known\n",
      "2025-04-22 04:07:33,958 - whois.whois - ERROR - Error trying to connect to socket: closing socket - timed out\n",
      "2025-04-22 04:07:33,958 - whois.whois - ERROR - Error trying to connect to socket: closing socket - timed out\n",
      "2025-04-22 04:07:41,079 - whois.whois - ERROR - Error trying to connect to socket: closing socket - [Errno 104] Connection reset by peer\n",
      "2025-04-22 04:07:41,079 - whois.whois - ERROR - Error trying to connect to socket: closing socket - [Errno 104] Connection reset by peer\n",
      "2025-04-22 04:07:56,710 - whois.whois - ERROR - Error trying to connect to socket: closing socket - [Errno 104] Connection reset by peer\n",
      "2025-04-22 04:07:56,710 - whois.whois - ERROR - Error trying to connect to socket: closing socket - [Errno 104] Connection reset by peer\n",
      "2025-04-22 04:07:56,833 - whois.whois - ERROR - Error trying to connect to socket: closing socket - [Errno -2] Name or service not known\n",
      "2025-04-22 04:07:56,833 - whois.whois - ERROR - Error trying to connect to socket: closing socket - [Errno -2] Name or service not known\n",
      "2025-04-22 04:08:06,878 - whois.whois - ERROR - Error trying to connect to socket: closing socket - [Errno 104] Connection reset by peer\n",
      "2025-04-22 04:08:06,878 - whois.whois - ERROR - Error trying to connect to socket: closing socket - [Errno 104] Connection reset by peer\n",
      "2025-04-22 04:08:08,865 - whois.whois - ERROR - Error trying to connect to socket: closing socket - [Errno 104] Connection reset by peer\n",
      "2025-04-22 04:08:08,865 - whois.whois - ERROR - Error trying to connect to socket: closing socket - [Errno 104] Connection reset by peer\n",
      "2025-04-22 04:08:20,058 - whois.whois - ERROR - Error trying to connect to socket: closing socket - timed out\n",
      "2025-04-22 04:08:20,058 - whois.whois - ERROR - Error trying to connect to socket: closing socket - timed out\n",
      "2025-04-22 04:08:34,791 - whois.whois - ERROR - Error trying to connect to socket: closing socket - [Errno 104] Connection reset by peer\n",
      "2025-04-22 04:08:34,791 - whois.whois - ERROR - Error trying to connect to socket: closing socket - [Errno 104] Connection reset by peer\n",
      "2025-04-22 04:08:45,415 - whois.whois - ERROR - Error trying to connect to socket: closing socket - [Errno 104] Connection reset by peer\n",
      "2025-04-22 04:08:45,415 - whois.whois - ERROR - Error trying to connect to socket: closing socket - [Errno 104] Connection reset by peer\n",
      "2025-04-22 04:08:48,747 - whois.whois - ERROR - Error trying to connect to socket: closing socket - [Errno 104] Connection reset by peer\n",
      "2025-04-22 04:08:48,747 - whois.whois - ERROR - Error trying to connect to socket: closing socket - [Errno 104] Connection reset by peer\n",
      "2025-04-22 04:08:51,812 - whois.whois - ERROR - Error trying to connect to socket: closing socket - [Errno 104] Connection reset by peer\n",
      "2025-04-22 04:08:51,812 - whois.whois - ERROR - Error trying to connect to socket: closing socket - [Errno 104] Connection reset by peer\n",
      "2025-04-22 04:08:55,551 - whois.whois - ERROR - Error trying to connect to socket: closing socket - [Errno 104] Connection reset by peer\n",
      "2025-04-22 04:08:55,551 - whois.whois - ERROR - Error trying to connect to socket: closing socket - [Errno 104] Connection reset by peer\n",
      "2025-04-22 04:09:16,424 - whois.whois - ERROR - Error trying to connect to socket: closing socket - [Errno 104] Connection reset by peer\n",
      "2025-04-22 04:09:16,424 - whois.whois - ERROR - Error trying to connect to socket: closing socket - [Errno 104] Connection reset by peer\n",
      "2025-04-22 04:09:17,608 - whois.whois - ERROR - Error trying to connect to socket: closing socket - [Errno 104] Connection reset by peer\n",
      "2025-04-22 04:09:17,608 - whois.whois - ERROR - Error trying to connect to socket: closing socket - [Errno 104] Connection reset by peer\n",
      "2025-04-22 04:09:39,094 - whois.whois - ERROR - Error trying to connect to socket: closing socket - [Errno 104] Connection reset by peer\n",
      "2025-04-22 04:09:39,094 - whois.whois - ERROR - Error trying to connect to socket: closing socket - [Errno 104] Connection reset by peer\n",
      "2025-04-22 04:09:50,116 - whois.whois - ERROR - Error trying to connect to socket: closing socket - [Errno 111] Connection refused\n",
      "2025-04-22 04:09:50,116 - whois.whois - ERROR - Error trying to connect to socket: closing socket - [Errno 111] Connection refused\n",
      "2025-04-22 04:09:53,130 - whois.whois - ERROR - Error trying to connect to socket: closing socket - [Errno -2] Name or service not known\n",
      "2025-04-22 04:09:53,130 - whois.whois - ERROR - Error trying to connect to socket: closing socket - [Errno -2] Name or service not known\n",
      "2025-04-22 04:09:58,151 - whois.whois - ERROR - Error trying to connect to socket: closing socket - [Errno 104] Connection reset by peer\n",
      "2025-04-22 04:09:58,151 - whois.whois - ERROR - Error trying to connect to socket: closing socket - [Errno 104] Connection reset by peer\n",
      "2025-04-22 04:10:17,686 - whois.whois - ERROR - Error trying to connect to socket: closing socket - [Errno 104] Connection reset by peer\n",
      "2025-04-22 04:10:17,686 - whois.whois - ERROR - Error trying to connect to socket: closing socket - [Errno 104] Connection reset by peer\n",
      "2025-04-22 04:10:48,281 - whois.whois - ERROR - Error trying to connect to socket: closing socket - timed out\n",
      "2025-04-22 04:10:48,281 - whois.whois - ERROR - Error trying to connect to socket: closing socket - timed out\n",
      "2025-04-22 04:10:48,997 - whois.whois - ERROR - Error trying to connect to socket: closing socket - timed out\n",
      "2025-04-22 04:10:48,997 - whois.whois - ERROR - Error trying to connect to socket: closing socket - timed out\n",
      "2025-04-22 04:11:11,681 - whois.whois - ERROR - Error trying to connect to socket: closing socket - [Errno 104] Connection reset by peer\n",
      "2025-04-22 04:11:11,681 - whois.whois - ERROR - Error trying to connect to socket: closing socket - [Errno 104] Connection reset by peer\n",
      "2025-04-22 04:11:15,781 - whois.whois - ERROR - Error trying to connect to socket: closing socket - [Errno -2] Name or service not known\n",
      "2025-04-22 04:11:15,781 - whois.whois - ERROR - Error trying to connect to socket: closing socket - [Errno -2] Name or service not known\n",
      "2025-04-22 04:11:28,383 - whois.whois - ERROR - Error trying to connect to socket: closing socket - [Errno -2] Name or service not known\n",
      "2025-04-22 04:11:28,383 - whois.whois - ERROR - Error trying to connect to socket: closing socket - [Errno -2] Name or service not known\n",
      "2025-04-22 04:11:39,193 - whois.whois - ERROR - Error trying to connect to socket: closing socket - timed out\n",
      "2025-04-22 04:11:39,193 - whois.whois - ERROR - Error trying to connect to socket: closing socket - timed out\n",
      "2025-04-22 04:11:48,170 - whois.whois - ERROR - Error trying to connect to socket: closing socket - [Errno -2] Name or service not known\n",
      "2025-04-22 04:11:48,170 - whois.whois - ERROR - Error trying to connect to socket: closing socket - [Errno -2] Name or service not known\n",
      "2025-04-22 04:11:48,497 - whois.whois - ERROR - Error trying to connect to socket: closing socket - [Errno 104] Connection reset by peer\n",
      "2025-04-22 04:11:48,497 - whois.whois - ERROR - Error trying to connect to socket: closing socket - [Errno 104] Connection reset by peer\n",
      "2025-04-22 04:11:52,068 - whois.whois - ERROR - Error trying to connect to socket: closing socket - [Errno 111] Connection refused\n",
      "2025-04-22 04:11:52,068 - whois.whois - ERROR - Error trying to connect to socket: closing socket - [Errno 111] Connection refused\n",
      "2025-04-22 04:12:01,218 - whois.whois - ERROR - Error trying to connect to socket: closing socket - timed out\n",
      "2025-04-22 04:12:01,218 - whois.whois - ERROR - Error trying to connect to socket: closing socket - timed out\n",
      "2025-04-22 04:12:16,472 - whois.whois - ERROR - Error trying to connect to socket: closing socket - [Errno 111] Connection refused\n",
      "2025-04-22 04:12:16,472 - whois.whois - ERROR - Error trying to connect to socket: closing socket - [Errno 111] Connection refused\n",
      "2025-04-22 04:12:23,258 - whois.whois - ERROR - Error trying to connect to socket: closing socket - [Errno 104] Connection reset by peer\n",
      "2025-04-22 04:12:23,258 - whois.whois - ERROR - Error trying to connect to socket: closing socket - [Errno 104] Connection reset by peer\n",
      "2025-04-22 04:12:26,656 - whois.whois - ERROR - Error trying to connect to socket: closing socket - [Errno 104] Connection reset by peer\n",
      "2025-04-22 04:12:26,656 - whois.whois - ERROR - Error trying to connect to socket: closing socket - [Errno 104] Connection reset by peer\n",
      "2025-04-22 04:12:37,016 - whois.whois - ERROR - Error trying to connect to socket: closing socket - [Errno -2] Name or service not known\n",
      "2025-04-22 04:12:37,016 - whois.whois - ERROR - Error trying to connect to socket: closing socket - [Errno -2] Name or service not known\n",
      "2025-04-22 04:12:37,955 - whois.whois - ERROR - Error trying to connect to socket: closing socket - timed out\n",
      "2025-04-22 04:12:37,955 - whois.whois - ERROR - Error trying to connect to socket: closing socket - timed out\n",
      "2025-04-22 04:12:45,146 - whois.whois - ERROR - Error trying to connect to socket: closing socket - [Errno 104] Connection reset by peer\n",
      "2025-04-22 04:12:45,146 - whois.whois - ERROR - Error trying to connect to socket: closing socket - [Errno 104] Connection reset by peer\n",
      "2025-04-22 04:12:49,164 - whois.whois - ERROR - Error trying to connect to socket: closing socket - timed out\n",
      "2025-04-22 04:12:49,164 - whois.whois - ERROR - Error trying to connect to socket: closing socket - timed out\n",
      "2025-04-22 04:12:50,496 - whois.whois - ERROR - Error trying to connect to socket: closing socket - timed out\n",
      "2025-04-22 04:12:50,496 - whois.whois - ERROR - Error trying to connect to socket: closing socket - timed out\n",
      "2025-04-22 04:13:03,134 - whois.whois - ERROR - Error trying to connect to socket: closing socket - timed out\n",
      "2025-04-22 04:13:03,134 - whois.whois - ERROR - Error trying to connect to socket: closing socket - timed out\n",
      "2025-04-22 04:13:06,432 - whois.whois - ERROR - Error trying to connect to socket: closing socket - [Errno 111] Connection refused\n",
      "2025-04-22 04:13:06,432 - whois.whois - ERROR - Error trying to connect to socket: closing socket - [Errno 111] Connection refused\n",
      "2025-04-22 04:13:08,219 - whois.whois - ERROR - Error trying to connect to socket: closing socket - [Errno 111] Connection refused\n",
      "2025-04-22 04:13:08,219 - whois.whois - ERROR - Error trying to connect to socket: closing socket - [Errno 111] Connection refused\n",
      "2025-04-22 04:13:13,826 - whois.whois - ERROR - Error trying to connect to socket: closing socket - timed out\n",
      "2025-04-22 04:13:13,826 - whois.whois - ERROR - Error trying to connect to socket: closing socket - timed out\n",
      "2025-04-22 04:13:19,771 - whois.whois - ERROR - Error trying to connect to socket: closing socket - timed out\n",
      "2025-04-22 04:13:19,771 - whois.whois - ERROR - Error trying to connect to socket: closing socket - timed out\n",
      "2025-04-22 04:13:29,683 - whois.whois - ERROR - Error trying to connect to socket: closing socket - timed out\n",
      "2025-04-22 04:13:29,683 - whois.whois - ERROR - Error trying to connect to socket: closing socket - timed out\n",
      "2025-04-22 04:13:30,099 - whois.whois - ERROR - Error trying to connect to socket: closing socket - [Errno 104] Connection reset by peer\n",
      "2025-04-22 04:13:30,099 - whois.whois - ERROR - Error trying to connect to socket: closing socket - [Errno 104] Connection reset by peer\n",
      "2025-04-22 04:13:31,004 - whois.whois - ERROR - Error trying to connect to socket: closing socket - [Errno 104] Connection reset by peer\n",
      "2025-04-22 04:13:31,004 - whois.whois - ERROR - Error trying to connect to socket: closing socket - [Errno 104] Connection reset by peer\n",
      "2025-04-22 04:13:37,422 - whois.whois - ERROR - Error trying to connect to socket: closing socket - [Errno -2] Name or service not known\n",
      "2025-04-22 04:13:37,422 - whois.whois - ERROR - Error trying to connect to socket: closing socket - [Errno -2] Name or service not known\n",
      "2025-04-22 04:13:40,356 - whois.whois - ERROR - Error trying to connect to socket: closing socket - [Errno 104] Connection reset by peer\n",
      "2025-04-22 04:13:40,356 - whois.whois - ERROR - Error trying to connect to socket: closing socket - [Errno 104] Connection reset by peer\n",
      "2025-04-22 04:13:45,415 - whois.whois - ERROR - Error trying to connect to socket: closing socket - [Errno -2] Name or service not known\n",
      "2025-04-22 04:13:45,415 - whois.whois - ERROR - Error trying to connect to socket: closing socket - [Errno -2] Name or service not known\n",
      "2025-04-22 04:13:50,099 - whois.whois - ERROR - Error trying to connect to socket: closing socket - [Errno 104] Connection reset by peer\n",
      "2025-04-22 04:13:50,099 - whois.whois - ERROR - Error trying to connect to socket: closing socket - [Errno 104] Connection reset by peer\n",
      "2025-04-22 04:13:53,843 - whois.whois - ERROR - Error trying to connect to socket: closing socket - [Errno 104] Connection reset by peer\n",
      "2025-04-22 04:13:53,843 - whois.whois - ERROR - Error trying to connect to socket: closing socket - [Errno 104] Connection reset by peer\n",
      "2025-04-22 04:14:02,482 - whois.whois - ERROR - Error trying to connect to socket: closing socket - [Errno 104] Connection reset by peer\n",
      "2025-04-22 04:14:02,482 - whois.whois - ERROR - Error trying to connect to socket: closing socket - [Errno 104] Connection reset by peer\n",
      "2025-04-22 04:14:13,062 - whois.whois - ERROR - Error trying to connect to socket: closing socket - [Errno 104] Connection reset by peer\n",
      "2025-04-22 04:14:13,062 - whois.whois - ERROR - Error trying to connect to socket: closing socket - [Errno 104] Connection reset by peer\n",
      "2025-04-22 04:14:37,628 - whois.whois - ERROR - Error trying to connect to socket: closing socket - timed out\n",
      "2025-04-22 04:14:37,628 - whois.whois - ERROR - Error trying to connect to socket: closing socket - timed out\n",
      "2025-04-22 04:14:43,340 - whois.whois - ERROR - Error trying to connect to socket: closing socket - timed out\n",
      "2025-04-22 04:14:43,340 - whois.whois - ERROR - Error trying to connect to socket: closing socket - timed out\n",
      "2025-04-22 04:14:50,685 - whois.whois - ERROR - Error trying to connect to socket: closing socket - [Errno 104] Connection reset by peer\n",
      "2025-04-22 04:14:50,685 - whois.whois - ERROR - Error trying to connect to socket: closing socket - [Errno 104] Connection reset by peer\n",
      "2025-04-22 04:14:56,296 - whois.whois - ERROR - Error trying to connect to socket: closing socket - timed out\n",
      "2025-04-22 04:14:56,296 - whois.whois - ERROR - Error trying to connect to socket: closing socket - timed out\n",
      "2025-04-22 04:14:57,718 - whois.whois - ERROR - Error trying to connect to socket: closing socket - [Errno 104] Connection reset by peer\n",
      "2025-04-22 04:14:57,718 - whois.whois - ERROR - Error trying to connect to socket: closing socket - [Errno 104] Connection reset by peer\n",
      "2025-04-22 04:14:59,490 - whois.whois - ERROR - Error trying to connect to socket: closing socket - [Errno -2] Name or service not known\n",
      "2025-04-22 04:14:59,490 - whois.whois - ERROR - Error trying to connect to socket: closing socket - [Errno -2] Name or service not known\n",
      "2025-04-22 04:15:07,941 - whois.whois - ERROR - Error trying to connect to socket: closing socket - [Errno 104] Connection reset by peer\n",
      "2025-04-22 04:15:07,941 - whois.whois - ERROR - Error trying to connect to socket: closing socket - [Errno 104] Connection reset by peer\n",
      "2025-04-22 04:15:21,763 - whois.whois - ERROR - Error trying to connect to socket: closing socket - timed out\n",
      "2025-04-22 04:15:21,763 - whois.whois - ERROR - Error trying to connect to socket: closing socket - timed out\n",
      "2025-04-22 04:15:45,035 - whois.whois - ERROR - Error trying to connect to socket: closing socket - [Errno -2] Name or service not known\n",
      "2025-04-22 04:15:45,035 - whois.whois - ERROR - Error trying to connect to socket: closing socket - [Errno -2] Name or service not known\n",
      "2025-04-22 04:15:56,636 - whois.whois - ERROR - Error trying to connect to socket: closing socket - [Errno 104] Connection reset by peer\n",
      "2025-04-22 04:15:56,636 - whois.whois - ERROR - Error trying to connect to socket: closing socket - [Errno 104] Connection reset by peer\n",
      "2025-04-22 04:16:01,773 - whois.whois - ERROR - Error trying to connect to socket: closing socket - [Errno 104] Connection reset by peer\n",
      "2025-04-22 04:16:01,773 - whois.whois - ERROR - Error trying to connect to socket: closing socket - [Errno 104] Connection reset by peer\n",
      "2025-04-22 04:16:11,718 - whois.whois - ERROR - Error trying to connect to socket: closing socket - timed out\n",
      "2025-04-22 04:16:11,718 - whois.whois - ERROR - Error trying to connect to socket: closing socket - timed out\n",
      "2025-04-22 04:17:02,995 - whois.whois - ERROR - Error trying to connect to socket: closing socket - [Errno 104] Connection reset by peer\n",
      "2025-04-22 04:17:02,995 - whois.whois - ERROR - Error trying to connect to socket: closing socket - [Errno 104] Connection reset by peer\n",
      "2025-04-22 04:17:08,587 - whois.whois - ERROR - Error trying to connect to socket: closing socket - [Errno 104] Connection reset by peer\n",
      "2025-04-22 04:17:08,587 - whois.whois - ERROR - Error trying to connect to socket: closing socket - [Errno 104] Connection reset by peer\n",
      "2025-04-22 04:17:10,643 - whois.whois - ERROR - Error trying to connect to socket: closing socket - [Errno 104] Connection reset by peer\n",
      "2025-04-22 04:17:10,643 - whois.whois - ERROR - Error trying to connect to socket: closing socket - [Errno 104] Connection reset by peer\n",
      "2025-04-22 04:17:26,462 - whois.whois - ERROR - Error trying to connect to socket: closing socket - [Errno 104] Connection reset by peer\n",
      "2025-04-22 04:17:26,462 - whois.whois - ERROR - Error trying to connect to socket: closing socket - [Errno 104] Connection reset by peer\n",
      "2025-04-22 04:17:29,929 - whois.whois - ERROR - Error trying to connect to socket: closing socket - [Errno 104] Connection reset by peer\n",
      "2025-04-22 04:17:29,929 - whois.whois - ERROR - Error trying to connect to socket: closing socket - [Errno 104] Connection reset by peer\n",
      "2025-04-22 04:17:36,231 - whois.whois - ERROR - Error trying to connect to socket: closing socket - [Errno 104] Connection reset by peer\n",
      "2025-04-22 04:17:36,231 - whois.whois - ERROR - Error trying to connect to socket: closing socket - [Errno 104] Connection reset by peer\n",
      "2025-04-22 04:17:39,063 - whois.whois - ERROR - Error trying to connect to socket: closing socket - [Errno 104] Connection reset by peer\n",
      "2025-04-22 04:17:39,063 - whois.whois - ERROR - Error trying to connect to socket: closing socket - [Errno 104] Connection reset by peer\n",
      "2025-04-22 04:17:50,158 - whois.whois - ERROR - Error trying to connect to socket: closing socket - [Errno 104] Connection reset by peer\n",
      "2025-04-22 04:17:50,166 - whois.whois - ERROR - Error trying to connect to socket: closing socket - timed out\n",
      "2025-04-22 04:17:50,158 - whois.whois - ERROR - Error trying to connect to socket: closing socket - [Errno 104] Connection reset by peer\n",
      "2025-04-22 04:17:50,166 - whois.whois - ERROR - Error trying to connect to socket: closing socket - timed out\n",
      "2025-04-22 04:17:52,450 - whois.whois - ERROR - Error trying to connect to socket: closing socket - [Errno 111] Connection refused\n",
      "2025-04-22 04:17:52,450 - whois.whois - ERROR - Error trying to connect to socket: closing socket - [Errno 111] Connection refused\n",
      "2025-04-22 04:17:56,346 - whois.whois - ERROR - Error trying to connect to socket: closing socket - [Errno 104] Connection reset by peer\n",
      "2025-04-22 04:17:56,346 - whois.whois - ERROR - Error trying to connect to socket: closing socket - [Errno 104] Connection reset by peer\n",
      "2025-04-22 04:17:56,895 - whois.whois - ERROR - Error trying to connect to socket: closing socket - [Errno 104] Connection reset by peer\n",
      "2025-04-22 04:17:56,895 - whois.whois - ERROR - Error trying to connect to socket: closing socket - [Errno 104] Connection reset by peer\n",
      "2025-04-22 04:17:57,553 - whois.whois - ERROR - Error trying to connect to socket: closing socket - [Errno -2] Name or service not known\n",
      "2025-04-22 04:17:57,553 - whois.whois - ERROR - Error trying to connect to socket: closing socket - [Errno -2] Name or service not known\n",
      "2025-04-22 04:17:57,932 - whois.whois - ERROR - Error trying to connect to socket: closing socket - [Errno 104] Connection reset by peer\n",
      "2025-04-22 04:17:57,932 - whois.whois - ERROR - Error trying to connect to socket: closing socket - [Errno 104] Connection reset by peer\n",
      "2025-04-22 04:18:03,426 - whois.whois - ERROR - Error trying to connect to socket: closing socket - [Errno 104] Connection reset by peer\n",
      "2025-04-22 04:18:03,426 - whois.whois - ERROR - Error trying to connect to socket: closing socket - [Errno 104] Connection reset by peer\n",
      "2025-04-22 04:18:06,292 - whois.whois - ERROR - Error trying to connect to socket: closing socket - [Errno 104] Connection reset by peer\n",
      "2025-04-22 04:18:06,292 - whois.whois - ERROR - Error trying to connect to socket: closing socket - [Errno 104] Connection reset by peer\n",
      "2025-04-22 04:18:17,971 - whois.whois - ERROR - Error trying to connect to socket: closing socket - timed out\n",
      "2025-04-22 04:18:17,971 - whois.whois - ERROR - Error trying to connect to socket: closing socket - timed out\n",
      "2025-04-22 04:18:30,781 - whois.whois - ERROR - Error trying to connect to socket: closing socket - timed out\n",
      "2025-04-22 04:18:30,781 - whois.whois - ERROR - Error trying to connect to socket: closing socket - timed out\n",
      "2025-04-22 04:18:39,687 - whois.whois - ERROR - Error trying to connect to socket: closing socket - [Errno 104] Connection reset by peer\n",
      "2025-04-22 04:18:39,687 - whois.whois - ERROR - Error trying to connect to socket: closing socket - [Errno 104] Connection reset by peer\n",
      "2025-04-22 04:18:47,504 - whois.whois - ERROR - Error trying to connect to socket: closing socket - [Errno 104] Connection reset by peer\n",
      "2025-04-22 04:18:47,504 - whois.whois - ERROR - Error trying to connect to socket: closing socket - [Errno 104] Connection reset by peer\n",
      "2025-04-22 04:19:03,777 - whois.whois - ERROR - Error trying to connect to socket: closing socket - timed out\n",
      "2025-04-22 04:19:03,777 - whois.whois - ERROR - Error trying to connect to socket: closing socket - timed out\n",
      "2025-04-22 04:19:05,042 - whois.whois - ERROR - Error trying to connect to socket: closing socket - timed out\n",
      "2025-04-22 04:19:05,042 - whois.whois - ERROR - Error trying to connect to socket: closing socket - timed out\n",
      "2025-04-22 04:19:18,190 - whois.whois - ERROR - Error trying to connect to socket: closing socket - timed out\n",
      "2025-04-22 04:19:18,190 - whois.whois - ERROR - Error trying to connect to socket: closing socket - timed out\n",
      "2025-04-22 04:20:30,460 - whois.whois - ERROR - Error trying to connect to socket: closing socket - [Errno 104] Connection reset by peer\n",
      "2025-04-22 04:20:30,460 - whois.whois - ERROR - Error trying to connect to socket: closing socket - [Errno 104] Connection reset by peer\n",
      "2025-04-22 04:20:33,399 - whois.whois - ERROR - Error trying to connect to socket: closing socket - [Errno 104] Connection reset by peer\n",
      "2025-04-22 04:20:33,399 - whois.whois - ERROR - Error trying to connect to socket: closing socket - [Errno 104] Connection reset by peer\n",
      "2025-04-22 04:20:38,277 - whois.whois - ERROR - Error trying to connect to socket: closing socket - [Errno 104] Connection reset by peer\n",
      "2025-04-22 04:20:38,277 - whois.whois - ERROR - Error trying to connect to socket: closing socket - [Errno 104] Connection reset by peer\n",
      "2025-04-22 04:20:39,198 - whois.whois - ERROR - Error trying to connect to socket: closing socket - [Errno 104] Connection reset by peer\n",
      "2025-04-22 04:20:39,198 - whois.whois - ERROR - Error trying to connect to socket: closing socket - [Errno 104] Connection reset by peer\n",
      "2025-04-22 04:20:50,297 - whois.whois - ERROR - Error trying to connect to socket: closing socket - [Errno 104] Connection reset by peer\n",
      "2025-04-22 04:20:50,297 - whois.whois - ERROR - Error trying to connect to socket: closing socket - [Errno 104] Connection reset by peer\n",
      "2025-04-22 04:20:50,366 - whois.whois - ERROR - Error trying to connect to socket: closing socket - [Errno 111] Connection refused\n",
      "2025-04-22 04:20:50,366 - whois.whois - ERROR - Error trying to connect to socket: closing socket - [Errno 111] Connection refused\n",
      "2025-04-22 04:21:30,023 - whois.whois - ERROR - Error trying to connect to socket: closing socket - timed out\n",
      "2025-04-22 04:21:30,023 - whois.whois - ERROR - Error trying to connect to socket: closing socket - timed out\n",
      "2025-04-22 04:21:30,287 - whois.whois - ERROR - Error trying to connect to socket: closing socket - [Errno 104] Connection reset by peer\n",
      "2025-04-22 04:21:30,287 - whois.whois - ERROR - Error trying to connect to socket: closing socket - [Errno 104] Connection reset by peer\n",
      "2025-04-22 04:21:44,167 - whois.whois - ERROR - Error trying to connect to socket: closing socket - [Errno 104] Connection reset by peer\n",
      "2025-04-22 04:21:44,167 - whois.whois - ERROR - Error trying to connect to socket: closing socket - [Errno 104] Connection reset by peer\n",
      "2025-04-22 04:21:49,984 - whois.whois - ERROR - Error trying to connect to socket: closing socket - [Errno 104] Connection reset by peer\n",
      "2025-04-22 04:21:49,984 - whois.whois - ERROR - Error trying to connect to socket: closing socket - [Errno 104] Connection reset by peer\n",
      "2025-04-22 04:21:52,119 - whois.whois - ERROR - Error trying to connect to socket: closing socket - [Errno 104] Connection reset by peer\n",
      "2025-04-22 04:21:52,119 - whois.whois - ERROR - Error trying to connect to socket: closing socket - [Errno 104] Connection reset by peer\n",
      "2025-04-22 04:22:01,445 - whois.whois - ERROR - Error trying to connect to socket: closing socket - timed out\n",
      "2025-04-22 04:22:01,445 - whois.whois - ERROR - Error trying to connect to socket: closing socket - timed out\n",
      "2025-04-22 04:22:12,262 - whois.whois - ERROR - Error trying to connect to socket: closing socket - timed out\n",
      "2025-04-22 04:22:12,262 - whois.whois - ERROR - Error trying to connect to socket: closing socket - timed out\n",
      "2025-04-22 04:22:22,247 - whois.whois - ERROR - Error trying to connect to socket: closing socket - [Errno 104] Connection reset by peer\n",
      "2025-04-22 04:22:22,247 - whois.whois - ERROR - Error trying to connect to socket: closing socket - [Errno 104] Connection reset by peer\n",
      "2025-04-22 04:22:38,523 - whois.whois - ERROR - Error trying to connect to socket: closing socket - timed out\n",
      "2025-04-22 04:22:38,523 - whois.whois - ERROR - Error trying to connect to socket: closing socket - timed out\n",
      "2025-04-22 04:22:45,754 - whois.whois - ERROR - Error trying to connect to socket: closing socket - [Errno 104] Connection reset by peer\n",
      "2025-04-22 04:22:45,754 - whois.whois - ERROR - Error trying to connect to socket: closing socket - [Errno 104] Connection reset by peer\n",
      "2025-04-22 04:23:02,120 - whois.whois - ERROR - Error trying to connect to socket: closing socket - timed out\n",
      "2025-04-22 04:23:02,120 - whois.whois - ERROR - Error trying to connect to socket: closing socket - timed out\n",
      "2025-04-22 04:23:02,274 - whois.whois - ERROR - Error trying to connect to socket: closing socket - timed out\n",
      "2025-04-22 04:23:02,274 - whois.whois - ERROR - Error trying to connect to socket: closing socket - timed out\n",
      "2025-04-22 04:23:13,973 - whois.whois - ERROR - Error trying to connect to socket: closing socket - timed out\n",
      "2025-04-22 04:23:13,973 - whois.whois - ERROR - Error trying to connect to socket: closing socket - timed out\n",
      "2025-04-22 04:23:15,060 - whois.whois - ERROR - Error trying to connect to socket: closing socket - [Errno -2] Name or service not known\n",
      "2025-04-22 04:23:15,060 - whois.whois - ERROR - Error trying to connect to socket: closing socket - [Errno -2] Name or service not known\n",
      "2025-04-22 04:23:42,423 - whois.whois - ERROR - Error trying to connect to socket: closing socket - [Errno 104] Connection reset by peer\n",
      "2025-04-22 04:23:42,423 - whois.whois - ERROR - Error trying to connect to socket: closing socket - [Errno 104] Connection reset by peer\n",
      "2025-04-22 04:23:49,293 - whois.whois - ERROR - Error trying to connect to socket: closing socket - [Errno -2] Name or service not known\n",
      "2025-04-22 04:23:49,293 - whois.whois - ERROR - Error trying to connect to socket: closing socket - [Errno -2] Name or service not known\n",
      "2025-04-22 04:24:11,667 - whois.whois - ERROR - Error trying to connect to socket: closing socket - [Errno 111] Connection refused\n",
      "2025-04-22 04:24:11,667 - whois.whois - ERROR - Error trying to connect to socket: closing socket - [Errno 111] Connection refused\n",
      "2025-04-22 04:24:30,196 - whois.whois - ERROR - Error trying to connect to socket: closing socket - [Errno 104] Connection reset by peer\n",
      "2025-04-22 04:24:30,196 - whois.whois - ERROR - Error trying to connect to socket: closing socket - [Errno 104] Connection reset by peer\n",
      "2025-04-22 04:24:31,410 - whois.whois - ERROR - Error trying to connect to socket: closing socket - [Errno -2] Name or service not known\n",
      "2025-04-22 04:24:31,410 - whois.whois - ERROR - Error trying to connect to socket: closing socket - [Errno -2] Name or service not known\n",
      "2025-04-22 04:24:57,682 - whois.whois - ERROR - Error trying to connect to socket: closing socket - timed out\n",
      "2025-04-22 04:24:57,682 - whois.whois - ERROR - Error trying to connect to socket: closing socket - timed out\n",
      "2025-04-22 04:25:09,554 - whois.whois - ERROR - Error trying to connect to socket: closing socket - [Errno -2] Name or service not known\n",
      "2025-04-22 04:25:09,554 - whois.whois - ERROR - Error trying to connect to socket: closing socket - [Errno -2] Name or service not known\n",
      "2025-04-22 04:25:22,518 - whois.whois - ERROR - Error trying to connect to socket: closing socket - timed out\n",
      "2025-04-22 04:25:22,518 - whois.whois - ERROR - Error trying to connect to socket: closing socket - timed out\n",
      "2025-04-22 04:25:23,195 - whois.whois - ERROR - Error trying to connect to socket: closing socket - [Errno 104] Connection reset by peer\n",
      "2025-04-22 04:25:23,195 - whois.whois - ERROR - Error trying to connect to socket: closing socket - [Errno 104] Connection reset by peer\n",
      "2025-04-22 04:25:40,961 - whois.whois - ERROR - Error trying to connect to socket: closing socket - [Errno 104] Connection reset by peer\n",
      "2025-04-22 04:25:40,961 - whois.whois - ERROR - Error trying to connect to socket: closing socket - [Errno 104] Connection reset by peer\n",
      "2025-04-22 04:25:42,958 - whois.whois - ERROR - Error trying to connect to socket: closing socket - timed out\n",
      "2025-04-22 04:25:42,958 - whois.whois - ERROR - Error trying to connect to socket: closing socket - timed out\n",
      "2025-04-22 04:25:45,709 - whois.whois - ERROR - Error trying to connect to socket: closing socket - [Errno 104] Connection reset by peer\n",
      "2025-04-22 04:25:45,709 - whois.whois - ERROR - Error trying to connect to socket: closing socket - [Errno 104] Connection reset by peer\n",
      "2025-04-22 04:25:47,608 - whois.whois - ERROR - Error trying to connect to socket: closing socket - timed out\n",
      "2025-04-22 04:25:47,608 - whois.whois - ERROR - Error trying to connect to socket: closing socket - timed out\n",
      "2025-04-22 04:25:57,335 - whois.whois - ERROR - Error trying to connect to socket: closing socket - [Errno 104] Connection reset by peer\n",
      "2025-04-22 04:25:57,335 - whois.whois - ERROR - Error trying to connect to socket: closing socket - [Errno 104] Connection reset by peer\n",
      "2025-04-22 04:25:58,179 - whois.whois - ERROR - Error trying to connect to socket: closing socket - [Errno 104] Connection reset by peer\n",
      "2025-04-22 04:25:58,179 - whois.whois - ERROR - Error trying to connect to socket: closing socket - [Errno 104] Connection reset by peer\n",
      "2025-04-22 04:25:59,471 - whois.whois - ERROR - Error trying to connect to socket: closing socket - [Errno 104] Connection reset by peer\n",
      "2025-04-22 04:25:59,471 - whois.whois - ERROR - Error trying to connect to socket: closing socket - [Errno 104] Connection reset by peer\n",
      "2025-04-22 04:26:03,675 - whois.whois - ERROR - Error trying to connect to socket: closing socket - [Errno -2] Name or service not known\n",
      "2025-04-22 04:26:03,675 - whois.whois - ERROR - Error trying to connect to socket: closing socket - [Errno -2] Name or service not known\n",
      "2025-04-22 04:26:15,830 - whois.whois - ERROR - Error trying to connect to socket: closing socket - timed out\n",
      "2025-04-22 04:26:15,830 - whois.whois - ERROR - Error trying to connect to socket: closing socket - timed out\n",
      "2025-04-22 04:26:44,930 - whois.whois - ERROR - Error trying to connect to socket: closing socket - [Errno 111] Connection refused\n",
      "2025-04-22 04:26:44,930 - whois.whois - ERROR - Error trying to connect to socket: closing socket - [Errno 111] Connection refused\n",
      "2025-04-22 04:26:45,303 - whois.whois - ERROR - Error trying to connect to socket: closing socket - [Errno -2] Name or service not known\n",
      "2025-04-22 04:26:45,303 - whois.whois - ERROR - Error trying to connect to socket: closing socket - [Errno -2] Name or service not known\n",
      "2025-04-22 04:27:03,374 - whois.whois - ERROR - Error trying to connect to socket: closing socket - [Errno -2] Name or service not known\n",
      "2025-04-22 04:27:03,374 - whois.whois - ERROR - Error trying to connect to socket: closing socket - [Errno -2] Name or service not known\n",
      "2025-04-22 04:27:33,112 - whois.whois - ERROR - Error trying to connect to socket: closing socket - timed out\n",
      "2025-04-22 04:27:33,112 - whois.whois - ERROR - Error trying to connect to socket: closing socket - timed out\n",
      "2025-04-22 04:27:33,556 - whois.whois - ERROR - Error trying to connect to socket: closing socket - [Errno 104] Connection reset by peer\n",
      "2025-04-22 04:27:33,556 - whois.whois - ERROR - Error trying to connect to socket: closing socket - [Errno 104] Connection reset by peer\n",
      "2025-04-22 04:27:46,128 - whois.whois - ERROR - Error trying to connect to socket: closing socket - [Errno 104] Connection reset by peer\n",
      "2025-04-22 04:27:46,128 - whois.whois - ERROR - Error trying to connect to socket: closing socket - [Errno 104] Connection reset by peer\n",
      "2025-04-22 04:28:12,728 - whois.whois - ERROR - Error trying to connect to socket: closing socket - [Errno -2] Name or service not known\n",
      "2025-04-22 04:28:12,728 - whois.whois - ERROR - Error trying to connect to socket: closing socket - [Errno -2] Name or service not known\n",
      "2025-04-22 04:28:16,833 - whois.whois - ERROR - Error trying to connect to socket: closing socket - [Errno -2] Name or service not known\n",
      "2025-04-22 04:28:16,833 - whois.whois - ERROR - Error trying to connect to socket: closing socket - [Errno -2] Name or service not known\n",
      "2025-04-22 04:28:44,741 - whois.whois - ERROR - Error trying to connect to socket: closing socket - [Errno 104] Connection reset by peer\n",
      "2025-04-22 04:28:44,741 - whois.whois - ERROR - Error trying to connect to socket: closing socket - [Errno 104] Connection reset by peer\n",
      "2025-04-22 04:28:51,747 - whois.whois - ERROR - Error trying to connect to socket: closing socket - [Errno 104] Connection reset by peer\n",
      "2025-04-22 04:28:51,747 - whois.whois - ERROR - Error trying to connect to socket: closing socket - [Errno 104] Connection reset by peer\n",
      "2025-04-22 04:28:54,270 - whois.whois - ERROR - Error trying to connect to socket: closing socket - [Errno 104] Connection reset by peer\n",
      "2025-04-22 04:28:54,270 - whois.whois - ERROR - Error trying to connect to socket: closing socket - [Errno 104] Connection reset by peer\n",
      "2025-04-22 04:28:56,239 - whois.whois - ERROR - Error trying to connect to socket: closing socket - [Errno 111] Connection refused\n",
      "2025-04-22 04:28:56,239 - whois.whois - ERROR - Error trying to connect to socket: closing socket - [Errno 111] Connection refused\n",
      "2025-04-22 04:28:56,696 - whois.whois - ERROR - Error trying to connect to socket: closing socket - [Errno 111] Connection refused\n",
      "2025-04-22 04:28:56,696 - whois.whois - ERROR - Error trying to connect to socket: closing socket - [Errno 111] Connection refused\n",
      "2025-04-22 04:29:06,765 - whois.whois - ERROR - Error trying to connect to socket: closing socket - timed out\n",
      "2025-04-22 04:29:06,765 - whois.whois - ERROR - Error trying to connect to socket: closing socket - timed out\n",
      "2025-04-22 04:29:06,813 - whois.whois - ERROR - Error trying to connect to socket: closing socket - timed out\n",
      "2025-04-22 04:29:06,813 - whois.whois - ERROR - Error trying to connect to socket: closing socket - timed out\n",
      "2025-04-22 04:29:16,534 - whois.whois - ERROR - Error trying to connect to socket: closing socket - [Errno 104] Connection reset by peer\n",
      "2025-04-22 04:29:16,534 - whois.whois - ERROR - Error trying to connect to socket: closing socket - [Errno 104] Connection reset by peer\n",
      "2025-04-22 04:29:34,489 - whois.whois - ERROR - Error trying to connect to socket: closing socket - [Errno 104] Connection reset by peer\n",
      "2025-04-22 04:29:34,489 - whois.whois - ERROR - Error trying to connect to socket: closing socket - [Errno 104] Connection reset by peer\n",
      "2025-04-22 04:29:38,189 - whois.whois - ERROR - Error trying to connect to socket: closing socket - timed out\n",
      "2025-04-22 04:29:38,189 - whois.whois - ERROR - Error trying to connect to socket: closing socket - timed out\n",
      "2025-04-22 04:29:38,791 - whois.whois - ERROR - Error trying to connect to socket: closing socket - [Errno -2] Name or service not known\n",
      "2025-04-22 04:29:38,791 - whois.whois - ERROR - Error trying to connect to socket: closing socket - [Errno -2] Name or service not known\n",
      "2025-04-22 04:29:43,109 - whois.whois - ERROR - Error trying to connect to socket: closing socket - [Errno 104] Connection reset by peer\n",
      "2025-04-22 04:29:43,109 - whois.whois - ERROR - Error trying to connect to socket: closing socket - [Errno 104] Connection reset by peer\n",
      "2025-04-22 04:29:47,247 - whois.whois - ERROR - Error trying to connect to socket: closing socket - [Errno 104] Connection reset by peer\n",
      "2025-04-22 04:29:47,247 - whois.whois - ERROR - Error trying to connect to socket: closing socket - [Errno 104] Connection reset by peer\n",
      "2025-04-22 04:29:55,144 - whois.whois - ERROR - Error trying to connect to socket: closing socket - [Errno 104] Connection reset by peer\n",
      "2025-04-22 04:29:55,144 - whois.whois - ERROR - Error trying to connect to socket: closing socket - [Errno 104] Connection reset by peer\n",
      "2025-04-22 04:30:05,316 - whois.whois - ERROR - Error trying to connect to socket: closing socket - [Errno 104] Connection reset by peer\n",
      "2025-04-22 04:30:05,316 - whois.whois - ERROR - Error trying to connect to socket: closing socket - [Errno 104] Connection reset by peer\n",
      "2025-04-22 04:30:15,526 - whois.whois - ERROR - Error trying to connect to socket: closing socket - timed out\n",
      "2025-04-22 04:30:15,526 - whois.whois - ERROR - Error trying to connect to socket: closing socket - timed out\n",
      "2025-04-22 04:30:31,203 - whois.whois - ERROR - Error trying to connect to socket: closing socket - [Errno -2] Name or service not known\n",
      "2025-04-22 04:30:31,203 - whois.whois - ERROR - Error trying to connect to socket: closing socket - [Errno -2] Name or service not known\n",
      "2025-04-22 04:30:38,321 - whois.whois - ERROR - Error trying to connect to socket: closing socket - [Errno 104] Connection reset by peer\n",
      "2025-04-22 04:30:38,321 - whois.whois - ERROR - Error trying to connect to socket: closing socket - [Errno 104] Connection reset by peer\n",
      "2025-04-22 04:30:49,684 - whois.whois - ERROR - Error trying to connect to socket: closing socket - [Errno -2] Name or service not known\n",
      "2025-04-22 04:30:49,684 - whois.whois - ERROR - Error trying to connect to socket: closing socket - [Errno -2] Name or service not known\n",
      "2025-04-22 04:30:51,754 - whois.whois - ERROR - Error trying to connect to socket: closing socket - [Errno 104] Connection reset by peer\n",
      "2025-04-22 04:30:51,754 - whois.whois - ERROR - Error trying to connect to socket: closing socket - [Errno 104] Connection reset by peer\n",
      "2025-04-22 04:31:00,069 - whois.whois - ERROR - Error trying to connect to socket: closing socket - [Errno 104] Connection reset by peer\n",
      "2025-04-22 04:31:00,069 - whois.whois - ERROR - Error trying to connect to socket: closing socket - [Errno 104] Connection reset by peer\n",
      "2025-04-22 04:31:14,596 - whois.whois - ERROR - Error trying to connect to socket: closing socket - [Errno -2] Name or service not known\n",
      "2025-04-22 04:31:14,596 - whois.whois - ERROR - Error trying to connect to socket: closing socket - [Errno -2] Name or service not known\n",
      "2025-04-22 04:31:18,498 - whois.whois - ERROR - Error trying to connect to socket: closing socket - [Errno -2] Name or service not known\n",
      "2025-04-22 04:31:18,498 - whois.whois - ERROR - Error trying to connect to socket: closing socket - [Errno -2] Name or service not known\n",
      "2025-04-22 04:31:27,629 - whois.whois - ERROR - Error trying to connect to socket: closing socket - timed out\n",
      "2025-04-22 04:31:27,629 - whois.whois - ERROR - Error trying to connect to socket: closing socket - timed out\n",
      "2025-04-22 04:31:29,510 - whois.whois - ERROR - Error trying to connect to socket: closing socket - [Errno -2] Name or service not known\n",
      "2025-04-22 04:31:29,510 - whois.whois - ERROR - Error trying to connect to socket: closing socket - [Errno -2] Name or service not known\n",
      "2025-04-22 04:31:33,778 - whois.whois - ERROR - Error trying to connect to socket: closing socket - [Errno 104] Connection reset by peer\n",
      "2025-04-22 04:31:33,778 - whois.whois - ERROR - Error trying to connect to socket: closing socket - [Errno 104] Connection reset by peer\n",
      "2025-04-22 04:31:34,173 - whois.whois - ERROR - Error trying to connect to socket: closing socket - [Errno -2] Name or service not known\n",
      "2025-04-22 04:31:34,173 - whois.whois - ERROR - Error trying to connect to socket: closing socket - [Errno -2] Name or service not known\n",
      "2025-04-22 04:31:55,587 - whois.whois - ERROR - Error trying to connect to socket: closing socket - timed out\n",
      "2025-04-22 04:31:55,587 - whois.whois - ERROR - Error trying to connect to socket: closing socket - timed out\n",
      "2025-04-22 04:31:59,997 - whois.whois - ERROR - Error trying to connect to socket: closing socket - [Errno 104] Connection reset by peer\n",
      "2025-04-22 04:31:59,997 - whois.whois - ERROR - Error trying to connect to socket: closing socket - [Errno 104] Connection reset by peer\n",
      "2025-04-22 04:32:09,401 - whois.whois - ERROR - Error trying to connect to socket: closing socket - timed out\n",
      "2025-04-22 04:32:09,401 - whois.whois - ERROR - Error trying to connect to socket: closing socket - timed out\n",
      "2025-04-22 04:32:13,405 - whois.whois - ERROR - Error trying to connect to socket: closing socket - timed out\n",
      "2025-04-22 04:32:13,405 - whois.whois - ERROR - Error trying to connect to socket: closing socket - timed out\n",
      "2025-04-22 04:32:20,926 - whois.whois - ERROR - Error trying to connect to socket: closing socket - [Errno 111] Connection refused\n",
      "2025-04-22 04:32:20,926 - whois.whois - ERROR - Error trying to connect to socket: closing socket - [Errno 111] Connection refused\n",
      "2025-04-22 04:32:24,993 - whois.whois - ERROR - Error trying to connect to socket: closing socket - [Errno 104] Connection reset by peer\n",
      "2025-04-22 04:32:24,993 - whois.whois - ERROR - Error trying to connect to socket: closing socket - [Errno 104] Connection reset by peer\n",
      "2025-04-22 04:32:27,716 - whois.whois - ERROR - Error trying to connect to socket: closing socket - [Errno 111] Connection refused\n",
      "2025-04-22 04:32:27,716 - whois.whois - ERROR - Error trying to connect to socket: closing socket - [Errno 111] Connection refused\n",
      "2025-04-22 04:32:30,329 - whois.whois - ERROR - Error trying to connect to socket: closing socket - [Errno 111] Connection refused\n",
      "2025-04-22 04:32:30,329 - whois.whois - ERROR - Error trying to connect to socket: closing socket - [Errno 111] Connection refused\n",
      "2025-04-22 04:32:39,140 - whois.whois - ERROR - Error trying to connect to socket: closing socket - [Errno 104] Connection reset by peer\n",
      "2025-04-22 04:32:39,140 - whois.whois - ERROR - Error trying to connect to socket: closing socket - [Errno 104] Connection reset by peer\n",
      "2025-04-22 04:32:41,930 - whois.whois - ERROR - Error trying to connect to socket: closing socket - timed out\n",
      "2025-04-22 04:32:41,930 - whois.whois - ERROR - Error trying to connect to socket: closing socket - timed out\n",
      "2025-04-22 04:32:43,017 - whois.whois - ERROR - Error trying to connect to socket: closing socket - timed out\n",
      "2025-04-22 04:32:43,017 - whois.whois - ERROR - Error trying to connect to socket: closing socket - timed out\n",
      "2025-04-22 04:32:52,156 - whois.whois - ERROR - Error trying to connect to socket: closing socket - [Errno -2] Name or service not known\n",
      "2025-04-22 04:32:52,156 - whois.whois - ERROR - Error trying to connect to socket: closing socket - [Errno -2] Name or service not known\n",
      "2025-04-22 04:33:13,633 - whois.whois - ERROR - Error trying to connect to socket: closing socket - [Errno -2] Name or service not known\n",
      "2025-04-22 04:33:13,633 - whois.whois - ERROR - Error trying to connect to socket: closing socket - [Errno -2] Name or service not known\n",
      "2025-04-22 04:33:15,902 - whois.whois - ERROR - Error trying to connect to socket: closing socket - [Errno 104] Connection reset by peer\n",
      "2025-04-22 04:33:15,902 - whois.whois - ERROR - Error trying to connect to socket: closing socket - [Errno 104] Connection reset by peer\n",
      "2025-04-22 04:33:27,921 - whois.whois - ERROR - Error trying to connect to socket: closing socket - timed out\n",
      "2025-04-22 04:33:27,921 - whois.whois - ERROR - Error trying to connect to socket: closing socket - timed out\n",
      "2025-04-22 04:33:29,704 - whois.whois - ERROR - Error trying to connect to socket: closing socket - timed out\n",
      "2025-04-22 04:33:29,704 - whois.whois - ERROR - Error trying to connect to socket: closing socket - timed out\n",
      "2025-04-22 04:33:32,567 - whois.whois - ERROR - Error trying to connect to socket: closing socket - [Errno 111] Connection refused\n",
      "2025-04-22 04:33:32,567 - whois.whois - ERROR - Error trying to connect to socket: closing socket - [Errno 111] Connection refused\n",
      "2025-04-22 04:33:34,631 - whois.whois - ERROR - Error trying to connect to socket: closing socket - [Errno 104] Connection reset by peer\n",
      "2025-04-22 04:33:34,631 - whois.whois - ERROR - Error trying to connect to socket: closing socket - [Errno 104] Connection reset by peer\n",
      "2025-04-22 04:33:36,075 - whois.whois - ERROR - Error trying to connect to socket: closing socket - [Errno 104] Connection reset by peer\n",
      "2025-04-22 04:33:36,075 - whois.whois - ERROR - Error trying to connect to socket: closing socket - [Errno 104] Connection reset by peer\n",
      "2025-04-22 04:33:45,911 - whois.whois - ERROR - Error trying to connect to socket: closing socket - [Errno 104] Connection reset by peer\n",
      "2025-04-22 04:33:45,911 - whois.whois - ERROR - Error trying to connect to socket: closing socket - [Errno 104] Connection reset by peer\n",
      "2025-04-22 04:34:12,443 - whois.whois - ERROR - Error trying to connect to socket: closing socket - [Errno -2] Name or service not known\n",
      "2025-04-22 04:34:12,443 - whois.whois - ERROR - Error trying to connect to socket: closing socket - [Errno -2] Name or service not known\n",
      "2025-04-22 04:34:31,721 - whois.whois - ERROR - Error trying to connect to socket: closing socket - timed out\n",
      "2025-04-22 04:34:31,721 - whois.whois - ERROR - Error trying to connect to socket: closing socket - timed out\n",
      "2025-04-22 04:34:59,954 - whois.whois - ERROR - Error trying to connect to socket: closing socket - [Errno 104] Connection reset by peer\n",
      "2025-04-22 04:34:59,954 - whois.whois - ERROR - Error trying to connect to socket: closing socket - [Errno 104] Connection reset by peer\n",
      "2025-04-22 04:35:01,017 - whois.whois - ERROR - Error trying to connect to socket: closing socket - [Errno 104] Connection reset by peer\n",
      "2025-04-22 04:35:01,017 - whois.whois - ERROR - Error trying to connect to socket: closing socket - [Errno 104] Connection reset by peer\n",
      "2025-04-22 04:35:12,306 - whois.whois - ERROR - Error trying to connect to socket: closing socket - timed out\n",
      "2025-04-22 04:35:12,306 - whois.whois - ERROR - Error trying to connect to socket: closing socket - timed out\n",
      "2025-04-22 04:35:43,249 - whois.whois - ERROR - Error trying to connect to socket: closing socket - [Errno -2] Name or service not known\n",
      "2025-04-22 04:35:43,249 - whois.whois - ERROR - Error trying to connect to socket: closing socket - [Errno -2] Name or service not known\n",
      "2025-04-22 04:36:21,323 - whois.whois - ERROR - Error trying to connect to socket: closing socket - [Errno 104] Connection reset by peer\n",
      "2025-04-22 04:36:21,323 - whois.whois - ERROR - Error trying to connect to socket: closing socket - [Errno 104] Connection reset by peer\n",
      "2025-04-22 04:36:27,749 - whois.whois - ERROR - Error trying to connect to socket: closing socket - timed out\n",
      "2025-04-22 04:36:27,749 - whois.whois - ERROR - Error trying to connect to socket: closing socket - timed out\n",
      "2025-04-22 04:36:30,780 - whois.whois - ERROR - Error trying to connect to socket: closing socket - [Errno 104] Connection reset by peer\n",
      "2025-04-22 04:36:30,780 - whois.whois - ERROR - Error trying to connect to socket: closing socket - [Errno 104] Connection reset by peer\n",
      "2025-04-22 04:36:36,448 - whois.whois - ERROR - Error trying to connect to socket: closing socket - [Errno 111] Connection refused\n",
      "2025-04-22 04:36:36,448 - whois.whois - ERROR - Error trying to connect to socket: closing socket - [Errno 111] Connection refused\n",
      "2025-04-22 04:36:50,433 - whois.whois - ERROR - Error trying to connect to socket: closing socket - timed out\n",
      "2025-04-22 04:36:50,433 - whois.whois - ERROR - Error trying to connect to socket: closing socket - timed out\n",
      "2025-04-22 04:37:03,748 - whois.whois - ERROR - Error trying to connect to socket: closing socket - [Errno 104] Connection reset by peer\n",
      "2025-04-22 04:37:03,748 - whois.whois - ERROR - Error trying to connect to socket: closing socket - [Errno 104] Connection reset by peer\n",
      "2025-04-22 04:37:06,336 - whois.whois - ERROR - Error trying to connect to socket: closing socket - timed out\n",
      "2025-04-22 04:37:06,336 - whois.whois - ERROR - Error trying to connect to socket: closing socket - timed out\n",
      "2025-04-22 04:37:11,334 - whois.whois - ERROR - Error trying to connect to socket: closing socket - [Errno 104] Connection reset by peer\n",
      "2025-04-22 04:37:11,334 - whois.whois - ERROR - Error trying to connect to socket: closing socket - [Errno 104] Connection reset by peer\n",
      "2025-04-22 04:37:12,644 - whois.whois - ERROR - Error trying to connect to socket: closing socket - [Errno -2] Name or service not known\n",
      "2025-04-22 04:37:12,644 - whois.whois - ERROR - Error trying to connect to socket: closing socket - [Errno -2] Name or service not known\n",
      "2025-04-22 04:37:15,517 - whois.whois - ERROR - Error trying to connect to socket: closing socket - [Errno 104] Connection reset by peer\n",
      "2025-04-22 04:37:15,517 - whois.whois - ERROR - Error trying to connect to socket: closing socket - [Errno 104] Connection reset by peer\n",
      "2025-04-22 04:37:26,007 - whois.whois - ERROR - Error trying to connect to socket: closing socket - [Errno 111] Connection refused\n",
      "2025-04-22 04:37:26,007 - whois.whois - ERROR - Error trying to connect to socket: closing socket - [Errno 111] Connection refused\n",
      "2025-04-22 04:37:43,955 - whois.whois - ERROR - Error trying to connect to socket: closing socket - [Errno 104] Connection reset by peer\n",
      "2025-04-22 04:37:43,955 - whois.whois - ERROR - Error trying to connect to socket: closing socket - [Errno 104] Connection reset by peer\n",
      "2025-04-22 04:37:44,000 - whois.whois - ERROR - Error trying to connect to socket: closing socket - [Errno 104] Connection reset by peer\n",
      "2025-04-22 04:37:44,000 - whois.whois - ERROR - Error trying to connect to socket: closing socket - [Errno 104] Connection reset by peer\n",
      "2025-04-22 04:38:02,126 - whois.whois - ERROR - Error trying to connect to socket: closing socket - [Errno 104] Connection reset by peer\n",
      "2025-04-22 04:38:02,126 - whois.whois - ERROR - Error trying to connect to socket: closing socket - [Errno 104] Connection reset by peer\n",
      "2025-04-22 04:38:07,655 - whois.whois - ERROR - Error trying to connect to socket: closing socket - [Errno 111] Connection refused\n",
      "2025-04-22 04:38:07,655 - whois.whois - ERROR - Error trying to connect to socket: closing socket - [Errno 111] Connection refused\n",
      "2025-04-22 04:38:08,323 - whois.whois - ERROR - Error trying to connect to socket: closing socket - [Errno 104] Connection reset by peer\n",
      "2025-04-22 04:38:08,323 - whois.whois - ERROR - Error trying to connect to socket: closing socket - [Errno 104] Connection reset by peer\n",
      "2025-04-22 04:38:28,245 - whois.whois - ERROR - Error trying to connect to socket: closing socket - [Errno -2] Name or service not known\n",
      "2025-04-22 04:38:28,245 - whois.whois - ERROR - Error trying to connect to socket: closing socket - [Errno -2] Name or service not known\n",
      "2025-04-22 04:38:29,031 - whois.whois - ERROR - Error trying to connect to socket: closing socket - timed out\n",
      "2025-04-22 04:38:29,031 - whois.whois - ERROR - Error trying to connect to socket: closing socket - timed out\n",
      "2025-04-22 04:38:35,697 - whois.whois - ERROR - Error trying to connect to socket: closing socket - [Errno -2] Name or service not known\n",
      "2025-04-22 04:38:35,697 - whois.whois - ERROR - Error trying to connect to socket: closing socket - [Errno -2] Name or service not known\n",
      "2025-04-22 04:38:36,365 - whois.whois - ERROR - Error trying to connect to socket: closing socket - timed out\n",
      "2025-04-22 04:38:36,365 - whois.whois - ERROR - Error trying to connect to socket: closing socket - timed out\n",
      "2025-04-22 04:38:57,105 - whois.whois - ERROR - Error trying to connect to socket: closing socket - timed out\n",
      "2025-04-22 04:38:57,105 - whois.whois - ERROR - Error trying to connect to socket: closing socket - timed out\n",
      "2025-04-22 04:38:59,640 - whois.whois - ERROR - Error trying to connect to socket: closing socket - [Errno 104] Connection reset by peer\n",
      "2025-04-22 04:38:59,640 - whois.whois - ERROR - Error trying to connect to socket: closing socket - [Errno 104] Connection reset by peer\n",
      "2025-04-22 04:39:04,925 - whois.whois - ERROR - Error trying to connect to socket: closing socket - timed out\n",
      "2025-04-22 04:39:04,925 - whois.whois - ERROR - Error trying to connect to socket: closing socket - timed out\n",
      "2025-04-22 04:39:32,529 - whois.whois - ERROR - Error trying to connect to socket: closing socket - timed out\n",
      "2025-04-22 04:39:32,529 - whois.whois - ERROR - Error trying to connect to socket: closing socket - timed out\n",
      "2025-04-22 04:39:37,152 - whois.whois - ERROR - Error trying to connect to socket: closing socket - [Errno 104] Connection reset by peer\n",
      "2025-04-22 04:39:37,152 - whois.whois - ERROR - Error trying to connect to socket: closing socket - [Errno 104] Connection reset by peer\n",
      "2025-04-22 04:39:38,972 - whois.whois - ERROR - Error trying to connect to socket: closing socket - [Errno -2] Name or service not known\n",
      "2025-04-22 04:39:38,972 - whois.whois - ERROR - Error trying to connect to socket: closing socket - [Errno -2] Name or service not known\n",
      "2025-04-22 04:39:55,999 - whois.whois - ERROR - Error trying to connect to socket: closing socket - [Errno 104] Connection reset by peer\n",
      "2025-04-22 04:39:55,999 - whois.whois - ERROR - Error trying to connect to socket: closing socket - [Errno 104] Connection reset by peer\n",
      "2025-04-22 04:39:58,470 - whois.whois - ERROR - Error trying to connect to socket: closing socket - timed out\n",
      "2025-04-22 04:39:58,470 - whois.whois - ERROR - Error trying to connect to socket: closing socket - timed out\n",
      "2025-04-22 04:40:26,204 - whois.whois - ERROR - Error trying to connect to socket: closing socket - [Errno 104] Connection reset by peer\n",
      "2025-04-22 04:40:26,204 - whois.whois - ERROR - Error trying to connect to socket: closing socket - [Errno 104] Connection reset by peer\n",
      "2025-04-22 04:40:28,259 - whois.whois - ERROR - Error trying to connect to socket: closing socket - [Errno -2] Name or service not known\n",
      "2025-04-22 04:40:28,259 - whois.whois - ERROR - Error trying to connect to socket: closing socket - [Errno -2] Name or service not known\n",
      "2025-04-22 04:40:37,604 - whois.whois - ERROR - Error trying to connect to socket: closing socket - [Errno 104] Connection reset by peer\n",
      "2025-04-22 04:40:37,604 - whois.whois - ERROR - Error trying to connect to socket: closing socket - [Errno 104] Connection reset by peer\n",
      "2025-04-22 04:40:45,371 - whois.whois - ERROR - Error trying to connect to socket: closing socket - [Errno 104] Connection reset by peer\n",
      "2025-04-22 04:40:45,371 - whois.whois - ERROR - Error trying to connect to socket: closing socket - [Errno 104] Connection reset by peer\n",
      "2025-04-22 04:41:01,244 - whois.whois - ERROR - Error trying to connect to socket: closing socket - timed out\n",
      "2025-04-22 04:41:01,244 - whois.whois - ERROR - Error trying to connect to socket: closing socket - timed out\n",
      "2025-04-22 04:41:30,229 - whois.whois - ERROR - Error trying to connect to socket: closing socket - timed out\n",
      "2025-04-22 04:41:30,229 - whois.whois - ERROR - Error trying to connect to socket: closing socket - timed out\n",
      "2025-04-22 04:41:30,695 - whois.whois - ERROR - Error trying to connect to socket: closing socket - timed out\n",
      "2025-04-22 04:41:30,695 - whois.whois - ERROR - Error trying to connect to socket: closing socket - timed out\n",
      "2025-04-22 04:41:33,627 - whois.whois - ERROR - Error trying to connect to socket: closing socket - [Errno -2] Name or service not known\n",
      "2025-04-22 04:41:33,627 - whois.whois - ERROR - Error trying to connect to socket: closing socket - [Errno -2] Name or service not known\n",
      "2025-04-22 04:41:35,573 - whois.whois - ERROR - Error trying to connect to socket: closing socket - [Errno 111] Connection refused\n",
      "2025-04-22 04:41:35,573 - whois.whois - ERROR - Error trying to connect to socket: closing socket - [Errno 111] Connection refused\n",
      "2025-04-22 04:41:38,347 - whois.whois - ERROR - Error trying to connect to socket: closing socket - [Errno 104] Connection reset by peer\n",
      "2025-04-22 04:41:38,347 - whois.whois - ERROR - Error trying to connect to socket: closing socket - [Errno 104] Connection reset by peer\n",
      "2025-04-22 04:41:38,989 - whois.whois - ERROR - Error trying to connect to socket: closing socket - [Errno 104] Connection reset by peer\n",
      "2025-04-22 04:41:38,989 - whois.whois - ERROR - Error trying to connect to socket: closing socket - [Errno 104] Connection reset by peer\n",
      "2025-04-22 04:41:45,640 - whois.whois - ERROR - Error trying to connect to socket: closing socket - [Errno 104] Connection reset by peer\n",
      "2025-04-22 04:41:45,640 - whois.whois - ERROR - Error trying to connect to socket: closing socket - [Errno 104] Connection reset by peer\n",
      "2025-04-22 04:42:04,690 - whois.whois - ERROR - Error trying to connect to socket: closing socket - [Errno 104] Connection reset by peer\n",
      "2025-04-22 04:42:04,690 - whois.whois - ERROR - Error trying to connect to socket: closing socket - [Errno 104] Connection reset by peer\n",
      "2025-04-22 04:42:38,451 - whois.whois - ERROR - Error trying to connect to socket: closing socket - [Errno 104] Connection reset by peer\n",
      "2025-04-22 04:42:38,451 - whois.whois - ERROR - Error trying to connect to socket: closing socket - [Errno 104] Connection reset by peer\n",
      "2025-04-22 04:42:42,394 - whois.whois - ERROR - Error trying to connect to socket: closing socket - [Errno 104] Connection reset by peer\n",
      "2025-04-22 04:42:42,394 - whois.whois - ERROR - Error trying to connect to socket: closing socket - [Errno 104] Connection reset by peer\n",
      "2025-04-22 04:42:44,589 - whois.whois - ERROR - Error trying to connect to socket: closing socket - timed out\n",
      "2025-04-22 04:42:44,589 - whois.whois - ERROR - Error trying to connect to socket: closing socket - timed out\n",
      "2025-04-22 04:42:47,934 - whois.whois - ERROR - Error trying to connect to socket: closing socket - [Errno 104] Connection reset by peer\n",
      "2025-04-22 04:42:47,934 - whois.whois - ERROR - Error trying to connect to socket: closing socket - [Errno 104] Connection reset by peer\n",
      "2025-04-22 04:43:06,764 - whois.whois - ERROR - Error trying to connect to socket: closing socket - timed out\n",
      "2025-04-22 04:43:06,764 - whois.whois - ERROR - Error trying to connect to socket: closing socket - timed out\n",
      "2025-04-22 04:43:09,308 - whois.whois - ERROR - Error trying to connect to socket: closing socket - [Errno 104] Connection reset by peer\n",
      "2025-04-22 04:43:09,308 - whois.whois - ERROR - Error trying to connect to socket: closing socket - [Errno 104] Connection reset by peer\n",
      "2025-04-22 04:43:19,427 - whois.whois - ERROR - Error trying to connect to socket: closing socket - [Errno -2] Name or service not known\n",
      "2025-04-22 04:43:19,427 - whois.whois - ERROR - Error trying to connect to socket: closing socket - [Errno -2] Name or service not known\n",
      "2025-04-22 04:43:19,524 - whois.whois - ERROR - Error trying to connect to socket: closing socket - [Errno -2] Name or service not known\n",
      "2025-04-22 04:43:19,524 - whois.whois - ERROR - Error trying to connect to socket: closing socket - [Errno -2] Name or service not known\n",
      "2025-04-22 04:43:22,774 - whois.whois - ERROR - Error trying to connect to socket: closing socket - [Errno -2] Name or service not known\n",
      "2025-04-22 04:43:22,774 - whois.whois - ERROR - Error trying to connect to socket: closing socket - [Errno -2] Name or service not known\n",
      "2025-04-22 04:43:27,758 - whois.whois - ERROR - Error trying to connect to socket: closing socket - [Errno 104] Connection reset by peer\n",
      "2025-04-22 04:43:27,758 - whois.whois - ERROR - Error trying to connect to socket: closing socket - [Errno 104] Connection reset by peer\n",
      "2025-04-22 04:43:29,131 - whois.whois - ERROR - Error trying to connect to socket: closing socket - [Errno 104] Connection reset by peer\n",
      "2025-04-22 04:43:29,131 - whois.whois - ERROR - Error trying to connect to socket: closing socket - [Errno 104] Connection reset by peer\n",
      "2025-04-22 04:43:33,005 - whois.whois - ERROR - Error trying to connect to socket: closing socket - [Errno 111] Connection refused\n",
      "2025-04-22 04:43:33,005 - whois.whois - ERROR - Error trying to connect to socket: closing socket - [Errno 111] Connection refused\n",
      "2025-04-22 04:43:44,774 - whois.whois - ERROR - Error trying to connect to socket: closing socket - timed out\n",
      "2025-04-22 04:43:44,774 - whois.whois - ERROR - Error trying to connect to socket: closing socket - timed out\n",
      "2025-04-22 04:43:54,106 - whois.whois - ERROR - Error trying to connect to socket: closing socket - [Errno 111] Connection refused\n",
      "2025-04-22 04:43:54,106 - whois.whois - ERROR - Error trying to connect to socket: closing socket - [Errno 111] Connection refused\n",
      "2025-04-22 04:43:55,151 - whois.whois - ERROR - Error trying to connect to socket: closing socket - [Errno 104] Connection reset by peer\n",
      "2025-04-22 04:43:55,151 - whois.whois - ERROR - Error trying to connect to socket: closing socket - [Errno 104] Connection reset by peer\n",
      "2025-04-22 04:44:13,295 - whois.whois - ERROR - Error trying to connect to socket: closing socket - timed out\n",
      "2025-04-22 04:44:13,295 - whois.whois - ERROR - Error trying to connect to socket: closing socket - timed out\n",
      "2025-04-22 04:44:18,626 - whois.whois - ERROR - Error trying to connect to socket: closing socket - [Errno -2] Name or service not known\n",
      "2025-04-22 04:44:18,626 - whois.whois - ERROR - Error trying to connect to socket: closing socket - [Errno -2] Name or service not known\n",
      "2025-04-22 04:44:28,034 - whois.whois - ERROR - Error trying to connect to socket: closing socket - [Errno 104] Connection reset by peer\n",
      "2025-04-22 04:44:28,034 - whois.whois - ERROR - Error trying to connect to socket: closing socket - [Errno 104] Connection reset by peer\n",
      "2025-04-22 04:44:34,424 - whois.whois - ERROR - Error trying to connect to socket: closing socket - [Errno 104] Connection reset by peer\n",
      "2025-04-22 04:44:34,424 - whois.whois - ERROR - Error trying to connect to socket: closing socket - [Errno 104] Connection reset by peer\n",
      "2025-04-22 04:44:37,871 - whois.whois - ERROR - Error trying to connect to socket: closing socket - [Errno 104] Connection reset by peer\n",
      "2025-04-22 04:44:37,871 - whois.whois - ERROR - Error trying to connect to socket: closing socket - [Errno 104] Connection reset by peer\n",
      "2025-04-22 04:44:43,831 - whois.whois - ERROR - Error trying to connect to socket: closing socket - [Errno 104] Connection reset by peer\n",
      "2025-04-22 04:44:43,831 - whois.whois - ERROR - Error trying to connect to socket: closing socket - [Errno 104] Connection reset by peer\n",
      "2025-04-22 04:44:59,791 - whois.whois - ERROR - Error trying to connect to socket: closing socket - [Errno 104] Connection reset by peer\n",
      "2025-04-22 04:44:59,791 - whois.whois - ERROR - Error trying to connect to socket: closing socket - [Errno 104] Connection reset by peer\n",
      "2025-04-22 04:45:13,124 - whois.whois - ERROR - Error trying to connect to socket: closing socket - [Errno 104] Connection reset by peer\n",
      "2025-04-22 04:45:13,124 - whois.whois - ERROR - Error trying to connect to socket: closing socket - [Errno 104] Connection reset by peer\n",
      "2025-04-22 04:45:28,069 - whois.whois - ERROR - Error trying to connect to socket: closing socket - [Errno 111] Connection refused\n",
      "2025-04-22 04:45:28,069 - whois.whois - ERROR - Error trying to connect to socket: closing socket - [Errno 111] Connection refused\n",
      "2025-04-22 04:45:31,430 - whois.whois - ERROR - Error trying to connect to socket: closing socket - [Errno 104] Connection reset by peer\n",
      "2025-04-22 04:45:31,430 - whois.whois - ERROR - Error trying to connect to socket: closing socket - [Errno 104] Connection reset by peer\n",
      "2025-04-22 04:45:33,272 - whois.whois - ERROR - Error trying to connect to socket: closing socket - [Errno 104] Connection reset by peer\n",
      "2025-04-22 04:45:33,272 - whois.whois - ERROR - Error trying to connect to socket: closing socket - [Errno 104] Connection reset by peer\n",
      "2025-04-22 04:45:51,013 - whois.whois - ERROR - Error trying to connect to socket: closing socket - timed out\n",
      "2025-04-22 04:45:51,013 - whois.whois - ERROR - Error trying to connect to socket: closing socket - timed out\n",
      "2025-04-22 04:45:54,626 - whois.whois - ERROR - Error trying to connect to socket: closing socket - [Errno 104] Connection reset by peer\n",
      "2025-04-22 04:45:54,626 - whois.whois - ERROR - Error trying to connect to socket: closing socket - [Errno 104] Connection reset by peer\n",
      "2025-04-22 04:45:59,663 - whois.whois - ERROR - Error trying to connect to socket: closing socket - timed out\n",
      "2025-04-22 04:45:59,663 - whois.whois - ERROR - Error trying to connect to socket: closing socket - timed out\n",
      "2025-04-22 04:46:06,157 - whois.whois - ERROR - Error trying to connect to socket: closing socket - timed out\n",
      "2025-04-22 04:46:06,157 - whois.whois - ERROR - Error trying to connect to socket: closing socket - timed out\n",
      "2025-04-22 04:46:25,863 - whois.whois - ERROR - Error trying to connect to socket: closing socket - timed out\n",
      "2025-04-22 04:46:25,863 - whois.whois - ERROR - Error trying to connect to socket: closing socket - timed out\n",
      "2025-04-22 04:46:28,880 - whois.whois - ERROR - Error trying to connect to socket: closing socket - timed out\n",
      "2025-04-22 04:46:28,880 - whois.whois - ERROR - Error trying to connect to socket: closing socket - timed out\n",
      "2025-04-22 04:46:29,600 - whois.whois - ERROR - Error trying to connect to socket: closing socket - [Errno 104] Connection reset by peer\n",
      "2025-04-22 04:46:29,600 - whois.whois - ERROR - Error trying to connect to socket: closing socket - [Errno 104] Connection reset by peer\n",
      "2025-04-22 04:46:30,790 - whois.whois - ERROR - Error trying to connect to socket: closing socket - [Errno -2] Name or service not known\n",
      "2025-04-22 04:46:30,790 - whois.whois - ERROR - Error trying to connect to socket: closing socket - [Errno -2] Name or service not known\n",
      "2025-04-22 04:46:39,811 - whois.whois - ERROR - Error trying to connect to socket: closing socket - [Errno 104] Connection reset by peer\n",
      "2025-04-22 04:46:39,811 - whois.whois - ERROR - Error trying to connect to socket: closing socket - [Errno 104] Connection reset by peer\n",
      "2025-04-22 04:46:55,060 - whois.whois - ERROR - Error trying to connect to socket: closing socket - [Errno -2] Name or service not known\n",
      "2025-04-22 04:46:55,060 - whois.whois - ERROR - Error trying to connect to socket: closing socket - [Errno -2] Name or service not known\n",
      "2025-04-22 04:46:56,635 - whois.whois - ERROR - Error trying to connect to socket: closing socket - [Errno 104] Connection reset by peer\n",
      "2025-04-22 04:46:56,635 - whois.whois - ERROR - Error trying to connect to socket: closing socket - [Errno 104] Connection reset by peer\n",
      "2025-04-22 04:47:07,074 - whois.whois - ERROR - Error trying to connect to socket: closing socket - [Errno -2] Name or service not known\n",
      "2025-04-22 04:47:07,074 - whois.whois - ERROR - Error trying to connect to socket: closing socket - [Errno -2] Name or service not known\n",
      "2025-04-22 04:47:10,476 - whois.whois - ERROR - Error trying to connect to socket: closing socket - [Errno 104] Connection reset by peer\n",
      "2025-04-22 04:47:10,476 - whois.whois - ERROR - Error trying to connect to socket: closing socket - [Errno 104] Connection reset by peer\n",
      "2025-04-22 04:47:15,085 - whois.whois - ERROR - Error trying to connect to socket: closing socket - timed out\n",
      "2025-04-22 04:47:15,085 - whois.whois - ERROR - Error trying to connect to socket: closing socket - timed out\n",
      "2025-04-22 04:47:19,599 - whois.whois - ERROR - Error trying to connect to socket: closing socket - [Errno -2] Name or service not known\n",
      "2025-04-22 04:47:19,599 - whois.whois - ERROR - Error trying to connect to socket: closing socket - [Errno -2] Name or service not known\n",
      "2025-04-22 04:47:26,605 - whois.whois - ERROR - Error trying to connect to socket: closing socket - timed out\n",
      "2025-04-22 04:47:26,605 - whois.whois - ERROR - Error trying to connect to socket: closing socket - timed out\n",
      "2025-04-22 04:47:32,587 - whois.whois - ERROR - Error trying to connect to socket: closing socket - [Errno 104] Connection reset by peer\n",
      "2025-04-22 04:47:32,587 - whois.whois - ERROR - Error trying to connect to socket: closing socket - [Errno 104] Connection reset by peer\n",
      "2025-04-22 04:47:36,234 - whois.whois - ERROR - Error trying to connect to socket: closing socket - [Errno 104] Connection reset by peer\n",
      "2025-04-22 04:47:36,234 - whois.whois - ERROR - Error trying to connect to socket: closing socket - [Errno 104] Connection reset by peer\n",
      "2025-04-22 04:47:43,043 - whois.whois - ERROR - Error trying to connect to socket: closing socket - timed out\n",
      "2025-04-22 04:47:43,043 - whois.whois - ERROR - Error trying to connect to socket: closing socket - timed out\n",
      "2025-04-22 04:47:54,210 - whois.whois - ERROR - Error trying to connect to socket: closing socket - [Errno 104] Connection reset by peer\n",
      "2025-04-22 04:47:54,210 - whois.whois - ERROR - Error trying to connect to socket: closing socket - [Errno 104] Connection reset by peer\n",
      "2025-04-22 04:48:01,366 - whois.whois - ERROR - Error trying to connect to socket: closing socket - [Errno -2] Name or service not known\n",
      "2025-04-22 04:48:01,366 - whois.whois - ERROR - Error trying to connect to socket: closing socket - [Errno -2] Name or service not known\n",
      "2025-04-22 04:48:02,035 - whois.whois - ERROR - Error trying to connect to socket: closing socket - [Errno 104] Connection reset by peer\n",
      "2025-04-22 04:48:02,035 - whois.whois - ERROR - Error trying to connect to socket: closing socket - [Errno 104] Connection reset by peer\n",
      "2025-04-22 04:48:16,682 - whois.whois - ERROR - Error trying to connect to socket: closing socket - [Errno 104] Connection reset by peer\n",
      "2025-04-22 04:48:16,682 - whois.whois - ERROR - Error trying to connect to socket: closing socket - [Errno 104] Connection reset by peer\n",
      "2025-04-22 04:48:41,263 - whois.whois - ERROR - Error trying to connect to socket: closing socket - timed out\n",
      "2025-04-22 04:48:41,263 - whois.whois - ERROR - Error trying to connect to socket: closing socket - timed out\n",
      "2025-04-22 04:48:51,768 - whois.whois - ERROR - Error trying to connect to socket: closing socket - timed out\n",
      "2025-04-22 04:48:51,768 - whois.whois - ERROR - Error trying to connect to socket: closing socket - timed out\n",
      "2025-04-22 04:48:51,865 - whois.whois - ERROR - Error trying to connect to socket: closing socket - [Errno -2] Name or service not known\n",
      "2025-04-22 04:48:51,865 - whois.whois - ERROR - Error trying to connect to socket: closing socket - [Errno -2] Name or service not known\n",
      "2025-04-22 04:48:54,791 - whois.whois - ERROR - Error trying to connect to socket: closing socket - timed out\n",
      "2025-04-22 04:48:54,791 - whois.whois - ERROR - Error trying to connect to socket: closing socket - timed out\n",
      "2025-04-22 04:49:04,880 - whois.whois - ERROR - Error trying to connect to socket: closing socket - timed out\n",
      "2025-04-22 04:49:04,880 - whois.whois - ERROR - Error trying to connect to socket: closing socket - timed out\n",
      "2025-04-22 04:49:17,242 - whois.whois - ERROR - Error trying to connect to socket: closing socket - timed out\n",
      "2025-04-22 04:49:17,242 - whois.whois - ERROR - Error trying to connect to socket: closing socket - timed out\n",
      "2025-04-22 04:49:21,993 - whois.whois - ERROR - Error trying to connect to socket: closing socket - [Errno 104] Connection reset by peer\n",
      "2025-04-22 04:49:21,993 - whois.whois - ERROR - Error trying to connect to socket: closing socket - [Errno 104] Connection reset by peer\n",
      "2025-04-22 04:49:22,281 - whois.whois - ERROR - Error trying to connect to socket: closing socket - [Errno 104] Connection reset by peer\n",
      "2025-04-22 04:49:22,281 - whois.whois - ERROR - Error trying to connect to socket: closing socket - [Errno 104] Connection reset by peer\n",
      "2025-04-22 04:49:34,425 - whois.whois - ERROR - Error trying to connect to socket: closing socket - [Errno -2] Name or service not known\n",
      "2025-04-22 04:49:34,425 - whois.whois - ERROR - Error trying to connect to socket: closing socket - [Errno -2] Name or service not known\n",
      "2025-04-22 04:49:35,407 - whois.whois - ERROR - Error trying to connect to socket: closing socket - [Errno -2] Name or service not known\n",
      "2025-04-22 04:49:35,407 - whois.whois - ERROR - Error trying to connect to socket: closing socket - [Errno -2] Name or service not known\n",
      "2025-04-22 04:49:40,027 - whois.whois - ERROR - Error trying to connect to socket: closing socket - [Errno 104] Connection reset by peer\n",
      "2025-04-22 04:49:40,027 - whois.whois - ERROR - Error trying to connect to socket: closing socket - [Errno 104] Connection reset by peer\n",
      "2025-04-22 04:50:08,870 - whois.whois - ERROR - Error trying to connect to socket: closing socket - [Errno -2] Name or service not known\n",
      "2025-04-22 04:50:08,870 - whois.whois - ERROR - Error trying to connect to socket: closing socket - [Errno -2] Name or service not known\n",
      "2025-04-22 04:50:13,424 - whois.whois - ERROR - Error trying to connect to socket: closing socket - [Errno 104] Connection reset by peer\n",
      "2025-04-22 04:50:13,424 - whois.whois - ERROR - Error trying to connect to socket: closing socket - [Errno 104] Connection reset by peer\n",
      "2025-04-22 04:50:17,044 - whois.whois - ERROR - Error trying to connect to socket: closing socket - timed out\n",
      "2025-04-22 04:50:17,044 - whois.whois - ERROR - Error trying to connect to socket: closing socket - timed out\n",
      "2025-04-22 04:50:19,507 - whois.whois - ERROR - Error trying to connect to socket: closing socket - [Errno 104] Connection reset by peer\n",
      "2025-04-22 04:50:19,507 - whois.whois - ERROR - Error trying to connect to socket: closing socket - [Errno 104] Connection reset by peer\n",
      "2025-04-22 04:50:19,852 - whois.whois - ERROR - Error trying to connect to socket: closing socket - [Errno 111] Connection refused\n",
      "2025-04-22 04:50:19,852 - whois.whois - ERROR - Error trying to connect to socket: closing socket - [Errno 111] Connection refused\n",
      "2025-04-22 04:50:20,061 - whois.whois - ERROR - Error trying to connect to socket: closing socket - [Errno -2] Name or service not known\n",
      "2025-04-22 04:50:20,061 - whois.whois - ERROR - Error trying to connect to socket: closing socket - [Errno -2] Name or service not known\n",
      "2025-04-22 04:50:49,116 - whois.whois - ERROR - Error trying to connect to socket: closing socket - [Errno 104] Connection reset by peer\n",
      "2025-04-22 04:50:49,116 - whois.whois - ERROR - Error trying to connect to socket: closing socket - [Errno 104] Connection reset by peer\n",
      "2025-04-22 04:50:51,697 - whois.whois - ERROR - Error trying to connect to socket: closing socket - timed out\n",
      "2025-04-22 04:50:51,697 - whois.whois - ERROR - Error trying to connect to socket: closing socket - timed out\n",
      "2025-04-22 04:51:06,153 - whois.whois - ERROR - Error trying to connect to socket: closing socket - [Errno 104] Connection reset by peer\n",
      "2025-04-22 04:51:06,153 - whois.whois - ERROR - Error trying to connect to socket: closing socket - [Errno 104] Connection reset by peer\n",
      "2025-04-22 04:51:07,911 - whois.whois - ERROR - Error trying to connect to socket: closing socket - [Errno 104] Connection reset by peer\n",
      "2025-04-22 04:51:07,911 - whois.whois - ERROR - Error trying to connect to socket: closing socket - [Errno 104] Connection reset by peer\n",
      "2025-04-22 04:51:30,840 - whois.whois - ERROR - Error trying to connect to socket: closing socket - [Errno 104] Connection reset by peer\n",
      "2025-04-22 04:51:30,840 - whois.whois - ERROR - Error trying to connect to socket: closing socket - [Errno 104] Connection reset by peer\n",
      "2025-04-22 04:51:34,647 - whois.whois - ERROR - Error trying to connect to socket: closing socket - [Errno 111] Connection refused\n",
      "2025-04-22 04:51:34,647 - whois.whois - ERROR - Error trying to connect to socket: closing socket - [Errno 111] Connection refused\n",
      "2025-04-22 04:51:43,090 - whois.whois - ERROR - Error trying to connect to socket: closing socket - [Errno 111] Connection refused\n",
      "2025-04-22 04:51:43,090 - whois.whois - ERROR - Error trying to connect to socket: closing socket - [Errno 111] Connection refused\n",
      "2025-04-22 04:51:45,260 - whois.whois - ERROR - Error trying to connect to socket: closing socket - [Errno -2] Name or service not known\n",
      "2025-04-22 04:51:45,260 - whois.whois - ERROR - Error trying to connect to socket: closing socket - [Errno -2] Name or service not known\n",
      "2025-04-22 04:52:08,754 - whois.whois - ERROR - Error trying to connect to socket: closing socket - [Errno 104] Connection reset by peer\n",
      "2025-04-22 04:52:08,754 - whois.whois - ERROR - Error trying to connect to socket: closing socket - [Errno 104] Connection reset by peer\n",
      "2025-04-22 04:52:37,692 - whois.whois - ERROR - Error trying to connect to socket: closing socket - [Errno -2] Name or service not known\n",
      "2025-04-22 04:52:37,692 - whois.whois - ERROR - Error trying to connect to socket: closing socket - [Errno -2] Name or service not known\n",
      "2025-04-22 04:52:54,942 - whois.whois - ERROR - Error trying to connect to socket: closing socket - [Errno 111] Connection refused\n",
      "2025-04-22 04:52:54,942 - whois.whois - ERROR - Error trying to connect to socket: closing socket - [Errno 111] Connection refused\n",
      "2025-04-22 04:54:03,657 - whois.whois - ERROR - Error trying to connect to socket: closing socket - timed out\n",
      "2025-04-22 04:54:03,657 - whois.whois - ERROR - Error trying to connect to socket: closing socket - timed out\n",
      "2025-04-22 04:54:18,362 - whois.whois - ERROR - Error trying to connect to socket: closing socket - [Errno 104] Connection reset by peer\n",
      "2025-04-22 04:54:18,362 - whois.whois - ERROR - Error trying to connect to socket: closing socket - [Errno 104] Connection reset by peer\n",
      "2025-04-22 04:54:44,409 - whois.whois - ERROR - Error trying to connect to socket: closing socket - timed out\n",
      "2025-04-22 04:54:44,409 - whois.whois - ERROR - Error trying to connect to socket: closing socket - timed out\n",
      "2025-04-22 04:54:54,487 - whois.whois - ERROR - Error trying to connect to socket: closing socket - [Errno 104] Connection reset by peer\n",
      "2025-04-22 04:54:54,487 - whois.whois - ERROR - Error trying to connect to socket: closing socket - [Errno 104] Connection reset by peer\n",
      "2025-04-22 04:56:04,254 - whois.whois - ERROR - Error trying to connect to socket: closing socket - [Errno 104] Connection reset by peer\n",
      "2025-04-22 04:56:04,254 - whois.whois - ERROR - Error trying to connect to socket: closing socket - [Errno 104] Connection reset by peer\n",
      "2025-04-22 04:56:05,464 - whois.whois - ERROR - Error trying to connect to socket: closing socket - [Errno -2] Name or service not known\n",
      "2025-04-22 04:56:05,464 - whois.whois - ERROR - Error trying to connect to socket: closing socket - [Errno -2] Name or service not known\n",
      "2025-04-22 04:56:23,988 - whois.whois - ERROR - Error trying to connect to socket: closing socket - timed out\n",
      "2025-04-22 04:56:23,988 - whois.whois - ERROR - Error trying to connect to socket: closing socket - timed out\n",
      "2025-04-22 04:56:37,988 - whois.whois - ERROR - Error trying to connect to socket: closing socket - timed out\n",
      "2025-04-22 04:56:37,988 - whois.whois - ERROR - Error trying to connect to socket: closing socket - timed out\n",
      "2025-04-22 04:56:45,246 - whois.whois - ERROR - Error trying to connect to socket: closing socket - [Errno 104] Connection reset by peer\n",
      "2025-04-22 04:56:45,246 - whois.whois - ERROR - Error trying to connect to socket: closing socket - [Errno 104] Connection reset by peer\n",
      "2025-04-22 04:56:49,699 - whois.whois - ERROR - Error trying to connect to socket: closing socket - [Errno 104] Connection reset by peer\n",
      "2025-04-22 04:56:49,699 - whois.whois - ERROR - Error trying to connect to socket: closing socket - [Errno 104] Connection reset by peer\n",
      "2025-04-22 04:56:50,885 - whois.whois - ERROR - Error trying to connect to socket: closing socket - [Errno 104] Connection reset by peer\n",
      "2025-04-22 04:56:50,885 - whois.whois - ERROR - Error trying to connect to socket: closing socket - [Errno 104] Connection reset by peer\n",
      "2025-04-22 04:56:53,758 - whois.whois - ERROR - Error trying to connect to socket: closing socket - [Errno 104] Connection reset by peer\n",
      "2025-04-22 04:56:53,758 - whois.whois - ERROR - Error trying to connect to socket: closing socket - [Errno 104] Connection reset by peer\n",
      "2025-04-22 04:57:49,882 - whois.whois - ERROR - Error trying to connect to socket: closing socket - [Errno 104] Connection reset by peer\n",
      "2025-04-22 04:57:49,882 - whois.whois - ERROR - Error trying to connect to socket: closing socket - [Errno 104] Connection reset by peer\n",
      "2025-04-22 04:57:55,400 - whois.whois - ERROR - Error trying to connect to socket: closing socket - [Errno 104] Connection reset by peer\n",
      "2025-04-22 04:57:55,400 - whois.whois - ERROR - Error trying to connect to socket: closing socket - [Errno 104] Connection reset by peer\n"
     ]
    }
   ],
   "source": [
    "# Using multiprocessing for phishing URLs feature extraction\n",
    "print(f\"Extracting features for phishing URLs using {mp.cpu_count()} cores...\")\n",
    "label = 1\n",
    "phish_features = parallel_feature_extraction(phishy_urls['url'], label, n_cores=4)"
   ]
  },
  {
   "cell_type": "code",
   "execution_count": 42,
   "metadata": {
    "id": "XeXqAGgYvZmN"
   },
   "outputs": [
    {
     "data": {
      "application/vnd.microsoft.datawrangler.viewer.v0+json": {
       "columns": [
        {
         "name": "index",
         "rawType": "int64",
         "type": "integer"
        },
        {
         "name": "Domain",
         "rawType": "object",
         "type": "string"
        },
        {
         "name": "Have_IP",
         "rawType": "int64",
         "type": "integer"
        },
        {
         "name": "Have_At",
         "rawType": "int64",
         "type": "integer"
        },
        {
         "name": "URL_Length",
         "rawType": "int64",
         "type": "integer"
        },
        {
         "name": "URL_Depth",
         "rawType": "int64",
         "type": "integer"
        },
        {
         "name": "Redirection",
         "rawType": "int64",
         "type": "integer"
        },
        {
         "name": "https_Domain",
         "rawType": "int64",
         "type": "integer"
        },
        {
         "name": "TinyURL",
         "rawType": "int64",
         "type": "integer"
        },
        {
         "name": "Prefix/Suffix",
         "rawType": "int64",
         "type": "integer"
        },
        {
         "name": "DNS_Record",
         "rawType": "int64",
         "type": "integer"
        },
        {
         "name": "Web_Traffic",
         "rawType": "int64",
         "type": "integer"
        },
        {
         "name": "Domain_Age",
         "rawType": "int64",
         "type": "integer"
        },
        {
         "name": "Domain_End",
         "rawType": "int64",
         "type": "integer"
        },
        {
         "name": "iFrame",
         "rawType": "int64",
         "type": "integer"
        },
        {
         "name": "Mouse_Over",
         "rawType": "int64",
         "type": "integer"
        },
        {
         "name": "Right_Click",
         "rawType": "int64",
         "type": "integer"
        },
        {
         "name": "Web_Forwards",
         "rawType": "int64",
         "type": "integer"
        },
        {
         "name": "Label",
         "rawType": "int64",
         "type": "integer"
        }
       ],
       "conversionMethod": "pd.DataFrame",
       "ref": "5635290b-99d8-4f06-8102-32ed48b8770f",
       "rows": [
        [
         "0",
         "masyaget.com",
         "0",
         "0",
         "0",
         "1",
         "0",
         "0",
         "1",
         "0",
         "1",
         "1",
         "1",
         "1",
         "1",
         "1",
         "1",
         "1",
         "1"
        ],
        [
         "1",
         "mslogistic.eu",
         "0",
         "0",
         "0",
         "1",
         "0",
         "0",
         "0",
         "0",
         "1",
         "1",
         "1",
         "1",
         "1",
         "1",
         "1",
         "1",
         "1"
        ],
        [
         "2",
         "caribbeachresort.com",
         "0",
         "0",
         "0",
         "1",
         "0",
         "0",
         "1",
         "0",
         "0",
         "1",
         "0",
         "1",
         "0",
         "0",
         "1",
         "1",
         "1"
        ],
        [
         "3",
         "barbarahallsonoma.com",
         "0",
         "0",
         "0",
         "2",
         "0",
         "0",
         "0",
         "0",
         "1",
         "1",
         "1",
         "1",
         "1",
         "1",
         "1",
         "1",
         "1"
        ],
        [
         "4",
         "wumt.westernunion.com.cuc.edu.mx",
         "0",
         "0",
         "0",
         "1",
         "0",
         "0",
         "0",
         "0",
         "0",
         "1",
         "0",
         "1",
         "1",
         "1",
         "1",
         "1",
         "1"
        ]
       ],
       "shape": {
        "columns": 18,
        "rows": 5
       }
      },
      "text/html": [
       "<div>\n",
       "<style scoped>\n",
       "    .dataframe tbody tr th:only-of-type {\n",
       "        vertical-align: middle;\n",
       "    }\n",
       "\n",
       "    .dataframe tbody tr th {\n",
       "        vertical-align: top;\n",
       "    }\n",
       "\n",
       "    .dataframe thead th {\n",
       "        text-align: right;\n",
       "    }\n",
       "</style>\n",
       "<table border=\"1\" class=\"dataframe\">\n",
       "  <thead>\n",
       "    <tr style=\"text-align: right;\">\n",
       "      <th></th>\n",
       "      <th>Domain</th>\n",
       "      <th>Have_IP</th>\n",
       "      <th>Have_At</th>\n",
       "      <th>URL_Length</th>\n",
       "      <th>URL_Depth</th>\n",
       "      <th>Redirection</th>\n",
       "      <th>https_Domain</th>\n",
       "      <th>TinyURL</th>\n",
       "      <th>Prefix/Suffix</th>\n",
       "      <th>DNS_Record</th>\n",
       "      <th>Web_Traffic</th>\n",
       "      <th>Domain_Age</th>\n",
       "      <th>Domain_End</th>\n",
       "      <th>iFrame</th>\n",
       "      <th>Mouse_Over</th>\n",
       "      <th>Right_Click</th>\n",
       "      <th>Web_Forwards</th>\n",
       "      <th>Label</th>\n",
       "    </tr>\n",
       "  </thead>\n",
       "  <tbody>\n",
       "    <tr>\n",
       "      <th>0</th>\n",
       "      <td>masyaget.com</td>\n",
       "      <td>0</td>\n",
       "      <td>0</td>\n",
       "      <td>0</td>\n",
       "      <td>1</td>\n",
       "      <td>0</td>\n",
       "      <td>0</td>\n",
       "      <td>1</td>\n",
       "      <td>0</td>\n",
       "      <td>1</td>\n",
       "      <td>1</td>\n",
       "      <td>1</td>\n",
       "      <td>1</td>\n",
       "      <td>1</td>\n",
       "      <td>1</td>\n",
       "      <td>1</td>\n",
       "      <td>1</td>\n",
       "      <td>1</td>\n",
       "    </tr>\n",
       "    <tr>\n",
       "      <th>1</th>\n",
       "      <td>mslogistic.eu</td>\n",
       "      <td>0</td>\n",
       "      <td>0</td>\n",
       "      <td>0</td>\n",
       "      <td>1</td>\n",
       "      <td>0</td>\n",
       "      <td>0</td>\n",
       "      <td>0</td>\n",
       "      <td>0</td>\n",
       "      <td>1</td>\n",
       "      <td>1</td>\n",
       "      <td>1</td>\n",
       "      <td>1</td>\n",
       "      <td>1</td>\n",
       "      <td>1</td>\n",
       "      <td>1</td>\n",
       "      <td>1</td>\n",
       "      <td>1</td>\n",
       "    </tr>\n",
       "    <tr>\n",
       "      <th>2</th>\n",
       "      <td>caribbeachresort.com</td>\n",
       "      <td>0</td>\n",
       "      <td>0</td>\n",
       "      <td>0</td>\n",
       "      <td>1</td>\n",
       "      <td>0</td>\n",
       "      <td>0</td>\n",
       "      <td>1</td>\n",
       "      <td>0</td>\n",
       "      <td>0</td>\n",
       "      <td>1</td>\n",
       "      <td>0</td>\n",
       "      <td>1</td>\n",
       "      <td>0</td>\n",
       "      <td>0</td>\n",
       "      <td>1</td>\n",
       "      <td>1</td>\n",
       "      <td>1</td>\n",
       "    </tr>\n",
       "    <tr>\n",
       "      <th>3</th>\n",
       "      <td>barbarahallsonoma.com</td>\n",
       "      <td>0</td>\n",
       "      <td>0</td>\n",
       "      <td>0</td>\n",
       "      <td>2</td>\n",
       "      <td>0</td>\n",
       "      <td>0</td>\n",
       "      <td>0</td>\n",
       "      <td>0</td>\n",
       "      <td>1</td>\n",
       "      <td>1</td>\n",
       "      <td>1</td>\n",
       "      <td>1</td>\n",
       "      <td>1</td>\n",
       "      <td>1</td>\n",
       "      <td>1</td>\n",
       "      <td>1</td>\n",
       "      <td>1</td>\n",
       "    </tr>\n",
       "    <tr>\n",
       "      <th>4</th>\n",
       "      <td>wumt.westernunion.com.cuc.edu.mx</td>\n",
       "      <td>0</td>\n",
       "      <td>0</td>\n",
       "      <td>0</td>\n",
       "      <td>1</td>\n",
       "      <td>0</td>\n",
       "      <td>0</td>\n",
       "      <td>0</td>\n",
       "      <td>0</td>\n",
       "      <td>0</td>\n",
       "      <td>1</td>\n",
       "      <td>0</td>\n",
       "      <td>1</td>\n",
       "      <td>1</td>\n",
       "      <td>1</td>\n",
       "      <td>1</td>\n",
       "      <td>1</td>\n",
       "      <td>1</td>\n",
       "    </tr>\n",
       "  </tbody>\n",
       "</table>\n",
       "</div>"
      ],
      "text/plain": [
       "                             Domain  Have_IP  Have_At  URL_Length  URL_Depth  \\\n",
       "0                      masyaget.com        0        0           0          1   \n",
       "1                     mslogistic.eu        0        0           0          1   \n",
       "2              caribbeachresort.com        0        0           0          1   \n",
       "3             barbarahallsonoma.com        0        0           0          2   \n",
       "4  wumt.westernunion.com.cuc.edu.mx        0        0           0          1   \n",
       "\n",
       "   Redirection  https_Domain  TinyURL  Prefix/Suffix  DNS_Record  Web_Traffic  \\\n",
       "0            0             0        1              0           1            1   \n",
       "1            0             0        0              0           1            1   \n",
       "2            0             0        1              0           0            1   \n",
       "3            0             0        0              0           1            1   \n",
       "4            0             0        0              0           0            1   \n",
       "\n",
       "   Domain_Age  Domain_End  iFrame  Mouse_Over  Right_Click  Web_Forwards  \\\n",
       "0           1           1       1           1            1             1   \n",
       "1           1           1       1           1            1             1   \n",
       "2           0           1       0           0            1             1   \n",
       "3           1           1       1           1            1             1   \n",
       "4           0           1       1           1            1             1   \n",
       "\n",
       "   Label  \n",
       "0      1  \n",
       "1      1  \n",
       "2      1  \n",
       "3      1  \n",
       "4      1  "
      ]
     },
     "execution_count": 42,
     "metadata": {},
     "output_type": "execute_result"
    }
   ],
   "source": [
    "feature_names = ['Domain', 'Have_IP', 'Have_At', 'URL_Length', 'URL_Depth','Redirection',\n",
    "                      'https_Domain', 'TinyURL', 'Prefix/Suffix', 'DNS_Record', 'Web_Traffic',\n",
    "                      'Domain_Age', 'Domain_End', 'iFrame', 'Mouse_Over','Right_Click', 'Web_Forwards', 'Label']\n",
    "\n",
    "phishing = pd.DataFrame(phish_features, columns= feature_names)\n",
    "phishing.head()"
   ]
  },
  {
   "cell_type": "code",
   "execution_count": 43,
   "metadata": {
    "id": "Mp3EUAOUvdMV"
   },
   "outputs": [],
   "source": [
    "phishing.to_csv('phishing.csv', index= False)"
   ]
  },
  {
   "cell_type": "markdown",
   "metadata": {
    "id": "zcAQQORYvlyN"
   },
   "source": [
    "# **4. Datasets**"
   ]
  },
  {
   "cell_type": "code",
   "execution_count": 6,
   "metadata": {},
   "outputs": [],
   "source": [
    "import pandas as pd\n",
    "legitimate = pd.read_csv('./Dataset-Lab 4/legitimate.csv')\n",
    "phishing = pd.read_csv('./Dataset-Lab 4/phishing.csv')"
   ]
  },
  {
   "cell_type": "code",
   "execution_count": 7,
   "metadata": {
    "id": "qKCD2sDsvqsM"
   },
   "outputs": [
    {
     "data": {
      "application/vnd.microsoft.datawrangler.viewer.v0+json": {
       "columns": [
        {
         "name": "index",
         "rawType": "int64",
         "type": "integer"
        },
        {
         "name": "Domain",
         "rawType": "object",
         "type": "string"
        },
        {
         "name": "Have_IP",
         "rawType": "int64",
         "type": "integer"
        },
        {
         "name": "Have_At",
         "rawType": "int64",
         "type": "integer"
        },
        {
         "name": "URL_Length",
         "rawType": "int64",
         "type": "integer"
        },
        {
         "name": "URL_Depth",
         "rawType": "int64",
         "type": "integer"
        },
        {
         "name": "Redirection",
         "rawType": "int64",
         "type": "integer"
        },
        {
         "name": "https_Domain",
         "rawType": "int64",
         "type": "integer"
        },
        {
         "name": "TinyURL",
         "rawType": "int64",
         "type": "integer"
        },
        {
         "name": "Prefix/Suffix",
         "rawType": "int64",
         "type": "integer"
        },
        {
         "name": "DNS_Record",
         "rawType": "int64",
         "type": "integer"
        },
        {
         "name": "Web_Traffic",
         "rawType": "int64",
         "type": "integer"
        },
        {
         "name": "Domain_Age",
         "rawType": "int64",
         "type": "integer"
        },
        {
         "name": "Domain_End",
         "rawType": "int64",
         "type": "integer"
        },
        {
         "name": "iFrame",
         "rawType": "int64",
         "type": "integer"
        },
        {
         "name": "Mouse_Over",
         "rawType": "int64",
         "type": "integer"
        },
        {
         "name": "Right_Click",
         "rawType": "int64",
         "type": "integer"
        },
        {
         "name": "Web_Forwards",
         "rawType": "int64",
         "type": "integer"
        },
        {
         "name": "Label",
         "rawType": "int64",
         "type": "integer"
        }
       ],
       "conversionMethod": "pd.DataFrame",
       "ref": "c7b856cd-9f87-4507-a1c4-60a2bd88a7de",
       "rows": [
        [
         "0",
         "graphicriver.net",
         "0",
         "0",
         "1",
         "1",
         "0",
         "0",
         "0",
         "0",
         "0",
         "1",
         "1",
         "1",
         "0",
         "0",
         "1",
         "0",
         "0"
        ],
        [
         "1",
         "ecnavi.jp",
         "0",
         "0",
         "1",
         "1",
         "1",
         "0",
         "0",
         "0",
         "0",
         "1",
         "0",
         "1",
         "0",
         "0",
         "1",
         "0",
         "0"
        ],
        [
         "2",
         "hubpages.com",
         "0",
         "0",
         "1",
         "1",
         "0",
         "0",
         "0",
         "0",
         "0",
         "1",
         "0",
         "1",
         "0",
         "0",
         "1",
         "0",
         "0"
        ],
        [
         "3",
         "extratorrent.cc",
         "0",
         "0",
         "1",
         "3",
         "0",
         "0",
         "0",
         "0",
         "0",
         "1",
         "0",
         "1",
         "1",
         "1",
         "1",
         "1",
         "0"
        ],
        [
         "4",
         "icicibank.com",
         "0",
         "0",
         "1",
         "3",
         "0",
         "0",
         "0",
         "0",
         "0",
         "1",
         "0",
         "1",
         "0",
         "0",
         "1",
         "1",
         "0"
        ]
       ],
       "shape": {
        "columns": 18,
        "rows": 5
       }
      },
      "text/html": [
       "<div>\n",
       "<style scoped>\n",
       "    .dataframe tbody tr th:only-of-type {\n",
       "        vertical-align: middle;\n",
       "    }\n",
       "\n",
       "    .dataframe tbody tr th {\n",
       "        vertical-align: top;\n",
       "    }\n",
       "\n",
       "    .dataframe thead th {\n",
       "        text-align: right;\n",
       "    }\n",
       "</style>\n",
       "<table border=\"1\" class=\"dataframe\">\n",
       "  <thead>\n",
       "    <tr style=\"text-align: right;\">\n",
       "      <th></th>\n",
       "      <th>Domain</th>\n",
       "      <th>Have_IP</th>\n",
       "      <th>Have_At</th>\n",
       "      <th>URL_Length</th>\n",
       "      <th>URL_Depth</th>\n",
       "      <th>Redirection</th>\n",
       "      <th>https_Domain</th>\n",
       "      <th>TinyURL</th>\n",
       "      <th>Prefix/Suffix</th>\n",
       "      <th>DNS_Record</th>\n",
       "      <th>Web_Traffic</th>\n",
       "      <th>Domain_Age</th>\n",
       "      <th>Domain_End</th>\n",
       "      <th>iFrame</th>\n",
       "      <th>Mouse_Over</th>\n",
       "      <th>Right_Click</th>\n",
       "      <th>Web_Forwards</th>\n",
       "      <th>Label</th>\n",
       "    </tr>\n",
       "  </thead>\n",
       "  <tbody>\n",
       "    <tr>\n",
       "      <th>0</th>\n",
       "      <td>graphicriver.net</td>\n",
       "      <td>0</td>\n",
       "      <td>0</td>\n",
       "      <td>1</td>\n",
       "      <td>1</td>\n",
       "      <td>0</td>\n",
       "      <td>0</td>\n",
       "      <td>0</td>\n",
       "      <td>0</td>\n",
       "      <td>0</td>\n",
       "      <td>1</td>\n",
       "      <td>1</td>\n",
       "      <td>1</td>\n",
       "      <td>0</td>\n",
       "      <td>0</td>\n",
       "      <td>1</td>\n",
       "      <td>0</td>\n",
       "      <td>0</td>\n",
       "    </tr>\n",
       "    <tr>\n",
       "      <th>1</th>\n",
       "      <td>ecnavi.jp</td>\n",
       "      <td>0</td>\n",
       "      <td>0</td>\n",
       "      <td>1</td>\n",
       "      <td>1</td>\n",
       "      <td>1</td>\n",
       "      <td>0</td>\n",
       "      <td>0</td>\n",
       "      <td>0</td>\n",
       "      <td>0</td>\n",
       "      <td>1</td>\n",
       "      <td>0</td>\n",
       "      <td>1</td>\n",
       "      <td>0</td>\n",
       "      <td>0</td>\n",
       "      <td>1</td>\n",
       "      <td>0</td>\n",
       "      <td>0</td>\n",
       "    </tr>\n",
       "    <tr>\n",
       "      <th>2</th>\n",
       "      <td>hubpages.com</td>\n",
       "      <td>0</td>\n",
       "      <td>0</td>\n",
       "      <td>1</td>\n",
       "      <td>1</td>\n",
       "      <td>0</td>\n",
       "      <td>0</td>\n",
       "      <td>0</td>\n",
       "      <td>0</td>\n",
       "      <td>0</td>\n",
       "      <td>1</td>\n",
       "      <td>0</td>\n",
       "      <td>1</td>\n",
       "      <td>0</td>\n",
       "      <td>0</td>\n",
       "      <td>1</td>\n",
       "      <td>0</td>\n",
       "      <td>0</td>\n",
       "    </tr>\n",
       "    <tr>\n",
       "      <th>3</th>\n",
       "      <td>extratorrent.cc</td>\n",
       "      <td>0</td>\n",
       "      <td>0</td>\n",
       "      <td>1</td>\n",
       "      <td>3</td>\n",
       "      <td>0</td>\n",
       "      <td>0</td>\n",
       "      <td>0</td>\n",
       "      <td>0</td>\n",
       "      <td>0</td>\n",
       "      <td>1</td>\n",
       "      <td>0</td>\n",
       "      <td>1</td>\n",
       "      <td>1</td>\n",
       "      <td>1</td>\n",
       "      <td>1</td>\n",
       "      <td>1</td>\n",
       "      <td>0</td>\n",
       "    </tr>\n",
       "    <tr>\n",
       "      <th>4</th>\n",
       "      <td>icicibank.com</td>\n",
       "      <td>0</td>\n",
       "      <td>0</td>\n",
       "      <td>1</td>\n",
       "      <td>3</td>\n",
       "      <td>0</td>\n",
       "      <td>0</td>\n",
       "      <td>0</td>\n",
       "      <td>0</td>\n",
       "      <td>0</td>\n",
       "      <td>1</td>\n",
       "      <td>0</td>\n",
       "      <td>1</td>\n",
       "      <td>0</td>\n",
       "      <td>0</td>\n",
       "      <td>1</td>\n",
       "      <td>1</td>\n",
       "      <td>0</td>\n",
       "    </tr>\n",
       "  </tbody>\n",
       "</table>\n",
       "</div>"
      ],
      "text/plain": [
       "             Domain  Have_IP  Have_At  URL_Length  URL_Depth  Redirection  \\\n",
       "0  graphicriver.net        0        0           1          1            0   \n",
       "1         ecnavi.jp        0        0           1          1            1   \n",
       "2      hubpages.com        0        0           1          1            0   \n",
       "3   extratorrent.cc        0        0           1          3            0   \n",
       "4     icicibank.com        0        0           1          3            0   \n",
       "\n",
       "   https_Domain  TinyURL  Prefix/Suffix  DNS_Record  Web_Traffic  Domain_Age  \\\n",
       "0             0        0              0           0            1           1   \n",
       "1             0        0              0           0            1           0   \n",
       "2             0        0              0           0            1           0   \n",
       "3             0        0              0           0            1           0   \n",
       "4             0        0              0           0            1           0   \n",
       "\n",
       "   Domain_End  iFrame  Mouse_Over  Right_Click  Web_Forwards  Label  \n",
       "0           1       0           0            1             0      0  \n",
       "1           1       0           0            1             0      0  \n",
       "2           1       0           0            1             0      0  \n",
       "3           1       1           1            1             1      0  \n",
       "4           1       0           0            1             1      0  "
      ]
     },
     "execution_count": 7,
     "metadata": {},
     "output_type": "execute_result"
    }
   ],
   "source": [
    "urldata = pd.concat([legitimate, phishing]).reset_index(drop=True)\n",
    "urldata.head()"
   ]
  },
  {
   "cell_type": "code",
   "execution_count": 8,
   "metadata": {
    "id": "zFKWN5fdvs3R"
   },
   "outputs": [
    {
     "data": {
      "application/vnd.microsoft.datawrangler.viewer.v0+json": {
       "columns": [
        {
         "name": "index",
         "rawType": "int64",
         "type": "integer"
        },
        {
         "name": "Domain",
         "rawType": "object",
         "type": "string"
        },
        {
         "name": "Have_IP",
         "rawType": "int64",
         "type": "integer"
        },
        {
         "name": "Have_At",
         "rawType": "int64",
         "type": "integer"
        },
        {
         "name": "URL_Length",
         "rawType": "int64",
         "type": "integer"
        },
        {
         "name": "URL_Depth",
         "rawType": "int64",
         "type": "integer"
        },
        {
         "name": "Redirection",
         "rawType": "int64",
         "type": "integer"
        },
        {
         "name": "https_Domain",
         "rawType": "int64",
         "type": "integer"
        },
        {
         "name": "TinyURL",
         "rawType": "int64",
         "type": "integer"
        },
        {
         "name": "Prefix/Suffix",
         "rawType": "int64",
         "type": "integer"
        },
        {
         "name": "DNS_Record",
         "rawType": "int64",
         "type": "integer"
        },
        {
         "name": "Web_Traffic",
         "rawType": "int64",
         "type": "integer"
        },
        {
         "name": "Domain_Age",
         "rawType": "int64",
         "type": "integer"
        },
        {
         "name": "Domain_End",
         "rawType": "int64",
         "type": "integer"
        },
        {
         "name": "iFrame",
         "rawType": "int64",
         "type": "integer"
        },
        {
         "name": "Mouse_Over",
         "rawType": "int64",
         "type": "integer"
        },
        {
         "name": "Right_Click",
         "rawType": "int64",
         "type": "integer"
        },
        {
         "name": "Web_Forwards",
         "rawType": "int64",
         "type": "integer"
        },
        {
         "name": "Label",
         "rawType": "int64",
         "type": "integer"
        }
       ],
       "conversionMethod": "pd.DataFrame",
       "ref": "a255ddf9-c32a-463c-93f2-f01b7c08ef3c",
       "rows": [
        [
         "19995",
         "masterey.com",
         "0",
         "0",
         "1",
         "2",
         "0",
         "0",
         "0",
         "0",
         "0",
         "1",
         "0",
         "0",
         "0",
         "0",
         "1",
         "0",
         "1"
        ],
        [
         "19996",
         "sdsaibo.com",
         "0",
         "0",
         "1",
         "1",
         "1",
         "0",
         "0",
         "0",
         "0",
         "1",
         "0",
         "1",
         "1",
         "1",
         "1",
         "1",
         "1"
        ],
        [
         "19997",
         "funground.com.ua",
         "0",
         "0",
         "0",
         "3",
         "0",
         "0",
         "0",
         "0",
         "1",
         "1",
         "1",
         "1",
         "1",
         "1",
         "1",
         "1",
         "1"
        ],
        [
         "19998",
         "mprmoldes.com",
         "0",
         "0",
         "0",
         "2",
         "0",
         "0",
         "0",
         "0",
         "0",
         "1",
         "0",
         "1",
         "1",
         "1",
         "1",
         "1",
         "1"
        ],
        [
         "19999",
         "entretecno.cl",
         "0",
         "0",
         "1",
         "4",
         "0",
         "0",
         "0",
         "0",
         "1",
         "1",
         "1",
         "1",
         "1",
         "1",
         "1",
         "1",
         "1"
        ]
       ],
       "shape": {
        "columns": 18,
        "rows": 5
       }
      },
      "text/html": [
       "<div>\n",
       "<style scoped>\n",
       "    .dataframe tbody tr th:only-of-type {\n",
       "        vertical-align: middle;\n",
       "    }\n",
       "\n",
       "    .dataframe tbody tr th {\n",
       "        vertical-align: top;\n",
       "    }\n",
       "\n",
       "    .dataframe thead th {\n",
       "        text-align: right;\n",
       "    }\n",
       "</style>\n",
       "<table border=\"1\" class=\"dataframe\">\n",
       "  <thead>\n",
       "    <tr style=\"text-align: right;\">\n",
       "      <th></th>\n",
       "      <th>Domain</th>\n",
       "      <th>Have_IP</th>\n",
       "      <th>Have_At</th>\n",
       "      <th>URL_Length</th>\n",
       "      <th>URL_Depth</th>\n",
       "      <th>Redirection</th>\n",
       "      <th>https_Domain</th>\n",
       "      <th>TinyURL</th>\n",
       "      <th>Prefix/Suffix</th>\n",
       "      <th>DNS_Record</th>\n",
       "      <th>Web_Traffic</th>\n",
       "      <th>Domain_Age</th>\n",
       "      <th>Domain_End</th>\n",
       "      <th>iFrame</th>\n",
       "      <th>Mouse_Over</th>\n",
       "      <th>Right_Click</th>\n",
       "      <th>Web_Forwards</th>\n",
       "      <th>Label</th>\n",
       "    </tr>\n",
       "  </thead>\n",
       "  <tbody>\n",
       "    <tr>\n",
       "      <th>19995</th>\n",
       "      <td>masterey.com</td>\n",
       "      <td>0</td>\n",
       "      <td>0</td>\n",
       "      <td>1</td>\n",
       "      <td>2</td>\n",
       "      <td>0</td>\n",
       "      <td>0</td>\n",
       "      <td>0</td>\n",
       "      <td>0</td>\n",
       "      <td>0</td>\n",
       "      <td>1</td>\n",
       "      <td>0</td>\n",
       "      <td>0</td>\n",
       "      <td>0</td>\n",
       "      <td>0</td>\n",
       "      <td>1</td>\n",
       "      <td>0</td>\n",
       "      <td>1</td>\n",
       "    </tr>\n",
       "    <tr>\n",
       "      <th>19996</th>\n",
       "      <td>sdsaibo.com</td>\n",
       "      <td>0</td>\n",
       "      <td>0</td>\n",
       "      <td>1</td>\n",
       "      <td>1</td>\n",
       "      <td>1</td>\n",
       "      <td>0</td>\n",
       "      <td>0</td>\n",
       "      <td>0</td>\n",
       "      <td>0</td>\n",
       "      <td>1</td>\n",
       "      <td>0</td>\n",
       "      <td>1</td>\n",
       "      <td>1</td>\n",
       "      <td>1</td>\n",
       "      <td>1</td>\n",
       "      <td>1</td>\n",
       "      <td>1</td>\n",
       "    </tr>\n",
       "    <tr>\n",
       "      <th>19997</th>\n",
       "      <td>funground.com.ua</td>\n",
       "      <td>0</td>\n",
       "      <td>0</td>\n",
       "      <td>0</td>\n",
       "      <td>3</td>\n",
       "      <td>0</td>\n",
       "      <td>0</td>\n",
       "      <td>0</td>\n",
       "      <td>0</td>\n",
       "      <td>1</td>\n",
       "      <td>1</td>\n",
       "      <td>1</td>\n",
       "      <td>1</td>\n",
       "      <td>1</td>\n",
       "      <td>1</td>\n",
       "      <td>1</td>\n",
       "      <td>1</td>\n",
       "      <td>1</td>\n",
       "    </tr>\n",
       "    <tr>\n",
       "      <th>19998</th>\n",
       "      <td>mprmoldes.com</td>\n",
       "      <td>0</td>\n",
       "      <td>0</td>\n",
       "      <td>0</td>\n",
       "      <td>2</td>\n",
       "      <td>0</td>\n",
       "      <td>0</td>\n",
       "      <td>0</td>\n",
       "      <td>0</td>\n",
       "      <td>0</td>\n",
       "      <td>1</td>\n",
       "      <td>0</td>\n",
       "      <td>1</td>\n",
       "      <td>1</td>\n",
       "      <td>1</td>\n",
       "      <td>1</td>\n",
       "      <td>1</td>\n",
       "      <td>1</td>\n",
       "    </tr>\n",
       "    <tr>\n",
       "      <th>19999</th>\n",
       "      <td>entretecno.cl</td>\n",
       "      <td>0</td>\n",
       "      <td>0</td>\n",
       "      <td>1</td>\n",
       "      <td>4</td>\n",
       "      <td>0</td>\n",
       "      <td>0</td>\n",
       "      <td>0</td>\n",
       "      <td>0</td>\n",
       "      <td>1</td>\n",
       "      <td>1</td>\n",
       "      <td>1</td>\n",
       "      <td>1</td>\n",
       "      <td>1</td>\n",
       "      <td>1</td>\n",
       "      <td>1</td>\n",
       "      <td>1</td>\n",
       "      <td>1</td>\n",
       "    </tr>\n",
       "  </tbody>\n",
       "</table>\n",
       "</div>"
      ],
      "text/plain": [
       "                 Domain  Have_IP  Have_At  URL_Length  URL_Depth  Redirection  \\\n",
       "19995      masterey.com        0        0           1          2            0   \n",
       "19996       sdsaibo.com        0        0           1          1            1   \n",
       "19997  funground.com.ua        0        0           0          3            0   \n",
       "19998     mprmoldes.com        0        0           0          2            0   \n",
       "19999     entretecno.cl        0        0           1          4            0   \n",
       "\n",
       "       https_Domain  TinyURL  Prefix/Suffix  DNS_Record  Web_Traffic  \\\n",
       "19995             0        0              0           0            1   \n",
       "19996             0        0              0           0            1   \n",
       "19997             0        0              0           1            1   \n",
       "19998             0        0              0           0            1   \n",
       "19999             0        0              0           1            1   \n",
       "\n",
       "       Domain_Age  Domain_End  iFrame  Mouse_Over  Right_Click  Web_Forwards  \\\n",
       "19995           0           0       0           0            1             0   \n",
       "19996           0           1       1           1            1             1   \n",
       "19997           1           1       1           1            1             1   \n",
       "19998           0           1       1           1            1             1   \n",
       "19999           1           1       1           1            1             1   \n",
       "\n",
       "       Label  \n",
       "19995      1  \n",
       "19996      1  \n",
       "19997      1  \n",
       "19998      1  \n",
       "19999      1  "
      ]
     },
     "execution_count": 8,
     "metadata": {},
     "output_type": "execute_result"
    }
   ],
   "source": [
    "urldata.tail()"
   ]
  },
  {
   "cell_type": "code",
   "execution_count": 9,
   "metadata": {
    "id": "M7iGaQ7CvuMi"
   },
   "outputs": [
    {
     "data": {
      "text/plain": [
       "(20000, 18)"
      ]
     },
     "execution_count": 9,
     "metadata": {},
     "output_type": "execute_result"
    }
   ],
   "source": [
    "urldata.shape"
   ]
  },
  {
   "cell_type": "code",
   "execution_count": 10,
   "metadata": {
    "id": "Nr9hjZZ3vvmI"
   },
   "outputs": [],
   "source": [
    "urldata.to_csv('preprocessed_data.csv', index=False)"
   ]
  },
  {
   "cell_type": "markdown",
   "metadata": {
    "id": "EwkRvgCzwToL"
   },
   "source": [
    "Ta trích xuất được 18 thuộc tính với 20,000 rows trong đó có  10000 phishing  & 10000 legitimate URL"
   ]
  },
  {
   "cell_type": "markdown",
   "metadata": {
    "id": "r0cRBI8uv0wg"
   },
   "source": [
    "***Bài tập số 3: Dựa vào mục trích xuất dữ liệu Lab 4.2, chọn một tập dataset khác thực hiện lại Lab 4.1***"
   ]
  },
  {
   "cell_type": "markdown",
   "metadata": {
    "id": "QcRM4RqOwKg3"
   },
   "source": [
    "# **5. Trích dẫn**"
   ]
  },
  {
   "cell_type": "markdown",
   "metadata": {
    "id": "HqRaGvvRwPf_"
   },
   "source": [
    "https://archive.ics.uci.edu/ml/datasets/Phishing+Websites"
   ]
  }
 ],
 "metadata": {
  "colab": {
   "provenance": [],
   "toc_visible": true
  },
  "kernelspec": {
   "display_name": "venv",
   "language": "python",
   "name": "python3"
  },
  "language_info": {
   "codemirror_mode": {
    "name": "ipython",
    "version": 3
   },
   "file_extension": ".py",
   "mimetype": "text/x-python",
   "name": "python",
   "nbconvert_exporter": "python",
   "pygments_lexer": "ipython3",
   "version": "3.12.1"
  }
 },
 "nbformat": 4,
 "nbformat_minor": 0
}
